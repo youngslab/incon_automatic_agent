{
 "cells": [
  {
   "cell_type": "code",
   "execution_count": 1,
   "source": [
    "%load_ext autoreload\r\n",
    "%autoreload 2\r\n",
    "\r\n",
    "import sys\r\n",
    "\r\n",
    "from incon import *\r\n",
    "import auto.selenium\r\n",
    "\r\n",
    "\r\n",
    "# load account info of the Incon\r\n",
    "pw = ''\r\n",
    "id = ''\r\n",
    "import json\r\n",
    "with open(\".incon.json\", 'r')  as f:\r\n",
    "    x = json.loads(f.read())\r\n",
    "    id = x['id']\r\n",
    "    pw = x['pw']\r\n",
    "\r\n",
    "driver = auto.selenium.create_edge_driver()\r\n",
    "incon_go_homepage(driver)\r\n",
    "incon_login(driver, id, pw)"
   ],
   "outputs": [
    {
     "output_type": "stream",
     "name": "stderr",
     "text": [
      "[WDM] - ====== WebDriver manager ======\n",
      "[WDM] - Current edge version is 100.0.1185\n",
      "[WDM] - Get LATEST edgedriver version for 100.0.1185 Edge\n",
      "[WDM] - Trying to download new driver from https://msedgedriver.azureedge.net/100.0.1185.36/edgedriver_win64.zip\n",
      "[WDM] - Driver has been saved in cache [C:\\Users\\Jaeyoung\\.wdm\\drivers\\edgedriver\\win64\\100.0.1185.36]\n"
     ]
    },
    {
     "output_type": "execute_result",
     "data": {
      "text/plain": [
       "True"
      ]
     },
     "metadata": {},
     "execution_count": 1
    }
   ],
   "metadata": {}
  },
  {
   "cell_type": "code",
   "execution_count": 2,
   "source": [
    "%load_ext autoreload\r\n",
    "%autoreload 2\r\n",
    "from incon import *\r\n",
    "\r\n",
    "incon_bid_go_page(driver)\r\n",
    "\r\n",
    "incon_bid_activate_all(driver)\r\n",
    "\r\n"
   ],
   "outputs": [
    {
     "output_type": "stream",
     "name": "stdout",
     "text": [
      "The autoreload extension is already loaded. To reload it, use:\n",
      "  %reload_ext autoreload\n"
     ]
    }
   ],
   "metadata": {}
  },
  {
   "cell_type": "code",
   "execution_count": 3,
   "source": [
    "%load_ext autoreload\r\n",
    "%autoreload 2\r\n",
    "from incon import *\r\n",
    "\r\n",
    "items = incon_bid_get_listitems(driver)\r\n",
    "for item in items:\r\n",
    "    print(incon_bid_listitem_get_market(item))"
   ],
   "outputs": [
    {
     "output_type": "stream",
     "name": "stdout",
     "text": [
      "The autoreload extension is already loaded. To reload it, use:\n",
      "  %reload_ext autoreload\n",
      "한국전력\n",
      "한수원\n",
      "한국전력\n",
      "나라장터\n",
      "한국전력\n",
      "한국전력\n",
      "국방전자조달\n",
      "나라장터\n",
      "나라장터\n",
      "나라장터\n",
      "한국전력\n"
     ]
    }
   ],
   "metadata": {}
  },
  {
   "cell_type": "code",
   "execution_count": 4,
   "source": [
    "# pricing \r\n",
    "\r\n",
    "%load_ext autoreload\r\n",
    "%autoreload 2\r\n",
    "from incon import *\r\n",
    "\r\n",
    "items = incon_bid_get_listitems(driver)\r\n",
    "for item in items:\r\n",
    "    print(f\"price: {incon_bid_listitem_get_price(item)}, has_price:{incon_bid_listitem_has_price(item)}\")\r\n",
    "\r\n"
   ],
   "outputs": [
    {
     "output_type": "stream",
     "name": "stdout",
     "text": [
      "The autoreload extension is already loaded. To reload it, use:\n",
      "  %reload_ext autoreload\n",
      "price: 110069091, has_price:True\n",
      "price: 26620000, has_price:True\n",
      "price: 26168912, has_price:True\n",
      "price: 76848777, has_price:True\n",
      "price: 89995928, has_price:True\n",
      "price: 20470296, has_price:True\n",
      "price: 100624870, has_price:True\n",
      "price: 62509276, has_price:True\n",
      "price: 26799952, has_price:True\n",
      "price: 87343691, has_price:True\n",
      "price: 43172800, has_price:True\n"
     ]
    }
   ],
   "metadata": {}
  },
  {
   "cell_type": "code",
   "execution_count": 5,
   "source": [
    "%load_ext autoreload\r\n",
    "%autoreload 2\r\n",
    "from incon import *\r\n",
    "\r\n",
    "def print_dict(x):\r\n",
    "    for k in x.keys():\r\n",
    "        print(f\"{k} = {x[k]}\")\r\n",
    "\r\n",
    "items = incon_bid_get_listitems(driver)\r\n",
    "for item in items:\r\n",
    "    print(\"-------------------------\")\r\n",
    "    print_dict(incon_bid_listitem_get_data(item))"
   ],
   "outputs": [
    {
     "output_type": "stream",
     "name": "stdout",
     "text": [
      "The autoreload extension is already loaded. To reload it, use:\n",
      "  %reload_ext autoreload\n",
      "-------------------------\n",
      "etc =  \n",
      "110,069,091 \n",
      "**수출우수기업적격 \n",
      "(수출우수기업이 아니어도 진행 가능) \n",
      "[ 0일 13시간 19분 남았습니다. ] \n",
      "[ 1일 13시간 19분 남았습니다. ] \n",
      " \n",
      "\n",
      "공고명 = 축전지,무보수 밀폐형,MSB-400,400AH,2V-광주전남\n",
      "공고번호 = G012201821-00\n",
      "사전등록 = 2022.04.12 14:00\n",
      "입찰마감 = 2022.04.13 14:00\n",
      "비고 = 참가신청시 중소기업 확인서 를 첨부파일로 제출 부탁드립니다.\n",
      "-------------------------\n",
      "etc =  \n",
      "26,620,000 \n",
      "[ 3일 11시간 19분 남았습니다. ] \n",
      " \n",
      " \n",
      "해당 건 투찰은 PC검색 네이버 - '한수원 전자상거래' 검색하여 진행하셔야 합니다. \n",
      " \n",
      "비고 : **투찰 시 법인등기부등본(개인의 경우 사업자등록증명원) 1부와, 중소기업확인서 사본 1부를 첨부하여 투찰하시기 바랍니다. \n",
      "**사업자등록증명원은 사업자등록증과 다른 서류이므로 유의바랍니다. \n",
      " \n",
      "해당공고는 부가세를 뺀 금액을 입력하셔야하는 공고입니다. \n",
      "아래 공식으로 금액 계산하셔서 입력부탁드립니다.\n",
      "공고명 = 산청양수 비접촉식 오일 검출 시스템 설치조건부 구매(S등급/기성)\n",
      "공고번호 = P220053010-00\n",
      "사전등록 = 사전등록 불필요\n",
      "입찰마감 = 2022.04.15 12:00\n",
      "계산식 = (조달메신저상에서 산정한 금액)÷1.1\n",
      "-------------------------\n",
      "etc =  \n",
      "26,168,912 \n",
      "[ 0일 12시간 49분 남았습니다. ] \n",
      " \n",
      " \n",
      "비고 : **참가신청시 중소기업 확인서를 첨부파일로 제출 부탁드립니다.\n",
      "공고명 = 전기 임펙트 렌치 외 11종\n",
      "공고번호 = G102200276-00\n",
      "사전등록 = 2022.04.12 13:30\n",
      "입찰마감 = 2022.04.14 14:30\n",
      "-------------------------\n",
      "etc =  \n",
      "76,848,777 \n",
      "[ 1일 9시간 19분 남았습니다. ] \n",
      " \n",
      " \n",
      "비고 : **수주시 인콘이 제공하는 마진율은 약 4%입니다.\n",
      "공고명 = 2022년 수질시험연구장비(휴대용잔류염소계 등 14종 27대) 구매\n",
      "공고번호 = 20220405632-00\n",
      "세부품명 = 물품등록 불필요\n",
      "사전등록 = 사전등록 불필요\n",
      "입찰마감 = 2022.04.13 10:00\n",
      "-------------------------\n",
      "etc =  \n",
      "89,995,928 \n",
      "[ 0일 13시간 19분 남았습니다. ] \n",
      " \n",
      " \n",
      "비고 : **참가신청시 중소기업 확인서,사업자등록증을 첨부파일로 제출 부탁드립니다.\n",
      "공고명 = 하동 7호기 통풍설비 정비용 자재구매\n",
      "공고번호 = G042200130-00\n",
      "사전등록 = 2022.04.12 14:00\n",
      "입찰마감 = 2022.04.14 14:00\n",
      "-------------------------\n",
      "etc =  \n",
      "20,470,296 \n",
      "[ 마감 ] \n",
      "[ 0일 9시간 19분 남았습니다. ] \n",
      " \n",
      "\n",
      "공고명 = IGCC 설비진단용 두께측정기 구매\n",
      "공고번호 = G022200160-00\n",
      "사전등록 = 2022.04.11 10:00\n",
      "입찰마감 = 2022.04.12 10:00\n",
      "비고 = 참가신청시 중소기업 확인서 를 첨부파일로 제출 부탁드립니다.\n",
      "-------------------------\n",
      "etc =  \n",
      "100,624,870 \n",
      "**수출우수기업적격 \n",
      "(수출우수기업이 아니어도 진행 가능) \n",
      "[ 1일 10시간 19분 남았습니다. ] \n",
      "[ 2일 9시간 49분 남았습니다. ] \n",
      " \n",
      " \n",
      "비고 : **국방전자조달시스템 내에서 참가신청시 입찰보증금 목록에서 [보증금납부방법 : 보증금면제]를 선택해주시면 됩니다.\n",
      "공고명 = (226130-D) 정비피복(정비화) 구매\n",
      "공고번호 = 2022UMM015009778-01\n",
      "판단번호 = 09778\n",
      "사전등록 = 2022.04.13 11:00\n",
      "입찰마감 = 2022.04.14 10:30\n",
      "-------------------------\n",
      "etc =  \n",
      "62,509,276 \n",
      "[ 0일 17시간 19분 남았습니다. ] \n",
      "[ 1일 9시간 19분 남았습니다. ] \n",
      " \n",
      " \n",
      "비고 : **수주시 인콘이 제공하는 마진율은 약 4%입니다.\n",
      "공고명 = 김포공항 분기자재 구매(1차)\n",
      "공고번호 = 20220406048-00\n",
      "세부품명 = 퇴비또는조분석 1017150101\n",
      "사전등록 = 2022.04.12 18:00\n",
      "입찰마감 = 2022.04.13 10:00\n",
      "-------------------------\n",
      "etc =  \n",
      "26,799,952 \n",
      "[ 0일 17시간 19분 남았습니다. ] \n",
      "[ 1일 9시간 19분 남았습니다. ] \n",
      " \n",
      " \n",
      "비고 : **수주시 인콘이 제공하는 마진율은 약 4%입니다.\n",
      "공고명 = 1분기 시설단 저장품 구매\n",
      "공고번호 = 20220406815-00\n",
      "세부품명 = 기어유 1512150301\n",
      "사전등록 = 2022.04.12 18:00\n",
      "입찰마감 = 2022.04.13 10:00\n",
      "-------------------------\n",
      "etc =  \n",
      "87,343,691 \n",
      "[ 마감 ] \n",
      "[ 0일 9시간 19분 남았습니다. ]\n",
      "공고명 = 김해공항 항공유저장소 입출하 여과기 엘리먼트 구매\n",
      "공고번호 = 20220404340-00\n",
      "세부품명 = 오일여과기엘리먼트 2610998901\n",
      "사전등록 = 2022.04.11 18:00\n",
      "입찰마감 = 2022.04.12 10:00\n",
      "-------------------------\n",
      "etc =  \n",
      "43,172,800 \n",
      "[ 마감 ] \n",
      " \n",
      "\n",
      "공고명 = 부산 HRSG Tube 구매\n",
      "공고번호 = G042200127-00\n",
      "사전등록 = 2022.04.11 14:00\n",
      "입찰마감 = 2022.04.14 14:00\n",
      "비고 = 참가신청시 중소기업 확인서 를 첨부파일로 제출 부탁드립니다.\n"
     ]
    }
   ],
   "metadata": {}
  },
  {
   "cell_type": "code",
   "execution_count": 19,
   "source": [
    "# Pricing\r\n",
    "\r\n",
    "%load_ext autoreload\r\n",
    "%autoreload 2\r\n",
    "from incon import *\r\n",
    "\r\n",
    "# items = incon_bid_get_listitems(driver)\r\n",
    "# counts = len(items)\r\n",
    "# for idx in range(counts):\r\n",
    "#     item = incon_bid_get_listitem(driver, idx)\r\n",
    "#     if incon_bid_listitem_has_price(item):\r\n",
    "#         incon_bid_listitem_price(driver, item)\r\n",
    "\r\n",
    "incon_bid_price_all(driver)\r\n",
    "\r\n"
   ],
   "outputs": [
    {
     "output_type": "stream",
     "name": "stdout",
     "text": [
      "The autoreload extension is already loaded. To reload it, use:\n",
      "  %reload_ext autoreload\n"
     ]
    }
   ],
   "metadata": {}
  },
  {
   "cell_type": "code",
   "execution_count": 7,
   "source": [
    "# XXX: incon_get_data\r\n",
    "\r\n",
    "%load_ext autoreload\r\n",
    "%autoreload 2\r\n",
    "from incon import *\r\n",
    "\r\n",
    "bids = incon_get_bids(driver)\r\n",
    "for bid in bids:\r\n",
    "    print(bid)"
   ],
   "outputs": [
    {
     "output_type": "stream",
     "name": "stdout",
     "text": [
      "The autoreload extension is already loaded. To reload it, use:\n",
      "  %reload_ext autoreload\n",
      "incon) go to the bid list page\n",
      "incon) activate all items\n",
      "incon) price all items\n",
      "incon) create items of Bid\n",
      "한국전력  ) G012201821-00       [축전지,무보]  @ 110069091 won\n",
      "한수원   ) P220053010-00       [산청양수 비]  @ 26620000 won\n",
      "한국전력  ) G102200276-00       [전기 임펙트]  @ 26168912 won\n",
      "나라장터  ) 20220405632-00      [2022년 ]  @ 76848777 won\n",
      "한국전력  ) G042200130-00       [하동 7호기]  @ 89995928 won\n",
      "한국전력  ) G022200160-00       [IGCC 설]  @ 20470296 won\n",
      "국방전자조달) 2022UMM015009778-01 [(22613]  @ 100624870 won\n",
      "나라장터  ) 20220406048-00      [김포공항 분]  @ 62509276 won\n",
      "나라장터  ) 20220406815-00      [1분기 시설]  @ 26799952 won\n",
      "나라장터  ) 20220404340-00      [김해공항 항]  @ 87343691 won\n",
      "한국전력  ) G042200127-00       [부산 HRS]  @ 43172800 won\n"
     ]
    }
   ],
   "metadata": {}
  },
  {
   "cell_type": "code",
   "execution_count": null,
   "source": [],
   "outputs": [],
   "metadata": {}
  }
 ],
 "metadata": {
  "orig_nbformat": 4,
  "language_info": {
   "name": "python",
   "version": "3.10.4",
   "mimetype": "text/x-python",
   "codemirror_mode": {
    "name": "ipython",
    "version": 3
   },
   "pygments_lexer": "ipython3",
   "nbconvert_exporter": "python",
   "file_extension": ".py"
  },
  "kernelspec": {
   "name": "python3",
   "display_name": "Python 3.10.4 64-bit (windows store)"
  },
  "interpreter": {
   "hash": "ce1c64e12b598120b40e7cbc4a0f8734e11b17a0d7db6c579e54b529b59b5541"
  }
 },
 "nbformat": 4,
 "nbformat_minor": 2
}