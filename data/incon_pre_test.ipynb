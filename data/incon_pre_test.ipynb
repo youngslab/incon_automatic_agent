{
 "cells": [
  {
   "cell_type": "code",
   "execution_count": 3,
   "source": [
    "%load_ext autoreload\r\n",
    "%autoreload 2\r\n",
    "\r\n",
    "import sys\r\n",
    "sys.path.insert(1, 'C:\\\\Users\\\\Jaeyoung\\\\dev\\\\incon_project')\r\n",
    "\r\n",
    "from incon import *\r\n",
    "import auto.selenium\r\n",
    "\r\n",
    "\r\n",
    "# load account info of the Incon\r\n",
    "pw = ''\r\n",
    "id = ''\r\n",
    "import json\r\n",
    "with open(\".incon.json\", 'r')  as f:\r\n",
    "    x = json.loads(f.read())\r\n",
    "    id = x['id']\r\n",
    "    pw = x['pw']\r\n",
    "\r\n",
    "driver = auto.selenium.create_edge_driver()\r\n",
    "incon_go_homepage(driver)\r\n",
    "incon_login(driver, id, pw)\r\n",
    "\r\n",
    "\r\n"
   ],
   "outputs": [
    {
     "output_type": "stream",
     "name": "stderr",
     "text": [
      "[WDM] - ====== WebDriver manager ======\n"
     ]
    },
    {
     "output_type": "stream",
     "name": "stdout",
     "text": [
      "The autoreload extension is already loaded. To reload it, use:\n",
      "  %reload_ext autoreload\n"
     ]
    },
    {
     "output_type": "stream",
     "name": "stderr",
     "text": [
      "[WDM] - Current edge version is 100.0.1185\n",
      "[WDM] - Get LATEST edgedriver version for 100.0.1185 Edge\n",
      "[WDM] - Trying to download new driver from https://msedgedriver.azureedge.net/100.0.1185.36/edgedriver_win64.zip\n",
      "[WDM] - Driver has been saved in cache [C:\\Users\\Jaeyoung\\.wdm\\drivers\\edgedriver\\win64\\100.0.1185.36]\n"
     ]
    },
    {
     "output_type": "execute_result",
     "data": {
      "text/plain": [
       "True"
      ]
     },
     "metadata": {},
     "execution_count": 3
    }
   ],
   "metadata": {}
  },
  {
   "cell_type": "code",
   "execution_count": 2,
   "source": [
    "%autoreload 2\r\n",
    "from incon import *\r\n",
    "\r\n",
    "# Close Popup\r\n",
    "incon_pre_close_popup(driver)\r\n",
    "\r\n"
   ],
   "outputs": [
    {
     "output_type": "stream",
     "name": "stdout",
     "text": [
      "click today btn\n",
      "click close btn\n"
     ]
    }
   ],
   "metadata": {}
  },
  {
   "cell_type": "code",
   "execution_count": 3,
   "source": [
    "%autoreload 2\r\n",
    "from incon import *\r\n",
    "\r\n",
    "incon_pre_listitem_activate_all(driver)\r\n",
    "\r\n"
   ],
   "outputs": [],
   "metadata": {}
  },
  {
   "cell_type": "code",
   "execution_count": 8,
   "source": [
    "%autoreload 2\r\n",
    "from incon import *\r\n",
    "\r\n",
    "es = incon_pre_get_listitems(driver)\r\n",
    "\r\n",
    "# for e in es:    \r\n",
    "#     print(incon_listitem_is_completed(e))\r\n",
    "#     p = Preregistration(driver, e)\r\n",
    "#     print(p)\r\n",
    "\r\n",
    "pres = [ Preregistration(driver, e) for e in es ]\r\n",
    "for p in pres:\r\n",
    "    print(p)\r\n"
   ],
   "outputs": [
    {
     "output_type": "stream",
     "name": "stdout",
     "text": [
      "한국전력) G102200276-00([일반]전기 임펙트 렌치 외 11종)\n",
      "한국전력) G042200130-00([일반]하동 7호기 통풍설비 정비용 자재구매)\n",
      "국방전자조달) 2022UMM024204819-01(22-국-체력단련장 골프카트 배터리 구매)\n",
      "나라장터) 3116320701, 3119150601, 2327149601, 2110179001, 2411240101, 4511172401, 4713160501, 4015150601(키, 연마디스크, 직류아크용접기, 갈고리, 공구상자, 마그네틱헤드, 솔, 수동식펌프)\n",
      "한국전력) G022200160-00(IGCC 설비진단용 두께측정기 구매)\n",
      "국방전자조달) 2022UMM015009778-01([일반](226130-D) 정비피복(정비화) 구매)\n",
      "나라장터) 1017150101(퇴비또는조분석)\n",
      "나라장터) 1512150301(기어유)\n",
      "나라장터) 2610998901(오일여과기엘리먼트)\n",
      "한국전력) G042200127-00(부산 HRSG Tube 구매)\n",
      "한국전력) G012201789-00(축전지,무보수무누액 밀폐형,150AH, 2V 외 1건-광주전남)\n"
     ]
    }
   ],
   "metadata": {}
  },
  {
   "cell_type": "code",
   "execution_count": 4,
   "source": [
    "%autoreload 2\r\n",
    "from incon import *\r\n",
    "\r\n",
    "pres = incon_get_pres(driver)\r\n",
    "for pre in pres:\r\n",
    "    print(pre)"
   ],
   "outputs": [
    {
     "output_type": "stream",
     "name": "stdout",
     "text": [
      "click today btn\n",
      "click close btn\n",
      "한국전력) G012201821-00(축전지,무보수 밀폐형,MSB-400,400AH,2V-광주전남)\n",
      "한국전력) G102200276-00([일반]전기 임펙트 렌치 외 11종)\n",
      "한국전력) G042200130-00([일반]하동 7호기 통풍설비 정비용 자재구매)\n",
      "국방전자조달) 2022UMM024204819-01(22-국-체력단련장 골프카트 배터리 구매)\n",
      "나라장터) 3116320701, 3119150601, 2327149601, 2110179001, 2411240101, 4511172401, 4713160501, 4015150601(키, 연마디스크, 직류아크용접기, 갈고리, 공구상자, 마그네틱헤드, 솔, 수동식펌프)\n",
      "국방전자조달) 2022UMM015009778-01([일반](226130-D) 정비피복(정비화) 구매)\n",
      "나라장터) 1017150101(퇴비또는조분석)\n",
      "나라장터) 1512150301(기어유)\n"
     ]
    }
   ],
   "metadata": {}
  }
 ],
 "metadata": {
  "orig_nbformat": 4,
  "language_info": {
   "name": "python",
   "version": "3.10.4",
   "mimetype": "text/x-python",
   "codemirror_mode": {
    "name": "ipython",
    "version": 3
   },
   "pygments_lexer": "ipython3",
   "nbconvert_exporter": "python",
   "file_extension": ".py"
  },
  "kernelspec": {
   "name": "python3",
   "display_name": "Python 3.10.4 64-bit (windows store)"
  },
  "interpreter": {
   "hash": "ce1c64e12b598120b40e7cbc4a0f8734e11b17a0d7db6c579e54b529b59b5541"
  }
 },
 "nbformat": 4,
 "nbformat_minor": 2
}