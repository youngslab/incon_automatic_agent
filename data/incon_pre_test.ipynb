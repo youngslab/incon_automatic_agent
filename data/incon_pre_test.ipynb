{
 "cells": [
  {
   "cell_type": "code",
   "execution_count": 1,
   "source": [
    "%load_ext autoreload\r\n",
    "%autoreload 2\r\n",
    "\r\n",
    "import sys\r\n",
    "sys.path.insert(1, 'C:\\\\Users\\\\Jaeyoung\\\\dev\\\\incon_project')\r\n",
    "\r\n",
    "from incon import *\r\n",
    "import auto.selenium\r\n",
    "\r\n",
    "\r\n",
    "# load account info of the Incon\r\n",
    "pw = ''\r\n",
    "id = ''\r\n",
    "import json\r\n",
    "with open(\".incon.json\", 'r')  as f:\r\n",
    "    x = json.loads(f.read())\r\n",
    "    id = x['id']\r\n",
    "    pw = x['pw']\r\n",
    "\r\n",
    "driver = auto.selenium.create_edge_driver()\r\n",
    "incon_go_homepage(driver)\r\n",
    "incon_login(driver, id, pw)\r\n",
    "\r\n",
    "\r\n"
   ],
   "outputs": [
    {
     "output_type": "stream",
     "name": "stderr",
     "text": [
      "[WDM] - ====== WebDriver manager ======\n",
      "[WDM] - Current edge version is 100.0.1185\n",
      "[WDM] - Get LATEST edgedriver version for 100.0.1185 Edge\n",
      "[WDM] - Trying to download new driver from https://msedgedriver.azureedge.net/100.0.1185.44/edgedriver_win64.zip\n",
      "[WDM] - Driver has been saved in cache [C:\\Users\\Jaeyoung\\.wdm\\drivers\\edgedriver\\win64\\100.0.1185.44]\n"
     ]
    },
    {
     "output_type": "execute_result",
     "data": {
      "text/plain": [
       "True"
      ]
     },
     "metadata": {},
     "execution_count": 1
    }
   ],
   "metadata": {}
  },
  {
   "cell_type": "code",
   "execution_count": 2,
   "source": [
    "%autoreload 2\r\n",
    "from incon import *\r\n",
    "\r\n",
    "# Close Popup\r\n",
    "incon_pre_close_popup(driver)\r\n",
    "\r\n"
   ],
   "outputs": [],
   "metadata": {}
  },
  {
   "cell_type": "code",
   "execution_count": 3,
   "source": [
    "%autoreload 2\r\n",
    "from incon import *\r\n",
    "\r\n",
    "incon_pre_listitem_activate_all(driver)\r\n",
    "\r\n"
   ],
   "outputs": [],
   "metadata": {}
  },
  {
   "cell_type": "code",
   "execution_count": 4,
   "source": [
    "%autoreload 2\r\n",
    "from incon import *\r\n",
    "\r\n",
    "es = incon_pre_get_listitems(driver)\r\n",
    "\r\n",
    "# for e in es:    \r\n",
    "#     print(incon_listitem_is_completed(e))\r\n",
    "#     p = Preregistration(driver, e)\r\n",
    "#     print(p)\r\n",
    "\r\n",
    "pres = [ Preregistration(driver, e) for e in es ]\r\n",
    "for p in pres:\r\n",
    "    print(p)\r\n"
   ],
   "outputs": [
    {
     "output_type": "stream",
     "name": "stdout",
     "text": [
      "국방전자조달) 2022SCF017311352-01([일반]항공기세척기 2EA 구매)\n",
      "나라장터) 2614170202(피폭선량계)\n",
      "나라장터) 2711200601(낫)\n",
      "한국전력) G012202137-00(보호배전반 활선표시형 롤스크린(자석형))\n",
      "한국전력) G012202139-00(내진랙(설비용) 등 3종)\n",
      "나라장터) 3018150201(비데)\n",
      "한국전력) G012201963-00(축전지,무보수,무누액 밀폐형,100AH,12V외 5종(성동전력지사))\n",
      "한국전력) G012202118-00(방수형 무선전력 LED 등기구,220V,14W-대구)\n",
      "가스공사) 2022041411001-00([일반]2022년 인천기지 월정산제 단가계약(계전분야))\n",
      "나라장터) 2611170701(밀폐고정형납축전지)\n",
      "한국전력) G012202045-00(항공장애표시구(WSS-B, 120MM2, 24(48)C) 155EA [고덕2-서안성])\n",
      "국방전자조달) 2022UMM017310307-01((227133-C)통신장비용 축전지 구매설치)\n",
      "한국전력) G012202043-00(축전지(무보수 밀폐형,MSB-400,400AH,2V)120EA 외 1종 [율북S/S])\n"
     ]
    }
   ],
   "metadata": {}
  },
  {
   "cell_type": "code",
   "execution_count": 11,
   "source": [
    "%autoreload 2\r\n",
    "from incon import *\r\n",
    "\r\n",
    "pres = incon_get_pres(driver)\r\n",
    "for pre in pres:\r\n",
    "    print(pre)"
   ],
   "outputs": [
    {
     "output_type": "stream",
     "name": "stdout",
     "text": [
      "incon) go to the preregistration list page\n",
      "incon) close popup\n",
      "incon) activate all items\n",
      "incon) create items of Pre class\n",
      "국방전자조달) 2022SCF017311352-01([일반]항공기세척기 2EA 구매)\n",
      "나라장터) 2614170202(피폭선량계)\n",
      "나라장터) 2711200601(낫)\n",
      "한국전력) G012202137-00(보호배전반 활선표시형 롤스크린(자석형))\n",
      "한국전력) G012202139-00(내진랙(설비용) 등 3종)\n",
      "나라장터) 3018150201(비데)\n",
      "한국전력) G012201963-00(축전지,무보수,무누액 밀폐형,100AH,12V외 5종(성동전력지사))\n",
      "한국전력) G012202118-00(방수형 무선전력 LED 등기구,220V,14W-대구)\n",
      "가스공사) 2022041411001-00([일반]2022년 인천기지 월정산제 단가계약(계전분야))\n",
      "나라장터) 2611170701(밀폐고정형납축전지)\n",
      "한국전력) G012202045-00(항공장애표시구(WSS-B, 120MM2, 24(48)C) 155EA [고덕2-서안성])\n",
      "국방전자조달) 2022UMM017310307-01((227133-C)통신장비용 축전지 구매설치)\n",
      "한국전력) G012202043-00(축전지(무보수 밀폐형,MSB-400,400AH,2V)120EA 외 1종 [율북S/S])\n"
     ]
    }
   ],
   "metadata": {}
  },
  {
   "cell_type": "code",
   "execution_count": 10,
   "source": [
    "\r\n",
    "\r\n",
    "import time\r\n",
    "\r\n",
    "# test completion\r\n",
    "for pre in pres:\r\n",
    "    if not pre.is_completed():\r\n",
    "        pre.complete()       \r\n",
    "        # time.sleep(0.2)\r\n",
    "\r\n",
    "    if not pre.is_completed():\r\n",
    "        raise Exception(\"clicked but not completed\")\r\n",
    "    "
   ],
   "outputs": [
    {
     "output_type": "error",
     "ename": "StaleElementReferenceException",
     "evalue": "Message: stale element reference: element is not attached to the page document\n  (Session info: MicrosoftEdge=100.0.1185.39)\nStacktrace:\nBacktrace:\n\tMicrosoft::Applications::Events::EventProperties::unpack [0x00007FF703089542+24834]\n\tMicrosoft::Applications::Events::time_ticks_t::time_ticks_t [0x00007FF702FC6B42+523426]\n\tOrdinal0 [0x00007FF702AC13B5+660405]\n\tOrdinal0 [0x00007FF702AC49BA+674234]\n\tOrdinal0 [0x00007FF702AC473B+673595]\n\tOrdinal0 [0x00007FF702AC4AF0+674544]\n\tOrdinal0 [0x00007FF702AFC5FD+902653]\n\tOrdinal0 [0x00007FF702AFCB49+904009]\n\tOrdinal0 [0x00007FF702AF06BC+853692]\n\tOrdinal0 [0x00007FF702B17DDF+1015263]\n\tOrdinal0 [0x00007FF702AF05E4+853476]\n\tOrdinal0 [0x00007FF702B180B0+1015984]\n\tOrdinal0 [0x00007FF702B2C467+1098855]\n\tOrdinal0 [0x00007FF702B17BB3+1014707]\n\tOrdinal0 [0x00007FF702AEEAE0+846560]\n\tOrdinal0 [0x00007FF702AEFED8+851672]\n\tMicrosoft::Applications::Events::EventProperty::to_string [0x00007FF702C8AAF8+846504]\n\tMicrosoft::Applications::Events::EventProperty::EventProperty [0x00007FF702D7B0A1+36529]\n\tMicrosoft::Applications::Events::EventProperty::EventProperty [0x00007FF702D7E3C2+49618]\n\tMicrosoft::Applications::Events::EventProperty::to_string [0x00007FF702BC3976+31014]\n\tMicrosoft::Applications::Events::time_ticks_t::time_ticks_t [0x00007FF702FCDAC1+551969]\n\tMicrosoft::Applications::Events::time_ticks_t::time_ticks_t [0x00007FF702FD25D4+571188]\n\tMicrosoft::Applications::Events::time_ticks_t::time_ticks_t [0x00007FF702FD272D+571533]\n\tMicrosoft::Applications::Events::time_ticks_t::time_ticks_t [0x00007FF702FDB85E+608702]\n\tBaseThreadInitThunk [0x00007FFBF32554E0+16]\n\tRtlUserThreadStart [0x00007FFBF4BE485B+43]\n",
     "traceback": [
      "\u001b[1;31m---------------------------------------------------------------------------\u001b[0m",
      "\u001b[1;31mStaleElementReferenceException\u001b[0m            Traceback (most recent call last)",
      "Input \u001b[1;32mIn [10]\u001b[0m, in \u001b[0;36m<cell line: 4>\u001b[1;34m()\u001b[0m\n\u001b[0;32m      3\u001b[0m \u001b[38;5;66;03m# test completion\u001b[39;00m\n\u001b[0;32m      4\u001b[0m \u001b[38;5;28;01mfor\u001b[39;00m pre \u001b[38;5;129;01min\u001b[39;00m pres:\n\u001b[1;32m----> 5\u001b[0m     \u001b[38;5;28;01mif\u001b[39;00m \u001b[38;5;129;01mnot\u001b[39;00m \u001b[43mpre\u001b[49m\u001b[38;5;241;43m.\u001b[39;49m\u001b[43mis_completed\u001b[49m\u001b[43m(\u001b[49m\u001b[43m)\u001b[49m:\n\u001b[0;32m      6\u001b[0m         pre\u001b[38;5;241m.\u001b[39mcomplete()       \n\u001b[0;32m      7\u001b[0m         \u001b[38;5;66;03m# time.sleep(0.2)\u001b[39;00m\n",
      "File \u001b[1;32mc:\\Users\\Jaeyoung\\dev\\incon_project\\incon_automatic_agent\\data\\incon.py:168\u001b[0m, in \u001b[0;36mPreregistration.is_completed\u001b[1;34m(self)\u001b[0m\n\u001b[0;32m    167\u001b[0m \u001b[38;5;28;01mdef\u001b[39;00m \u001b[38;5;21mis_completed\u001b[39m(\u001b[38;5;28mself\u001b[39m):\n\u001b[1;32m--> 168\u001b[0m     \u001b[38;5;28;01mreturn\u001b[39;00m \u001b[43mincon_listitem_is_completed\u001b[49m\u001b[43m(\u001b[49m\u001b[38;5;28;43mself\u001b[39;49m\u001b[38;5;241;43m.\u001b[39;49m\u001b[43m__element\u001b[49m\u001b[43m)\u001b[49m\n",
      "File \u001b[1;32mc:\\Users\\Jaeyoung\\dev\\incon_project\\incon_automatic_agent\\data\\incon.py:46\u001b[0m, in \u001b[0;36mincon_listitem_is_completed\u001b[1;34m(listitem)\u001b[0m\n\u001b[0;32m     45\u001b[0m \u001b[38;5;28;01mdef\u001b[39;00m \u001b[38;5;21mincon_listitem_is_completed\u001b[39m(listitem):\n\u001b[1;32m---> 46\u001b[0m     completion_button \u001b[38;5;241m=\u001b[39m \u001b[43mincon_listitem_get_button\u001b[49m\u001b[43m(\u001b[49m\u001b[43mlistitem\u001b[49m\u001b[43m)\u001b[49m\n\u001b[0;32m     47\u001b[0m     \u001b[38;5;28;01mreturn\u001b[39;00m \u001b[38;5;124m'\u001b[39m\u001b[38;5;124mui-icon-check\u001b[39m\u001b[38;5;124m'\u001b[39m \u001b[38;5;129;01min\u001b[39;00m completion_button\u001b[38;5;241m.\u001b[39mget_attribute(\u001b[38;5;124m\"\u001b[39m\u001b[38;5;124mclass\u001b[39m\u001b[38;5;124m\"\u001b[39m)\n",
      "File \u001b[1;32mc:\\Users\\Jaeyoung\\dev\\incon_project\\incon_automatic_agent\\data\\incon.py:43\u001b[0m, in \u001b[0;36mincon_listitem_get_button\u001b[1;34m(listitem)\u001b[0m\n\u001b[0;32m     42\u001b[0m \u001b[38;5;28;01mdef\u001b[39;00m \u001b[38;5;21mincon_listitem_get_button\u001b[39m(listitem):\n\u001b[1;32m---> 43\u001b[0m     \u001b[38;5;28;01mreturn\u001b[39;00m \u001b[43mlistitem\u001b[49m\u001b[38;5;241;43m.\u001b[39;49m\u001b[43mfind_element\u001b[49m\u001b[43m(\u001b[49m\u001b[43mBy\u001b[49m\u001b[38;5;241;43m.\u001b[39;49m\u001b[43mXPATH\u001b[49m\u001b[43m,\u001b[49m\u001b[43m \u001b[49m\u001b[38;5;124;43m'\u001b[39;49m\u001b[38;5;124;43m.//a[2]\u001b[39;49m\u001b[38;5;124;43m'\u001b[39;49m\u001b[43m)\u001b[49m\n",
      "File \u001b[1;32m~\\AppData\\Local\\Packages\\PythonSoftwareFoundation.Python.3.10_qbz5n2kfra8p0\\LocalCache\\local-packages\\Python310\\site-packages\\selenium\\webdriver\\remote\\webelement.py:735\u001b[0m, in \u001b[0;36mWebElement.find_element\u001b[1;34m(self, by, value)\u001b[0m\n\u001b[0;32m    732\u001b[0m     by \u001b[38;5;241m=\u001b[39m By\u001b[38;5;241m.\u001b[39mCSS_SELECTOR\n\u001b[0;32m    733\u001b[0m     value \u001b[38;5;241m=\u001b[39m \u001b[38;5;124m'\u001b[39m\u001b[38;5;124m[name=\u001b[39m\u001b[38;5;124m\"\u001b[39m\u001b[38;5;132;01m%s\u001b[39;00m\u001b[38;5;124m\"\u001b[39m\u001b[38;5;124m]\u001b[39m\u001b[38;5;124m'\u001b[39m \u001b[38;5;241m%\u001b[39m value\n\u001b[1;32m--> 735\u001b[0m \u001b[38;5;28;01mreturn\u001b[39;00m \u001b[38;5;28;43mself\u001b[39;49m\u001b[38;5;241;43m.\u001b[39;49m\u001b[43m_execute\u001b[49m\u001b[43m(\u001b[49m\u001b[43mCommand\u001b[49m\u001b[38;5;241;43m.\u001b[39;49m\u001b[43mFIND_CHILD_ELEMENT\u001b[49m\u001b[43m,\u001b[49m\n\u001b[0;32m    736\u001b[0m \u001b[43m                     \u001b[49m\u001b[43m{\u001b[49m\u001b[38;5;124;43m\"\u001b[39;49m\u001b[38;5;124;43musing\u001b[39;49m\u001b[38;5;124;43m\"\u001b[39;49m\u001b[43m:\u001b[49m\u001b[43m \u001b[49m\u001b[43mby\u001b[49m\u001b[43m,\u001b[49m\u001b[43m \u001b[49m\u001b[38;5;124;43m\"\u001b[39;49m\u001b[38;5;124;43mvalue\u001b[39;49m\u001b[38;5;124;43m\"\u001b[39;49m\u001b[43m:\u001b[49m\u001b[43m \u001b[49m\u001b[43mvalue\u001b[49m\u001b[43m}\u001b[49m\u001b[43m)\u001b[49m[\u001b[38;5;124m'\u001b[39m\u001b[38;5;124mvalue\u001b[39m\u001b[38;5;124m'\u001b[39m]\n",
      "File \u001b[1;32m~\\AppData\\Local\\Packages\\PythonSoftwareFoundation.Python.3.10_qbz5n2kfra8p0\\LocalCache\\local-packages\\Python310\\site-packages\\selenium\\webdriver\\remote\\webelement.py:710\u001b[0m, in \u001b[0;36mWebElement._execute\u001b[1;34m(self, command, params)\u001b[0m\n\u001b[0;32m    708\u001b[0m     params \u001b[38;5;241m=\u001b[39m {}\n\u001b[0;32m    709\u001b[0m params[\u001b[38;5;124m'\u001b[39m\u001b[38;5;124mid\u001b[39m\u001b[38;5;124m'\u001b[39m] \u001b[38;5;241m=\u001b[39m \u001b[38;5;28mself\u001b[39m\u001b[38;5;241m.\u001b[39m_id\n\u001b[1;32m--> 710\u001b[0m \u001b[38;5;28;01mreturn\u001b[39;00m \u001b[38;5;28;43mself\u001b[39;49m\u001b[38;5;241;43m.\u001b[39;49m\u001b[43m_parent\u001b[49m\u001b[38;5;241;43m.\u001b[39;49m\u001b[43mexecute\u001b[49m\u001b[43m(\u001b[49m\u001b[43mcommand\u001b[49m\u001b[43m,\u001b[49m\u001b[43m \u001b[49m\u001b[43mparams\u001b[49m\u001b[43m)\u001b[49m\n",
      "File \u001b[1;32m~\\AppData\\Local\\Packages\\PythonSoftwareFoundation.Python.3.10_qbz5n2kfra8p0\\LocalCache\\local-packages\\Python310\\site-packages\\selenium\\webdriver\\remote\\webdriver.py:424\u001b[0m, in \u001b[0;36mWebDriver.execute\u001b[1;34m(self, driver_command, params)\u001b[0m\n\u001b[0;32m    422\u001b[0m response \u001b[38;5;241m=\u001b[39m \u001b[38;5;28mself\u001b[39m\u001b[38;5;241m.\u001b[39mcommand_executor\u001b[38;5;241m.\u001b[39mexecute(driver_command, params)\n\u001b[0;32m    423\u001b[0m \u001b[38;5;28;01mif\u001b[39;00m response:\n\u001b[1;32m--> 424\u001b[0m     \u001b[38;5;28;43mself\u001b[39;49m\u001b[38;5;241;43m.\u001b[39;49m\u001b[43merror_handler\u001b[49m\u001b[38;5;241;43m.\u001b[39;49m\u001b[43mcheck_response\u001b[49m\u001b[43m(\u001b[49m\u001b[43mresponse\u001b[49m\u001b[43m)\u001b[49m\n\u001b[0;32m    425\u001b[0m     response[\u001b[38;5;124m'\u001b[39m\u001b[38;5;124mvalue\u001b[39m\u001b[38;5;124m'\u001b[39m] \u001b[38;5;241m=\u001b[39m \u001b[38;5;28mself\u001b[39m\u001b[38;5;241m.\u001b[39m_unwrap_value(\n\u001b[0;32m    426\u001b[0m         response\u001b[38;5;241m.\u001b[39mget(\u001b[38;5;124m'\u001b[39m\u001b[38;5;124mvalue\u001b[39m\u001b[38;5;124m'\u001b[39m, \u001b[38;5;28;01mNone\u001b[39;00m))\n\u001b[0;32m    427\u001b[0m     \u001b[38;5;28;01mreturn\u001b[39;00m response\n",
      "File \u001b[1;32m~\\AppData\\Local\\Packages\\PythonSoftwareFoundation.Python.3.10_qbz5n2kfra8p0\\LocalCache\\local-packages\\Python310\\site-packages\\selenium\\webdriver\\remote\\errorhandler.py:247\u001b[0m, in \u001b[0;36mErrorHandler.check_response\u001b[1;34m(self, response)\u001b[0m\n\u001b[0;32m    245\u001b[0m         alert_text \u001b[38;5;241m=\u001b[39m value[\u001b[38;5;124m'\u001b[39m\u001b[38;5;124malert\u001b[39m\u001b[38;5;124m'\u001b[39m]\u001b[38;5;241m.\u001b[39mget(\u001b[38;5;124m'\u001b[39m\u001b[38;5;124mtext\u001b[39m\u001b[38;5;124m'\u001b[39m)\n\u001b[0;32m    246\u001b[0m     \u001b[38;5;28;01mraise\u001b[39;00m exception_class(message, screen, stacktrace, alert_text)  \u001b[38;5;66;03m# type: ignore[call-arg]  # mypy is not smart enough here\u001b[39;00m\n\u001b[1;32m--> 247\u001b[0m \u001b[38;5;28;01mraise\u001b[39;00m exception_class(message, screen, stacktrace)\n",
      "\u001b[1;31mStaleElementReferenceException\u001b[0m: Message: stale element reference: element is not attached to the page document\n  (Session info: MicrosoftEdge=100.0.1185.39)\nStacktrace:\nBacktrace:\n\tMicrosoft::Applications::Events::EventProperties::unpack [0x00007FF703089542+24834]\n\tMicrosoft::Applications::Events::time_ticks_t::time_ticks_t [0x00007FF702FC6B42+523426]\n\tOrdinal0 [0x00007FF702AC13B5+660405]\n\tOrdinal0 [0x00007FF702AC49BA+674234]\n\tOrdinal0 [0x00007FF702AC473B+673595]\n\tOrdinal0 [0x00007FF702AC4AF0+674544]\n\tOrdinal0 [0x00007FF702AFC5FD+902653]\n\tOrdinal0 [0x00007FF702AFCB49+904009]\n\tOrdinal0 [0x00007FF702AF06BC+853692]\n\tOrdinal0 [0x00007FF702B17DDF+1015263]\n\tOrdinal0 [0x00007FF702AF05E4+853476]\n\tOrdinal0 [0x00007FF702B180B0+1015984]\n\tOrdinal0 [0x00007FF702B2C467+1098855]\n\tOrdinal0 [0x00007FF702B17BB3+1014707]\n\tOrdinal0 [0x00007FF702AEEAE0+846560]\n\tOrdinal0 [0x00007FF702AEFED8+851672]\n\tMicrosoft::Applications::Events::EventProperty::to_string [0x00007FF702C8AAF8+846504]\n\tMicrosoft::Applications::Events::EventProperty::EventProperty [0x00007FF702D7B0A1+36529]\n\tMicrosoft::Applications::Events::EventProperty::EventProperty [0x00007FF702D7E3C2+49618]\n\tMicrosoft::Applications::Events::EventProperty::to_string [0x00007FF702BC3976+31014]\n\tMicrosoft::Applications::Events::time_ticks_t::time_ticks_t [0x00007FF702FCDAC1+551969]\n\tMicrosoft::Applications::Events::time_ticks_t::time_ticks_t [0x00007FF702FD25D4+571188]\n\tMicrosoft::Applications::Events::time_ticks_t::time_ticks_t [0x00007FF702FD272D+571533]\n\tMicrosoft::Applications::Events::time_ticks_t::time_ticks_t [0x00007FF702FDB85E+608702]\n\tBaseThreadInitThunk [0x00007FFBF32554E0+16]\n\tRtlUserThreadStart [0x00007FFBF4BE485B+43]\n"
     ]
    }
   ],
   "metadata": {}
  }
 ],
 "metadata": {
  "orig_nbformat": 4,
  "language_info": {
   "name": "python",
   "version": "3.10.4",
   "mimetype": "text/x-python",
   "codemirror_mode": {
    "name": "ipython",
    "version": 3
   },
   "pygments_lexer": "ipython3",
   "nbconvert_exporter": "python",
   "file_extension": ".py"
  },
  "kernelspec": {
   "name": "python3",
   "display_name": "Python 3.10.4 64-bit (windows store)"
  },
  "interpreter": {
   "hash": "ce1c64e12b598120b40e7cbc4a0f8734e11b17a0d7db6c579e54b529b59b5541"
  }
 },
 "nbformat": 4,
 "nbformat_minor": 2
}