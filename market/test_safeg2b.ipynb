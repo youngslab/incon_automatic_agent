{
 "cells": [
  {
   "cell_type": "code",
   "execution_count": 238,
   "source": [
    "\r\n",
    "\r\n",
    "# # from elevate import elevate\r\n",
    "# # elevate()\r\n",
    "\r\n",
    "# %load_ext autoreload\r\n",
    "# %autoreload 2\r\n",
    "\r\n",
    "# import os, sys, time\r\n",
    "# sys.path.insert(1, 'C:\\\\Users\\\\Jaeyoung\\\\dev\\\\incon_project')\r\n",
    "\r\n",
    "# import auto.windows\r\n",
    "# import win32gui, win32con, win32api, win32process\r\n",
    "\r\n",
    "# from safeg2b import *\r\n",
    "\r\n",
    "# # window handle\r\n",
    "# hwnd = safeg2b_main_window_wait_until(timeout=100)\r\n",
    "\r\n",
    "# # Go to the main page\r\n",
    "# auto.windows.bring_window_to_top(hwnd)\r\n",
    "\r\n",
    "# # If it's not mainpage.\r\n",
    "# safeg2b_go_to_login_page()\r\n",
    "\r\n",
    "\r\n",
    "\r\n",
    "\r\n"
   ],
   "outputs": [],
   "metadata": {}
  },
  {
   "cell_type": "markdown",
   "source": [
    "# Log in\r\n",
    "\r\n",
    "## Login Process\r\n",
    "\r\n",
    "`safeg2b_login` 을 구현해 보자. \r\n",
    "\r\n",
    "\r\n",
    "\r\n",
    "\r\n",
    "\r\n"
   ],
   "metadata": {}
  },
  {
   "cell_type": "code",
   "execution_count": 239,
   "source": [
    "# %load_ext autoreload\r\n",
    "# %autoreload 2\r\n",
    "\r\n",
    "# import os, sys, time\r\n",
    "# sys.path.insert(1, 'C:\\\\Users\\\\Jaeyoung\\\\dev\\\\incon_project')\r\n",
    "\r\n",
    "# from safeg2b import *\r\n",
    "\r\n",
    "# # # check is login? \r\n",
    "# if not safeg2b_is_login():\r\n",
    "    # safeg2b_login(hwnd, PASSWORD, RESIDNETIAL NUMBER)\r\n"
   ],
   "outputs": [],
   "metadata": {}
  },
  {
   "cell_type": "markdown",
   "source": [],
   "metadata": {}
  },
  {
   "cell_type": "markdown",
   "source": [],
   "metadata": {}
  },
  {
   "cell_type": "markdown",
   "source": [
    "# 입찰 참여하기 "
   ],
   "metadata": {}
  },
  {
   "cell_type": "code",
   "execution_count": 240,
   "source": [
    "\r\n",
    "%autoreload 2\r\n",
    "\r\n",
    "import auto.windows\r\n",
    "\r\n",
    "# main window\r\n",
    "auto.windows.bring_window_to_top(hwnd)\r\n",
    "\r\n",
    "# 2.1 bid_info (New Page)\r\n",
    "auto.windows.img_click('res\\\\safeg2b_bid_bid_info_button.png', timeout=30)\r\n",
    "\r\n",
    "\r\n",
    "\r\n",
    "\r\n"
   ],
   "outputs": [
    {
     "output_type": "stream",
     "name": "stdout",
     "text": [
      "wait_until) timeout=30, interval=0.5\n",
      "img) click center=Point(x=869, y=122) of img=res\\safeg2b_bid_bid_info_button.png\n"
     ]
    }
   ],
   "metadata": {}
  },
  {
   "cell_type": "code",
   "execution_count": 241,
   "source": [
    "# find search input (New Page)\r\n",
    "auto.windows.img_type('res\\\\safeg2b_bid_search_input.png', \"20220413976\", timeout=30)\r\n",
    "auto.windows.img_click('res\\\\safeg2b_bid_search_button.png', timeout=5)"
   ],
   "outputs": [
    {
     "output_type": "stream",
     "name": "stdout",
     "text": [
      "wait_until) timeout=30, interval=0.5\n",
      "wait_until) curr=0.2550\n",
      "wait_until) curr=0.9910\n",
      "wait_until) curr=1.6980\n",
      "wait_until) curr=2.4070\n",
      "img) click center=Point(x=1304, y=823) of img=res\\safeg2b_bid_search_input.png\n",
      "wait_until) timeout=5, interval=0.5\n",
      "img) click center=Point(x=1360, y=823) of img=res\\safeg2b_bid_search_button.png\n"
     ]
    }
   ],
   "metadata": {}
  },
  {
   "cell_type": "code",
   "execution_count": 242,
   "source": [
    "# 2.3 bid participate\r\n",
    "auto.windows.bring_window_to_top(hwnd)\r\n",
    "auto.windows.img_click(\"res\\\\safeg2b_2_3_bid_finger_print_button.png\", timeout=30)"
   ],
   "outputs": [
    {
     "output_type": "stream",
     "name": "stdout",
     "text": [
      "wait_until) timeout=30, interval=0.5\n",
      "wait_until) curr=0.2180\n",
      "img) click center=Point(x=1773, y=438) of img=res\\safeg2b_2_3_bid_finger_print_button.png\n"
     ]
    }
   ],
   "metadata": {}
  },
  {
   "cell_type": "code",
   "execution_count": 243,
   "source": [
    "# auto.windows.img_test(\"res\\\\safeg2b_2_4_bid_button.png\", confidence=0.7)\r\n",
    "# print(b)"
   ],
   "outputs": [],
   "metadata": {}
  },
  {
   "cell_type": "markdown",
   "source": [],
   "metadata": {}
  },
  {
   "cell_type": "code",
   "execution_count": 244,
   "source": [
    "# 2.4 bid participate(2)\r\n",
    "\r\n",
    "search_hwnd = auto.windows.wait_until_window_handle(\"물품공고분류조회 - SafeG2B\")\r\n",
    "auto.windows.bring_window_to_top(search_hwnd)\r\n",
    "\r\n",
    "auto.windows.img_click(\"res\\\\safeg2b_2_4_bid_button.png\")"
   ],
   "outputs": [
    {
     "output_type": "stream",
     "name": "stdout",
     "text": [
      "wait_until) timeout=0.1, interval=0.5\n",
      "img) click center=Point(x=115, y=212) of img=res\\safeg2b_2_4_bid_button.png\n"
     ]
    }
   ],
   "metadata": {}
  },
  {
   "cell_type": "code",
   "execution_count": 245,
   "source": [
    "\r\n",
    "%load_ext autoreload\r\n",
    "%autoreload 2\r\n",
    "\r\n",
    "from auto.windows import *\r\n",
    "\r\n",
    "# 2.5 투찰 공지사항\r\n",
    "notice_hwnd = window_wait_until(\"투찰 공지사항 - SafeG2B\")\r\n",
    "auto.windows.bring_window_to_top(notice_hwnd)\r\n",
    "\r\n",
    "import pyautogui\r\n",
    "pyautogui.press(\"end\")\r\n",
    "time.sleep(0.5)\r\n",
    "\r\n",
    "yes_buttons = img_find_all(\"res\\\\safeg2b_2_5_bid_notice_yes_checkbox.png\")\r\n",
    "for btn in yes_buttons:\r\n",
    "    auto.windows.click(*btn)\r\n",
    "\r\n",
    "auto.windows.img_click('res\\\\safeg2b_2_5_bid_notice_confirm_button.png')\r\n",
    "\r\n"
   ],
   "outputs": [
    {
     "output_type": "stream",
     "name": "stdout",
     "text": [
      "The autoreload extension is already loaded. To reload it, use:\n",
      "  %reload_ext autoreload\n",
      "wait_until) timeout=10, interval=0.5\n",
      "wait_until) curr=0.0010\n",
      "wait_until) curr=0.5110\n",
      "wait_until) curr=1.0223\n",
      "wait_until) curr=1.5359\n",
      "wait_until) curr=2.0481\n",
      "find all image\n",
      "wait_until) timeout=0.1, interval=0.5\n",
      "img) click center=Point(x=444, y=655) of img=res\\safeg2b_2_5_bid_notice_confirm_button.png\n"
     ]
    }
   ],
   "metadata": {}
  },
  {
   "cell_type": "code",
   "execution_count": 246,
   "source": [
    "\r\n",
    "# 2.6 물품구매입찰서\r\n",
    "\r\n",
    "\r\n",
    "title = \"물품구매입찰서:나라장터 - SafeG2B\"\r\n",
    "doc_hwnd = auto.windows.window_wait_until(title, timeout = 60)\r\n",
    "auto.windows.bring_window_to_top(doc_hwnd)\r\n",
    "\r\n",
    "\r\n",
    "auto.windows.img_click(\"res\\\\safeg2b_2_6_bid_doc_checkbox.png\", timeout=5)\r\n",
    "auto.windows.img_type(\"res\\\\safeg2b_2_6_bid_doc_cost_input.png\", \"122912612\",timeout=10)\r\n",
    "\r\n",
    "import pyautogui\r\n",
    "# pyautogui.press('f5')\r\n",
    "\r\n",
    "cp = auto.windows.window_get_center(doc_hwnd)\r\n",
    "auto.windows.mouse_move(*cp)\r\n",
    "auto.windows.mouse_click()\r\n",
    "\r\n",
    "pyautogui.press('end')\r\n",
    "\r\n",
    "auto.windows.img_click(\"res\\\\safeg2b_2_6_bid_doc_checkbox.png\", timeout=5)\r\n",
    "auto.windows.img_click(\"res\\\\safeg2b_2_6_bid_doc_send_button.png\")\r\n",
    "\r\n",
    "\r\n"
   ],
   "outputs": [
    {
     "output_type": "stream",
     "name": "stdout",
     "text": [
      "wait_until) timeout=60, interval=0.5\n",
      "wait_until) curr=0.0010\n",
      "wait_until) timeout=5, interval=0.5\n",
      "wait_until) curr=0.2050\n",
      "wait_until) curr=0.8878\n",
      "img) click center=Point(x=76, y=433) of img=res\\safeg2b_2_6_bid_doc_checkbox.png\n",
      "wait_until) timeout=10, interval=0.5\n",
      "img) click center=Point(x=305, y=606) of img=res\\safeg2b_2_6_bid_doc_cost_input.png\n",
      "wait_until) timeout=5, interval=0.5\n",
      "img) click center=Point(x=76, y=290) of img=res\\safeg2b_2_6_bid_doc_checkbox.png\n",
      "wait_until) timeout=0.1, interval=0.5\n",
      "img) click center=Point(x=444, y=655) of img=res\\safeg2b_2_6_bid_doc_send_button.png\n"
     ]
    }
   ],
   "metadata": {}
  },
  {
   "cell_type": "code",
   "execution_count": 247,
   "source": [
    "# 2.7 투찰금액확인\r\n",
    "title = \"투찰금액 확인 - SafeG2B\"\r\n",
    "cost_confirm_hwnd = auto.windows.wait_until_window_handle(title, timeout=60)\r\n",
    "auto.windows.bring_window_to_top(cost_confirm_hwnd)\r\n",
    "\r\n",
    "auto.windows.img_click('res\\\\safeg2b_2_7_cost_confirm_checkbox.png', timeout=5)\r\n",
    "auto.windows.img_click('res\\\\safeg2b_2_7_cost_confirm_button.png')\r\n",
    "\r\n"
   ],
   "outputs": [
    {
     "output_type": "stream",
     "name": "stdout",
     "text": [
      "wait_until) timeout=5, interval=0.5\n",
      "img) click center=Point(x=1041, y=539) of img=res\\safeg2b_2_7_cost_confirm_checkbox.png\n",
      "wait_until) timeout=0.1, interval=0.5\n",
      "img) click center=Point(x=938, y=813) of img=res\\safeg2b_2_7_cost_confirm_button.png\n"
     ]
    }
   ],
   "metadata": {}
  },
  {
   "cell_type": "code",
   "execution_count": 248,
   "source": [
    "# 추첨번호 선택\r\n",
    "title = \"추첨번호 선택 - SafeG2B\"\r\n",
    "lottery_number_hwnd = auto.windows.wait_until_window_handle(title, timeout=60)\r\n",
    "auto.windows.bring_window_to_top(lottery_number_hwnd)\r\n",
    "\r\n",
    "auto.windows.img_wait_until(\"res\\\\safeg2b_2_8_lottery_number_checkbox.png\", timeout=10)\r\n",
    "\r\n",
    "boxes = auto.windows.img_find_all(\"res\\\\safeg2b_2_8_lottery_number_checkbox.png\")\r\n",
    "import random\r\n",
    "boxes = random.choices(boxes, k=2)\r\n",
    "for box in boxes:\r\n",
    "    auto.windows.click(*box)\r\n",
    "\r\n",
    "auto.windows.img_click('res\\\\safeg2b_2_8_lottery_number_send_button.png')\r\n",
    "auto.windows.img_click('res\\\\safeg2b_2_8_lottery_number_confirm_button.png', timeout=5)\r\n",
    "auto.windows.img_click('res\\\\safeg2b_2_8_lottery_number_certi_confrim_button.png', timeout=5)\r\n",
    "\r\n",
    "\r\n",
    "\r\n"
   ],
   "outputs": [
    {
     "output_type": "stream",
     "name": "stdout",
     "text": [
      "wait_until) timeout=10, interval=0.5\n",
      "wait_until) curr=0.1960\n",
      "find all image\n",
      "wait_until) timeout=0.1, interval=0.5\n",
      "img) click center=Point(x=927, y=682) of img=res\\safeg2b_2_8_lottery_number_send_button.png\n",
      "wait_until) timeout=5, interval=0.5\n",
      "wait_until) curr=0.1930\n",
      "img) click center=Point(x=931, y=586) of img=res\\safeg2b_2_8_lottery_number_confirm_button.png\n",
      "wait_until) timeout=5, interval=0.5\n",
      "wait_until) curr=0.1990\n",
      "wait_until) curr=0.8981\n",
      "img) click center=Point(x=1048, y=682) of img=res\\safeg2b_2_8_lottery_number_certi_confrim_button.png\n"
     ]
    }
   ],
   "metadata": {}
  },
  {
   "cell_type": "code",
   "execution_count": 249,
   "source": [
    "# 2.9 finish\r\n",
    "\r\n",
    "safeg2b_certificate_login(PASSWORD)\r\n",
    "\r\n",
    "title = \"나라장터\"\r\n",
    "alert_hwnd = auto.windows.wait_until_window_handle(title, timeout=60)\r\n",
    "auto.windows.bring_window_to_top(alert_hwnd)\r\n",
    "\r\n",
    "auto.windows.img_click('res\\\\safeg2b_2_9_confirm_button.png',timeout=5)\r\n"
   ],
   "outputs": [
    {
     "output_type": "stream",
     "name": "stdout",
     "text": [
      "wait_until) timeout=30, interval=0.5\n",
      "wait_until) timeout=10, interval=0.5\n",
      "wait_until) curr=0.2440\n",
      "img) click center=Point(x=1030, y=721) of img=res\\safeg2b_certificate_password_input.png\n",
      "wait_until) timeout=0.1, interval=0.5\n",
      "img) click center=Point(x=894, y=758) of img=res\\safeg2b_certificate_password_confirm_button.png\n",
      "wait_until) timeout=5, interval=0.5\n",
      "img) click center=Point(x=961, y=573) of img=res\\safeg2b_2_9_confirm_button.png\n"
     ]
    }
   ],
   "metadata": {}
  },
  {
   "cell_type": "code",
   "execution_count": 250,
   "source": [
    "# 2.10 전자입찰 송수신상세이력조회 - SafeG2B\r\n",
    "title = \"전자입찰 송수신상세이력조회 - SafeG2B\"\r\n",
    "detail_hwnd = auto.windows.wait_until_window_handle(title, timeout=60)\r\n",
    "auto.windows.bring_window_to_top(detail_hwnd)\r\n",
    "\r\n",
    "auto.windows.img_click('res\\\\safeg2b_2_10_close_button.png', timeout=5)"
   ],
   "outputs": [
    {
     "output_type": "stream",
     "name": "stdout",
     "text": [
      "wait_until) timeout=5, interval=0.5\n",
      "wait_until) curr=0.2450\n",
      "img) click center=Point(x=478, y=432) of img=res\\safeg2b_2_10_close_button.png\n"
     ]
    }
   ],
   "metadata": {}
  },
  {
   "cell_type": "code",
   "execution_count": 251,
   "source": [
    "# 2.11 나라장터 행정정보 제3자 제공서비스 수요조사 - SafeG2B\r\n",
    "title = \"나라장터 행정정보 제3자 제공서비스 수요조사 - SafeG2B\"\r\n",
    "survey_hwnd = auto.windows.wait_until_window_handle(title, timeout=60)\r\n",
    "auto.windows.bring_window_to_top(survey_hwnd)\r\n",
    "\r\n",
    "auto.windows.img_click('res\\\\safeg2b_2_11_survey_close_button.png', timeout=5)"
   ],
   "outputs": [
    {
     "output_type": "stream",
     "name": "stdout",
     "text": [
      "wait_until) timeout=5, interval=0.5\n",
      "img) click center=Point(x=575, y=256) of img=res\\safeg2b_2_11_survey_close_button.png\n"
     ]
    }
   ],
   "metadata": {}
  }
 ],
 "metadata": {
  "orig_nbformat": 4,
  "language_info": {
   "name": "python",
   "version": "3.10.4",
   "mimetype": "text/x-python",
   "codemirror_mode": {
    "name": "ipython",
    "version": 3
   },
   "pygments_lexer": "ipython3",
   "nbconvert_exporter": "python",
   "file_extension": ".py"
  },
  "kernelspec": {
   "name": "python3",
   "display_name": "Python 3.10.4 64-bit (windows store)"
  },
  "interpreter": {
   "hash": "ce1c64e12b598120b40e7cbc4a0f8734e11b17a0d7db6c579e54b529b59b5541"
  }
 },
 "nbformat": 4,
 "nbformat_minor": 2
}