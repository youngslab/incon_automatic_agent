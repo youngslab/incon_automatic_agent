{
 "cells": [
  {
   "cell_type": "code",
   "execution_count": 1,
   "source": [
    "\r\n",
    "%load_ext autoreload\r\n",
    "%autoreload 2\r\n",
    "\r\n",
    "import sys\r\n",
    "sys.path.insert(1, 'C:\\\\Users\\\\Jaeyoung\\\\dev\\\\incon_project')\r\n",
    "\r\n",
    "import auto.selenium, auto.windows\r\n",
    "from selenium.webdriver.common.by import By\r\n",
    "from g2b import *\r\n",
    "\r\n",
    "# load account info of the Incon\r\n",
    "pw = ''\r\n",
    "import json\r\n",
    "with open(\".g2b.json\", 'r')  as f:\r\n",
    "    x = json.loads(f.read())\r\n",
    "    pw = x['pw']\r\n",
    "\r\n",
    "driver = auto.selenium.create_edge_driver()\r\n",
    "\r\n",
    "go_homepage(driver)\r\n",
    "login(driver, pw)\r\n"
   ],
   "outputs": [
    {
     "output_type": "stream",
     "name": "stderr",
     "text": [
      "[WDM] - ====== WebDriver manager ======\n",
      "[WDM] - Current edge version is 100.0.1185\n",
      "[WDM] - Get LATEST edgedriver version for 100.0.1185 Edge\n",
      "[WDM] - Trying to download new driver from https://msedgedriver.azureedge.net/100.0.1185.39/edgedriver_win64.zip\n",
      "[WDM] - Driver has been saved in cache [C:\\Users\\Jaeyoung\\.wdm\\drivers\\edgedriver\\win64\\100.0.1185.39]\n"
     ]
    },
    {
     "output_type": "execute_result",
     "data": {
      "text/plain": [
       "True"
      ]
     },
     "metadata": {},
     "execution_count": 1
    }
   ],
   "metadata": {}
  },
  {
   "cell_type": "code",
   "execution_count": 2,
   "source": [
    "\r\n",
    "%load_ext autoreload\r\n",
    "%autoreload 2\r\n",
    "\r\n",
    "from g2b import *\r\n",
    "\r\n",
    "go_product_registration_page(driver)\r\n",
    "\r\n",
    "\r\n",
    "# Registered PNs \r\n",
    "pns = get_registered_products(driver)\r\n",
    "for pn in pns:\r\n",
    "    print(pn)\r\n",
    "\r\n"
   ],
   "outputs": [
    {
     "output_type": "stream",
     "name": "stdout",
     "text": [
      "The autoreload extension is already loaded. To reload it, use:\n",
      "  %reload_ext autoreload\n",
      "1017150101\n",
      "1411170102\n",
      "1512150301\n",
      "2110179001\n",
      "2327149601\n",
      "2410150601\n",
      "2411240101\n",
      "2611169901\n",
      "2711170501\n",
      "2711270901\n",
      "2711271301\n",
      "3012170202\n",
      "3012179801\n",
      "3116320701\n",
      "3119150601\n",
      "3912161401\n",
      "4015150601\n",
      "4110400802\n",
      "4111193801\n",
      "4111240701\n",
      "4410310302\n",
      "4511172401\n",
      "4616158801\n",
      "4713160501\n",
      "5215170401\n",
      "5310230501\n",
      "5311170101\n",
      "5510151001\n",
      "6010279901\n"
     ]
    }
   ],
   "metadata": {}
  },
  {
   "cell_type": "code",
   "execution_count": 7,
   "source": [
    "# Register Product\r\n",
    "\r\n",
    "%load_ext autoreload\r\n",
    "%autoreload 2\r\n",
    "\r\n",
    "from g2b import *\r\n",
    "\r\n",
    "pns = ['4110400802']\r\n",
    "\r\n",
    "g2b_register(driver, pns)"
   ],
   "outputs": [
    {
     "output_type": "stream",
     "name": "stdout",
     "text": [
      "The autoreload extension is already loaded. To reload it, use:\n",
      "  %reload_ext autoreload\n"
     ]
    },
    {
     "output_type": "execute_result",
     "data": {
      "text/plain": [
       "True"
      ]
     },
     "metadata": {},
     "execution_count": 7
    }
   ],
   "metadata": {}
  },
  {
   "cell_type": "markdown",
   "source": [],
   "metadata": {}
  },
  {
   "cell_type": "markdown",
   "source": [],
   "metadata": {}
  }
 ],
 "metadata": {
  "orig_nbformat": 4,
  "language_info": {
   "name": "python",
   "version": "3.10.4",
   "mimetype": "text/x-python",
   "codemirror_mode": {
    "name": "ipython",
    "version": 3
   },
   "pygments_lexer": "ipython3",
   "nbconvert_exporter": "python",
   "file_extension": ".py"
  },
  "kernelspec": {
   "name": "python3",
   "display_name": "Python 3.10.4 64-bit (windows store)"
  },
  "interpreter": {
   "hash": "ce1c64e12b598120b40e7cbc4a0f8734e11b17a0d7db6c579e54b529b59b5541"
  }
 },
 "nbformat": 4,
 "nbformat_minor": 2
}