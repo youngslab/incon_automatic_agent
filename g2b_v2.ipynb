{
 "cells": [
  {
   "cell_type": "code",
   "execution_count": 26,
   "metadata": {},
   "outputs": [
    {
     "name": "stdout",
     "output_type": "stream",
     "text": [
      "The autoreload extension is already loaded. To reload it, use:\n",
      "  %reload_ext autoreload\n"
     ]
    }
   ],
   "source": [
    "# don't need to load extension everytime. \n",
    "%load_ext autoreload \n",
    "\n",
    "# This needs to be executed everytime.  \n",
    "%autoreload 2"
   ]
  },
  {
   "cell_type": "code",
   "execution_count": 27,
   "metadata": {},
   "outputs": [],
   "source": [
    "from automatic.utils.logger import init_logger\n",
    "import logging\n",
    "\n",
    "init_logger(logging.DEBUG)"
   ]
  },
  {
   "cell_type": "code",
   "execution_count": 28,
   "metadata": {},
   "outputs": [],
   "source": [
    "import automatic.selenium as s\n",
    "drv = s.create_driver()"
   ]
  },
  {
   "cell_type": "code",
   "execution_count": 29,
   "metadata": {},
   "outputs": [],
   "source": [
    "\n",
    "# This needs to be executed everytime.  \n",
    "%autoreload 2\n",
    "\n",
    "from org.g2b_v2.g2b_v2 import G2B_v2\n",
    "import account\n",
    "pw=account.account_get(\"g2b\", \"pw\")\n",
    "id=account.account_get(\"g2b\", \"id\")\n",
    "\n",
    "g2b = G2B_v2(drv, pw, id)\n"
   ]
  },
  {
   "cell_type": "code",
   "execution_count": 30,
   "metadata": {},
   "outputs": [
    {
     "name": "stderr",
     "output_type": "stream",
     "text": [
      "2024-03-09 16:52:43,174 - G2B - INFO - 로그인\n",
      "2024-03-09 16:52:43,176 - Automatic - DEBUG - go on G2B 홈페이지\n",
      "2024-03-09 16:52:44,531 - Automatic - DEBUG - click on 지문인식 예외적용 버튼\n",
      "2024-03-09 16:52:56,448 - Automatic - DEBUG - click on 로그인버튼\n",
      "2024-03-09 16:52:57,404 - Automatic - DEBUG - accept on 팝업\n",
      "2024-03-09 16:53:04,482 - G2B - INFO - 인증서 로그인(기업)\n",
      "2024-03-09 16:53:04,484 - Automatic - DEBUG - type on 패스워드 입력상자\n",
      "2024-03-09 16:53:12,112 - Automatic - DEBUG - click on 인증서 확인 버튼\n",
      "2024-03-09 16:53:18,568 - G2B - INFO - 주민번호 입력\n",
      "2024-03-09 16:53:18,570 - Automatic - DEBUG - type on 주민번호 앞자리 상자\n",
      "2024-03-09 16:53:23,258 - Automatic - DEBUG - type on 주민번호 둣자리 상자\n",
      "2024-03-09 16:53:23,635 - G2B - INFO - 인증서 로그인(개인)\n",
      "2024-03-09 16:53:23,636 - Automatic - DEBUG - click on 확인버튼\n",
      "2024-03-09 16:53:23,643 - Automatic - DEBUG - type on 패스워드 입력상자\n",
      "2024-03-09 16:53:33,439 - Automatic - DEBUG - click on 인증서 확인 버튼\n",
      "2024-03-09 16:53:42,693 - G2B - INFO - 예외적용자 확인\n",
      "2024-03-09 16:53:42,696 - Automatic - DEBUG - click on 확인버튼\n"
     ]
    }
   ],
   "source": [
    "\n",
    "g2b.login()"
   ]
  },
  {
   "cell_type": "code",
   "execution_count": 31,
   "metadata": {},
   "outputs": [
    {
     "name": "stderr",
     "output_type": "stream",
     "text": [
      "2024-03-09 16:53:44,817 - G2B - INFO - 사전등록: ['5313161501']\n",
      "2024-03-09 16:53:44,820 - G2B - INFO - 마이페이지로 이동\n",
      "2024-03-09 16:53:44,823 - Automatic - DEBUG - go on 마이페이지\n",
      "2024-03-09 16:53:52,854 - Automatic - DEBUG - click on 에디트 버트\n",
      "2024-03-09 16:53:56,174 - Automatic - DEBUG - table on 공급품목표\n",
      "2024-03-09 16:53:56,679 - G2B - INFO - 이미 등록되었습니다.\n"
     ]
    }
   ],
   "source": [
    "g2b.register(\"5313161501\")"
   ]
  },
  {
   "cell_type": "code",
   "execution_count": 36,
   "metadata": {},
   "outputs": [
    {
     "name": "stderr",
     "output_type": "stream",
     "text": [
      "2024-03-09 17:01:10,288 - G2B - INFO - 물품등록. code=20240301181-00, price=14497018.\n",
      "2024-03-09 17:01:10,290 - G2B - INFO - 물품 검색\n",
      "2024-03-09 17:01:10,291 - Automatic - DEBUG - click on 입찰정보버튼\n",
      "2024-03-09 17:01:12,041 - Automatic - DEBUG - type on 입찰번호 입력상자\n",
      "2024-03-09 17:01:17,629 - Automatic - DEBUG - click on 검색버튼\n",
      "2024-03-09 17:01:18,530 - Automatic - DEBUG - click on 지문투찰버튼\n",
      "2024-03-09 17:01:22,356 - Automatic - DEBUG - click on 투찰 링크\n",
      "2024-03-09 17:01:23,858 - Automatic - DEBUG - exist on 접수완료 메세지\n",
      "2024-03-09 17:01:24,323 - Automatic - DEBUG - click on 닫기버튼\n",
      "2024-03-09 17:01:24,689 - G2B - INFO - 이미 등록이 완료 되었습니다.\n"
     ]
    },
    {
     "data": {
      "text/plain": [
       "True"
      ]
     },
     "execution_count": 36,
     "metadata": {},
     "output_type": "execute_result"
    }
   ],
   "source": [
    "\n",
    "# 입찰정보 click \n",
    "g2b.participate(\"20240301181-00\", \"14497018\")"
   ]
  }
 ],
 "metadata": {
  "kernelspec": {
   "display_name": "Python 3.10.8 64-bit (microsoft store)",
   "language": "python",
   "name": "python3"
  },
  "language_info": {
   "codemirror_mode": {
    "name": "ipython",
    "version": 3
   },
   "file_extension": ".py",
   "mimetype": "text/x-python",
   "name": "python",
   "nbconvert_exporter": "python",
   "pygments_lexer": "ipython3",
   "version": "3.11.8"
  },
  "orig_nbformat": 4,
  "vscode": {
   "interpreter": {
    "hash": "140d6880638af8c011551f0c48a660151749c27ccfb9a61f6d950e57001cc277"
   }
  }
 },
 "nbformat": 4,
 "nbformat_minor": 2
}
