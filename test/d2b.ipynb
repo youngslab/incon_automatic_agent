{
 "cells": [
  {
   "attachments": {},
   "cell_type": "markdown",
   "metadata": {},
   "source": [
    "# 국방조달"
   ]
  },
  {
   "cell_type": "code",
   "execution_count": 8,
   "metadata": {},
   "outputs": [
    {
     "name": "stdout",
     "output_type": "stream",
     "text": [
      "The autoreload extension is already loaded. To reload it, use:\n",
      "  %reload_ext autoreload\n"
     ]
    }
   ],
   "source": [
    "# don't need to load extension everytime. \n",
    "%load_ext autoreload \n",
    "\n",
    "# This needs to be executed everytime.  \n",
    "%autoreload 2\n"
   ]
  },
  {
   "cell_type": "code",
   "execution_count": 9,
   "metadata": {},
   "outputs": [],
   "source": [
    "import os\n",
    "import sys\n",
    "\n",
    "# 현재 작업 디렉토리 가져오기\n",
    "current_directory = os.getcwd()\n",
    "\n",
    "# fmt: off\n",
    "module_directory = os.path.join(\n",
    "    current_directory, \"..\",\"thirdparty\", \"automatic\")\n",
    "if module_directory not in sys.path:\n",
    "    sys.path.append(module_directory)\n",
    "\n",
    "sys.path.append(os.path.join(current_directory, \"..\"))"
   ]
  },
  {
   "cell_type": "code",
   "execution_count": 10,
   "metadata": {},
   "outputs": [],
   "source": [
    "import automatic.selenium as s\n",
    "drv = s.create_driver()"
   ]
  },
  {
   "cell_type": "code",
   "execution_count": 11,
   "metadata": {},
   "outputs": [],
   "source": [
    "import automatic.utils\n",
    "import logging\n",
    "automatic.utils.Logger.init(automatic.utils.LOGGER_AUTOMATIC, logging.DEBUG)"
   ]
  },
  {
   "cell_type": "code",
   "execution_count": 12,
   "metadata": {},
   "outputs": [],
   "source": [
    "\n",
    "\n",
    "from org.d2b.d2b_v2 import D2B\n",
    "from account import account_get\n",
    "d2b_id = account_get(\"d2b\", \"id\")\n",
    "d2b_pw = account_get(\"d2b\", \"pw\")\n",
    "d2b_cert = account_get(\"d2b\", \"cert\")\n",
    "d2b = D2B(drv, d2b_id, d2b_pw, d2b_cert)\n",
    "\n"
   ]
  },
  {
   "cell_type": "code",
   "execution_count": 16,
   "metadata": {},
   "outputs": [
    {
     "name": "stderr",
     "output_type": "stream",
     "text": [
      "2025-03-24 22:50:35,010 - D2B - INFO - 로그인\n",
      "2025-03-24 22:50:35,024 - Automatic - DEBUG - go on 로그인 페이지. path=https://www.d2b.go.kr/index.do\n",
      "2025-03-24 22:50:36,349 - Automatic - DEBUG - exist on test. path=\n",
      "2025-03-24 22:50:39,450 - Automatic - DEBUG - exist on 로그아웃 버튼. path=_logoutBtn\n",
      "2025-03-24 22:50:42,919 - Automatic - DEBUG - ERROR: Failed to get elements.<class 'selenium.common.exceptions.TimeoutException'> Message: \n",
      "\n",
      "2025-03-24 22:50:42,922 - Automatic - DEBUG - Failed to find an element\n",
      "2025-03-24 22:50:42,925 - Automatic - DEBUG - click on 로그인 버튼. path=_mLogin\n",
      "2025-03-24 22:50:43,596 - D2B - INFO - Wait 5 secs. Too fast to login make problem.\n",
      "2025-03-24 22:50:48,600 - D2B - INFO - 로그인 - 아이디 패스워드 입력\n",
      "2025-03-24 22:50:48,602 - Automatic - DEBUG - type on 아이디 입력상자. path=_id\n",
      "2025-03-24 22:50:48,785 - Automatic - DEBUG - type on 패스워드 입력상자. path=_pw\n",
      "2025-03-24 22:50:48,959 - Automatic - DEBUG - click on 로그인 버튼. path=_loginBtn\n",
      "2025-03-24 22:50:49,066 - D2B - INFO - 로그인 - 인증서\n",
      "2025-03-24 22:50:49,067 - Automatic - DEBUG - type on 인증서 비밀번호 입력상자. path=certPwd\n",
      "2025-03-24 22:50:50,321 - Automatic - DEBUG - click on 인증서 선택 확인 버튼. path=//*[@id=\"nx-cert-select\"]/div[4]/button[1]\n",
      "2025-03-24 22:50:50,451 - Automatic - DEBUG - exist on 로그인 버튼. path=_mLogin\n",
      "2025-03-24 22:51:03,539 - Automatic - DEBUG - ERROR: Failed to get elements.<class 'selenium.common.exceptions.TimeoutException'> Message: \n",
      "\n",
      "2025-03-24 22:51:03,540 - Automatic - DEBUG - Failed to find an element\n"
     ]
    },
    {
     "data": {
      "text/plain": [
       "True"
      ]
     },
     "execution_count": 16,
     "metadata": {},
     "output_type": "execute_result"
    }
   ],
   "source": [
    "\n",
    "d2b.login()"
   ]
  },
  {
   "cell_type": "code",
   "execution_count": 7,
   "metadata": {},
   "outputs": [
    {
     "name": "stderr",
     "output_type": "stream",
     "text": [
      "2025-03-22 12:35:59,306 - D2B - INFO - 사전등록: 2025LCF003409427-01\n",
      "2025-03-22 12:35:59,307 - Automatic - DEBUG - go on 홈페이지. path=https://www.d2b.go.kr/index.do\n",
      "2025-03-22 12:36:00,013 - Automatic - DEBUG - type on 코드 검색 입력 상자. path=numb_divs\n",
      "2025-03-22 12:36:00,248 - Automatic - DEBUG - click on 검색 버튼. path=btn_search\n",
      "2025-03-22 12:36:00,649 - Automatic - DEBUG - click on 검색결과 참여링크. path=//*[@id=\"datagrid1_1_7_data\"]/span/a\n",
      "2025-03-22 12:36:02,903 - Automatic - DEBUG - click on 입찰참가신청서 작성 버튼. path=btn_join\n",
      "2025-03-22 12:36:03,287 - Automatic - DEBUG - exist on 입찰참여 팝업. path=입찰참가등록이 미완료된 건\n",
      "2025-03-22 12:36:03,801 - Automatic - DEBUG - exist on 입찰참여 완료 팝업. path=입찰참가등록이 신청 완료된 건입니다.\n",
      "2025-03-22 12:36:03,808 - D2B - INFO - 이미 참여하였습니다.\n",
      "2025-03-22 12:36:03,810 - Automatic - DEBUG - accept on 입찰참여 완료 팝업. path=입찰참가등록이 신청 완료된 건입니다.\n",
      "2025-03-22 12:36:03,820 - Automatic - DEBUG - accept: 해당 선택하신 건은 이미 입찰참가등록이 신청 완료된 건입니다. 해당건의 진행상태를 확인하세요.\n"
     ]
    },
    {
     "data": {
      "text/plain": [
       "True"
      ]
     },
     "execution_count": 7,
     "metadata": {},
     "output_type": "execute_result"
    }
   ],
   "source": [
    "\n",
    "d2b.register('2025LCF003409427-01')"
   ]
  },
  {
   "cell_type": "markdown",
   "metadata": {},
   "source": [
    "# Participate\n",
    "입찰 참여"
   ]
  },
  {
   "cell_type": "code",
   "execution_count": 19,
   "metadata": {},
   "outputs": [
    {
     "name": "stderr",
     "output_type": "stream",
     "text": [
      "2025-03-24 23:13:57,972 - D2B - INFO - 입찰참여: code=LCF0034, cost=115268533\n",
      "2025-03-24 23:13:57,975 - D2B - INFO - 사전등록이 완료된 입찰 참가 시작\n",
      "2025-03-24 23:13:57,977 - D2B - WARNING - 참가신청서 검색.\n",
      "2025-03-24 23:14:00,980 - Automatic - DEBUG - go on 물품 참가신청서 조회 페이지. path=https://www.d2b.go.kr/pdb/bid/goodsBidSubmitList.do\n",
      "2025-03-24 23:14:05,819 - Automatic - DEBUG - exist on 참가신청서 테이블. path=SBHE_DATAGRID_WHOLE_TABLE_datagrid1\n",
      "2025-03-24 23:14:06,014 - Automatic - DEBUG - table on 참가신청서 테이블. path=SBHE_DATAGRID_WHOLE_TABLE_datagrid1\n",
      "2025-03-24 23:14:06,245 - Automatic - DEBUG - go on 용역 참가신청서 조회 페이지. path=https://www.d2b.go.kr/psb/bid/serviceBidApplyList.do\n",
      "2025-03-24 23:14:10,173 - Automatic - DEBUG - exist on 참가신청서 테이블. path=SBHE_DATAGRID_WHOLE_TABLE_datagrid1\n",
      "2025-03-24 23:14:10,334 - Automatic - DEBUG - table on 참가신청서 테이블. path=SBHE_DATAGRID_WHOLE_TABLE_datagrid1\n",
      "2025-03-24 23:14:10,573 - Automatic - WARNING - Can't read table from given element. e=No tables found matching pattern '.+'\n",
      "2025-03-24 23:14:10,582 - Automatic - DEBUG - go on 입찰서제출(물품). path=https://www.d2b.go.kr/pdb/bid/goodsBidSubmitList.do\n",
      "2025-03-24 23:14:11,385 - Automatic - DEBUG - exist on 입찰서 선택. path=//tr/td[1]/div/span[contains(text(),\"LCF0034\")]\n",
      "2025-03-24 23:14:14,524 - Automatic - DEBUG - click on 입찰서 선택. path=//tr/td[1]/div/span[contains(text(),\"LCF0034\")]\n",
      "2025-03-24 23:14:18,895 - Automatic - DEBUG - click on 입찰서 작성 버튼. path=btn_bid_regi\n",
      "2025-03-24 23:14:19,626 - Automatic - DEBUG - type on 가격 입력 상자. path=bid_amnt_1\n",
      "2025-03-24 23:14:22,391 - Automatic - DEBUG - clicks on 추첨 체크박스. path=//td/input[@type=\"checkbox\"]\n",
      "2025-03-24 23:14:24,173 - Automatic - DEBUG - click on 동의 체크박스. path=c_box\n",
      "2025-03-24 23:14:24,532 - Automatic - DEBUG - click on 제출 버튼. path=btn_bid_submit\n",
      "2025-03-24 23:14:24,890 - Automatic - DEBUG - accept on . path=\n",
      "2025-03-24 23:14:24,960 - Automatic - DEBUG - accept: 반드시 상기 공고 관련 파일을 열람하시고 계약 진행 가능여부를 판단한 뒤 입찰서를 제출하기 바랍니다.\n",
      "\n",
      "※ 입찰서 제출 후 가격수정 불가, 입찰 취소시 동일건 재투찰 불가\n",
      "==============================================\n",
      "\n",
      "입찰보증금 지급 확약서에 동의하십니까?\n",
      "작성하신 입찰내역으로 입찰서를 제출합니다.\n",
      "(투찰금액 : 115,268,533 원)\n",
      "\n",
      "입찰서를 제출하시겠습니까?\n",
      "2025-03-24 23:14:24,991 - Automatic - DEBUG - click on 지문인식 예외 입찰 버튼. path=btn_bio_excp\n",
      "2025-03-24 23:14:25,470 - Automatic - DEBUG - click on HDD. path=NX_MEDIA_HDD\n",
      "2025-03-24 23:14:26,358 - Automatic - DEBUG - click on 은행. path=//td/div[contains(text(),\"은행\")]/img/..\n",
      "2025-03-24 23:14:30,488 - Automatic - DEBUG - type on 패스워드 입력상자. path=certPwd\n",
      "2025-03-24 23:14:30,744 - Automatic - DEBUG - click on 확인 버튼. path=//*[@id=\"nx-cert-select\"]/div[4]/button[1]\n",
      "2025-03-24 23:14:30,932 - Automatic - DEBUG - accept on 견적서 제출 확인. path=\n",
      "2025-03-24 23:14:32,469 - Automatic - DEBUG - accept: 입찰서(가격제안서)를 성공적으로 제출하였습니다.\n",
      "제출하신 입찰서는 입찰서조회 화면을 통해서 확인하실 수 있습니다.\n"
     ]
    },
    {
     "data": {
      "text/plain": [
       "True"
      ]
     },
     "execution_count": 19,
     "metadata": {},
     "output_type": "execute_result"
    }
   ],
   "source": [
    "# 2023UMM032323380-01 , price=  79,417,016\n",
    "# 수의LCJ0021-1-2024-00 , price=  25,690,656\n",
    "# code=2024HCF006611694-01 , price=  38,609,057 KRW\n",
    "code = \"LCF0034\"\n",
    "price = \"115268533\"\n",
    "\n",
    "d2b.participate(code,  price)"
   ]
  }
 ],
 "metadata": {
  "kernelspec": {
   "display_name": "Python 3",
   "language": "python",
   "name": "python3"
  },
  "language_info": {
   "codemirror_mode": {
    "name": "ipython",
    "version": 3
   },
   "file_extension": ".py",
   "mimetype": "text/x-python",
   "name": "python",
   "nbconvert_exporter": "python",
   "pygments_lexer": "ipython3",
   "version": "3.11.9"
  },
  "orig_nbformat": 4
 },
 "nbformat": 4,
 "nbformat_minor": 2
}
