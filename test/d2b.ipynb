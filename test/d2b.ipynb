{
 "cells": [
  {
   "attachments": {},
   "cell_type": "markdown",
   "metadata": {},
   "source": [
    "# 국방조달"
   ]
  },
  {
   "cell_type": "code",
   "execution_count": 1,
   "metadata": {},
   "outputs": [],
   "source": [
    "# don't need to load extension everytime. \n",
    "%load_ext autoreload \n",
    "\n",
    "# This needs to be executed everytime.  \n",
    "%autoreload 2\n",
    "\n",
    "import logging\n",
    "\n",
    "logging.basicConfig(level=logging.INFO)"
   ]
  },
  {
   "cell_type": "code",
   "execution_count": 2,
   "metadata": {},
   "outputs": [
    {
     "name": "stderr",
     "output_type": "stream",
     "text": [
      "INFO:WDM:====== WebDriver manager ======\n",
      "INFO:WDM:Get LATEST edgedriver version for 120.0.2210 Edge\n",
      "INFO:WDM:Driver [C:\\Users\\integ\\.wdm\\drivers\\edgedriver\\win64\\120.0.2210\\msedgedriver.exe] found in cache\n"
     ]
    }
   ],
   "source": [
    "\n",
    "\n",
    "from org.d2b.d2b import D2B\n",
    "from account import account_get\n",
    "d2b_id = account_get(\"d2b\", \"id\")\n",
    "d2b_pw = account_get(\"d2b\", \"pw\")\n",
    "d2b_user = account_get(\"d2b\", \"user\")\n",
    "d2b_cert = account_get(\"d2b\", \"cert\")\n",
    "d2b = D2B(d2b_id, d2b_pw, d2b_user, d2b_cert, headless=False)\n",
    "\n"
   ]
  },
  {
   "cell_type": "code",
   "execution_count": 3,
   "metadata": {},
   "outputs": [
    {
     "name": "stderr",
     "output_type": "stream",
     "text": [
      "INFO:d2b:Wait 5 secs. Too fast to login make problem.\n"
     ]
    },
    {
     "data": {
      "text/plain": [
       "True"
      ]
     },
     "execution_count": 3,
     "metadata": {},
     "output_type": "execute_result"
    }
   ],
   "source": [
    "\n",
    "# This needs to be executed everytime.  \n",
    "%autoreload 2\n",
    "from org.d2b.d2b import D2B\n",
    "\n",
    "d2b.login()"
   ]
  },
  {
   "cell_type": "code",
   "execution_count": 11,
   "metadata": {},
   "outputs": [
    {
     "name": "stderr",
     "output_type": "stream",
     "text": [
      "INFO:d2b:Check that popup exists.\n",
      "INFO:d2b:서약서 작성\n",
      "INFO:d2b:보증금납부 방법\n",
      "INFO:d2b:보증금 동의문\n",
      "INFO:d2b:약관 동의 체크\n",
      "INFO:d2b:신청 버튼 클릭\n",
      "INFO:d2b:인증서 로그인\n"
     ]
    },
    {
     "data": {
      "text/plain": [
       "True"
      ]
     },
     "execution_count": 11,
     "metadata": {},
     "output_type": "execute_result"
    }
   ],
   "source": [
    "from org.d2b.d2b import D2B\n",
    "d2b.register('2024SCF007300855-01')"
   ]
  },
  {
   "cell_type": "code",
   "execution_count": 6,
   "metadata": {},
   "outputs": [
    {
     "name": "stderr",
     "output_type": "stream",
     "text": [
      "INFO:d2b:사전등록이 필요없는 입찰 참가 시작\n",
      "INFO:d2b:서약서 작성\n",
      "INFO:d2b:견적서 작성\n",
      "INFO:d2b:견적금액 작성\n",
      "INFO:d2b:복수예비가격 선택: 2개\n",
      "INFO:d2b:제출 버튼 click\n",
      "INFO:d2b:# 견적서 제출 확인 popup\n",
      "INFO:d2b:지문인식 예외입찰 확인\n",
      "INFO:d2b:인증서 로그인(개인)\n"
     ]
    },
    {
     "data": {
      "text/plain": [
       "True"
      ]
     },
     "execution_count": 6,
     "metadata": {},
     "output_type": "execute_result"
    }
   ],
   "source": [
    "# 2023UMM032323380-01 , price=  79,417,016\n",
    "from org.d2b.d2b import D2B\n",
    "d2b.participate(\"수의MCT0002-1-2024-00\", \"68285696\")"
   ]
  }
 ],
 "metadata": {
  "kernelspec": {
   "display_name": "Python 3.10.9 64-bit (microsoft store)",
   "language": "python",
   "name": "python3"
  },
  "language_info": {
   "codemirror_mode": {
    "name": "ipython",
    "version": 3
   },
   "file_extension": ".py",
   "mimetype": "text/x-python",
   "name": "python",
   "nbconvert_exporter": "python",
   "pygments_lexer": "ipython3",
   "version": "3.10.11"
  },
  "orig_nbformat": 4,
  "vscode": {
   "interpreter": {
    "hash": "140d6880638af8c011551f0c48a660151749c27ccfb9a61f6d950e57001cc277"
   }
  }
 },
 "nbformat": 4,
 "nbformat_minor": 2
}
