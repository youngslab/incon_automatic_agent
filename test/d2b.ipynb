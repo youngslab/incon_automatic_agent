{
 "cells": [
  {
   "attachments": {},
   "cell_type": "markdown",
   "metadata": {},
   "source": [
    "# 국방조달"
   ]
  },
  {
   "cell_type": "code",
   "execution_count": 10,
   "metadata": {},
   "outputs": [
    {
     "name": "stdout",
     "output_type": "stream",
     "text": [
      "The autoreload extension is already loaded. To reload it, use:\n",
      "  %reload_ext autoreload\n"
     ]
    }
   ],
   "source": [
    "# don't need to load extension everytime. \n",
    "%load_ext autoreload \n",
    "\n",
    "# This needs to be executed everytime.  \n",
    "%autoreload 2\n"
   ]
  },
  {
   "cell_type": "code",
   "execution_count": 11,
   "metadata": {},
   "outputs": [],
   "source": [
    "import os\n",
    "import sys\n",
    "\n",
    "# 현재 작업 디렉토리 가져오기\n",
    "current_directory = os.getcwd()\n",
    "\n",
    "# fmt: off\n",
    "module_directory = os.path.join(\n",
    "    current_directory, \"..\",\"thirdparty\", \"automatic\")\n",
    "if module_directory not in sys.path:\n",
    "    sys.path.append(module_directory)\n",
    "\n",
    "sys.path.append(os.path.join(current_directory, \"..\"))"
   ]
  },
  {
   "cell_type": "code",
   "execution_count": null,
   "metadata": {},
   "outputs": [],
   "source": []
  },
  {
   "cell_type": "code",
   "execution_count": 12,
   "metadata": {},
   "outputs": [],
   "source": [
    "import automatic.selenium as s\n",
    "drv = s.create_driver()"
   ]
  },
  {
   "cell_type": "code",
   "execution_count": 13,
   "metadata": {},
   "outputs": [],
   "source": [
    "import automatic.utils\n",
    "import logging\n",
    "automatic.utils.Logger.init(automatic.utils.LOGGER_AUTOMATIC, logging.DEBUG)"
   ]
  },
  {
   "cell_type": "code",
   "execution_count": 14,
   "metadata": {},
   "outputs": [],
   "source": [
    "\n",
    "\n",
    "from org.d2b.d2b_v2 import D2B\n",
    "from account import account_get\n",
    "d2b_id = account_get(\"d2b\", \"id\")\n",
    "d2b_pw = account_get(\"d2b\", \"pw\")\n",
    "d2b_cert = account_get(\"d2b\", \"cert\")\n",
    "d2b = D2B(drv, d2b_id, d2b_pw, d2b_cert)\n",
    "\n"
   ]
  },
  {
   "cell_type": "code",
   "execution_count": 15,
   "metadata": {},
   "outputs": [
    {
     "name": "stderr",
     "output_type": "stream",
     "text": [
      "2024-04-02 01:22:23,352 - D2B - INFO - 로그인\n",
      "2024-04-02 01:22:23,353 - Automatic - DEBUG - go on 로그인 페이지. path=https://www.d2b.go.kr/index.do\n",
      "2024-04-02 01:22:32,682 - Automatic - DEBUG - exist on 로그아웃 버튼. path=_logoutBtn\n",
      "2024-04-02 01:22:35,915 - Automatic - DEBUG - click on 로그인 버튼. path=_mLogin\n",
      "2024-04-02 01:22:43,346 - D2B - INFO - Wait 5 secs. Too fast to login make problem.\n",
      "2024-04-02 01:22:48,348 - D2B - INFO - 로그인 - 아이디 패스워드 입력\n",
      "2024-04-02 01:22:48,348 - Automatic - DEBUG - type on 아이디 입력상자. path=_id\n",
      "2024-04-02 01:22:48,583 - Automatic - DEBUG - type on 패스워드 입력상자. path=_pw\n",
      "2024-04-02 01:22:48,801 - Automatic - DEBUG - click on 로그인 버튼. path=_loginBtn\n",
      "2024-04-02 01:22:48,896 - D2B - INFO - 로그인 - 인증서\n",
      "2024-04-02 01:22:48,898 - Automatic - DEBUG - type on 인증서 비밀번호 입력상자. path=certPwd\n",
      "2024-04-02 01:22:51,185 - Automatic - DEBUG - click on 인증서 선택 확인 버튼. path=//*[@id=\"nx-cert-select\"]/div[4]/button[1]\n"
     ]
    },
    {
     "data": {
      "text/plain": [
       "True"
      ]
     },
     "execution_count": 15,
     "metadata": {},
     "output_type": "execute_result"
    }
   ],
   "source": [
    "\n",
    "d2b.login()"
   ]
  },
  {
   "cell_type": "code",
   "execution_count": 33,
   "metadata": {},
   "outputs": [
    {
     "name": "stderr",
     "output_type": "stream",
     "text": [
      "2024-03-30 18:27:50,858 - D2B - INFO - 사전등록: 2024HCF006611694-01\n",
      "2024-03-30 18:27:50,860 - Automatic - DEBUG - go on 홈페이지. path=https://www.d2b.go.kr/index.do\n",
      "2024-03-30 18:27:52,961 - Automatic - DEBUG - type on 코드 검색 입력 상자. path=numb_divs\n",
      "2024-03-30 18:27:53,365 - Automatic - DEBUG - click on 검색 버튼. path=btn_search\n",
      "2024-03-30 18:27:54,097 - Automatic - DEBUG - click on 검색결과 참여링크. path=//*[@id=\"datagrid1_1_7_data\"]/span/a\n",
      "2024-03-30 18:27:59,364 - Automatic - DEBUG - click on 입찰참가신청서 작성 버튼. path=btn_join\n",
      "2024-03-30 18:28:00,208 - Automatic - DEBUG - exist on 입찰참여 팝업. path=입찰참가등록이 미완료된 건\n",
      "2024-03-30 18:28:00,721 - Automatic - DEBUG - exist on 입찰참여 완료 팝업. path=\n",
      "2024-03-30 18:28:00,731 - D2B - INFO - 이미 참여하였습니다.\n",
      "2024-03-30 18:28:00,734 - Automatic - DEBUG - accept on 입찰참여 완료 팝업. path=\n",
      "2024-03-30 18:28:00,744 - Automatic - DEBUG - accept: 해당 선택하신 건은 이미 입찰참가등록이 신청 완료된 건입니다. 해당건의 진행상태를 확인하세요.\n"
     ]
    },
    {
     "data": {
      "text/plain": [
       "True"
      ]
     },
     "execution_count": 33,
     "metadata": {},
     "output_type": "execute_result"
    }
   ],
   "source": [
    "\n",
    "d2b.register('2024HCF006611694-01')"
   ]
  },
  {
   "cell_type": "code",
   "execution_count": 46,
   "metadata": {},
   "outputs": [
    {
     "ename": "AttributeError",
     "evalue": "'str' object has no attribute 'contains'",
     "output_type": "error",
     "traceback": [
      "\u001b[1;31m---------------------------------------------------------------------------\u001b[0m",
      "\u001b[1;31mAttributeError\u001b[0m                            Traceback (most recent call last)",
      "Cell \u001b[1;32mIn[46], line 5\u001b[0m\n\u001b[0;32m      1\u001b[0m \u001b[38;5;66;03m# regs[regs.iloc[:2].str.contains(\"UMM03230\")]\u001b[39;00m\n\u001b[0;32m      2\u001b[0m \u001b[38;5;66;03m# regs[(regs[1].str.contains(\"UMM0323\"))]\u001b[39;00m\n\u001b[0;32m      3\u001b[0m \u001b[38;5;66;03m# regs[1].str.contains(\"UMM0323\")\u001b[39;00m\n\u001b[0;32m      4\u001b[0m res \u001b[38;5;241m=\u001b[39m regs[(regs[\u001b[38;5;241m1\u001b[39m]\u001b[38;5;241m.\u001b[39mnotna()) \u001b[38;5;241m&\u001b[39m (regs[\u001b[38;5;241m1\u001b[39m]\u001b[38;5;241m.\u001b[39mstr\u001b[38;5;241m.\u001b[39mcontains(\u001b[38;5;124m\"\u001b[39m\u001b[38;5;124mUMM0323\u001b[39m\u001b[38;5;124m\"\u001b[39m))] \n\u001b[1;32m----> 5\u001b[0m \u001b[43mres\u001b[49m\u001b[38;5;241;43m.\u001b[39;49m\u001b[43miloc\u001b[49m\u001b[43m[\u001b[49m\u001b[38;5;241;43m0\u001b[39;49m\u001b[43m,\u001b[49m\u001b[38;5;241;43m6\u001b[39;49m\u001b[43m]\u001b[49m\u001b[38;5;241;43m.\u001b[39;49m\u001b[43mcontains\u001b[49m(\u001b[38;5;124m\"\u001b[39m\u001b[38;5;124m투찰가능\u001b[39m\u001b[38;5;124m\"\u001b[39m)\n\u001b[0;32m      6\u001b[0m \u001b[38;5;66;03m# if \"투찰가능\" in res.iloc[0,6]:\u001b[39;00m\n\u001b[0;32m      7\u001b[0m \u001b[38;5;66;03m#     print(\"ok\")\u001b[39;00m\n\u001b[0;32m      8\u001b[0m \u001b[38;5;66;03m# else:\u001b[39;00m\n\u001b[0;32m      9\u001b[0m \u001b[38;5;66;03m#     print(res.iloc[0,6])\u001b[39;00m\n",
      "\u001b[1;31mAttributeError\u001b[0m: 'str' object has no attribute 'contains'"
     ]
    }
   ],
   "source": [
    "# regs[regs.iloc[:2].str.contains(\"UMM03230\")]\n",
    "# regs[(regs[1].str.contains(\"UMM0323\"))]\n",
    "# regs[1].str.contains(\"UMM0323\")\n",
    "res = regs[(regs[1].notna()) & (regs[1].str.contains(\"UMM0323\"))] \n",
    "if \"투찰가능\" in res.iloc[0,6]:\n",
    "#     print(\"ok\")\n",
    "# else:\n",
    "#     print(res.iloc[0,6])"
   ]
  },
  {
   "cell_type": "code",
   "execution_count": 20,
   "metadata": {},
   "outputs": [
    {
     "name": "stderr",
     "output_type": "stream",
     "text": [
      "2024-04-02 01:36:44,852 - D2B - INFO - 입찰참여: code=UMM0323, cost=65,610,617\n",
      "2024-04-02 01:36:44,854 - Automatic - DEBUG - go on 물품 참가신청서 조회 페이지. path=https://www.d2b.go.kr/pdb/bid/goodsBidApplyList.do?key=130&pageDivs=G\n",
      "2024-04-02 01:36:51,150 - Automatic - DEBUG - table on 참가신청서 테이블. path=SBHE_DATAGRID_WHOLE_TABLE_datagrid1\n",
      "2024-04-02 01:36:51,274 - Automatic - DEBUG - go on 용역 참가신청서 조회 페이지. path=https://www.d2b.go.kr/psb/bid/serviceBidApplyList.do\n",
      "2024-04-02 01:36:55,883 - Automatic - DEBUG - table on 참가신청서 테이블. path=SBHE_DATAGRID_WHOLE_TABLE_datagrid1\n",
      "2024-04-02 01:36:56,026 - Automatic - DEBUG - go on 입찰서제출(물품). path=https://www.d2b.go.kr/pdb/bid/goodsBidSubmitList.do?key=132\n",
      "2024-04-02 01:36:57,936 - Automatic - DEBUG - exist on 입찰서 선택. path=//tr/td[1]/div/span[contains(text(),\"UMM0323\")]\n",
      "2024-04-02 01:37:18,145 - Automatic - DEBUG - go on 입찰서제출(용역). path=https://www.d2b.go.kr/pdb/bid/serviceBidSubmitList.do?key=132\n",
      "2024-04-02 01:37:21,495 - Automatic - DEBUG - click on 입찰서 선택. path=//tr/td[1]/div/span[contains(text(),\"UMM0323\")]\n",
      "2024-04-02 01:37:44,035 - Automatic - DEBUG - click on 입찰서 작성 버튼. path=btn_bid_regi\n",
      "2024-04-02 01:37:44,692 - Automatic - DEBUG - type on 가격 입력 상자. path=bid_amnt_1\n",
      "2024-04-02 01:37:48,880 - Automatic - DEBUG - clicks on 추첨 체크박스. path=//td/input[@type=\"checkbox\"]\n",
      "2024-04-02 01:37:50,411 - Automatic - DEBUG - click on 동의 체크박스. path=c_box\n",
      "2024-04-02 01:37:50,650 - Automatic - DEBUG - click on 제출 버튼. path=btn_bid_submit\n",
      "2024-04-02 01:37:50,969 - Automatic - DEBUG - accept on . path=\n",
      "2024-04-02 01:37:50,998 - Automatic - DEBUG - accept: 반드시 상기 공고 관련 파일을 열람하시고 계약 진행 가능여부를 판단한 뒤 입찰서를 제출하기 바랍니다.\n",
      "\n",
      "※ 입찰서 제출 후 가격수정 불가, 입찰 취소시 동일건 재투찰 불가\n",
      "==============================================\n",
      "\n",
      "입찰보증금 지급 확약서에 동의하십니까?\n",
      "작성하신 입찰내역으로 입찰서를 제출합니다.\n",
      "(투찰금액 : 65,610,617 원)\n",
      "\n",
      "입찰서를 제출하시겠습니까?\n",
      "2024-04-02 01:37:51,009 - Automatic - DEBUG - click on 지문인식 예외 입찰 버튼. path=btn_bio_excp\n",
      "2024-04-02 01:37:51,654 - Automatic - DEBUG - click on HDD. path=NX_MEDIA_HDD\n",
      "2024-04-02 01:37:52,377 - Automatic - DEBUG - click on 은행. path=//td/div[contains(text(),\"은행\")]/img/..\n",
      "2024-04-02 01:37:56,119 - Automatic - DEBUG - type on 패스워드 입력상자. path=certPwd\n",
      "2024-04-02 01:37:56,409 - Automatic - DEBUG - click on 확인 버튼. path=//*[@id=\"nx-cert-select\"]/div[4]/button[1]\n",
      "2024-04-02 01:37:56,568 - Automatic - DEBUG - accept on 견적서 제출 확인. path=\n",
      "2024-04-02 01:37:58,642 - Automatic - DEBUG - accept: 입찰서(가격제안서)를 성공적으로 제출하였습니다.\n",
      "제출하신 입찰서는 입찰서조회 화면을 통해서 확인하실 수 있습니다.\n"
     ]
    },
    {
     "data": {
      "text/plain": [
       "True"
      ]
     },
     "execution_count": 20,
     "metadata": {},
     "output_type": "execute_result"
    }
   ],
   "source": [
    "# 2023UMM032323380-01 , price=  79,417,016\n",
    "# 수의LCJ0021-1-2024-00 , price=  25,690,656\n",
    "# code=2024HCF006611694-01 , price=  38,609,057 KRW\n",
    "d2b.participate(\"2024UMM032305368-01\",  \"65,610,617\")"
   ]
  }
 ],
 "metadata": {
  "kernelspec": {
   "display_name": "Python 3",
   "language": "python",
   "name": "python3"
  },
  "language_info": {
   "codemirror_mode": {
    "name": "ipython",
    "version": 3
   },
   "file_extension": ".py",
   "mimetype": "text/x-python",
   "name": "python",
   "nbconvert_exporter": "python",
   "pygments_lexer": "ipython3",
   "version": "3.11.9"
  },
  "orig_nbformat": 4
 },
 "nbformat": 4,
 "nbformat_minor": 2
}
