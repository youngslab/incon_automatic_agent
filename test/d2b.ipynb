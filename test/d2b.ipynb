{
 "cells": [
  {
   "attachments": {},
   "cell_type": "markdown",
   "metadata": {},
   "source": [
    "# 국방조달"
   ]
  },
  {
   "cell_type": "markdown",
   "metadata": {},
   "source": [
    "## 현재 셀까지 실행하는 단축키\n",
    "\n",
    "- **Windows/Linux:** <kbd>Ctrl</kbd> + <kbd>Alt</kbd> + <kbd>Enter</kbd>\n",
    "- **Mac:** <kbd>Cmd</kbd> + <kbd>Option</kbd> + <kbd>Enter</kbd>\n",
    "\n",
    "또는 메뉴에서 `Cell` > `Run All Above` 를 선택해도 됩니다."
   ]
  },
  {
   "cell_type": "code",
   "execution_count": 2,
   "metadata": {},
   "outputs": [],
   "source": [
    "# don't need to load extension everytime. \n",
    "%load_ext autoreload \n",
    "\n",
    "# This needs to be executed everytime.  \n",
    "%autoreload 2\n"
   ]
  },
  {
   "cell_type": "code",
   "execution_count": 1,
   "metadata": {},
   "outputs": [],
   "source": [
    "import os\n",
    "import sys\n",
    "\n",
    "# 현재 작업 디렉토리 가져오기\n",
    "current_directory = os.getcwd()\n",
    "\n",
    "# fmt: off\n",
    "module_directory = os.path.join(\n",
    "    current_directory, \"..\",\"thirdparty\", \"automatic\")\n",
    "if module_directory not in sys.path:\n",
    "    sys.path.append(module_directory)\n",
    "\n",
    "sys.path.append(os.path.join(current_directory, \"..\"))\n",
    "\n",
    "\n",
    "# Logger\n",
    "import automatic.utils\n",
    "import logging\n",
    "automatic.utils.Logger.init(automatic.utils.LOGGER_AUTOMATIC, logging.DEBUG)"
   ]
  },
  {
   "cell_type": "code",
   "execution_count": null,
   "metadata": {},
   "outputs": [],
   "source": [
    "automatic.utils.Logger.init(\"D2B\", logging.DEBUG)"
   ]
  },
  {
   "cell_type": "code",
   "execution_count": 3,
   "metadata": {},
   "outputs": [],
   "source": [
    "import automatic.selenium as s\n",
    "drv = s.create_driver()"
   ]
  },
  {
   "cell_type": "code",
   "execution_count": 4,
   "metadata": {},
   "outputs": [],
   "source": [
    "\n",
    "from org.markets import MarketFactory\n",
    "\n",
    "d2b = MarketFactory.create(drv, \"국방전자조달\")\n",
    "\n"
   ]
  },
  {
   "cell_type": "code",
   "execution_count": 6,
   "metadata": {},
   "outputs": [
    {
     "name": "stderr",
     "output_type": "stream",
     "text": [
      "2025-04-19 14:54:33,344 - Automatic - DEBUG - go on 로그인 페이지. path=https://www.d2b.go.kr/index.do\n",
      "2025-04-19 14:54:34,475 - Automatic - DEBUG - exist on test. path=\n",
      "2025-04-19 14:54:34,475 - Automatic - DEBUG - exist on test. path=\n",
      "2025-04-19 14:54:37,507 - Automatic - DEBUG - exist on 로그아웃 버튼. path=_logoutBtn\n",
      "2025-04-19 14:54:37,507 - Automatic - DEBUG - exist on 로그아웃 버튼. path=_logoutBtn\n",
      "2025-04-19 14:54:40,599 - Automatic - DEBUG - ERROR: Failed to get elements.<class 'selenium.common.exceptions.TimeoutException'> Message: \n",
      "\n",
      "2025-04-19 14:54:40,600 - Automatic - DEBUG - Failed to find an element\n",
      "2025-04-19 14:54:40,601 - Automatic - DEBUG - click on 로그인 버튼. path=_mLogin\n",
      "2025-04-19 14:54:40,599 - Automatic - DEBUG - ERROR: Failed to get elements.<class 'selenium.common.exceptions.TimeoutException'> Message: \n",
      "\n",
      "2025-04-19 14:54:40,600 - Automatic - DEBUG - Failed to find an element\n",
      "2025-04-19 14:54:40,601 - Automatic - DEBUG - click on 로그인 버튼. path=_mLogin\n",
      "2025-04-19 14:54:46,027 - Automatic - DEBUG - type on 아이디 입력상자. path=_id\n",
      "2025-04-19 14:54:46,027 - Automatic - DEBUG - type on 아이디 입력상자. path=_id\n",
      "2025-04-19 14:54:46,210 - Automatic - DEBUG - type on 패스워드 입력상자. path=_pw\n",
      "2025-04-19 14:54:46,210 - Automatic - DEBUG - type on 패스워드 입력상자. path=_pw\n",
      "2025-04-19 14:54:46,362 - Automatic - DEBUG - click on 로그인 버튼. path=_loginBtn\n",
      "2025-04-19 14:54:46,362 - Automatic - DEBUG - click on 로그인 버튼. path=_loginBtn\n",
      "2025-04-19 14:54:46,471 - Automatic - DEBUG - type on 인증서 비밀번호 입력상자. path=certPwd\n",
      "2025-04-19 14:54:46,471 - Automatic - DEBUG - type on 인증서 비밀번호 입력상자. path=certPwd\n",
      "2025-04-19 14:54:47,659 - Automatic - DEBUG - click on 인증서 선택 확인 버튼. path=//*[@id=\"nx-cert-select\"]/div[4]/button[1]\n",
      "2025-04-19 14:54:47,659 - Automatic - DEBUG - click on 인증서 선택 확인 버튼. path=//*[@id=\"nx-cert-select\"]/div[4]/button[1]\n",
      "2025-04-19 14:54:47,793 - Automatic - DEBUG - exist on 로그인 버튼. path=_mLogin\n",
      "2025-04-19 14:54:47,793 - Automatic - DEBUG - exist on 로그인 버튼. path=_mLogin\n",
      "2025-04-19 14:55:00,911 - Automatic - DEBUG - ERROR: Failed to get elements.<class 'selenium.common.exceptions.TimeoutException'> Message: \n",
      "\n",
      "2025-04-19 14:55:00,912 - Automatic - DEBUG - Failed to find an element\n",
      "2025-04-19 14:55:00,911 - Automatic - DEBUG - ERROR: Failed to get elements.<class 'selenium.common.exceptions.TimeoutException'> Message: \n",
      "\n",
      "2025-04-19 14:55:00,912 - Automatic - DEBUG - Failed to find an element\n"
     ]
    }
   ],
   "source": [
    "\n",
    "d2b.login()"
   ]
  },
  {
   "cell_type": "code",
   "execution_count": 7,
   "metadata": {},
   "outputs": [
    {
     "name": "stderr",
     "output_type": "stream",
     "text": [
      "2025-03-22 12:35:59,306 - D2B - INFO - 사전등록: 2025LCF003409427-01\n",
      "2025-03-22 12:35:59,307 - Automatic - DEBUG - go on 홈페이지. path=https://www.d2b.go.kr/index.do\n",
      "2025-03-22 12:36:00,013 - Automatic - DEBUG - type on 코드 검색 입력 상자. path=numb_divs\n",
      "2025-03-22 12:36:00,248 - Automatic - DEBUG - click on 검색 버튼. path=btn_search\n",
      "2025-03-22 12:36:00,649 - Automatic - DEBUG - click on 검색결과 참여링크. path=//*[@id=\"datagrid1_1_7_data\"]/span/a\n",
      "2025-03-22 12:36:02,903 - Automatic - DEBUG - click on 입찰참가신청서 작성 버튼. path=btn_join\n",
      "2025-03-22 12:36:03,287 - Automatic - DEBUG - exist on 입찰참여 팝업. path=입찰참가등록이 미완료된 건\n",
      "2025-03-22 12:36:03,801 - Automatic - DEBUG - exist on 입찰참여 완료 팝업. path=입찰참가등록이 신청 완료된 건입니다.\n",
      "2025-03-22 12:36:03,808 - D2B - INFO - 이미 참여하였습니다.\n",
      "2025-03-22 12:36:03,810 - Automatic - DEBUG - accept on 입찰참여 완료 팝업. path=입찰참가등록이 신청 완료된 건입니다.\n",
      "2025-03-22 12:36:03,820 - Automatic - DEBUG - accept: 해당 선택하신 건은 이미 입찰참가등록이 신청 완료된 건입니다. 해당건의 진행상태를 확인하세요.\n"
     ]
    },
    {
     "data": {
      "text/plain": [
       "True"
      ]
     },
     "execution_count": 7,
     "metadata": {},
     "output_type": "execute_result"
    }
   ],
   "source": [
    "\n",
    "d2b.register('2025LCF003409427-01')"
   ]
  },
  {
   "cell_type": "markdown",
   "metadata": {},
   "source": [
    "# Participate\n",
    "입찰 참여"
   ]
  },
  {
   "cell_type": "code",
   "execution_count": 14,
   "metadata": {},
   "outputs": [
    {
     "name": "stderr",
     "output_type": "stream",
     "text": [
      "참가신청서 검색.\n",
      "2025-04-19 15:21:08,062 - Automatic - DEBUG - go on 물품 참가신청서 조회 페이지. path=https://www.d2b.go.kr/pdb/bid/goodsBidSubmitList.do\n",
      "2025-04-19 15:21:08,062 - Automatic - DEBUG - go on 물품 참가신청서 조회 페이지. path=https://www.d2b.go.kr/pdb/bid/goodsBidSubmitList.do\n",
      "2025-04-19 15:21:11,967 - Automatic - DEBUG - exist on 참가신청서 테이블. path=SBHE_DATAGRID_WHOLE_TABLE_datagrid1\n",
      "2025-04-19 15:21:11,967 - Automatic - DEBUG - exist on 참가신청서 테이블. path=SBHE_DATAGRID_WHOLE_TABLE_datagrid1\n",
      "2025-04-19 15:21:12,020 - Automatic - DEBUG - table on 참가신청서 테이블. path=SBHE_DATAGRID_WHOLE_TABLE_datagrid1\n",
      "2025-04-19 15:21:12,020 - Automatic - DEBUG - table on 참가신청서 테이블. path=SBHE_DATAGRID_WHOLE_TABLE_datagrid1\n",
      "2025-04-19 15:21:12,098 - Automatic - DEBUG - go on 용역 참가신청서 조회 페이지. path=https://www.d2b.go.kr/psb/bid/serviceBidApplyList.do\n",
      "2025-04-19 15:21:12,098 - Automatic - DEBUG - go on 용역 참가신청서 조회 페이지. path=https://www.d2b.go.kr/psb/bid/serviceBidApplyList.do\n",
      "2025-04-19 15:21:15,716 - Automatic - DEBUG - exist on 참가신청서 테이블. path=SBHE_DATAGRID_WHOLE_TABLE_datagrid1\n",
      "2025-04-19 15:21:15,716 - Automatic - DEBUG - exist on 참가신청서 테이블. path=SBHE_DATAGRID_WHOLE_TABLE_datagrid1\n",
      "2025-04-19 15:21:15,754 - Automatic - DEBUG - table on 참가신청서 테이블. path=SBHE_DATAGRID_WHOLE_TABLE_datagrid1\n",
      "2025-04-19 15:21:15,754 - Automatic - DEBUG - table on 참가신청서 테이블. path=SBHE_DATAGRID_WHOLE_TABLE_datagrid1\n",
      "2025-04-19 15:21:15,817 - Automatic - WARNING - Can't read table from given element. e=No tables found matching pattern '.+'\n",
      "2025-04-19 15:21:15,817 - Automatic - WARNING - Can't read table from given element. e=No tables found matching pattern '.+'\n"
     ]
    },
    {
     "data": {
      "text/plain": [
       "True"
      ]
     },
     "execution_count": 14,
     "metadata": {},
     "output_type": "execute_result"
    }
   ],
   "source": [
    "# 2023UMM032323380-01 , price=  79,417,016\n",
    "# 수의LCJ0021-1-2024-00 , price=  25,690,656\n",
    "# code=2024HCF006611694-01 , price=  38,609,057 KRW\n",
    "\n",
    "code=\"10826\"\n",
    "price=\"32565082\"\n",
    "\n",
    "d2b.participate(code,  price)"
   ]
  },
  {
   "cell_type": "code",
   "execution_count": 11,
   "metadata": {},
   "outputs": [
    {
     "name": "stderr",
     "output_type": "stream",
     "text": [
      "2025-04-19 15:16:19,629 - Automatic - DEBUG - go on 물품 참가신청서 조회 페이지. path=https://www.d2b.go.kr/pdb/bid/goodsBidSubmitList.do\n",
      "2025-04-19 15:16:23,773 - Automatic - DEBUG - exist on 참가신청서 테이블. path=SBHE_DATAGRID_WHOLE_TABLE_datagrid1\n",
      "2025-04-19 15:16:23,773 - Automatic - DEBUG - exist on 참가신청서 테이블. path=SBHE_DATAGRID_WHOLE_TABLE_datagrid1\n",
      "2025-04-19 15:16:23,830 - Automatic - DEBUG - table on 참가신청서 테이블. path=SBHE_DATAGRID_WHOLE_TABLE_datagrid1\n",
      "2025-04-19 15:16:23,830 - Automatic - DEBUG - table on 참가신청서 테이블. path=SBHE_DATAGRID_WHOLE_TABLE_datagrid1\n",
      "2025-04-19 15:16:23,892 - Automatic - DEBUG - go on 용역 참가신청서 조회 페이지. path=https://www.d2b.go.kr/psb/bid/serviceBidApplyList.do\n",
      "2025-04-19 15:16:23,892 - Automatic - DEBUG - go on 용역 참가신청서 조회 페이지. path=https://www.d2b.go.kr/psb/bid/serviceBidApplyList.do\n",
      "2025-04-19 15:16:27,388 - Automatic - DEBUG - exist on 참가신청서 테이블. path=SBHE_DATAGRID_WHOLE_TABLE_datagrid1\n",
      "2025-04-19 15:16:27,388 - Automatic - DEBUG - exist on 참가신청서 테이블. path=SBHE_DATAGRID_WHOLE_TABLE_datagrid1\n",
      "2025-04-19 15:16:27,426 - Automatic - DEBUG - table on 참가신청서 테이블. path=SBHE_DATAGRID_WHOLE_TABLE_datagrid1\n",
      "2025-04-19 15:16:27,426 - Automatic - DEBUG - table on 참가신청서 테이블. path=SBHE_DATAGRID_WHOLE_TABLE_datagrid1\n",
      "2025-04-19 15:16:27,480 - Automatic - WARNING - Can't read table from given element. e=No tables found matching pattern '.+'\n",
      "2025-04-19 15:16:27,480 - Automatic - WARNING - Can't read table from given element. e=No tables found matching pattern '.+'\n"
     ]
    }
   ],
   "source": [
    "t = d2b.get_pre_registration_table()"
   ]
  },
  {
   "cell_type": "code",
   "execution_count": 12,
   "metadata": {},
   "outputs": [
    {
     "data": {
      "text/html": [
       "<div>\n",
       "<style scoped>\n",
       "    .dataframe tbody tr th:only-of-type {\n",
       "        vertical-align: middle;\n",
       "    }\n",
       "\n",
       "    .dataframe tbody tr th {\n",
       "        vertical-align: top;\n",
       "    }\n",
       "\n",
       "    .dataframe thead th {\n",
       "        text-align: right;\n",
       "    }\n",
       "</style>\n",
       "<table border=\"1\" class=\"dataframe\">\n",
       "  <thead>\n",
       "    <tr style=\"text-align: right;\">\n",
       "      <th></th>\n",
       "      <th>0</th>\n",
       "      <th>1</th>\n",
       "      <th>2</th>\n",
       "      <th>3</th>\n",
       "      <th>4</th>\n",
       "      <th>5</th>\n",
       "      <th>6</th>\n",
       "      <th>7</th>\n",
       "      <th>8</th>\n",
       "      <th>9</th>\n",
       "      <th>...</th>\n",
       "      <th>11</th>\n",
       "      <th>12</th>\n",
       "      <th>13</th>\n",
       "      <th>14</th>\n",
       "      <th>15</th>\n",
       "      <th>16</th>\n",
       "      <th>17</th>\n",
       "      <th>18</th>\n",
       "      <th>19</th>\n",
       "      <th>20</th>\n",
       "    </tr>\n",
       "  </thead>\n",
       "  <tbody>\n",
       "    <tr>\n",
       "      <th>0</th>\n",
       "      <td>NaN</td>\n",
       "      <td>NaN</td>\n",
       "      <td>NaN</td>\n",
       "      <td>NaN</td>\n",
       "      <td>NaN</td>\n",
       "      <td>NaN</td>\n",
       "      <td>NaN</td>\n",
       "      <td>NaN</td>\n",
       "      <td>NaN</td>\n",
       "      <td>NaN</td>\n",
       "      <td>...</td>\n",
       "      <td>NaN</td>\n",
       "      <td>NaN</td>\n",
       "      <td>NaN</td>\n",
       "      <td>NaN</td>\n",
       "      <td>NaN</td>\n",
       "      <td>NaN</td>\n",
       "      <td>NaN</td>\n",
       "      <td>NaN</td>\n",
       "      <td>NaN</td>\n",
       "      <td>NaN</td>\n",
       "    </tr>\n",
       "    <tr>\n",
       "      <th>1</th>\n",
       "      <td>긴급공고 HCF0120-1</td>\n",
       "      <td>10826.0</td>\n",
       "      <td>***</td>\n",
       "      <td>칫솔케이스 구매</td>\n",
       "      <td>공군군수사령부</td>\n",
       "      <td>제출</td>\n",
       "      <td>제한경쟁</td>\n",
       "      <td>총액제</td>\n",
       "      <td>비대상</td>\n",
       "      <td>2025-04-22 10:00</td>\n",
       "      <td>...</td>\n",
       "      <td>비공개</td>\n",
       "      <td>2025HCF10826</td>\n",
       "      <td>2025-04-17 22:22:10</td>\n",
       "      <td>8381901459young</td>\n",
       "      <td>박재영</td>\n",
       "      <td>NaN</td>\n",
       "      <td>NaN</td>\n",
       "      <td>NaN</td>\n",
       "      <td>NaN</td>\n",
       "      <td>NaN</td>\n",
       "    </tr>\n",
       "    <tr>\n",
       "      <th>2</th>\n",
       "      <td>긴급공고 SFD0036-1</td>\n",
       "      <td>14609.0</td>\n",
       "      <td>***</td>\n",
       "      <td>청면테이프 등 98품목 구매</td>\n",
       "      <td>제9227부대</td>\n",
       "      <td>제출</td>\n",
       "      <td>제한경쟁</td>\n",
       "      <td>총액제</td>\n",
       "      <td>비대상</td>\n",
       "      <td>2025-04-22 10:00</td>\n",
       "      <td>...</td>\n",
       "      <td>비공개</td>\n",
       "      <td>2025SFD14609</td>\n",
       "      <td>2025-04-17 22:21:43</td>\n",
       "      <td>8381901459young</td>\n",
       "      <td>박재영</td>\n",
       "      <td>NaN</td>\n",
       "      <td>NaN</td>\n",
       "      <td>NaN</td>\n",
       "      <td>NaN</td>\n",
       "      <td>NaN</td>\n",
       "    </tr>\n",
       "  </tbody>\n",
       "</table>\n",
       "<p>3 rows × 21 columns</p>\n",
       "</div>"
      ],
      "text/plain": [
       "               0        1    2                3        4    5     6    7   \\\n",
       "0             NaN      NaN  NaN              NaN      NaN  NaN   NaN  NaN   \n",
       "1  긴급공고 HCF0120-1  10826.0  ***         칫솔케이스 구매  공군군수사령부   제출  제한경쟁  총액제   \n",
       "2  긴급공고 SFD0036-1  14609.0  ***  청면테이프 등 98품목 구매  제9227부대   제출  제한경쟁  총액제   \n",
       "\n",
       "    8                 9   ...   11            12                   13  \\\n",
       "0  NaN               NaN  ...  NaN           NaN                  NaN   \n",
       "1  비대상  2025-04-22 10:00  ...  비공개  2025HCF10826  2025-04-17 22:22:10   \n",
       "2  비대상  2025-04-22 10:00  ...  비공개  2025SFD14609  2025-04-17 22:21:43   \n",
       "\n",
       "                14   15  16  17  18  19  20  \n",
       "0              NaN  NaN NaN NaN NaN NaN NaN  \n",
       "1  8381901459young  박재영 NaN NaN NaN NaN NaN  \n",
       "2  8381901459young  박재영 NaN NaN NaN NaN NaN  \n",
       "\n",
       "[3 rows x 21 columns]"
      ]
     },
     "execution_count": 12,
     "metadata": {},
     "output_type": "execute_result"
    }
   ],
   "source": [
    "t"
   ]
  }
 ],
 "metadata": {
  "kernelspec": {
   "display_name": "env",
   "language": "python",
   "name": "python3"
  },
  "language_info": {
   "codemirror_mode": {
    "name": "ipython",
    "version": 3
   },
   "file_extension": ".py",
   "mimetype": "text/x-python",
   "name": "python",
   "nbconvert_exporter": "python",
   "pygments_lexer": "ipython3",
   "version": "3.11.9"
  },
  "orig_nbformat": 4
 },
 "nbformat": 4,
 "nbformat_minor": 2
}
