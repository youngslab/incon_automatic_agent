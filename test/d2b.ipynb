{
 "cells": [
  {
   "attachments": {},
   "cell_type": "markdown",
   "metadata": {},
   "source": [
    "# 국방조달"
   ]
  },
  {
   "cell_type": "code",
   "execution_count": 1,
   "metadata": {},
   "outputs": [],
   "source": [
    "# don't need to load extension everytime. \n",
    "%load_ext autoreload \n",
    "\n",
    "# This needs to be executed everytime.  \n",
    "%autoreload 2\n"
   ]
  },
  {
   "cell_type": "code",
   "execution_count": 2,
   "metadata": {},
   "outputs": [],
   "source": [
    "import os\n",
    "import sys\n",
    "\n",
    "# 현재 작업 디렉토리 가져오기\n",
    "current_directory = os.getcwd()\n",
    "\n",
    "# fmt: off\n",
    "module_directory = os.path.join(\n",
    "    current_directory, \"..\",\"thirdparty\", \"automatic\")\n",
    "if module_directory not in sys.path:\n",
    "    sys.path.append(module_directory)\n",
    "\n",
    "sys.path.append(os.path.join(current_directory, \"..\"))\n",
    "\n",
    "\n",
    "# Logger\n",
    "import automatic.utils\n",
    "import logging\n",
    "automatic.utils.Logger.init(automatic.utils.LOGGER_AUTOMATIC, logging.DEBUG)"
   ]
  },
  {
   "cell_type": "code",
   "execution_count": 3,
   "metadata": {},
   "outputs": [],
   "source": [
    "import automatic.selenium as s\n",
    "drv = s.create_driver()"
   ]
  },
  {
   "cell_type": "code",
   "execution_count": 6,
   "metadata": {},
   "outputs": [],
   "source": [
    "\n",
    "\n",
    "from org.markets import MarketFactory\n",
    "\n",
    "d2b = MarketFactory.create(drv, \"국방전자조달\")\n",
    "\n"
   ]
  },
  {
   "cell_type": "code",
   "execution_count": 7,
   "metadata": {},
   "outputs": [
    {
     "name": "stderr",
     "output_type": "stream",
     "text": [
      "2025-04-16 23:44:33,780 - Automatic - DEBUG - go on 로그인 페이지. path=https://www.d2b.go.kr/index.do\n",
      "2025-04-16 23:44:36,684 - Automatic - DEBUG - exist on test. path=\n",
      "2025-04-16 23:44:39,730 - Automatic - DEBUG - exist on 로그아웃 버튼. path=_logoutBtn\n",
      "2025-04-16 23:44:42,832 - Automatic - DEBUG - ERROR: Failed to get elements.<class 'selenium.common.exceptions.TimeoutException'> Message: \n",
      "\n",
      "2025-04-16 23:44:42,834 - Automatic - DEBUG - Failed to find an element\n",
      "2025-04-16 23:44:42,837 - Automatic - DEBUG - click on 로그인 버튼. path=_mLogin\n",
      "2025-04-16 23:44:49,637 - Automatic - DEBUG - type on 아이디 입력상자. path=_id\n",
      "2025-04-16 23:44:50,608 - Automatic - DEBUG - type on 패스워드 입력상자. path=_pw\n",
      "2025-04-16 23:44:51,520 - Automatic - DEBUG - click on 로그인 버튼. path=_loginBtn\n",
      "2025-04-16 23:44:52,632 - Automatic - DEBUG - type on 인증서 비밀번호 입력상자. path=certPwd\n",
      "2025-04-16 23:44:55,405 - Automatic - DEBUG - click on 인증서 선택 확인 버튼. path=//*[@id=\"nx-cert-select\"]/div[4]/button[1]\n",
      "2025-04-16 23:44:55,874 - Automatic - DEBUG - exist on 로그인 버튼. path=_mLogin\n",
      "2025-04-16 23:45:09,092 - Automatic - DEBUG - ERROR: Failed to get elements.<class 'selenium.common.exceptions.TimeoutException'> Message: \n",
      "\n",
      "2025-04-16 23:45:09,095 - Automatic - DEBUG - Failed to find an element\n"
     ]
    },
    {
     "data": {
      "text/plain": [
       "True"
      ]
     },
     "execution_count": 7,
     "metadata": {},
     "output_type": "execute_result"
    }
   ],
   "source": [
    "\n",
    "d2b.login()"
   ]
  },
  {
   "cell_type": "code",
   "execution_count": 7,
   "metadata": {},
   "outputs": [
    {
     "name": "stderr",
     "output_type": "stream",
     "text": [
      "2025-03-22 12:35:59,306 - D2B - INFO - 사전등록: 2025LCF003409427-01\n",
      "2025-03-22 12:35:59,307 - Automatic - DEBUG - go on 홈페이지. path=https://www.d2b.go.kr/index.do\n",
      "2025-03-22 12:36:00,013 - Automatic - DEBUG - type on 코드 검색 입력 상자. path=numb_divs\n",
      "2025-03-22 12:36:00,248 - Automatic - DEBUG - click on 검색 버튼. path=btn_search\n",
      "2025-03-22 12:36:00,649 - Automatic - DEBUG - click on 검색결과 참여링크. path=//*[@id=\"datagrid1_1_7_data\"]/span/a\n",
      "2025-03-22 12:36:02,903 - Automatic - DEBUG - click on 입찰참가신청서 작성 버튼. path=btn_join\n",
      "2025-03-22 12:36:03,287 - Automatic - DEBUG - exist on 입찰참여 팝업. path=입찰참가등록이 미완료된 건\n",
      "2025-03-22 12:36:03,801 - Automatic - DEBUG - exist on 입찰참여 완료 팝업. path=입찰참가등록이 신청 완료된 건입니다.\n",
      "2025-03-22 12:36:03,808 - D2B - INFO - 이미 참여하였습니다.\n",
      "2025-03-22 12:36:03,810 - Automatic - DEBUG - accept on 입찰참여 완료 팝업. path=입찰참가등록이 신청 완료된 건입니다.\n",
      "2025-03-22 12:36:03,820 - Automatic - DEBUG - accept: 해당 선택하신 건은 이미 입찰참가등록이 신청 완료된 건입니다. 해당건의 진행상태를 확인하세요.\n"
     ]
    },
    {
     "data": {
      "text/plain": [
       "True"
      ]
     },
     "execution_count": 7,
     "metadata": {},
     "output_type": "execute_result"
    }
   ],
   "source": [
    "\n",
    "d2b.register('2025LCF003409427-01')"
   ]
  },
  {
   "cell_type": "markdown",
   "metadata": {},
   "source": [
    "# Participate\n",
    "입찰 참여"
   ]
  },
  {
   "cell_type": "code",
   "execution_count": 15,
   "metadata": {},
   "outputs": [
    {
     "name": "stderr",
     "output_type": "stream",
     "text": [
      "2025-04-17 00:24:18,116 - Automatic - DEBUG - go on 홈페이지. path=https://www.d2b.go.kr/index.do\n",
      "2025-04-17 00:24:20,384 - Automatic - DEBUG - click on 물품 체크박스. path=pgb\n",
      "2025-04-17 00:24:21,535 - Automatic - DEBUG - click on 용역 체크박스. path=psb\n",
      "2025-04-17 00:24:22,118 - Automatic - DEBUG - type on 코드 검색 입력 상자. path=numb_divs\n",
      "2025-04-17 00:24:22,559 - Automatic - DEBUG - click on 검색 버튼. path=btn_search\n",
      "2025-04-17 00:24:23,138 - Automatic - DEBUG - click on 검색결과 참여링크. path=//*[@id=\"datagrid1_1_7_data\"]/span/a\n",
      "2025-04-17 00:24:26,499 - Automatic - DEBUG - exist on 견적서조회버튼. path=btn_estimate_inquiry\n",
      "2025-04-17 00:24:29,786 - Automatic - DEBUG - ERROR: Failed to get elements.<class 'selenium.common.exceptions.TimeoutException'> Message: \n",
      "\n",
      "2025-04-17 00:24:29,788 - Automatic - DEBUG - Failed to find an element\n",
      "2025-04-17 00:24:29,791 - Automatic - DEBUG - click on 견적서작성버튼. path=//button[@id=\"btn_estimate_write\"]\n",
      "2025-04-17 00:24:30,316 - Automatic - DEBUG - clicks on 서약서 체크박스. path=//input[@type=\"checkbox\" and @name=\"a1\"]\n",
      "2025-04-17 00:24:36,187 - Automatic - DEBUG - click on 확인버튼. path=btn_oath_confirm\n",
      "2025-04-17 00:24:41,357 - Automatic - DEBUG - type on 견적금액 작성. path=input_amount\n",
      "2025-04-17 00:24:42,464 - Automatic - DEBUG - click on 파일첨부버튼. path=input_file_basic1\n",
      "2025-04-17 00:24:42,540 - Automatic - DEBUG - type on 파일입력상자. path=Edit1\n",
      "2025-04-17 00:24:46,923 - Automatic - DEBUG - Typing: \"C:\\Users\\jaeyo\\.iaa\\business_regstration_certificate.zip\"\n",
      "2025-04-17 00:24:47,165 - Automatic - DEBUG - click on 확인 버튼. path=Button2\n",
      "2025-04-17 00:24:52,974 - Automatic - ERROR - Parent window is not found.\n",
      "Element is not Found.. op=click, desc=파일첨부 다이얼로그. path=[TITLE:열기; CLASS:#32770]\n",
      "Traceback (most recent call last):\n",
      "  File \"c:\\Users\\jaeyo\\virtual_machines\\shared\\incon\\test\\..\\org\\d2b\\d2b_v2.py\", line 287, in participate\n",
      "    return self.__participate_without_registration(code, cost)\n",
      "           ^^^^^^^^^^^^^^^^^^^^^^^^^^^^^^^^^^^^^^^^^^^^^^^^^^^\n",
      "  File \"c:\\Users\\jaeyo\\virtual_machines\\shared\\incon\\test\\..\\org\\d2b\\d2b_v2.py\", line 186, in __participate_without_registration\n",
      "    self.click(w.Control(\"확인 버튼\", \"Button2\", parent=wFileAttach, differ=5))\n",
      "  File \"c:\\Users\\jaeyo\\virtual_machines\\shared\\incon\\test\\..\\thirdparty\\automatic\\automatic\\automatic.py\", line 61, in click\n",
      "    return self._do(\"click\", target)\n",
      "           ^^^^^^^^^^^^^^^^^^^^^^^^^\n",
      "  File \"c:\\Users\\jaeyo\\virtual_machines\\shared\\incon\\test\\..\\thirdparty\\automatic\\automatic\\automatic.py\", line 41, in _do\n",
      "    return self._dispatch(ctx, op, desc, *args, **kwargs)\n",
      "           ^^^^^^^^^^^^^^^^^^^^^^^^^^^^^^^^^^^^^^^^^^^^^^\n",
      "  File \"c:\\Users\\jaeyo\\virtual_machines\\shared\\incon\\test\\..\\thirdparty\\automatic\\automatic\\automatic.py\", line 29, in _dispatch\n",
      "    return op(*args, **kwargs)\n",
      "           ^^^^^^^^^^^^^^^^^^^\n",
      "  File \"c:\\Users\\jaeyo\\virtual_machines\\shared\\incon\\test\\..\\thirdparty\\automatic\\automatic\\win32\\context.py\", line 170, in click\n",
      "    self.__click_control(elem)\n",
      "  File \"c:\\Users\\jaeyo\\virtual_machines\\shared\\incon\\test\\..\\thirdparty\\automatic\\automatic\\win32\\context.py\", line 185, in __click_control\n",
      "    raise ElementNotFoundException(self, parent, \"click\")\n",
      "automatic.common.exceptions.ElementNotFoundException: Element is not Found.. op=click, desc=파일첨부 다이얼로그. path=[TITLE:열기; CLASS:#32770]\n"
     ]
    },
    {
     "data": {
      "text/plain": [
       "False"
      ]
     },
     "execution_count": 15,
     "metadata": {},
     "output_type": "execute_result"
    }
   ],
   "source": [
    "# 2023UMM032323380-01 , price=  79,417,016\n",
    "# 수의LCJ0021-1-2024-00 , price=  25,690,656\n",
    "# code=2024HCF006611694-01 , price=  38,609,057 KRW\n",
    "\n",
    "code=\"수의LCN0024-1-2025-00\"\n",
    "cost=\"43771629\"\n",
    "\n",
    "d2b.participate(code,  cost)"
   ]
  },
  {
   "cell_type": "code",
   "execution_count": 16,
   "metadata": {},
   "outputs": [
    {
     "name": "stderr",
     "output_type": "stream",
     "text": [
      "2025-04-17 00:29:09,962 - Automatic - DEBUG - type on 파일첨부버튼. path=input_file_basic1\n"
     ]
    }
   ],
   "source": [
    "filepath = os.path.join(os.path.expanduser(\"~\"), \".iaa\", \"business_regstration_certificate.zip\")\n",
    "d2b.type(s.Id(\"파일첨부버튼\", \"input_file_basic1\"), filepath)"
   ]
  }
 ],
 "metadata": {
  "kernelspec": {
   "display_name": "Python 3",
   "language": "python",
   "name": "python3"
  },
  "language_info": {
   "codemirror_mode": {
    "name": "ipython",
    "version": 3
   },
   "file_extension": ".py",
   "mimetype": "text/x-python",
   "name": "python",
   "nbconvert_exporter": "python",
   "pygments_lexer": "ipython3",
   "version": "3.11.9"
  },
  "orig_nbformat": 4
 },
 "nbformat": 4,
 "nbformat_minor": 2
}
