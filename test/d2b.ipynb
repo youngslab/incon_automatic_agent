{
 "cells": [
  {
   "attachments": {},
   "cell_type": "markdown",
   "metadata": {},
   "source": [
    "# 국방조달"
   ]
  },
  {
   "cell_type": "code",
   "execution_count": 1,
   "metadata": {},
   "outputs": [],
   "source": [
    "# don't need to load extension everytime. \n",
    "%load_ext autoreload \n",
    "\n",
    "# This needs to be executed everytime.  \n",
    "%autoreload 2\n"
   ]
  },
  {
   "cell_type": "code",
   "execution_count": 2,
   "metadata": {},
   "outputs": [],
   "source": [
    "import os\n",
    "import sys\n",
    "\n",
    "# 현재 작업 디렉토리 가져오기\n",
    "current_directory = os.getcwd()\n",
    "\n",
    "# fmt: off\n",
    "module_directory = os.path.join(\n",
    "    current_directory, \"..\",\"thirdparty\", \"automatic\")\n",
    "if module_directory not in sys.path:\n",
    "    sys.path.append(module_directory)\n",
    "\n",
    "sys.path.append(os.path.join(current_directory, \"..\"))"
   ]
  },
  {
   "cell_type": "code",
   "execution_count": 3,
   "metadata": {},
   "outputs": [],
   "source": [
    "import automatic.selenium as s\n",
    "drv = s.create_driver()"
   ]
  },
  {
   "cell_type": "code",
   "execution_count": 4,
   "metadata": {},
   "outputs": [],
   "source": [
    "import automatic.utils\n",
    "import logging\n",
    "automatic.utils.Logger.init(automatic.utils.LOGGER_AUTOMATIC, logging.DEBUG)"
   ]
  },
  {
   "cell_type": "code",
   "execution_count": 5,
   "metadata": {},
   "outputs": [],
   "source": [
    "\n",
    "\n",
    "from org.d2b.d2b_v2 import D2B\n",
    "from account import account_get\n",
    "d2b_id = account_get(\"d2b\", \"id\")\n",
    "d2b_pw = account_get(\"d2b\", \"pw\")\n",
    "d2b_cert = account_get(\"d2b\", \"cert\")\n",
    "d2b = D2B(drv, d2b_id, d2b_pw, d2b_cert)\n",
    "\n"
   ]
  },
  {
   "cell_type": "code",
   "execution_count": 6,
   "metadata": {},
   "outputs": [
    {
     "name": "stderr",
     "output_type": "stream",
     "text": [
      "2025-04-12 11:42:51,831 - Automatic - DEBUG - go on 로그인 페이지. path=https://www.d2b.go.kr/index.do\n",
      "2025-04-12 11:42:55,167 - Automatic - DEBUG - exist on test. path=\n",
      "2025-04-12 11:42:58,194 - Automatic - DEBUG - exist on 로그아웃 버튼. path=_logoutBtn\n",
      "2025-04-12 11:43:01,293 - Automatic - DEBUG - ERROR: Failed to get elements.<class 'selenium.common.exceptions.TimeoutException'> Message: \n",
      "\n",
      "2025-04-12 11:43:01,294 - Automatic - DEBUG - Failed to find an element\n",
      "2025-04-12 11:43:01,294 - Automatic - DEBUG - click on 로그인 버튼. path=_mLogin\n",
      "2025-04-12 11:43:08,336 - Automatic - DEBUG - type on 아이디 입력상자. path=_id\n",
      "2025-04-12 11:43:08,496 - Automatic - DEBUG - type on 패스워드 입력상자. path=_pw\n",
      "2025-04-12 11:43:08,662 - Automatic - DEBUG - click on 로그인 버튼. path=_loginBtn\n",
      "2025-04-12 11:43:08,777 - Automatic - DEBUG - type on 인증서 비밀번호 입력상자. path=certPwd\n",
      "2025-04-12 11:43:09,959 - Automatic - DEBUG - click on 인증서 선택 확인 버튼. path=//*[@id=\"nx-cert-select\"]/div[4]/button[1]\n",
      "2025-04-12 11:43:10,103 - Automatic - DEBUG - exist on 로그인 버튼. path=_mLogin\n",
      "2025-04-12 11:43:23,191 - Automatic - DEBUG - ERROR: Failed to get elements.<class 'selenium.common.exceptions.TimeoutException'> Message: \n",
      "\n",
      "2025-04-12 11:43:23,192 - Automatic - DEBUG - Failed to find an element\n"
     ]
    },
    {
     "data": {
      "text/plain": [
       "True"
      ]
     },
     "execution_count": 6,
     "metadata": {},
     "output_type": "execute_result"
    }
   ],
   "source": [
    "\n",
    "d2b.login()"
   ]
  },
  {
   "cell_type": "code",
   "execution_count": 7,
   "metadata": {},
   "outputs": [
    {
     "name": "stderr",
     "output_type": "stream",
     "text": [
      "2025-03-22 12:35:59,306 - D2B - INFO - 사전등록: 2025LCF003409427-01\n",
      "2025-03-22 12:35:59,307 - Automatic - DEBUG - go on 홈페이지. path=https://www.d2b.go.kr/index.do\n",
      "2025-03-22 12:36:00,013 - Automatic - DEBUG - type on 코드 검색 입력 상자. path=numb_divs\n",
      "2025-03-22 12:36:00,248 - Automatic - DEBUG - click on 검색 버튼. path=btn_search\n",
      "2025-03-22 12:36:00,649 - Automatic - DEBUG - click on 검색결과 참여링크. path=//*[@id=\"datagrid1_1_7_data\"]/span/a\n",
      "2025-03-22 12:36:02,903 - Automatic - DEBUG - click on 입찰참가신청서 작성 버튼. path=btn_join\n",
      "2025-03-22 12:36:03,287 - Automatic - DEBUG - exist on 입찰참여 팝업. path=입찰참가등록이 미완료된 건\n",
      "2025-03-22 12:36:03,801 - Automatic - DEBUG - exist on 입찰참여 완료 팝업. path=입찰참가등록이 신청 완료된 건입니다.\n",
      "2025-03-22 12:36:03,808 - D2B - INFO - 이미 참여하였습니다.\n",
      "2025-03-22 12:36:03,810 - Automatic - DEBUG - accept on 입찰참여 완료 팝업. path=입찰참가등록이 신청 완료된 건입니다.\n",
      "2025-03-22 12:36:03,820 - Automatic - DEBUG - accept: 해당 선택하신 건은 이미 입찰참가등록이 신청 완료된 건입니다. 해당건의 진행상태를 확인하세요.\n"
     ]
    },
    {
     "data": {
      "text/plain": [
       "True"
      ]
     },
     "execution_count": 7,
     "metadata": {},
     "output_type": "execute_result"
    }
   ],
   "source": [
    "\n",
    "d2b.register('2025LCF003409427-01')"
   ]
  },
  {
   "cell_type": "markdown",
   "metadata": {},
   "source": [
    "# Participate\n",
    "입찰 참여"
   ]
  },
  {
   "cell_type": "code",
   "execution_count": 7,
   "metadata": {},
   "outputs": [
    {
     "name": "stderr",
     "output_type": "stream",
     "text": [
      "참가신청서 검색.\n",
      "2025-04-12 11:43:48,943 - Automatic - DEBUG - go on 물품 참가신청서 조회 페이지. path=https://www.d2b.go.kr/pdb/bid/goodsBidSubmitList.do\n",
      "2025-04-12 11:43:52,755 - Automatic - DEBUG - exist on 참가신청서 테이블. path=SBHE_DATAGRID_WHOLE_TABLE_datagrid1\n",
      "2025-04-12 11:43:52,928 - Automatic - DEBUG - table on 참가신청서 테이블. path=SBHE_DATAGRID_WHOLE_TABLE_datagrid1\n",
      "2025-04-12 11:43:53,519 - Automatic - DEBUG - go on 용역 참가신청서 조회 페이지. path=https://www.d2b.go.kr/psb/bid/serviceBidApplyList.do\n",
      "2025-04-12 11:43:57,228 - Automatic - DEBUG - exist on 참가신청서 테이블. path=SBHE_DATAGRID_WHOLE_TABLE_datagrid1\n",
      "2025-04-12 11:43:57,264 - Automatic - DEBUG - table on 참가신청서 테이블. path=SBHE_DATAGRID_WHOLE_TABLE_datagrid1\n",
      "2025-04-12 11:43:57,993 - Automatic - WARNING - Can't read table from given element. e=No tables found matching pattern '.+'\n",
      "검색된 참가신청서가 없습니다.\n"
     ]
    },
    {
     "data": {
      "text/plain": [
       "False"
      ]
     },
     "execution_count": 7,
     "metadata": {},
     "output_type": "execute_result"
    }
   ],
   "source": [
    "# 2023UMM032323380-01 , price=  79,417,016\n",
    "# 수의LCJ0021-1-2024-00 , price=  25,690,656\n",
    "# code=2024HCF006611694-01 , price=  38,609,057 KRW\n",
    "code = \"LCF0034\"\n",
    "price = \"115268533\"\n",
    "\n",
    "d2b.participate(code,  price)"
   ]
  }
 ],
 "metadata": {
  "kernelspec": {
   "display_name": "env",
   "language": "python",
   "name": "python3"
  },
  "language_info": {
   "codemirror_mode": {
    "name": "ipython",
    "version": 3
   },
   "file_extension": ".py",
   "mimetype": "text/x-python",
   "name": "python",
   "nbconvert_exporter": "python",
   "pygments_lexer": "ipython3",
   "version": "3.11.9"
  },
  "orig_nbformat": 4
 },
 "nbformat": 4,
 "nbformat_minor": 2
}
