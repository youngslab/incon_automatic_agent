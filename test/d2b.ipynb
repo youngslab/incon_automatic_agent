{
 "cells": [
  {
   "attachments": {},
   "cell_type": "markdown",
   "metadata": {},
   "source": [
    "# 국방조달"
   ]
  },
  {
   "cell_type": "code",
   "execution_count": 1,
   "metadata": {},
   "outputs": [],
   "source": [
    "# don't need to load extension everytime. \n",
    "%load_ext autoreload \n",
    "\n",
    "# This needs to be executed everytime.  \n",
    "%autoreload 2\n"
   ]
  },
  {
   "cell_type": "code",
   "execution_count": 2,
   "metadata": {},
   "outputs": [],
   "source": [
    "import os\n",
    "import sys\n",
    "\n",
    "# 현재 작업 디렉토리 가져오기\n",
    "current_directory = os.getcwd()\n",
    "\n",
    "# fmt: off\n",
    "module_directory = os.path.join(\n",
    "    current_directory, \"..\",\"thirdparty\", \"automatic\")\n",
    "if module_directory not in sys.path:\n",
    "    sys.path.append(module_directory)\n",
    "\n",
    "sys.path.append(os.path.join(current_directory, \"..\"))\n",
    "\n",
    "\n",
    "# Logger\n",
    "import automatic.utils\n",
    "import logging\n",
    "automatic.utils.Logger.init(automatic.utils.LOGGER_AUTOMATIC, logging.DEBUG)"
   ]
  },
  {
   "cell_type": "code",
   "execution_count": 3,
   "metadata": {},
   "outputs": [],
   "source": [
    "import automatic.selenium as s\n",
    "drv = s.create_driver()"
   ]
  },
  {
   "cell_type": "code",
   "execution_count": 4,
   "metadata": {},
   "outputs": [],
   "source": [
    "\n",
    "\n",
    "from org.markets import MarketFactory\n",
    "\n",
    "d2b = MarketFactory.create(drv, \"국방전자조달\")\n",
    "\n"
   ]
  },
  {
   "cell_type": "code",
   "execution_count": 5,
   "metadata": {},
   "outputs": [
    {
     "name": "stderr",
     "output_type": "stream",
     "text": [
      "2025-04-18 23:05:19,374 - Automatic - DEBUG - go on 로그인 페이지. path=https://www.d2b.go.kr/index.do\n",
      "2025-04-18 23:05:26,295 - Automatic - DEBUG - exist on test. path=\n",
      "2025-04-18 23:05:29,386 - Automatic - DEBUG - exist on 로그아웃 버튼. path=_logoutBtn\n",
      "2025-04-18 23:05:33,097 - Automatic - DEBUG - ERROR: Failed to get elements.<class 'selenium.common.exceptions.TimeoutException'> Message: \n",
      "\n",
      "2025-04-18 23:05:33,106 - Automatic - DEBUG - Failed to find an element\n",
      "2025-04-18 23:05:33,111 - Automatic - DEBUG - click on 로그인 버튼. path=_mLogin\n",
      "2025-04-18 23:05:44,019 - Automatic - DEBUG - type on 아이디 입력상자. path=_id\n",
      "2025-04-18 23:05:44,316 - Automatic - DEBUG - type on 패스워드 입력상자. path=_pw\n",
      "2025-04-18 23:05:44,603 - Automatic - DEBUG - click on 로그인 버튼. path=_loginBtn\n",
      "2025-04-18 23:05:44,840 - Automatic - DEBUG - type on 인증서 비밀번호 입력상자. path=certPwd\n",
      "2025-04-18 23:05:46,428 - Automatic - DEBUG - click on 인증서 선택 확인 버튼. path=//*[@id=\"nx-cert-select\"]/div[4]/button[1]\n",
      "2025-04-18 23:05:46,649 - Automatic - DEBUG - exist on 로그인 버튼. path=_mLogin\n",
      "2025-04-18 23:05:59,754 - Automatic - DEBUG - ERROR: Failed to get elements.<class 'selenium.common.exceptions.TimeoutException'> Message: \n",
      "\n",
      "2025-04-18 23:05:59,754 - Automatic - DEBUG - Failed to find an element\n"
     ]
    },
    {
     "data": {
      "text/plain": [
       "True"
      ]
     },
     "execution_count": 5,
     "metadata": {},
     "output_type": "execute_result"
    }
   ],
   "source": [
    "\n",
    "d2b.login()"
   ]
  },
  {
   "cell_type": "code",
   "execution_count": 7,
   "metadata": {},
   "outputs": [
    {
     "name": "stderr",
     "output_type": "stream",
     "text": [
      "2025-03-22 12:35:59,306 - D2B - INFO - 사전등록: 2025LCF003409427-01\n",
      "2025-03-22 12:35:59,307 - Automatic - DEBUG - go on 홈페이지. path=https://www.d2b.go.kr/index.do\n",
      "2025-03-22 12:36:00,013 - Automatic - DEBUG - type on 코드 검색 입력 상자. path=numb_divs\n",
      "2025-03-22 12:36:00,248 - Automatic - DEBUG - click on 검색 버튼. path=btn_search\n",
      "2025-03-22 12:36:00,649 - Automatic - DEBUG - click on 검색결과 참여링크. path=//*[@id=\"datagrid1_1_7_data\"]/span/a\n",
      "2025-03-22 12:36:02,903 - Automatic - DEBUG - click on 입찰참가신청서 작성 버튼. path=btn_join\n",
      "2025-03-22 12:36:03,287 - Automatic - DEBUG - exist on 입찰참여 팝업. path=입찰참가등록이 미완료된 건\n",
      "2025-03-22 12:36:03,801 - Automatic - DEBUG - exist on 입찰참여 완료 팝업. path=입찰참가등록이 신청 완료된 건입니다.\n",
      "2025-03-22 12:36:03,808 - D2B - INFO - 이미 참여하였습니다.\n",
      "2025-03-22 12:36:03,810 - Automatic - DEBUG - accept on 입찰참여 완료 팝업. path=입찰참가등록이 신청 완료된 건입니다.\n",
      "2025-03-22 12:36:03,820 - Automatic - DEBUG - accept: 해당 선택하신 건은 이미 입찰참가등록이 신청 완료된 건입니다. 해당건의 진행상태를 확인하세요.\n"
     ]
    },
    {
     "data": {
      "text/plain": [
       "True"
      ]
     },
     "execution_count": 7,
     "metadata": {},
     "output_type": "execute_result"
    }
   ],
   "source": [
    "\n",
    "d2b.register('2025LCF003409427-01')"
   ]
  },
  {
   "cell_type": "markdown",
   "metadata": {},
   "source": [
    "# Participate\n",
    "입찰 참여"
   ]
  },
  {
   "cell_type": "code",
   "execution_count": 8,
   "metadata": {},
   "outputs": [
    {
     "name": "stderr",
     "output_type": "stream",
     "text": [
      "2025-04-18 23:44:41,752 - Automatic - DEBUG - go on 홈페이지. path=https://www.d2b.go.kr/index.do\n",
      "2025-04-18 23:44:43,136 - Automatic - DEBUG - click on 물품 체크박스. path=pgb\n",
      "2025-04-18 23:44:43,702 - Automatic - DEBUG - click on 용역 체크박스. path=psb\n",
      "2025-04-18 23:44:44,478 - Automatic - DEBUG - type on 코드 검색 입력 상자. path=numb_divs\n",
      "2025-04-18 23:44:45,439 - Automatic - DEBUG - click on 검색 버튼. path=btn_search\n",
      "2025-04-18 23:44:45,926 - Automatic - DEBUG - click on 검색결과 참여링크. path=//*[@id=\"datagrid1_1_7_data\"]/span/a\n",
      "2025-04-18 23:44:48,660 - Automatic - DEBUG - exist on 견적서조회버튼. path=btn_estimate_inquiry\n",
      "2025-04-18 23:44:51,863 - Automatic - DEBUG - ERROR: Failed to get elements.<class 'selenium.common.exceptions.TimeoutException'> Message: \n",
      "\n",
      "2025-04-18 23:44:51,865 - Automatic - DEBUG - Failed to find an element\n",
      "2025-04-18 23:44:51,871 - Automatic - DEBUG - click on 견적서작성버튼. path=//button[@id=\"btn_estimate_write\"]\n",
      "2025-04-18 23:44:52,396 - Automatic - DEBUG - clicks on 서약서 체크박스. path=//input[@type=\"checkbox\" and @name=\"a1\"]\n",
      "2025-04-18 23:44:58,723 - Automatic - DEBUG - click on 확인버튼. path=btn_oath_confirm\n",
      "2025-04-18 23:45:03,887 - Automatic - DEBUG - type on 견적금액 작성. path=input_amount\n",
      "2025-04-18 23:45:05,319 - Automatic - DEBUG - type on 파일첨부버튼. path=input_file_basic1\n",
      "2025-04-18 23:45:05,710 - Automatic - DEBUG - clicks on 복수예비가격 선택. path=//input[@name=\"check_multi_price\"]\n",
      "2025-04-18 23:45:10,201 - Automatic - DEBUG - click on 제출 버튼. path=btn_submit\n",
      "2025-04-18 23:45:10,379 - Automatic - DEBUG - accept on 견적서 제출 확인 팝업. path=\n",
      "2025-04-18 23:45:10,391 - Automatic - DEBUG - accept: 반드시 상기 공고 관련 파일을 열람하시고 계약 진행 가능여부를 판단한 뒤 입찰서를 제출하기 바랍니다.\n",
      "\n",
      "※ 견적서 제출 후 가격수정 불가, 견적서 취소시 동일건 재투찰 불가\n",
      "==============================================\n",
      "\n",
      "작성하신 견적내역으로 견적서를 제출합니다.\n",
      "(견적금액 : 32,565,082 원)\n",
      "\n",
      "견적서를 제출하시겠습니까?\n",
      "2025-04-18 23:45:10,401 - Automatic - DEBUG - click on 지문인식 예외입찰 버튼. path=btn_bio_excp\n",
      "2025-04-18 23:45:10,605 - Automatic - DEBUG - click on HDD. path=NX_MEDIA_HDD\n",
      "2025-04-18 23:45:11,329 - Automatic - DEBUG - click on 은행. path=//td/div[contains(text(),\"은행\")]/img/..\n",
      "2025-04-18 23:45:15,161 - Automatic - DEBUG - type on 패스워드 입력상자. path=certPwd\n",
      "2025-04-18 23:45:15,376 - Automatic - DEBUG - click on 확인 버튼. path=//*[@id=\"nx-cert-select\"]/div[4]/button[1]\n",
      "2025-04-18 23:45:15,539 - Automatic - DEBUG - accept on 견적서 제출 확인 팝업. path=견적서를 성공적으로  제출하였습니다.\n",
      "2025-04-18 23:45:18,145 - Automatic - DEBUG - accept: 견적서를 성공적으로  제출하였습니다.\n",
      "제출하신 견적서는 견적서조회 화면을 통해서 확인하실 수 있습니다.\n"
     ]
    },
    {
     "data": {
      "text/plain": [
       "True"
      ]
     },
     "execution_count": 8,
     "metadata": {},
     "output_type": "execute_result"
    }
   ],
   "source": [
    "# 2023UMM032323380-01 , price=  79,417,016\n",
    "# 수의LCJ0021-1-2024-00 , price=  25,690,656\n",
    "# code=2024HCF006611694-01 , price=  38,609,057 KRW\n",
    "\n",
    "code=\"수의14200\"\n",
    "price=  \"32565082\"\n",
    "\n",
    "d2b.participate(code,  price)"
   ]
  },
  {
   "cell_type": "code",
   "execution_count": 16,
   "metadata": {},
   "outputs": [
    {
     "name": "stderr",
     "output_type": "stream",
     "text": [
      "2025-04-17 00:29:09,962 - Automatic - DEBUG - type on 파일첨부버튼. path=input_file_basic1\n"
     ]
    }
   ],
   "source": [
    "filepath = os.path.join(os.path.expanduser(\"~\"), \".iaa\", \"business_regstration_certificate.zip\")\n",
    "d2b.type(s.Id(\"파일첨부버튼\", \"input_file_basic1\"), filepath)"
   ]
  }
 ],
 "metadata": {
  "kernelspec": {
   "display_name": "Python 3",
   "language": "python",
   "name": "python3"
  },
  "language_info": {
   "codemirror_mode": {
    "name": "ipython",
    "version": 3
   },
   "file_extension": ".py",
   "mimetype": "text/x-python",
   "name": "python",
   "nbconvert_exporter": "python",
   "pygments_lexer": "ipython3",
   "version": "3.11.9"
  },
  "orig_nbformat": 4
 },
 "nbformat": 4,
 "nbformat_minor": 2
}
