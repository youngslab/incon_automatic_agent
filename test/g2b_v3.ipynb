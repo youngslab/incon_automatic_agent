{
 "cells": [
  {
   "cell_type": "code",
   "execution_count": 19,
   "metadata": {},
   "outputs": [
    {
     "name": "stdout",
     "output_type": "stream",
     "text": [
      "The autoreload extension is already loaded. To reload it, use:\n",
      "  %reload_ext autoreload\n"
     ]
    }
   ],
   "source": [
    "# don't need to load extension everyf   time. \n",
    "%load_ext autoreload \n",
    "\n",
    "# This needs to be executed everytime.  \n",
    "%autoreload 2\n"
   ]
  },
  {
   "cell_type": "code",
   "execution_count": 20,
   "metadata": {},
   "outputs": [],
   "source": [
    "import os\n",
    "import sys\n",
    "\n",
    "# 현재 작업 디렉토리 가져오기\n",
    "current_directory = os.getcwd()\n",
    "\n",
    "# fmt: off\n",
    "module_directory = os.path.join(\n",
    "    current_directory, \"..\",\"thirdparty\", \"automatic\")\n",
    "if module_directory not in sys.path:\n",
    "    sys.path.append(module_directory)\n",
    "\n",
    "sys.path.append(os.path.join(current_directory, \"..\"))"
   ]
  },
  {
   "cell_type": "code",
   "execution_count": 21,
   "metadata": {},
   "outputs": [],
   "source": [
    "import logging\n",
    "from automatic.utils import *\n",
    "Logger.init(LOGGER_AUTOMATIC, logging.DEBUG)"
   ]
  },
  {
   "cell_type": "code",
   "execution_count": 22,
   "metadata": {},
   "outputs": [],
   "source": [
    "import automatic.selenium as s\n",
    "# drv = s.create_driver()\n",
    "\n",
    "from utils import edge\n",
    "drv = edge.create_driver(profile=\"markets\")\n",
    "\n"
   ]
  },
  {
   "cell_type": "code",
   "execution_count": 23,
   "metadata": {},
   "outputs": [],
   "source": [
    "# This needs to be executed everytime.  \n",
    "%autoreload 2\n",
    "\n",
    "from org.g2b import G2B_NEW\n",
    "import account\n",
    "pw=account.account_get(\"g2b\", \"pw\")\n",
    "id=account.account_get(\"g2b\", \"id\")\n",
    "# 공동인증서(기업)\n",
    "public_cert = account.account_get(\"g2b\", \"public_cert\")\n",
    "# 금융인증서서\n",
    "financial_cert = account.account_get(\"g2b\", \"financial_cert\")\n",
    "\n",
    "\n"
   ]
  },
  {
   "cell_type": "code",
   "execution_count": 29,
   "metadata": {},
   "outputs": [],
   "source": [
    "# This needs to be executed everytime.  \n",
    "%autoreload 2\n",
    "from org.g2b.g2b_new_gen import G2B_new_gen\n",
    "\n",
    "g2b = G2B_new_gen(drv, pw, id, public_cert, financial_cert)"
   ]
  },
  {
   "cell_type": "code",
   "execution_count": 25,
   "metadata": {},
   "outputs": [
    {
     "name": "stderr",
     "output_type": "stream",
     "text": [
      "2025-02-14 15:15:32,316 - G2B - INFO - 로그인\n",
      "INFO:G2B:로그인\n",
      "2025-02-14 15:15:32,321 - G2B - INFO - 홈페이지로 이동\n",
      "INFO:G2B:홈페이지로 이동\n",
      "2025-02-14 15:15:32,326 - Automatic - DEBUG - go on G2B 홈페이지. path=https://www.g2b.go.kr\n",
      "DEBUG:Automatic:go on G2B 홈페이지. path=https://www.g2b.go.kr\n",
      "2025-02-14 15:15:35,688 - Automatic - DEBUG - exist on 팝업닫기. path=//input[@title='오늘 하루 이 창을 열지 않음']\n",
      "DEBUG:Automatic:exist on 팝업닫기. path=//input[@title='오늘 하루 이 창을 열지 않음']\n",
      "2025-02-14 15:15:56,115 - Automatic - DEBUG - ERROR: Failed to get elements.<class 'selenium.common.exceptions.TimeoutException'> Message: \n",
      "\n",
      "DEBUG:Automatic:ERROR: Failed to get elements.<class 'selenium.common.exceptions.TimeoutException'> Message: \n",
      "\n",
      "2025-02-14 15:15:56,117 - Automatic - DEBUG - exist on 로그아웃버튼. path=//span[text()='로그아웃']/../a\n",
      "DEBUG:Automatic:exist on 로그아웃버튼. path=//span[text()='로그아웃']/../a\n",
      "2025-02-14 15:16:16,564 - Automatic - DEBUG - ERROR: Failed to get elements.<class 'selenium.common.exceptions.TimeoutException'> Message: \n",
      "\n",
      "DEBUG:Automatic:ERROR: Failed to get elements.<class 'selenium.common.exceptions.TimeoutException'> Message: \n",
      "\n",
      "2025-02-14 15:16:16,565 - Automatic - DEBUG - Failed to find an element\n",
      "DEBUG:Automatic:Failed to find an element\n",
      "2025-02-14 15:16:16,567 - Automatic - DEBUG - exist on 로그인버튼. path=mf_wfm_gnb_wfm_gnbTop_btnLogin\n",
      "DEBUG:Automatic:exist on 로그인버튼. path=mf_wfm_gnb_wfm_gnbTop_btnLogin\n",
      "2025-02-14 15:16:16,617 - Automatic - DEBUG - clicks on 로그인버튼. path=mf_wfm_gnb_wfm_gnbTop_btnLogin\n",
      "DEBUG:Automatic:clicks on 로그인버튼. path=mf_wfm_gnb_wfm_gnbTop_btnLogin\n",
      "2025-02-14 15:16:18,114 - Automatic - DEBUG - click on 아이디/암호 탭. path=//a[text()='아이디/비밀번호']\n",
      "DEBUG:Automatic:click on 아이디/암호 탭. path=//a[text()='아이디/비밀번호']\n",
      "2025-02-14 15:16:27,760 - Automatic - DEBUG - type on 아이디입력상자. path=mf_wfm_container_tabLgn_contents_content4_body_ibxLgnId\n",
      "DEBUG:Automatic:type on 아이디입력상자. path=mf_wfm_container_tabLgn_contents_content4_body_ibxLgnId\n",
      "2025-02-14 15:16:28,060 - Automatic - DEBUG - type on 암호입력상자. path=mf_wfm_container_tabLgn_contents_content4_body_ibxLgnPswd\n",
      "DEBUG:Automatic:type on 암호입력상자. path=mf_wfm_container_tabLgn_contents_content4_body_ibxLgnPswd\n",
      "2025-02-14 15:16:28,297 - Automatic - DEBUG - click on 로그인확인버튼. path=mf_wfm_container_tabLgn_contents_content4_body_btnLgn\n",
      "DEBUG:Automatic:click on 로그인확인버튼. path=mf_wfm_container_tabLgn_contents_content4_body_btnLgn\n",
      "2025-02-14 15:16:28,525 - Automatic - DEBUG - exist on 팝업확인. path=//input[@value='예']\n",
      "DEBUG:Automatic:exist on 팝업확인. path=//input[@value='예']\n",
      "2025-02-14 15:16:29,141 - Automatic - DEBUG - click on 팝업확인. path=//input[@value='예']\n",
      "DEBUG:Automatic:click on 팝업확인. path=//input[@value='예']\n",
      "2025-02-14 15:16:29,287 - Automatic - DEBUG - exist on 팝업닫기. path=//input[@title='오늘 하루 이 창을 열지 않음']\n",
      "DEBUG:Automatic:exist on 팝업닫기. path=//input[@title='오늘 하루 이 창을 열지 않음']\n",
      "2025-02-14 15:16:49,768 - Automatic - DEBUG - ERROR: Failed to get elements.<class 'selenium.common.exceptions.TimeoutException'> Message: \n",
      "\n",
      "DEBUG:Automatic:ERROR: Failed to get elements.<class 'selenium.common.exceptions.TimeoutException'> Message: \n",
      "\n"
     ]
    },
    {
     "data": {
      "text/plain": [
       "True"
      ]
     },
     "execution_count": 25,
     "metadata": {},
     "output_type": "execute_result"
    }
   ],
   "source": [
    "g2b.login()"
   ]
  },
  {
   "cell_type": "code",
   "execution_count": 17,
   "metadata": {},
   "outputs": [
    {
     "name": "stderr",
     "output_type": "stream",
     "text": [
      "2025-02-12 22:52:10,553 - G2B - INFO - 사전등록: ['4710160802']\n",
      "2025-02-12 22:52:10,555 - Automatic - DEBUG - click on 이용자관리 버튼. path=//a[contains(@class, 'btn') and span[text()='이용자관리']]\n",
      "2025-02-12 22:52:10,841 - Automatic - DEBUG - click on 자기정보확인관리 버튼. path=//a[contains(@class, 'btn') and span[text()='자기정보확인관리/등록증출력']]\n",
      "2025-02-12 22:52:11,399 - Automatic - DEBUG - click on 공급물품 버튼. path=//a[text()='공급물품']\n",
      "2025-02-12 22:52:22,805 - Automatic - DEBUG - exist on 세부품목번호. path=//nobr[text()='4710160802']\n",
      "2025-02-12 22:52:42,858 - Automatic - DEBUG - ERROR: Failed to get elements.<class 'selenium.common.exceptions.TimeoutException'> Message: \n",
      "\n",
      "2025-02-12 22:52:42,860 - Automatic - DEBUG - Failed to find an element\n",
      "2025-02-12 22:52:42,860 - Automatic - DEBUG - exist on 수정버튼. path=//input[@value='수정(자기정보확인)']\n",
      "2025-02-12 22:52:42,931 - Automatic - DEBUG - click on 수정버튼. path=//input[@value='수정(자기정보확인)']\n",
      "2025-02-12 22:52:44,216 - Automatic - DEBUG - click on 행추가버튼. path=//input[@value='행추가' and contains(@class, 'inline_block')]\n",
      "2025-02-12 22:52:51,777 - Automatic - DEBUG - click on 확인버튼. path=//input[@value='예']\n",
      "2025-02-12 22:52:53,757 - Automatic - DEBUG - type on 세부품명번호 입력. path=//td[@data-title='세부품명번호']/div/input\n",
      "2025-02-12 22:52:57,898 - Automatic - DEBUG - click on 검색버튼. path=//input[@value='검색' and contains(@class, 'btn')]\n",
      "2025-02-12 22:52:59,996 - Automatic - DEBUG - click on 세부품명번호 버튼. path=//a[text()='4710160802']\n",
      "2025-02-12 22:53:05,591 - Automatic - DEBUG - click on 닫기버튼. path=//input[@value='닫기' and contains(@class, 'btn_cm') and contains(@class, 'close') and not(@aria-hidden)]\n",
      "2025-02-12 22:53:08,026 - Automatic - DEBUG - click on 저장버튼튼. path=//input[@title='자기정보수정 저장']\n",
      "2025-02-12 22:53:11,845 - Automatic - DEBUG - click on 확인버튼. path=//input[@value='확인']\n"
     ]
    },
    {
     "data": {
      "text/plain": [
       "False"
      ]
     },
     "execution_count": 17,
     "metadata": {},
     "output_type": "execute_result"
    }
   ],
   "source": [
    "code=\"4710160802\"\n",
    "g2b.register(code)"
   ]
  },
  {
   "cell_type": "code",
   "execution_count": null,
   "metadata": {},
   "outputs": [
    {
     "name": "stderr",
     "output_type": "stream",
     "text": [
      "2025-02-14 15:26:56,977 - G2B - INFO - 입찰 참가 페이지로 이동\n",
      "INFO:G2B:입찰 참가 페이지로 이동\n",
      "2025-02-14 15:26:56,979 - Automatic - DEBUG - go on G2B 홈페이지. path=https://www.g2b.go.kr\n",
      "DEBUG:Automatic:go on G2B 홈페이지. path=https://www.g2b.go.kr\n",
      "2025-02-14 15:26:59,139 - Automatic - DEBUG - click on 입찰 버튼. path=//a[contains(@class, 'btn') and span[text()='입찰']]\n",
      "DEBUG:Automatic:click on 입찰 버튼. path=//a[contains(@class, 'btn') and span[text()='입찰']]\n",
      "2025-02-14 15:27:11,943 - Automatic - DEBUG - click on 입찰공고목록 버튼. path=//a[contains(@class, 'btn') and span[text()='입찰공고목록']]\n",
      "DEBUG:Automatic:click on 입찰공고목록 버튼. path=//a[contains(@class, 'btn') and span[text()='입찰공고목록']]\n",
      "2025-02-14 15:27:15,425 - Automatic - DEBUG - type on 입찰공고번호 입력. path=//input[@title='입찰공고번호']\n",
      "DEBUG:Automatic:type on 입찰공고번호 입력. path=//input[@title='입찰공고번호']\n",
      "2025-02-14 15:27:19,465 - Automatic - DEBUG - click on 검색버튼. path=//input[@value='검색']\n",
      "DEBUG:Automatic:click on 검색버튼. path=//input[@value='검색']\n",
      "2025-02-14 15:27:21,505 - Automatic - DEBUG - click on 입찰진행 버튼. path=//button[text()='입찰진행']\n",
      "DEBUG:Automatic:click on 입찰진행 버튼. path=//button[text()='입찰진행']\n",
      "2025-02-14 15:27:23,274 - Automatic - DEBUG - click on 투찰 버튼. path=//button[text()='투 찰']\n",
      "DEBUG:Automatic:click on 투찰 버튼. path=//button[text()='투 찰']\n",
      "2025-02-14 15:27:25,563 - G2B - INFO - 금융인증\n",
      "INFO:G2B:금융인증\n",
      "2025-02-14 15:27:25,567 - Automatic - DEBUG - exist on 금융인증서. path=//span[text()='금융인증서']/..\n",
      "DEBUG:Automatic:exist on 금융인증서. path=//span[text()='금융인증서']/..\n",
      "2025-02-14 15:27:30,635 - Automatic - DEBUG - ERROR: Failed to get elements.<class 'selenium.common.exceptions.TimeoutException'> Message: \n",
      "\n",
      "DEBUG:Automatic:ERROR: Failed to get elements.<class 'selenium.common.exceptions.TimeoutException'> Message: \n",
      "\n",
      "2025-02-14 15:27:30,636 - Automatic - DEBUG - Failed to find an element\n",
      "DEBUG:Automatic:Failed to find an element\n",
      "2025-02-14 15:27:30,639 - Automatic - DEBUG - click on 가격 입찰서 작성(투찰)하러 가기. path=//input[@value='가격 입찰서 작성(투찰)하러 가기']\n",
      "DEBUG:Automatic:click on 가격 입찰서 작성(투찰)하러 가기. path=//input[@value='가격 입찰서 작성(투찰)하러 가기']\n",
      "2025-02-14 15:27:30,999 - Automatic - DEBUG - click on 기업정보제공동의. path=//input[@title='기업정보 제공에 동의합니다.']\n",
      "DEBUG:Automatic:click on 기업정보제공동의. path=//input[@title='기업정보 제공에 동의합니다.']\n",
      "2025-02-14 15:27:32,080 - Automatic - DEBUG - click on 행정정보 공동이용 동의. path=//input[@title='행정정보 공동이용에 동의합니다.']\n",
      "DEBUG:Automatic:click on 행정정보 공동이용 동의. path=//input[@title='행정정보 공동이용에 동의합니다.']\n",
      "2025-02-14 15:27:32,369 - Automatic - DEBUG - click on 위 사항 동의의. path=//input[@title='위 사항을 모두 이해 하였으며, 이에 동의합니다.']\n",
      "DEBUG:Automatic:click on 위 사항 동의의. path=//input[@title='위 사항을 모두 이해 하였으며, 이에 동의합니다.']\n",
      "2025-02-14 15:27:32,644 - Automatic - DEBUG - click on 투찰하러 가기 확인. path=//input[@value='확인']\n",
      "DEBUG:Automatic:click on 투찰하러 가기 확인. path=//input[@value='확인']\n",
      "2025-02-14 15:27:33,167 - Automatic - DEBUG - click on 투찰금액 동의. path=//input[@title='위 투찰금액 결정 관련 유의사항을 숙지하고, 이에 동의합니다.']\n",
      "DEBUG:Automatic:click on 투찰금액 동의. path=//input[@title='위 투찰금액 결정 관련 유의사항을 숙지하고, 이에 동의합니다.']\n",
      "2025-02-14 15:27:36,086 - Automatic - DEBUG - type on 총액. path=//input[@title='총액']\n",
      "DEBUG:Automatic:type on 총액. path=//input[@title='총액']\n",
      "2025-02-14 15:27:37,051 - Automatic - DEBUG - click on 청렴계약 동의. path=//input[@title='청렴계약서 및 입찰관련 유의사항들을 숙지하였으며, 이에 동의합니다.']\n",
      "DEBUG:Automatic:click on 청렴계약 동의. path=//input[@title='청렴계약서 및 입찰관련 유의사항들을 숙지하였으며, 이에 동의합니다.']\n",
      "2025-02-14 15:27:37,320 - Automatic - DEBUG - click on 송신 버튼. path=//input[@value='송신']\n",
      "DEBUG:Automatic:click on 송신 버튼. path=//input[@value='송신']\n",
      "2025-02-14 15:27:37,820 - Automatic - DEBUG - click on 확인 버튼. path=//input[@value='확인']\n",
      "DEBUG:Automatic:click on 확인 버튼. path=//input[@value='확인']\n",
      "2025-02-14 15:27:39,564 - Automatic - DEBUG - click on 동의. path=//input[@title='위 사항을 모두 확인하였으며, 이에 동의합니다.']\n",
      "DEBUG:Automatic:click on 동의. path=//input[@title='위 사항을 모두 확인하였으며, 이에 동의합니다.']\n",
      "2025-02-14 15:27:41,110 - Automatic - DEBUG - click on 확인 버튼. path=//input[@value='확인']\n",
      "DEBUG:Automatic:click on 확인 버튼. path=//input[@value='확인']\n",
      "2025-02-14 15:27:41,652 - Automatic - DEBUG - clicks on 체크박스. path=//div[@class='w2group ltt_con']/ul/li/input\n",
      "DEBUG:Automatic:clicks on 체크박스. path=//div[@class='w2group ltt_con']/ul/li/input\n",
      "2025-02-14 15:27:46,479 - Automatic - DEBUG - click on 추첨번호 전송. path=//input[@value='추첨번호 전송']\n",
      "DEBUG:Automatic:click on 추첨번호 전송. path=//input[@value='추첨번호 전송']\n",
      "2025-02-14 15:27:46,986 - Automatic - DEBUG - click on 예 버튼. path=//input[@value='예']\n",
      "DEBUG:Automatic:click on 예 버튼. path=//input[@value='예']\n",
      "2025-02-14 15:27:47,759 - Automatic - DEBUG - exist on 팝업. path=//div[contains(text(),'선택한 공동인증서를 계속 사용')]\n",
      "DEBUG:Automatic:exist on 팝업. path=//div[contains(text(),'선택한 공동인증서를 계속 사용')]\n",
      "2025-02-14 15:27:50,790 - Automatic - DEBUG - ERROR: Failed to get elements.<class 'selenium.common.exceptions.TimeoutException'> Message: \n",
      "\n",
      "DEBUG:Automatic:ERROR: Failed to get elements.<class 'selenium.common.exceptions.TimeoutException'> Message: \n",
      "\n",
      "2025-02-14 15:27:50,791 - Automatic - DEBUG - Failed to find an element\n",
      "DEBUG:Automatic:Failed to find an element\n",
      "2025-02-14 15:27:50,793 - Automatic - DEBUG - click on 공동인증 버튼. path=//input[@value='공동인증']\n",
      "DEBUG:Automatic:click on 공동인증 버튼. path=//input[@value='공동인증']\n",
      "2025-02-14 15:27:51,040 - Automatic - DEBUG - click on 확인 버튼. path=//input[@value='확인']\n",
      "DEBUG:Automatic:click on 확인 버튼. path=//input[@value='확인']\n",
      "2025-02-14 15:27:52,272 - Automatic - DEBUG - type on 패스워드입력성자 . path=input_cert_pw\n",
      "DEBUG:Automatic:type on 패스워드입력성자 . path=input_cert_pw\n",
      "2025-02-14 15:28:01,567 - Automatic - DEBUG - click on 확인버튼. path=btn_confirm_iframe\n",
      "DEBUG:Automatic:click on 확인버튼. path=btn_confirm_iframe\n",
      "2025-02-14 15:28:04,395 - Automatic - DEBUG - click on 확인. path=//input[@value='확인']\n",
      "DEBUG:Automatic:click on 확인. path=//input[@value='확인']\n",
      "2025-02-14 15:28:27,820 - Automatic - DEBUG - ERROR: Failed to get elements.<class 'selenium.common.exceptions.TimeoutException'> Message: \n",
      "\n",
      "DEBUG:Automatic:ERROR: Failed to get elements.<class 'selenium.common.exceptions.TimeoutException'> Message: \n",
      "\n",
      "2025-02-14 15:28:27,822 - Automatic - DEBUG - Failed to find an element\n",
      "DEBUG:Automatic:Failed to find an element\n",
      "2025-02-14 15:28:27,824 - G2B - ERROR - Element is not Found.. op=click, desc=확인. path=//input[@value='확인']\n",
      "ERROR:G2B:Element is not Found.. op=click, desc=확인. path=//input[@value='확인']\n"
     ]
    },
    {
     "data": {
      "text/plain": [
       "False"
      ]
     },
     "execution_count": 30,
     "metadata": {},
     "output_type": "execute_result"
    }
   ],
   "source": [
    "# This needs to be executed everytime.  \n",
    "%autoreload 2\n",
    "from org.g2b.g2b_new_gen import G2B_new_gen\n",
    "\n",
    "g2b = G2B_new_gen(drv, pw, id, public_cert, financial_cert)\n",
    "\n",
    "code=\"R25BK00634793-000\"\n",
    "price = \"85755657\"\n",
    "g2b.participate(code, price)"
   ]
  },
  {
   "cell_type": "code",
   "execution_count": 31,
   "metadata": {},
   "outputs": [
    {
     "name": "stderr",
     "output_type": "stream",
     "text": [
      "2025-02-14 15:31:26,631 - Automatic - DEBUG - type on 패스워드입력성자 . path=input_cert_pw\n",
      "DEBUG:Automatic:type on 패스워드입력성자 . path=input_cert_pw\n"
     ]
    }
   ],
   "source": [
    "frame = s.Id(\"인증서 프레임\", \"dscert\")\n",
    "cert_pw_input = s.Id(\"패스워드입력성자 \", \"input_cert_pw\", parent=frame)\n",
    "g2b.type(cert_pw_input, public_cert)"
   ]
  },
  {
   "cell_type": "code",
   "execution_count": 11,
   "metadata": {},
   "outputs": [],
   "source": [
    "# TODO: If narrow windows, it won't exist. \n",
    "def login():\n",
    "    g2b.go(s.Url(\"G2B 홈페이지\", 'https://www.g2b.go.kr'))\n",
    "\n",
    "    popup_close_btn = s.Xpath(\"팝업닫기\", \"//input[@title='오늘 하루 이 창을 열지 않음']\",multiple=True, visible=False, differ=1)\n",
    "    if g2b.exist(popup_close_btn):\n",
    "        g2b.clicks(popup_close_btn)\n",
    "\n",
    "    logout_btn = s.Xpath(\"로그아웃버튼\", \"//span[text()='로그아웃']/../a\")\n",
    "    if g2b.exist(logout_btn):\n",
    "        print(\"이미 로그인 되었습니다.\")\n",
    "        return True \n",
    "\n",
    "    login_btn = s.Id(\"로그인버튼\", 'mf_wfm_gnb_wfm_gnbTop_btnLogin')\n",
    "    if g2b.exist(login_btn):\n",
    "        g2b.clicks(login_btn) \n",
    "\n",
    "    id_pw_tab = s.Xpath(\"아이디/암호 탭\", \"//a[text()='아이디/비밀번호']\")\n",
    "    g2b.click(id_pw_tab)\n",
    "\n",
    "    id_input = s.Id(\"아이디입력상자\", 'mf_wfm_container_tabLgn_contents_content4_body_ibxLgnId')\n",
    "    g2b.type(id_input, \"jaeyoungs\")\n",
    "\n",
    "    pw_input = s.Id(\"암호입력상자\", 'mf_wfm_container_tabLgn_contents_content4_body_ibxLgnPswd')\n",
    "    g2b.type(pw_input, \"Wodudqkr@845\")\n",
    "\n",
    "    login_btn = s.Id(\"로그인확인버튼\", 'mf_wfm_container_tabLgn_contents_content4_body_btnLgn')\n",
    "    g2b.click(login_btn)\n",
    "    \n",
    "    # 다른세션에 로그인 되어 있다는 팝업이 뜰 수 있음. \n",
    "    session_login_popup = s.Xpath(\"팝업확인\", \"//input[@value='예']\")\n",
    "    if g2b.exist(session_login_popup):\n",
    "        g2b.click(session_login_popup)\n",
    "\n",
    "    # 팝업들 열림 \n",
    "    # TODO: 각 popup 들의 scroll이 맨 아래로 내려가 있어야 함.\n",
    "    popup_close_btn = s.Xpath(\"팝업닫기\", \"//input[@title='오늘 하루 이 창을 열지 않음']\",multiple=True, visible=False, differ=1)\n",
    "    if g2b.exist(popup_close_btn):\n",
    "        g2b.clicks(popup_close_btn)\n",
    "\n",
    "    return True"
   ]
  },
  {
   "cell_type": "code",
   "execution_count": 12,
   "metadata": {},
   "outputs": [
    {
     "name": "stderr",
     "output_type": "stream",
     "text": [
      "2025-02-11 00:00:40,610 - Automatic - DEBUG - go on G2B 홈페이지. path=https://www.g2b.go.kr\n",
      "2025-02-11 00:00:43,226 - Automatic - DEBUG - exist on 팝업닫기. path=//input[@title='오늘 하루 이 창을 열지 않음']\n",
      "2025-02-11 00:01:03,769 - Automatic - DEBUG - ERROR: Failed to get elements.<class 'selenium.common.exceptions.TimeoutException'> Message: \n",
      "\n",
      "2025-02-11 00:01:03,771 - Automatic - DEBUG - exist on 로그아웃버튼. path=//span[text()='로그아웃']/../a\n",
      "2025-02-11 00:01:24,335 - Automatic - DEBUG - ERROR: Failed to get elements.<class 'selenium.common.exceptions.TimeoutException'> Message: \n",
      "\n",
      "2025-02-11 00:01:24,335 - Automatic - DEBUG - Failed to find an element\n",
      "2025-02-11 00:01:24,335 - Automatic - DEBUG - exist on 로그인버튼. path=mf_wfm_gnb_wfm_gnbTop_btnLogin\n",
      "2025-02-11 00:01:24,388 - Automatic - DEBUG - clicks on 로그인버튼. path=mf_wfm_gnb_wfm_gnbTop_btnLogin\n",
      "2025-02-11 00:01:24,663 - Automatic - DEBUG - click on 아이디/암호 탭. path=//a[text()='아이디/비밀번호']\n",
      "2025-02-11 00:01:25,945 - Automatic - DEBUG - type on 아이디입력상자. path=mf_wfm_container_tabLgn_contents_content4_body_ibxLgnId\n",
      "2025-02-11 00:01:26,239 - Automatic - DEBUG - type on 암호입력상자. path=mf_wfm_container_tabLgn_contents_content4_body_ibxLgnPswd\n",
      "2025-02-11 00:01:26,477 - Automatic - DEBUG - click on 로그인확인버튼. path=mf_wfm_container_tabLgn_contents_content4_body_btnLgn\n",
      "2025-02-11 00:01:26,743 - Automatic - DEBUG - exist on 팝업확인. path=//input[@value='예']\n",
      "2025-02-11 00:01:46,987 - Automatic - DEBUG - ERROR: Failed to get elements.<class 'selenium.common.exceptions.TimeoutException'> Message: \n",
      "\n",
      "2025-02-11 00:01:46,989 - Automatic - DEBUG - Failed to find an element\n",
      "2025-02-11 00:01:46,991 - Automatic - DEBUG - exist on 팝업닫기. path=//input[@title='오늘 하루 이 창을 열지 않음']\n",
      "2025-02-11 00:01:47,015 - Automatic - DEBUG - clicks on 팝업닫기. path=//input[@title='오늘 하루 이 창을 열지 않음']\n"
     ]
    },
    {
     "data": {
      "text/plain": [
       "True"
      ]
     },
     "execution_count": 12,
     "metadata": {},
     "output_type": "execute_result"
    }
   ],
   "source": [
    "# This needs to be executed everytime.  \n",
    "%autoreload 2\n",
    "login()"
   ]
  },
  {
   "cell_type": "markdown",
   "metadata": {},
   "source": [
    "# 사전등록"
   ]
  },
  {
   "cell_type": "code",
   "execution_count": 9,
   "metadata": {},
   "outputs": [
    {
     "name": "stderr",
     "output_type": "stream",
     "text": [
      "2025-02-08 10:01:01,802 - Automatic - DEBUG - click on 이용자관리 버튼. path=//a[contains(@class, 'btn') and span[text()='이용자관리']]\n",
      "2025-02-08 10:01:02,997 - Automatic - DEBUG - click on 자기정보확인관리 버튼. path=//a[contains(@class, 'btn') and span[text()='자기정보확인관리/등록증출력']]\n",
      "2025-02-08 10:01:04,338 - Automatic - DEBUG - click on 공급물품 버튼. path=//a[text()='공급물품']\n",
      "2025-02-08 10:01:21,696 - Automatic - DEBUG - exist on 세부품목번호. path=//nobr[text()='2611172301']\n"
     ]
    },
    {
     "name": "stdout",
     "output_type": "stream",
     "text": [
      "이미등록 되어 있습니다.\n"
     ]
    },
    {
     "data": {
      "text/plain": [
       "True"
      ]
     },
     "execution_count": 9,
     "metadata": {},
     "output_type": "execute_result"
    }
   ],
   "source": [
    "\n",
    "\n",
    "detail_item_number = \"2611172301\"\n",
    "\n",
    "def register_pre(detail_item_number):\n",
    "    user_management_btn = s.Xpath(\"이용자관리 버튼\",\"//a[contains(@class, 'btn') and span[text()='이용자관리']]\")\n",
    "    g2b.click(user_management_btn)\n",
    "\n",
    "    self_info_check_management_btn = s.Xpath(\"자기정보확인관리 버튼\", \"//a[contains(@class, 'btn') and span[text()='자기정보확인관리/등록증출력']]\")\n",
    "    g2b.click(self_info_check_management_btn)\n",
    "\n",
    "    supplied_items_btn = s.Xpath(\"공급물품 버튼\", \"//a[text()='공급물품']\", visible=False, differ=5)\n",
    "    g2b.click(supplied_items_btn)\n",
    "\n",
    "    detail_item_number_text = s.Xpath(\"세부품목번호\",f\"//nobr[text()='{detail_item_number}']\")\n",
    "    if g2b.exist(detail_item_number_text):\n",
    "        print(\"이미등록 되어 있습니다.\")\n",
    "        return True\n",
    "\n",
    "    modification_btn = s.Xpath(\"수정버튼\", \"//input[@value='수정(자기정보확인)']\", timeout=5)\n",
    "    if g2b.exist(modification_btn):\n",
    "        g2b.click(modification_btn)\n",
    "\n",
    "    # 주의: 대표물품이 설정 되어 있어야 한다. \n",
    "    add_row_btn = s.Xpath(\"행추가버튼\", \"//input[@value='행추가' and contains(@class, 'inline_block')]\")\n",
    "    g2b.click(add_row_btn)\n",
    "\n",
    "    confirm_btn =  s.Xpath(\"확인버튼\", \"//input[@value='예']\")\n",
    "    g2b.click(confirm_btn)\n",
    "\n",
    "    detailed_item_number_input = s.Xpath(\"세부품명번호 입력\", \"//td[@data-title='세부품명번호']/div/input\")\n",
    "    g2b.type(detailed_item_number_input, detail_item_number)\n",
    "\n",
    "    search_btn = s.Xpath(\"검색버튼\", \"//input[@value='검색' and contains(@class, 'btn')]\")\n",
    "    g2b.click(search_btn)\n",
    "\n",
    "    detailed_item_number_btn = s.Xpath(\"세부품명번호 버튼\", f\"//a[text()='{detail_item_number}']\")\n",
    "    g2b.click(detailed_item_number_btn)\n",
    "\n",
    "    close_btn = s.Xpath(\"닫기버튼\", \"//input[@value='닫기' and contains(@class, 'btn_cm') and contains(@class, 'close') and not(@aria-hidden)]\")\n",
    "    g2b.click(close_btn)\n",
    "\n",
    "    # 자기정보수정 저장\n",
    "    save_btn = s.Xpath(\"저장버튼튼\",\"//input[@title='자기정보수정 저장']\")\n",
    "    g2b.click(save_btn)\n",
    "\n",
    "    confirm_btn = s.Xpath(\"확인버튼\", \"//input[@value='확인']\")\n",
    "    g2b.click(confirm_btn)\n",
    "\n",
    "register_pre(detail_item_number)\n"
   ]
  },
  {
   "cell_type": "markdown",
   "metadata": {},
   "source": [
    "# Participate"
   ]
  },
  {
   "cell_type": "code",
   "execution_count": null,
   "metadata": {},
   "outputs": [
    {
     "name": "stderr",
     "output_type": "stream",
     "text": [
      "2025-02-11 00:52:22,532 - Automatic - DEBUG - go on G2B 홈페이지. path=https://www.g2b.go.kr\n",
      "DEBUG:Automatic:go on G2B 홈페이지. path=https://www.g2b.go.kr\n",
      "2025-02-11 00:52:25,614 - Automatic - DEBUG - click on 입찰 버튼. path=//a[contains(@class, 'btn') and span[text()='입찰']]\n",
      "DEBUG:Automatic:click on 입찰 버튼. path=//a[contains(@class, 'btn') and span[text()='입찰']]\n",
      "2025-02-11 00:52:36,102 - Automatic - DEBUG - click on 입찰공고목록 버튼. path=//a[contains(@class, 'btn') and span[text()='입찰공고목록']]\n",
      "DEBUG:Automatic:click on 입찰공고목록 버튼. path=//a[contains(@class, 'btn') and span[text()='입찰공고목록']]\n",
      "2025-02-11 00:52:40,649 - Automatic - DEBUG - type on 입찰공고번호 입력. path=//input[@title='입찰공고번호']\n",
      "DEBUG:Automatic:type on 입찰공고번호 입력. path=//input[@title='입찰공고번호']\n",
      "2025-02-11 00:52:46,838 - Automatic - DEBUG - click on 검색버튼. path=//input[@value='검색']\n",
      "DEBUG:Automatic:click on 검색버튼. path=//input[@value='검색']\n",
      "2025-02-11 00:52:51,313 - Automatic - DEBUG - click on 입찰진행 버튼. path=//button[text()='입찰진행']\n",
      "DEBUG:Automatic:click on 입찰진행 버튼. path=//button[text()='입찰진행']\n",
      "2025-02-11 00:52:52,828 - Automatic - DEBUG - click on 투찰 버튼. path=//button[text()='투 찰']\n",
      "DEBUG:Automatic:click on 투찰 버튼. path=//button[text()='투 찰']\n",
      "2025-02-11 00:52:54,805 - Automatic - DEBUG - exist on 금융인증서. path=//span[text()='금융인증서']/..\n",
      "DEBUG:Automatic:exist on 금융인증서. path=//span[text()='금융인증서']/..\n",
      "2025-02-11 00:53:00,248 - Automatic - DEBUG - ERROR: Failed to get elements.<class 'selenium.common.exceptions.TimeoutException'> Message: \n",
      "\n",
      "DEBUG:Automatic:ERROR: Failed to get elements.<class 'selenium.common.exceptions.TimeoutException'> Message: \n",
      "\n",
      "2025-02-11 00:53:00,251 - Automatic - DEBUG - Failed to find an element\n",
      "DEBUG:Automatic:Failed to find an element\n",
      "2025-02-11 00:53:00,254 - Automatic - DEBUG - click on 가격 입찰서 작성(투찰)하러 가기. path=//input[@value='가격 입찰서 작성(투찰)하러 가기']\n",
      "DEBUG:Automatic:click on 가격 입찰서 작성(투찰)하러 가기. path=//input[@value='가격 입찰서 작성(투찰)하러 가기']\n",
      "2025-02-11 00:53:00,659 - Automatic - DEBUG - click on 기업정보제공동의. path=//input[@title='기업정보 제공에 동의합니다.']\n",
      "DEBUG:Automatic:click on 기업정보제공동의. path=//input[@title='기업정보 제공에 동의합니다.']\n",
      "2025-02-11 00:53:01,815 - Automatic - DEBUG - click on 행정정보 공동이용 동의. path=//input[@title='행정정보 공동이용에 동의합니다.']\n",
      "DEBUG:Automatic:click on 행정정보 공동이용 동의. path=//input[@title='행정정보 공동이용에 동의합니다.']\n",
      "2025-02-11 00:53:02,220 - Automatic - DEBUG - click on 위 사항 동의의. path=//input[@title='위 사항을 모두 이해 하였으며, 이에 동의합니다.']\n",
      "DEBUG:Automatic:click on 위 사항 동의의. path=//input[@title='위 사항을 모두 이해 하였으며, 이에 동의합니다.']\n",
      "2025-02-11 00:53:02,728 - Automatic - DEBUG - click on 확인. path=//input[@value='확인']\n",
      "DEBUG:Automatic:click on 확인. path=//input[@value='확인']\n",
      "2025-02-11 00:53:03,219 - Automatic - DEBUG - click on 동의. path=//input[@title='위 투찰금액 결정 관련 유의사항을 숙지하고, 이에 동의합니다.']\n",
      "DEBUG:Automatic:click on 동의. path=//input[@title='위 투찰금액 결정 관련 유의사항을 숙지하고, 이에 동의합니다.']\n",
      "2025-02-11 00:53:06,266 - Automatic - DEBUG - type on 총액. path=//input[@title='총액']\n",
      "DEBUG:Automatic:type on 총액. path=//input[@title='총액']\n",
      "2025-02-11 00:53:07,370 - Automatic - DEBUG - click on 동의. path=//input[@title='청렴계약서 및 입찰관련 유의사항들을 숙지하였으며, 이에 동의합니다.']\n",
      "DEBUG:Automatic:click on 동의. path=//input[@title='청렴계약서 및 입찰관련 유의사항들을 숙지하였으며, 이에 동의합니다.']\n",
      "2025-02-11 00:53:07,868 - Automatic - DEBUG - click on 송신 버튼튼. path=//input[@value='송신']\n",
      "DEBUG:Automatic:click on 송신 버튼튼. path=//input[@value='송신']\n",
      "2025-02-11 00:53:08,597 - Automatic - DEBUG - click on 확인 버튼. path=//input[@value='확인']\n",
      "DEBUG:Automatic:click on 확인 버튼. path=//input[@value='확인']\n",
      "2025-02-11 00:53:09,717 - Automatic - DEBUG - click on 동의. path=//input[@title='위 사항을 모두 확인하였으며, 이에 동의합니다.']\n",
      "DEBUG:Automatic:click on 동의. path=//input[@title='위 사항을 모두 확인하였으며, 이에 동의합니다.']\n",
      "2025-02-11 00:53:10,913 - Automatic - DEBUG - click on 확인 버튼. path=//input[@value='확인']\n",
      "DEBUG:Automatic:click on 확인 버튼. path=//input[@value='확인']\n",
      "2025-02-11 00:53:11,459 - Automatic - DEBUG - clicks on 체크박스. path=//div[@class='w2group ltt_con']/ul/li/input\n",
      "DEBUG:Automatic:clicks on 체크박스. path=//div[@class='w2group ltt_con']/ul/li/input\n",
      "2025-02-11 00:53:16,219 - Automatic - DEBUG - click on 추첨번호 전송. path=//input[@value='추첨번호 전송']\n",
      "DEBUG:Automatic:click on 추첨번호 전송. path=//input[@value='추첨번호 전송']\n",
      "2025-02-11 00:53:16,899 - Automatic - DEBUG - click on 예 버튼. path=//input[@value='예']\n",
      "DEBUG:Automatic:click on 예 버튼. path=//input[@value='예']\n",
      "2025-02-11 00:53:17,774 - Automatic - DEBUG - exist on 팝업. path=//div[contains(text(),'선택한 공동인증서를 계속 사용')]\n",
      "DEBUG:Automatic:exist on 팝업. path=//div[contains(text(),'선택한 공동인증서를 계속 사용')]\n",
      "2025-02-11 00:53:18,690 - Automatic - DEBUG - click on 예 버튼. path=//input[@value='예']\n",
      "DEBUG:Automatic:click on 예 버튼. path=//input[@value='예']\n",
      "2025-02-11 00:53:19,115 - Automatic - DEBUG - click on 확인. path=//input[@value='확인']\n",
      "DEBUG:Automatic:click on 확인. path=//input[@value='확인']\n",
      "2025-02-11 00:53:20,521 - Automatic - DEBUG - click on 종료버튼. path=//input[@value='종료']\n",
      "DEBUG:Automatic:click on 종료버튼. path=//input[@value='종료']\n",
      "2025-02-11 00:53:41,230 - Automatic - DEBUG - ERROR: Failed to get elements.<class 'selenium.common.exceptions.TimeoutException'> Message: \n",
      "\n",
      "DEBUG:Automatic:ERROR: Failed to get elements.<class 'selenium.common.exceptions.TimeoutException'> Message: \n",
      "\n",
      "2025-02-11 00:53:41,235 - Automatic - DEBUG - Failed to find an element\n",
      "DEBUG:Automatic:Failed to find an element\n"
     ]
    },
    {
     "ename": "ElementNotFoundException",
     "evalue": "Element is not Found.. op=click, desc=종료버튼. path=//input[@value='종료']",
     "output_type": "error",
     "traceback": [
      "\u001b[1;31m---------------------------------------------------------------------------\u001b[0m",
      "\u001b[1;31mElementNotFoundException\u001b[0m                  Traceback (most recent call last)",
      "Cell \u001b[1;32mIn[25], line 118\u001b[0m\n\u001b[0;32m    116\u001b[0m bid \u001b[38;5;241m=\u001b[39m \u001b[38;5;124m\"\u001b[39m\u001b[38;5;124mR25BK00605052-000\u001b[39m\u001b[38;5;124m\"\u001b[39m\n\u001b[0;32m    117\u001b[0m cost \u001b[38;5;241m=\u001b[39m \u001b[38;5;124m\"\u001b[39m\u001b[38;5;124m238612084\u001b[39m\u001b[38;5;124m\"\u001b[39m\n\u001b[1;32m--> 118\u001b[0m \u001b[43mparticipate\u001b[49m\u001b[43m(\u001b[49m\u001b[43mbid\u001b[49m\u001b[43m,\u001b[49m\u001b[43m \u001b[49m\u001b[43mcost\u001b[49m\u001b[43m)\u001b[49m\n",
      "Cell \u001b[1;32mIn[25], line 114\u001b[0m, in \u001b[0;36mparticipate\u001b[1;34m(bid, cost)\u001b[0m\n\u001b[0;32m    111\u001b[0m g2b\u001b[38;5;241m.\u001b[39mclick(confirm_btn)\n\u001b[0;32m    113\u001b[0m btn \u001b[38;5;241m=\u001b[39m s\u001b[38;5;241m.\u001b[39mXpath(\u001b[38;5;124m\"\u001b[39m\u001b[38;5;124m종료버튼\u001b[39m\u001b[38;5;124m\"\u001b[39m, \u001b[38;5;124m\"\u001b[39m\u001b[38;5;124m//input[@value=\u001b[39m\u001b[38;5;124m'\u001b[39m\u001b[38;5;124m종료\u001b[39m\u001b[38;5;124m'\u001b[39m\u001b[38;5;124m]\u001b[39m\u001b[38;5;124m\"\u001b[39m)\n\u001b[1;32m--> 114\u001b[0m \u001b[43mg2b\u001b[49m\u001b[38;5;241;43m.\u001b[39;49m\u001b[43mclick\u001b[49m\u001b[43m(\u001b[49m\u001b[43mbtn\u001b[49m\u001b[43m)\u001b[49m\n",
      "File \u001b[1;32mc:\\Users\\jaeyo\\virtual_machines\\shared\\incon\\test\\..\\thirdparty\\automatic\\automatic\\automatic.py:60\u001b[0m, in \u001b[0;36mAutomatic.click\u001b[1;34m(self, target)\u001b[0m\n\u001b[0;32m     59\u001b[0m \u001b[38;5;28;01mdef\u001b[39;00m \u001b[38;5;21mclick\u001b[39m(\u001b[38;5;28mself\u001b[39m, target: Descriptor):\n\u001b[1;32m---> 60\u001b[0m     \u001b[38;5;28;01mreturn\u001b[39;00m \u001b[38;5;28;43mself\u001b[39;49m\u001b[38;5;241;43m.\u001b[39;49m\u001b[43m_do\u001b[49m\u001b[43m(\u001b[49m\u001b[38;5;124;43m\"\u001b[39;49m\u001b[38;5;124;43mclick\u001b[39;49m\u001b[38;5;124;43m\"\u001b[39;49m\u001b[43m,\u001b[49m\u001b[43m \u001b[49m\u001b[43mtarget\u001b[49m\u001b[43m)\u001b[49m\n",
      "File \u001b[1;32mc:\\Users\\jaeyo\\virtual_machines\\shared\\incon\\test\\..\\thirdparty\\automatic\\automatic\\automatic.py:40\u001b[0m, in \u001b[0;36mAutomatic._do\u001b[1;34m(self, op, desc, *args, **kwargs)\u001b[0m\n\u001b[0;32m     36\u001b[0m     \u001b[38;5;28;01mraise\u001b[39;00m \u001b[38;5;167;01mException\u001b[39;00m(\u001b[38;5;124mf\u001b[39m\u001b[38;5;124m\"\u001b[39m\u001b[38;5;124mContext cannot support type \u001b[39m\u001b[38;5;132;01m{\u001b[39;00m\u001b[38;5;28mtype\u001b[39m(desc)\u001b[38;5;132;01m}\u001b[39;00m\u001b[38;5;124m of desc(\u001b[39m\u001b[38;5;132;01m{\u001b[39;00mdesc\u001b[38;5;132;01m}\u001b[39;00m\u001b[38;5;124m)\u001b[39m\u001b[38;5;124m\"\u001b[39m)\n\u001b[0;32m     37\u001b[0m     \u001b[38;5;66;03m# fmt: on\u001b[39;00m\n\u001b[0;32m     38\u001b[0m \n\u001b[0;32m     39\u001b[0m \u001b[38;5;66;03m# Run operation in a context\u001b[39;00m\n\u001b[1;32m---> 40\u001b[0m \u001b[38;5;28;01mreturn\u001b[39;00m \u001b[38;5;28;43mself\u001b[39;49m\u001b[38;5;241;43m.\u001b[39;49m\u001b[43m_dispatch\u001b[49m\u001b[43m(\u001b[49m\u001b[43mctx\u001b[49m\u001b[43m,\u001b[49m\u001b[43m \u001b[49m\u001b[43mop\u001b[49m\u001b[43m,\u001b[49m\u001b[43m \u001b[49m\u001b[43mdesc\u001b[49m\u001b[43m,\u001b[49m\u001b[43m \u001b[49m\u001b[38;5;241;43m*\u001b[39;49m\u001b[43margs\u001b[49m\u001b[43m,\u001b[49m\u001b[43m \u001b[49m\u001b[38;5;241;43m*\u001b[39;49m\u001b[38;5;241;43m*\u001b[39;49m\u001b[43mkwargs\u001b[49m\u001b[43m)\u001b[49m\n",
      "File \u001b[1;32mc:\\Users\\jaeyo\\virtual_machines\\shared\\incon\\test\\..\\thirdparty\\automatic\\automatic\\automatic.py:28\u001b[0m, in \u001b[0;36mAutomatic._dispatch\u001b[1;34m(self, context, op, *args, **kwargs)\u001b[0m\n\u001b[0;32m     25\u001b[0m \u001b[38;5;28;01mif\u001b[39;00m \u001b[38;5;129;01mnot\u001b[39;00m op:\n\u001b[0;32m     26\u001b[0m     \u001b[38;5;28;01mraise\u001b[39;00m \u001b[38;5;167;01mException\u001b[39;00m(\u001b[38;5;124mf\u001b[39m\u001b[38;5;124m\"\u001b[39m\u001b[38;5;124mContext can not support op:\u001b[39m\u001b[38;5;132;01m{\u001b[39;00mop\u001b[38;5;132;01m}\u001b[39;00m\u001b[38;5;124m\"\u001b[39m)\n\u001b[1;32m---> 28\u001b[0m \u001b[38;5;28;01mreturn\u001b[39;00m \u001b[43mop\u001b[49m\u001b[43m(\u001b[49m\u001b[38;5;241;43m*\u001b[39;49m\u001b[43margs\u001b[49m\u001b[43m,\u001b[49m\u001b[43m \u001b[49m\u001b[38;5;241;43m*\u001b[39;49m\u001b[38;5;241;43m*\u001b[39;49m\u001b[43mkwargs\u001b[49m\u001b[43m)\u001b[49m\n",
      "File \u001b[1;32mc:\\Users\\jaeyo\\virtual_machines\\shared\\incon\\test\\..\\thirdparty\\automatic\\automatic\\selenium\\context.py:282\u001b[0m, in \u001b[0;36mContext.click\u001b[1;34m(self, descriptor)\u001b[0m\n\u001b[0;32m    280\u001b[0m elem \u001b[38;5;241m=\u001b[39m \u001b[38;5;28mself\u001b[39m\u001b[38;5;241m.\u001b[39mget(descriptor)\n\u001b[0;32m    281\u001b[0m \u001b[38;5;28;01mif\u001b[39;00m \u001b[38;5;129;01mnot\u001b[39;00m elem:\n\u001b[1;32m--> 282\u001b[0m     \u001b[38;5;28;01mraise\u001b[39;00m ElementNotFoundException(descriptor, \u001b[38;5;124m\"\u001b[39m\u001b[38;5;124mclick\u001b[39m\u001b[38;5;124m\"\u001b[39m)\n\u001b[0;32m    284\u001b[0m \u001b[38;5;28;01mif\u001b[39;00m \u001b[38;5;129;01mnot\u001b[39;00m \u001b[38;5;28misinstance\u001b[39m(elem, WebElement):\n\u001b[0;32m    285\u001b[0m     \u001b[38;5;28;01mraise\u001b[39;00m InvalidOperationException(descriptor, \u001b[38;5;124m\"\u001b[39m\u001b[38;5;124mclick\u001b[39m\u001b[38;5;124m\"\u001b[39m)\n",
      "\u001b[1;31mElementNotFoundException\u001b[0m: Element is not Found.. op=click, desc=종료버튼. path=//input[@value='종료']"
     ]
    }
   ],
   "source": [
    "def participate(bid, cost):\n",
    "    logging.info(\"입찰 참가 페이지로 이동\")\n",
    "    g2b.go(s.Url(\"G2B 홈페이지\", 'https://www.g2b.go.kr'))\n",
    "    \n",
    "    bid_btn = s.Xpath(\"입찰 버튼\",\"//a[contains(@class, 'btn') and span[text()='입찰']]\")\n",
    "    g2b.click(bid_btn)\n",
    "\n",
    "    bid_notice_list = s.Xpath(\"입찰공고목록 버튼\", \"//a[contains(@class, 'btn') and span[text()='입찰공고목록']]\", differ=3)\n",
    "    g2b.click(bid_notice_list)\n",
    "\n",
    "    bid_notice_number_btn = s.Xpath(\"입찰공고번호 입력\", \"//input[@title='입찰공고번호']\")\n",
    "    g2b.type(bid_notice_number_btn, bid)\n",
    "\n",
    "    search_btn = s.Xpath(\"검색버튼\", \"//input[@value='검색']\")\n",
    "    g2b.click(search_btn)\n",
    "    \n",
    "    participate_process_btn = s.Xpath(\"입찰진행 버튼\", \"//button[text()='입찰진행']\", visible=False)\n",
    "    g2b.click(participate_process_btn)\n",
    "\n",
    "    participate_btn = s.Xpath(\"투찰 버튼\",\"//button[text()='투 찰']\", visible=False)\n",
    "    g2b.click(participate_btn)\n",
    "\n",
    "    # 인증증\n",
    "    certi_btn = s.Xpath(\"금융인증서\", \"//span[text()='금융인증서']/..\",timeout=5)\n",
    "    if g2b.exist(certi_btn):\n",
    "        g2b.click(certi_btn)\n",
    "\n",
    "        agree = s.Xpath(\"개인정보 이용동의\", \"//input[@title='개인정보 이용에 동의합니다.']\")\n",
    "        g2b.click(agree)\n",
    "\n",
    "        request = s.Xpath(\"본인확인요청\",\"//input[@value='본인확인요청']\", differ=5)\n",
    "        g2b.click(request)\n",
    "        g2b.click(request)\n",
    "        \n",
    "        # 금융인증서 \n",
    "        cert_srv_frame = s.Id(\"금융인증서비스 개인\", \"finCertSdkIframe\")\n",
    "        cert = s.Xpath(\"금융인증서\", \"//button[text()='인증이력']/..\", parent=cert_srv_frame)\n",
    "        g2b.click(cert)\n",
    "        def cert_password(pw):\n",
    "            cert_srv_frame = s.Id(\"금융인증서비스 개인\", \"finCertSdkIframe\")\n",
    "            for digit in pw:\n",
    "                cert = s.Xpath(\"금융인증서\", f\"//img[@aria-label='{digit}']\", parent=cert_srv_frame,)\n",
    "                g2b.click(cert)\n",
    "\n",
    "        cert_password(financial_cert)\n",
    "\n",
    "    btn = s.Xpath(\"가격 입찰서 작성(투찰)하러 가기\", \"//input[@value='가격 입찰서 작성(투찰)하러 가기']\")\n",
    "    g2b.click(btn)\n",
    "\n",
    "    company_info_agree = s.Xpath(\"기업정보제공동의\", \"//input[@title='기업정보 제공에 동의합니다.']\", visible=False)\n",
    "    g2b.click(company_info_agree)\n",
    "\n",
    "    pbadms_info_agree = s.Xpath(\"행정정보 공동이용 동의\", \"//input[@title='행정정보 공동이용에 동의합니다.']\", visible=False)\n",
    "    g2b.click(pbadms_info_agree)\n",
    "\n",
    "    all_info_agree = s.Xpath(\"위 사항 동의의\", \"//input[@title='위 사항을 모두 이해 하였으며, 이에 동의합니다.']\", visible=False)\n",
    "    g2b.click(all_info_agree)\n",
    "\n",
    "    confirm_btn = s.Xpath(\"확인\", \"//input[@value='확인']\")\n",
    "    g2b.click(confirm_btn)\n",
    "\n",
    "    agree = s.Xpath(\"동의\", \"//input[@title='위 투찰금액 결정 관련 유의사항을 숙지하고, 이에 동의합니다.']\") \n",
    "    g2b.click(agree)\n",
    "\n",
    "    cost_input = s.Xpath(\"총액\", \"//input[@title='총액']\") \n",
    "    g2b.type(cost_input, cost)\n",
    "\n",
    "    aggree = s.Xpath(\"동의\", \"//input[@title='청렴계약서 및 입찰관련 유의사항들을 숙지하였으며, 이에 동의합니다.']\", visible=False)\n",
    "    g2b.click(aggree)\n",
    "\n",
    "    transfer_btn = s.Xpath(\"송신 버튼튼\", \"//input[@value='송신']\", visible=False)\n",
    "    g2b.click(transfer_btn)\n",
    "\n",
    "    confirm_btn = s.Xpath('확인 버튼', \"//input[@value='확인']\")\n",
    "    g2b.click(confirm_btn)\n",
    "\n",
    "    aggree = s.Xpath(\"동의\", \"//input[@title='위 사항을 모두 확인하였으며, 이에 동의합니다.']\")\n",
    "    g2b.click(aggree)\n",
    "\n",
    "    confirm_btn = s.Xpath('확인 버튼', \"//input[@value='확인']\")\n",
    "    g2b.click(confirm_btn)\n",
    "\n",
    "    lottery_check_box = s.Xpath(\"체크박스\", \"//div[@class='w2group ltt_con']/ul/li/input\")\n",
    "    g2b.clicks(lottery_check_box, num_samples=2)\n",
    "\n",
    "    transfer_lottery_num_btn = s.Xpath(\"추첨번호 전송\", \"//input[@value='추첨번호 전송']\")\n",
    "    g2b.click(transfer_lottery_num_btn)\n",
    "\n",
    "    yes_btn = s.Xpath(\"예 버튼\", \"//input[@value='예']\")\n",
    "    g2b.click(yes_btn)\n",
    "\n",
    "    # 이전에 사용한 공동인증을 다시 사용할 것인지 확인\n",
    "    popup = s.Xpath(\"팝업\", \"//div[contains(text(),'선택한 공동인증서를 계속 사용')]\", differ=4)\n",
    "    if g2b.exist(popup):\n",
    "        g2b.click(yes_btn) \n",
    "        confirm_btn = s.Xpath(\"확인\", \"//input[@value='확인']\")\n",
    "        g2b.click(confirm_btn)\n",
    "    else:\n",
    "        auth_btn = s.Xpath(\"공동인증 버튼\", \"//input[@value='공동인증']\")\n",
    "        g2b.click(auth_btn)\n",
    "\n",
    "        confirm_btn = s.Xpath(\"확인 버튼튼\", \"//input[@value='확인']\", differ=3)\n",
    "        g2b.click(confirm_btn)\n",
    "\n",
    "        frame = s.Id(\"인증서 프레임\", \"dscert\")\n",
    "        cert_pw_input = s.Id(\"패스워드입력성자 \", \"input_cert_pw\", parent=frame)\n",
    "        g2b.type(cert_pw_input, public_cert)\n",
    "\n",
    "        btn = s.Id(\"확인버튼\", \"btn_confirm_iframe\", parent=frame)\n",
    "        g2b.click(btn)\n",
    "\n",
    "    confirm_btn = s.Xpath(\"확인\", \"//input[@value='확인']\", differ=3)\n",
    "    g2b.click(confirm_btn)\n",
    "\n",
    "    btn = s.Xpath(\"종료버튼\", \"//input[@value='종료']\")\n",
    "    g2b.click(btn)\n",
    "\n",
    "bid = \"R25BK00605052-000\"\n",
    "cost = \"238612084\"\n",
    "participate(bid, cost)"
   ]
  }
 ],
 "metadata": {
  "kernelspec": {
   "display_name": "env",
   "language": "python",
   "name": "python3"
  },
  "language_info": {
   "codemirror_mode": {
    "name": "ipython",
    "version": 3
   },
   "file_extension": ".py",
   "mimetype": "text/x-python",
   "name": "python",
   "nbconvert_exporter": "python",
   "pygments_lexer": "ipython3",
   "version": "3.11.9"
  }
 },
 "nbformat": 4,
 "nbformat_minor": 2
}
