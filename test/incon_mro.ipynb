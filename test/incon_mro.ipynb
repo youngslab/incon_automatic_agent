{
 "cells": [
  {
   "cell_type": "code",
   "execution_count": 2,
   "metadata": {},
   "outputs": [],
   "source": [
    "# don't need to load extension everytime. \n",
    "%load_ext autoreload \n",
    "\n",
    "# This needs to be executed everytime.  \n",
    "%autoreload 2"
   ]
  },
  {
   "cell_type": "code",
   "execution_count": 3,
   "metadata": {},
   "outputs": [],
   "source": [
    "import os\n",
    "import sys\n",
    "\n",
    "# 현재 작업 디렉토리 가져오기\n",
    "current_directory = os.getcwd()\n",
    "\n",
    "# fmt: off\n",
    "module_directory = os.path.join(\n",
    "    current_directory, \"..\",\"thirdparty\", \"automatic\")\n",
    "if module_directory not in sys.path:\n",
    "    sys.path.append(module_directory)\n",
    "\n",
    "sys.path.append(os.path.join(current_directory, \"..\"))"
   ]
  },
  {
   "cell_type": "code",
   "execution_count": 4,
   "metadata": {},
   "outputs": [],
   "source": [
    "import logging\n",
    "from automatic.utils import *\n",
    "Logger.init(LOGGER_AUTOMATIC, logging.DEBUG)\n",
    "Logger.init(\"INCON\", logging.DEBUG)"
   ]
  },
  {
   "cell_type": "code",
   "execution_count": 7,
   "metadata": {},
   "outputs": [
    {
     "name": "stdout",
     "output_type": "stream",
     "text": [
      "Using profile: C:\\Users\\jaeyo\\AppData\\Local\\Temp\\tmpla2j9kbd\n"
     ]
    },
    {
     "name": "stdout",
     "output_type": "stream",
     "text": [
      "Using profile: C:\\Users\\jaeyo\\AppData\\Local\\Temp\\tmpla2j9kbd\n"
     ]
    },
    {
     "ename": "SessionNotCreatedException",
     "evalue": "Message: session not created: probably user data directory is already in use, please specify a unique value for --user-data-dir argument, or don't use --user-data-dir\nStacktrace:\n\tGetHandleVerifier [0x00007FF65CD1EE95+16773]\n\tMicrosoft::Applications::Events::ILogConfiguration::operator* [0x00007FF65CC7F160+402688]\n\tMicrosoft::Applications::Events::EventProperty::to_string [0x00007FF65CF74C0A+1818314]\n\t(No symbol) [0x00007FF65CAA2609]\n\t(No symbol) [0x00007FF65CAA01AF]\n\t(No symbol) [0x00007FF65CAE51F5]\n\t(No symbol) [0x00007FF65CAE425B]\n\t(No symbol) [0x00007FF65CAD8C33]\n\t(No symbol) [0x00007FF65CAAD4D6]\n\t(No symbol) [0x00007FF65CAACA82]\n\t(No symbol) [0x00007FF65CAAD303]\n\t(No symbol) [0x00007FF65CBA060D]\n\t(No symbol) [0x00007FF65CBAD642]\n\t(No symbol) [0x00007FF65CBA5673]\n\tMicrosoft::Applications::Events::EventProperty::to_string [0x00007FF65CDF9BDA+265882]\n\tMicrosoft::Applications::Events::ILogConfiguration::operator* [0x00007FF65CC8C5B1+457041]\n\tMicrosoft::Applications::Events::ILogConfiguration::operator* [0x00007FF65CC85864+429060]\n\tMicrosoft::Applications::Events::ILogConfiguration::operator* [0x00007FF65CC859B3+429395]\n\tMicrosoft::Applications::Events::ILogConfiguration::operator* [0x00007FF65CC774B6+370774]\n\tBaseThreadInitThunk [0x00007FFE77C6259D+29]\n\tRtlUserThreadStart [0x00007FFE792CAF38+40]\n",
     "output_type": "error",
     "traceback": [
      "\u001b[1;31m---------------------------------------------------------------------------\u001b[0m",
      "\u001b[1;31mSessionNotCreatedException\u001b[0m                Traceback (most recent call last)",
      "Cell \u001b[1;32mIn[7], line 6\u001b[0m\n\u001b[0;32m      4\u001b[0m \u001b[38;5;28;01mimport\u001b[39;00m \u001b[38;5;21;01mtempfile\u001b[39;00m\n\u001b[0;32m      5\u001b[0m temp_dir \u001b[38;5;241m=\u001b[39m tempfile\u001b[38;5;241m.\u001b[39mmkdtemp()  \u001b[38;5;66;03m# 임시 디렉토리 생성\u001b[39;00m\n\u001b[1;32m----> 6\u001b[0m drv \u001b[38;5;241m=\u001b[39m \u001b[43mutils\u001b[49m\u001b[38;5;241;43m.\u001b[39;49m\u001b[43medge\u001b[49m\u001b[38;5;241;43m.\u001b[39;49m\u001b[43mcreate_driver\u001b[49m\u001b[43m(\u001b[49m\u001b[43mprofile\u001b[49m\u001b[38;5;241;43m=\u001b[39;49m\u001b[43mtemp_dir\u001b[49m\u001b[43m)\u001b[49m\n",
      "File \u001b[1;32mc:\\Users\\jaeyo\\virtual_machines\\shared\\incon\\test\\..\\utils\\edge.py:23\u001b[0m, in \u001b[0;36mcreate_driver\u001b[1;34m(headless, profile)\u001b[0m\n\u001b[0;32m     20\u001b[0m     \u001b[38;5;28mprint\u001b[39m(\u001b[38;5;124m\"\u001b[39m\u001b[38;5;124mUsing profile:\u001b[39m\u001b[38;5;124m\"\u001b[39m, user_data_path)\n\u001b[0;32m     22\u001b[0m service \u001b[38;5;241m=\u001b[39m Service(EdgeChromiumDriverManager()\u001b[38;5;241m.\u001b[39minstall())\n\u001b[1;32m---> 23\u001b[0m \u001b[38;5;28;01mreturn\u001b[39;00m \u001b[43mwebdriver\u001b[49m\u001b[38;5;241;43m.\u001b[39;49m\u001b[43mEdge\u001b[49m\u001b[43m(\u001b[49m\u001b[43moptions\u001b[49m\u001b[38;5;241;43m=\u001b[39;49m\u001b[43moptions\u001b[49m\u001b[43m,\u001b[49m\u001b[43m \u001b[49m\u001b[43mservice\u001b[49m\u001b[38;5;241;43m=\u001b[39;49m\u001b[43mservice\u001b[49m\u001b[43m)\u001b[49m\n",
      "File \u001b[1;32mc:\\Users\\jaeyo\\virtual_machines\\shared\\incon\\env\\Lib\\site-packages\\selenium\\webdriver\\edge\\webdriver.py:45\u001b[0m, in \u001b[0;36mWebDriver.__init__\u001b[1;34m(self, options, service, keep_alive)\u001b[0m\n\u001b[0;32m     42\u001b[0m service \u001b[38;5;241m=\u001b[39m service \u001b[38;5;28;01mif\u001b[39;00m service \u001b[38;5;28;01melse\u001b[39;00m Service()\n\u001b[0;32m     43\u001b[0m options \u001b[38;5;241m=\u001b[39m options \u001b[38;5;28;01mif\u001b[39;00m options \u001b[38;5;28;01melse\u001b[39;00m Options()\n\u001b[1;32m---> 45\u001b[0m \u001b[38;5;28;43msuper\u001b[39;49m\u001b[43m(\u001b[49m\u001b[43m)\u001b[49m\u001b[38;5;241;43m.\u001b[39;49m\u001b[38;5;21;43m__init__\u001b[39;49m\u001b[43m(\u001b[49m\n\u001b[0;32m     46\u001b[0m \u001b[43m    \u001b[49m\u001b[43mbrowser_name\u001b[49m\u001b[38;5;241;43m=\u001b[39;49m\u001b[43mDesiredCapabilities\u001b[49m\u001b[38;5;241;43m.\u001b[39;49m\u001b[43mEDGE\u001b[49m\u001b[43m[\u001b[49m\u001b[38;5;124;43m\"\u001b[39;49m\u001b[38;5;124;43mbrowserName\u001b[39;49m\u001b[38;5;124;43m\"\u001b[39;49m\u001b[43m]\u001b[49m\u001b[43m,\u001b[49m\n\u001b[0;32m     47\u001b[0m \u001b[43m    \u001b[49m\u001b[43mvendor_prefix\u001b[49m\u001b[38;5;241;43m=\u001b[39;49m\u001b[38;5;124;43m\"\u001b[39;49m\u001b[38;5;124;43mms\u001b[39;49m\u001b[38;5;124;43m\"\u001b[39;49m\u001b[43m,\u001b[49m\n\u001b[0;32m     48\u001b[0m \u001b[43m    \u001b[49m\u001b[43moptions\u001b[49m\u001b[38;5;241;43m=\u001b[39;49m\u001b[43moptions\u001b[49m\u001b[43m,\u001b[49m\n\u001b[0;32m     49\u001b[0m \u001b[43m    \u001b[49m\u001b[43mservice\u001b[49m\u001b[38;5;241;43m=\u001b[39;49m\u001b[43mservice\u001b[49m\u001b[43m,\u001b[49m\n\u001b[0;32m     50\u001b[0m \u001b[43m    \u001b[49m\u001b[43mkeep_alive\u001b[49m\u001b[38;5;241;43m=\u001b[39;49m\u001b[43mkeep_alive\u001b[49m\u001b[43m,\u001b[49m\n\u001b[0;32m     51\u001b[0m \u001b[43m\u001b[49m\u001b[43m)\u001b[49m\n",
      "File \u001b[1;32mc:\\Users\\jaeyo\\virtual_machines\\shared\\incon\\env\\Lib\\site-packages\\selenium\\webdriver\\chromium\\webdriver.py:66\u001b[0m, in \u001b[0;36mChromiumDriver.__init__\u001b[1;34m(self, browser_name, vendor_prefix, options, service, keep_alive)\u001b[0m\n\u001b[0;32m     57\u001b[0m executor \u001b[38;5;241m=\u001b[39m ChromiumRemoteConnection(\n\u001b[0;32m     58\u001b[0m     remote_server_addr\u001b[38;5;241m=\u001b[39m\u001b[38;5;28mself\u001b[39m\u001b[38;5;241m.\u001b[39mservice\u001b[38;5;241m.\u001b[39mservice_url,\n\u001b[0;32m     59\u001b[0m     browser_name\u001b[38;5;241m=\u001b[39mbrowser_name,\n\u001b[1;32m   (...)\u001b[0m\n\u001b[0;32m     62\u001b[0m     ignore_proxy\u001b[38;5;241m=\u001b[39moptions\u001b[38;5;241m.\u001b[39m_ignore_local_proxy,\n\u001b[0;32m     63\u001b[0m )\n\u001b[0;32m     65\u001b[0m \u001b[38;5;28;01mtry\u001b[39;00m:\n\u001b[1;32m---> 66\u001b[0m     \u001b[38;5;28;43msuper\u001b[39;49m\u001b[43m(\u001b[49m\u001b[43m)\u001b[49m\u001b[38;5;241;43m.\u001b[39;49m\u001b[38;5;21;43m__init__\u001b[39;49m\u001b[43m(\u001b[49m\u001b[43mcommand_executor\u001b[49m\u001b[38;5;241;43m=\u001b[39;49m\u001b[43mexecutor\u001b[49m\u001b[43m,\u001b[49m\u001b[43m \u001b[49m\u001b[43moptions\u001b[49m\u001b[38;5;241;43m=\u001b[39;49m\u001b[43moptions\u001b[49m\u001b[43m)\u001b[49m\n\u001b[0;32m     67\u001b[0m \u001b[38;5;28;01mexcept\u001b[39;00m \u001b[38;5;167;01mException\u001b[39;00m:\n\u001b[0;32m     68\u001b[0m     \u001b[38;5;28mself\u001b[39m\u001b[38;5;241m.\u001b[39mquit()\n",
      "File \u001b[1;32mc:\\Users\\jaeyo\\virtual_machines\\shared\\incon\\env\\Lib\\site-packages\\selenium\\webdriver\\remote\\webdriver.py:238\u001b[0m, in \u001b[0;36mWebDriver.__init__\u001b[1;34m(self, command_executor, keep_alive, file_detector, options, locator_converter, web_element_cls, client_config)\u001b[0m\n\u001b[0;32m    236\u001b[0m \u001b[38;5;28mself\u001b[39m\u001b[38;5;241m.\u001b[39m_authenticator_id \u001b[38;5;241m=\u001b[39m \u001b[38;5;28;01mNone\u001b[39;00m\n\u001b[0;32m    237\u001b[0m \u001b[38;5;28mself\u001b[39m\u001b[38;5;241m.\u001b[39mstart_client()\n\u001b[1;32m--> 238\u001b[0m \u001b[38;5;28;43mself\u001b[39;49m\u001b[38;5;241;43m.\u001b[39;49m\u001b[43mstart_session\u001b[49m\u001b[43m(\u001b[49m\u001b[43mcapabilities\u001b[49m\u001b[43m)\u001b[49m\n\u001b[0;32m    240\u001b[0m \u001b[38;5;28mself\u001b[39m\u001b[38;5;241m.\u001b[39m_websocket_connection \u001b[38;5;241m=\u001b[39m \u001b[38;5;28;01mNone\u001b[39;00m\n\u001b[0;32m    241\u001b[0m \u001b[38;5;28mself\u001b[39m\u001b[38;5;241m.\u001b[39m_script \u001b[38;5;241m=\u001b[39m \u001b[38;5;28;01mNone\u001b[39;00m\n",
      "File \u001b[1;32mc:\\Users\\jaeyo\\virtual_machines\\shared\\incon\\env\\Lib\\site-packages\\selenium\\webdriver\\remote\\webdriver.py:325\u001b[0m, in \u001b[0;36mWebDriver.start_session\u001b[1;34m(self, capabilities)\u001b[0m\n\u001b[0;32m    318\u001b[0m \u001b[38;5;250m\u001b[39m\u001b[38;5;124;03m\"\"\"Creates a new session with the desired capabilities.\u001b[39;00m\n\u001b[0;32m    319\u001b[0m \n\u001b[0;32m    320\u001b[0m \u001b[38;5;124;03m:Args:\u001b[39;00m\n\u001b[0;32m    321\u001b[0m \u001b[38;5;124;03m - capabilities - a capabilities dict to start the session with.\u001b[39;00m\n\u001b[0;32m    322\u001b[0m \u001b[38;5;124;03m\"\"\"\u001b[39;00m\n\u001b[0;32m    324\u001b[0m caps \u001b[38;5;241m=\u001b[39m _create_caps(capabilities)\n\u001b[1;32m--> 325\u001b[0m response \u001b[38;5;241m=\u001b[39m \u001b[38;5;28;43mself\u001b[39;49m\u001b[38;5;241;43m.\u001b[39;49m\u001b[43mexecute\u001b[49m\u001b[43m(\u001b[49m\u001b[43mCommand\u001b[49m\u001b[38;5;241;43m.\u001b[39;49m\u001b[43mNEW_SESSION\u001b[49m\u001b[43m,\u001b[49m\u001b[43m \u001b[49m\u001b[43mcaps\u001b[49m\u001b[43m)\u001b[49m[\u001b[38;5;124m\"\u001b[39m\u001b[38;5;124mvalue\u001b[39m\u001b[38;5;124m\"\u001b[39m]\n\u001b[0;32m    326\u001b[0m \u001b[38;5;28mself\u001b[39m\u001b[38;5;241m.\u001b[39msession_id \u001b[38;5;241m=\u001b[39m response\u001b[38;5;241m.\u001b[39mget(\u001b[38;5;124m\"\u001b[39m\u001b[38;5;124msessionId\u001b[39m\u001b[38;5;124m\"\u001b[39m)\n\u001b[0;32m    327\u001b[0m \u001b[38;5;28mself\u001b[39m\u001b[38;5;241m.\u001b[39mcaps \u001b[38;5;241m=\u001b[39m response\u001b[38;5;241m.\u001b[39mget(\u001b[38;5;124m\"\u001b[39m\u001b[38;5;124mcapabilities\u001b[39m\u001b[38;5;124m\"\u001b[39m)\n",
      "File \u001b[1;32mc:\\Users\\jaeyo\\virtual_machines\\shared\\incon\\env\\Lib\\site-packages\\selenium\\webdriver\\remote\\webdriver.py:380\u001b[0m, in \u001b[0;36mWebDriver.execute\u001b[1;34m(self, driver_command, params)\u001b[0m\n\u001b[0;32m    378\u001b[0m response \u001b[38;5;241m=\u001b[39m \u001b[38;5;28mself\u001b[39m\u001b[38;5;241m.\u001b[39mcommand_executor\u001b[38;5;241m.\u001b[39mexecute(driver_command, params)\n\u001b[0;32m    379\u001b[0m \u001b[38;5;28;01mif\u001b[39;00m response:\n\u001b[1;32m--> 380\u001b[0m     \u001b[38;5;28;43mself\u001b[39;49m\u001b[38;5;241;43m.\u001b[39;49m\u001b[43merror_handler\u001b[49m\u001b[38;5;241;43m.\u001b[39;49m\u001b[43mcheck_response\u001b[49m\u001b[43m(\u001b[49m\u001b[43mresponse\u001b[49m\u001b[43m)\u001b[49m\n\u001b[0;32m    381\u001b[0m     response[\u001b[38;5;124m\"\u001b[39m\u001b[38;5;124mvalue\u001b[39m\u001b[38;5;124m\"\u001b[39m] \u001b[38;5;241m=\u001b[39m \u001b[38;5;28mself\u001b[39m\u001b[38;5;241m.\u001b[39m_unwrap_value(response\u001b[38;5;241m.\u001b[39mget(\u001b[38;5;124m\"\u001b[39m\u001b[38;5;124mvalue\u001b[39m\u001b[38;5;124m\"\u001b[39m, \u001b[38;5;28;01mNone\u001b[39;00m))\n\u001b[0;32m    382\u001b[0m     \u001b[38;5;28;01mreturn\u001b[39;00m response\n",
      "File \u001b[1;32mc:\\Users\\jaeyo\\virtual_machines\\shared\\incon\\env\\Lib\\site-packages\\selenium\\webdriver\\remote\\errorhandler.py:229\u001b[0m, in \u001b[0;36mErrorHandler.check_response\u001b[1;34m(self, response)\u001b[0m\n\u001b[0;32m    227\u001b[0m         alert_text \u001b[38;5;241m=\u001b[39m value[\u001b[38;5;124m\"\u001b[39m\u001b[38;5;124malert\u001b[39m\u001b[38;5;124m\"\u001b[39m]\u001b[38;5;241m.\u001b[39mget(\u001b[38;5;124m\"\u001b[39m\u001b[38;5;124mtext\u001b[39m\u001b[38;5;124m\"\u001b[39m)\n\u001b[0;32m    228\u001b[0m     \u001b[38;5;28;01mraise\u001b[39;00m exception_class(message, screen, stacktrace, alert_text)  \u001b[38;5;66;03m# type: ignore[call-arg]  # mypy is not smart enough here\u001b[39;00m\n\u001b[1;32m--> 229\u001b[0m \u001b[38;5;28;01mraise\u001b[39;00m exception_class(message, screen, stacktrace)\n",
      "\u001b[1;31mSessionNotCreatedException\u001b[0m: Message: session not created: probably user data directory is already in use, please specify a unique value for --user-data-dir argument, or don't use --user-data-dir\nStacktrace:\n\tGetHandleVerifier [0x00007FF65CD1EE95+16773]\n\tMicrosoft::Applications::Events::ILogConfiguration::operator* [0x00007FF65CC7F160+402688]\n\tMicrosoft::Applications::Events::EventProperty::to_string [0x00007FF65CF74C0A+1818314]\n\t(No symbol) [0x00007FF65CAA2609]\n\t(No symbol) [0x00007FF65CAA01AF]\n\t(No symbol) [0x00007FF65CAE51F5]\n\t(No symbol) [0x00007FF65CAE425B]\n\t(No symbol) [0x00007FF65CAD8C33]\n\t(No symbol) [0x00007FF65CAAD4D6]\n\t(No symbol) [0x00007FF65CAACA82]\n\t(No symbol) [0x00007FF65CAAD303]\n\t(No symbol) [0x00007FF65CBA060D]\n\t(No symbol) [0x00007FF65CBAD642]\n\t(No symbol) [0x00007FF65CBA5673]\n\tMicrosoft::Applications::Events::EventProperty::to_string [0x00007FF65CDF9BDA+265882]\n\tMicrosoft::Applications::Events::ILogConfiguration::operator* [0x00007FF65CC8C5B1+457041]\n\tMicrosoft::Applications::Events::ILogConfiguration::operator* [0x00007FF65CC85864+429060]\n\tMicrosoft::Applications::Events::ILogConfiguration::operator* [0x00007FF65CC859B3+429395]\n\tMicrosoft::Applications::Events::ILogConfiguration::operator* [0x00007FF65CC774B6+370774]\n\tBaseThreadInitThunk [0x00007FFE77C6259D+29]\n\tRtlUserThreadStart [0x00007FFE792CAF38+40]\n"
     ]
    }
   ],
   "source": [
    "%autoreload 2\n",
    "import utils.edge \n",
    "\n",
    "import os\n",
    "temp_dir = os.path.join(os.getcwd(), \"temp_profile\")  # 명시적 경로 설정\n",
    "os.makedirs(temp_dir, exist_ok=True)  # 디렉토리 생성\n",
    "drv = utils.edge.create_driver(profile=temp_dir)"
   ]
  },
  {
   "cell_type": "code",
   "execution_count": 6,
   "metadata": {},
   "outputs": [
    {
     "ename": "NameError",
     "evalue": "name 'drv' is not defined",
     "output_type": "error",
     "traceback": [
      "\u001b[1;31m---------------------------------------------------------------------------\u001b[0m",
      "\u001b[1;31mNameError\u001b[0m                                 Traceback (most recent call last)",
      "Cell \u001b[1;32mIn[6], line 9\u001b[0m\n\u001b[0;32m      6\u001b[0m pw\u001b[38;5;241m=\u001b[39maccount\u001b[38;5;241m.\u001b[39maccount_get(\u001b[38;5;124m\"\u001b[39m\u001b[38;5;124mincon\u001b[39m\u001b[38;5;124m\"\u001b[39m, \u001b[38;5;124m\"\u001b[39m\u001b[38;5;124mpw\u001b[39m\u001b[38;5;124m\"\u001b[39m)\n\u001b[0;32m      7\u001b[0m \u001b[38;5;28mid\u001b[39m\u001b[38;5;241m=\u001b[39maccount\u001b[38;5;241m.\u001b[39maccount_get(\u001b[38;5;124m\"\u001b[39m\u001b[38;5;124mincon\u001b[39m\u001b[38;5;124m\"\u001b[39m, \u001b[38;5;124m\"\u001b[39m\u001b[38;5;124mid\u001b[39m\u001b[38;5;124m\"\u001b[39m)\n\u001b[1;32m----> 9\u001b[0m incon \u001b[38;5;241m=\u001b[39m InconMRO(\u001b[43mdrv\u001b[49m, \u001b[38;5;28mid\u001b[39m, pw)\n",
      "\u001b[1;31mNameError\u001b[0m: name 'drv' is not defined"
     ]
    }
   ],
   "source": [
    "\n",
    "# This needs to be executed everytime.  \n",
    "%autoreload 2\n",
    "\n",
    "from org.incon import InconMRO\n",
    "import account\n",
    "pw=account.account_get(\"incon\", \"pw\")\n",
    "id=account.account_get(\"incon\", \"id\")\n",
    "\n",
    "incon = InconMRO(drv, id, pw)"
   ]
  },
  {
   "cell_type": "code",
   "execution_count": 5,
   "metadata": {},
   "outputs": [
    {
     "ename": "NameError",
     "evalue": "name 'incon' is not defined",
     "output_type": "error",
     "traceback": [
      "\u001b[1;31m---------------------------------------------------------------------------\u001b[0m",
      "\u001b[1;31mNameError\u001b[0m                                 Traceback (most recent call last)",
      "Cell \u001b[1;32mIn[5], line 1\u001b[0m\n\u001b[1;32m----> 1\u001b[0m \u001b[43mincon\u001b[49m\u001b[38;5;241m.\u001b[39mlogin()\n",
      "\u001b[1;31mNameError\u001b[0m: name 'incon' is not defined"
     ]
    }
   ],
   "source": [
    "\n",
    "incon.login()\n"
   ]
  },
  {
   "cell_type": "code",
   "execution_count": 7,
   "metadata": {},
   "outputs": [
    {
     "name": "stderr",
     "output_type": "stream",
     "text": [
      "2025-04-11 00:43:56,747 - Automatic - DEBUG - go on 소싱요청 페이지. path=https://www.incon-mro.com/shop/sourcingrequestlist.php\n",
      "2025-04-11 00:43:59,423 - Automatic - DEBUG - click on 소싱 요청 버튼. path=//button[text()='전체소싱요청']\n",
      "2025-04-11 00:43:59,610 - Automatic - DEBUG - accept on 소싱 요청 확인 팝업. path=전체를 소싱요청하시겠습니까?\n",
      "2025-04-11 00:43:59,619 - Automatic - DEBUG - accept: 전체를 소싱요청하시겠습니까?\n",
      "\n",
      "* 소싱요청은 단순 견적 요청 단계입니다. 투찰하시면 안됩니다.\n",
      "  (소싱요청 후 사전등록탭으로 이동해주세요.)\n",
      "2025-04-11 00:43:59,626 - Automatic - DEBUG - exist on 소싱 완료 팝업. path=전체소싱요청 하실 항목이 존재하지 않습니다.\n",
      "2025-04-11 00:44:00,325 - Automatic - DEBUG - accept on 소싱 완료 팝업. path=전체소싱요청 하실 항목이 존재하지 않습니다.\n",
      "2025-04-11 00:44:00,339 - Automatic - DEBUG - accept: 전체소싱요청 하실 항목이 존재하지 않습니다.\n",
      "2025-04-11 00:44:00,348 - Automatic - DEBUG - exist on 사전등록. path=//a[text()='사전등록']\n",
      "2025-04-11 00:44:02,514 - Automatic - DEBUG - go on 소싱완료탭. path=https://www.incon-mro.com/shop/sourcingcompletelist.php\n",
      "2025-04-11 00:44:03,312 - Automatic - DEBUG - exist on 페이지 버튼. path=//*[@id=\"sourcingcomplete\"]/div/nav/span/a\n",
      "2025-04-11 00:44:03,477 - Automatic - DEBUG - count on 페이지 버튼. path=//*[@id=\"sourcingcomplete\"]/div/nav/span/a\n",
      "2025-04-11 00:44:03,596 - Automatic - DEBUG - go on 소싱완료 탭. path=https://www.incon-mro.com/shop/sourcingcompletelist.php?&page=1\n",
      "2025-04-11 00:44:04,207 - Automatic - DEBUG - table on 소싱완료 리스트. path=//*[@id=\"sourcingcomplete\"]/div/table\n",
      "2025-04-11 00:44:04,440 - Automatic - DEBUG - click on 가격산정 버튼. path=//*[@id=\"sourcingcomplete\"]/div/table/tbody/tr[10]/td[5]/a\n",
      "2025-04-11 00:44:05,554 - Automatic - DEBUG - exist on 채택 버튼. path=//button[text()='채택 후 가격산정하기']\n",
      "2025-04-11 00:44:05,671 - Automatic - DEBUG - click on 채택 버튼. path=//button[text()='채택 후 가격산정하기']\n",
      "2025-04-11 00:44:05,899 - Automatic - DEBUG - exist on 가격산정 확인 팝업. path=채택 후 가격산정 하시겠습니까?\n",
      "2025-04-11 00:44:05,911 - Automatic - DEBUG - accept on 가격산정 확인 팝업. path=채택 후 가격산정 하시겠습니까?\n",
      "2025-04-11 00:44:05,925 - Automatic - DEBUG - accept: 채택 후 가격산정 하시겠습니까?\n",
      "2025-04-11 00:44:05,935 - Automatic - DEBUG - click on 가격산정 버튼. path=//a[text()='가격을 산정 하겠습니다.']\n",
      "2025-04-11 00:44:06,658 - Automatic - DEBUG - text on 사정율 범위. path=//th[text()=\"사정율 범위\"]/../td\n",
      "2025-04-11 00:44:06,921 - Automatic - DEBUG - type on 범위 입력 상자. path=assessment_rate\n",
      "2025-04-11 00:44:07,294 - Automatic - DEBUG - click on 가격 저장. path=//button[text()='가격 저장' and @class='btn_bid_amount']\n",
      "2025-04-11 00:44:07,621 - Automatic - DEBUG - accept on 저장 확인 팝업. path=가격산정을 저장하시겠습니까?\n",
      "2025-04-11 00:44:07,643 - Automatic - DEBUG - accept: 가격산정을 저장하시겠습니까?\n",
      "2025-04-11 00:44:07,656 - Automatic - DEBUG - accept on 저장 완료 팝업. path=해당하는 가격을 저장했습니다.\n",
      "2025-04-11 00:44:07,832 - Automatic - DEBUG - accept: 해당하는 가격을 저장했습니다.\n",
      "2025-04-11 00:44:07,845 - Automatic - DEBUG - go on 소싱완료 탭. path=https://www.incon-mro.com/shop/sourcingcompletelist.php?&page=1\n",
      "2025-04-11 00:44:09,674 - Automatic - DEBUG - table on 소싱완료 리스트. path=//*[@id=\"sourcingcomplete\"]/div/table\n",
      "2025-04-11 00:44:09,891 - Automatic - DEBUG - go on 소싱완료 탭. path=https://www.incon-mro.com/shop/sourcingcompletelist.php?&page=2\n",
      "2025-04-11 00:44:11,153 - Automatic - DEBUG - table on 소싱완료 리스트. path=//*[@id=\"sourcingcomplete\"]/div/table\n",
      "2025-04-11 00:44:11,329 - Automatic - DEBUG - click on 가격산정 버튼. path=//*[@id=\"sourcingcomplete\"]/div/table/tbody/tr[3]/td[5]/a\n",
      "2025-04-11 00:44:12,524 - Automatic - DEBUG - exist on 채택 버튼. path=//button[text()='채택 후 가격산정하기']\n",
      "2025-04-11 00:44:12,593 - Automatic - DEBUG - click on 채택 버튼. path=//button[text()='채택 후 가격산정하기']\n",
      "2025-04-11 00:44:12,772 - Automatic - DEBUG - exist on 가격산정 확인 팝업. path=채택 후 가격산정 하시겠습니까?\n",
      "2025-04-11 00:44:12,781 - Automatic - DEBUG - accept on 가격산정 확인 팝업. path=채택 후 가격산정 하시겠습니까?\n",
      "2025-04-11 00:44:12,794 - Automatic - DEBUG - accept: 채택 후 가격산정 하시겠습니까?\n",
      "2025-04-11 00:44:12,804 - Automatic - DEBUG - click on 가격산정 버튼. path=//a[text()='가격을 산정 하겠습니다.']\n",
      "2025-04-11 00:44:13,744 - Automatic - DEBUG - text on 사정율 범위. path=//th[text()=\"사정율 범위\"]/../td\n",
      "2025-04-11 00:44:13,846 - Automatic - DEBUG - type on 범위 입력 상자. path=assessment_rate\n",
      "2025-04-11 00:44:14,110 - Automatic - DEBUG - click on 가격 저장. path=//button[text()='가격 저장' and @class='btn_bid_amount']\n",
      "2025-04-11 00:44:14,354 - Automatic - DEBUG - accept on 저장 확인 팝업. path=가격산정을 저장하시겠습니까?\n",
      "2025-04-11 00:44:14,367 - Automatic - DEBUG - accept: 가격산정을 저장하시겠습니까?\n",
      "2025-04-11 00:44:14,377 - Automatic - DEBUG - accept on 저장 완료 팝업. path=해당하는 가격을 저장했습니다.\n",
      "2025-04-11 00:44:14,891 - Automatic - DEBUG - accept: 해당하는 가격을 저장했습니다.\n",
      "2025-04-11 00:44:14,900 - Automatic - DEBUG - go on 소싱완료 탭. path=https://www.incon-mro.com/shop/sourcingcompletelist.php?&page=2\n",
      "2025-04-11 00:44:17,314 - Automatic - DEBUG - table on 소싱완료 리스트. path=//*[@id=\"sourcingcomplete\"]/div/table\n",
      "2025-04-11 00:44:17,459 - Automatic - DEBUG - click on 가격산정 버튼. path=//*[@id=\"sourcingcomplete\"]/div/table/tbody/tr[6]/td[5]/a\n",
      "2025-04-11 00:44:19,093 - Automatic - DEBUG - exist on 채택 버튼. path=//button[text()='채택 후 가격산정하기']\n",
      "2025-04-11 00:44:19,347 - Automatic - DEBUG - click on 채택 버튼. path=//button[text()='채택 후 가격산정하기']\n",
      "2025-04-11 00:44:19,671 - Automatic - DEBUG - exist on 가격산정 확인 팝업. path=채택 후 가격산정 하시겠습니까?\n",
      "2025-04-11 00:44:19,696 - Automatic - DEBUG - accept on 가격산정 확인 팝업. path=채택 후 가격산정 하시겠습니까?\n",
      "2025-04-11 00:44:19,719 - Automatic - DEBUG - accept: 채택 후 가격산정 하시겠습니까?\n",
      "2025-04-11 00:44:19,739 - Automatic - DEBUG - click on 가격산정 버튼. path=//a[text()='가격을 산정 하겠습니다.']\n",
      "2025-04-11 00:44:20,528 - Automatic - DEBUG - text on 사정율 범위. path=//th[text()=\"사정율 범위\"]/../td\n",
      "2025-04-11 00:44:20,801 - Automatic - DEBUG - type on 범위 입력 상자. path=assessment_rate\n",
      "2025-04-11 00:44:21,569 - Automatic - DEBUG - click on 가격 저장. path=//button[text()='가격 저장' and @class='btn_bid_amount']\n",
      "2025-04-11 00:44:22,133 - Automatic - DEBUG - accept on 저장 확인 팝업. path=가격산정을 저장하시겠습니까?\n",
      "2025-04-11 00:44:22,160 - Automatic - DEBUG - accept: 가격산정을 저장하시겠습니까?\n",
      "2025-04-11 00:44:22,184 - Automatic - DEBUG - accept on 저장 완료 팝업. path=해당하는 가격을 저장했습니다.\n",
      "2025-04-11 00:44:23,771 - Automatic - DEBUG - accept: 해당하는 가격을 저장했습니다.\n",
      "2025-04-11 00:44:23,861 - Automatic - DEBUG - go on 소싱완료 탭. path=https://www.incon-mro.com/shop/sourcingcompletelist.php?&page=2\n",
      "2025-04-11 00:44:27,171 - Automatic - DEBUG - table on 소싱완료 리스트. path=//*[@id=\"sourcingcomplete\"]/div/table\n",
      "2025-04-11 00:44:27,391 - Automatic - DEBUG - go on 소싱완료 탭. path=https://www.incon-mro.com/shop/sourcingcompletelist.php?&page=3\n",
      "2025-04-11 00:44:28,604 - Automatic - DEBUG - table on 소싱완료 리스트. path=//*[@id=\"sourcingcomplete\"]/div/table\n"
     ]
    }
   ],
   "source": [
    "incon.init_pre()\n",
    "incon.init_bid()"
   ]
  },
  {
   "cell_type": "code",
   "execution_count": 6,
   "metadata": {},
   "outputs": [],
   "source": [
    "%autoreload 2\n",
    "\n",
    "from utils.table import to_agent_table\n",
    "pres = incon.get_pre_data()\n"
   ]
  },
  {
   "cell_type": "code",
   "execution_count": 7,
   "metadata": {},
   "outputs": [
    {
     "name": "stdout",
     "output_type": "stream",
     "text": [
      "+---+--------------------+---------------------+------------------------------------------+\n",
      "| - |       market       |        number       |                  title                   |\n",
      "+---+--------------------+---------------------+------------------------------------------+\n",
      "| X |      가스공사      |   2025020704001-00  | 2025년 공급관리소 PIC 구매               |\n",
      "| X |      가스공사      |   2025021011001-00  | 2025년 공급관리소 MOV Actuator 구매 교체 |\n",
      "| X |      가스공사      |   2025021104001-00  | 2025년 가스필터용 엘리먼트 통합발주      |\n",
      "| X |      가스공사      |   2025020710001-00  | 2025년 울타리감지기 부속자재 통합발주 …  |\n",
      "| X |      가스공사      |   2025021219001-00  | 2025년도 저장탱크(TK-201~205) 하역밸브 … |\n",
      "| X |    국방전자조달    | 2025UMM008003436-01 | 25-F-소형 타이어 탈착기 구매(259003-F)   |\n",
      "| O |      나라장터      |      1235239101     | 염화칼슘                                 |\n",
      "| O |      한국전력      |    G052500152-00    | 복합 2호기 증기터빈 계획예방정비용 일반… |\n",
      "| O | 한국전력(직접이행) |    G082500059-00    | [울산] ST#2 계획예방정비공사 사급자재 …  |\n",
      "| O |      한국전력      |    G052500168-00    | ST LO Cooler 정비용 자재 구매            |\n",
      "+---+--------------------+---------------------+------------------------------------------+\n"
     ]
    }
   ],
   "source": [
    "table = to_agent_table(pres, [ \"is_completed\", \"market\", \"number\", \"title\"])\n",
    "print(table)"
   ]
  },
  {
   "cell_type": "code",
   "execution_count": 8,
   "metadata": {},
   "outputs": [],
   "source": [
    "raw_pres = incon.get_pre_data_raw()"
   ]
  },
  {
   "cell_type": "code",
   "execution_count": 6,
   "metadata": {},
   "outputs": [
    {
     "name": "stderr",
     "output_type": "stream",
     "text": [
      "2024-12-17 00:27:57,143 - Incon - INFO - 입찰 데이터 요청\n",
      "2024-12-17 00:27:58,281 - Incon - INFO - 입찰 등록데이터 요청 - 1 page\n",
      "2024-12-17 00:27:59,438 - Incon - INFO - 입찰 데이터 클렌징\n",
      "2024-12-17 00:27:59,468 - Incon - INFO - 입찰 등록데이터 요청 - 2 page\n",
      "2024-12-17 00:28:00,371 - Incon - INFO - 입찰 데이터 클렌징\n",
      "2024-12-17 00:28:00,392 - Incon - INFO - 입찰 데이터 클렌징\n"
     ]
    }
   ],
   "source": [
    "\n",
    "bids = incon.get_bid_data()\n"
   ]
  },
  {
   "cell_type": "code",
   "execution_count": 8,
   "metadata": {},
   "outputs": [
    {
     "data": {
      "text/html": [
       "<table>\n",
       "    <thead>\n",
       "        <tr>\n",
       "            <th>-</th>\n",
       "            <th>market</th>\n",
       "            <th>number</th>\n",
       "            <th>price</th>\n",
       "            <th>title</th>\n",
       "        </tr>\n",
       "    </thead>\n",
       "    <tbody>\n",
       "        <tr>\n",
       "            <td>X</td>\n",
       "            <td>나라장터</td>\n",
       "            <td>20241204921-00</td>\n",
       "            <td>290,679.51</td>\n",
       "            <td>2025년도 시립하이서울유스호스텔 미화 용…</td>\n",
       "        </tr>\n",
       "        <tr>\n",
       "            <td>X</td>\n",
       "            <td>나라장터</td>\n",
       "            <td>20241219401-00</td>\n",
       "            <td>22,169.16</td>\n",
       "            <td>보일러 및 냉각수 처리제 구매(연간단가계…</td>\n",
       "        </tr>\n",
       "        <tr>\n",
       "            <td>X</td>\n",
       "            <td>국방전자조달</td>\n",
       "            <td>수의LKP0160-1-2024-00</td>\n",
       "            <td>28,380,804</td>\n",
       "            <td>24-2차 정비피복 구매                    </td>\n",
       "        </tr>\n",
       "        <tr>\n",
       "            <td>X</td>\n",
       "            <td>나라장터(직접이행)</td>\n",
       "            <td>20241219054-00</td>\n",
       "            <td>26,656.81</td>\n",
       "            <td>2025년 화성지사 화공약품(황산 외 8품목)…</td>\n",
       "        </tr>\n",
       "        <tr>\n",
       "            <td>X</td>\n",
       "            <td>한국전력(직접이행)</td>\n",
       "            <td>G062400680-00</td>\n",
       "            <td>5,166,086</td>\n",
       "            <td>2025년 영흥발전본부 일반자재 연간단가계…</td>\n",
       "        </tr>\n",
       "        <tr>\n",
       "            <td>X</td>\n",
       "            <td>나라장터</td>\n",
       "            <td>20241224907-00</td>\n",
       "            <td>333,585,338</td>\n",
       "            <td>´24~´25년 도로관리사업소 제설자재(소금)…</td>\n",
       "        </tr>\n",
       "        <tr>\n",
       "            <td>O</td>\n",
       "            <td>나라장터</td>\n",
       "            <td>20241215205-00</td>\n",
       "            <td>36,285,520</td>\n",
       "            <td>2024학년도 유한공고 직업계고 실험실습생…</td>\n",
       "        </tr>\n",
       "        <tr>\n",
       "            <td>O</td>\n",
       "            <td>나라장터</td>\n",
       "            <td>20241220499-00</td>\n",
       "            <td>17,179,172</td>\n",
       "            <td>전기용품 연간단가구매 계약(긴급) 입찰참…</td>\n",
       "        </tr>\n",
       "        <tr>\n",
       "            <td>O</td>\n",
       "            <td>나라장터</td>\n",
       "            <td>20241220384-00</td>\n",
       "            <td>12,686,362</td>\n",
       "            <td>양천자원회수시설 전동스태커 등 39종 구…</td>\n",
       "        </tr>\n",
       "        <tr>\n",
       "            <td>O</td>\n",
       "            <td>나라장터</td>\n",
       "            <td>20241211792-00</td>\n",
       "            <td>25,514,900</td>\n",
       "            <td>2025년도 마포평생학습관 연속간행물 구입…</td>\n",
       "        </tr>\n",
       "        <tr>\n",
       "            <td>O</td>\n",
       "            <td>한국전력</td>\n",
       "            <td>G012406180-00</td>\n",
       "            <td>11,481,788</td>\n",
       "            <td>광단자함(IJP BOX 가공 및 지중) 및 광케…</td>\n",
       "        </tr>\n",
       "        <tr>\n",
       "            <td>O</td>\n",
       "            <td>나라장터</td>\n",
       "            <td>20241216936-00</td>\n",
       "            <td>28,193,240</td>\n",
       "            <td>2025년도 금천구립도서관 정기간행물 구독…</td>\n",
       "        </tr>\n",
       "        <tr>\n",
       "            <td>O</td>\n",
       "            <td>나라장터</td>\n",
       "            <td>20241221788-00</td>\n",
       "            <td>69,569,368</td>\n",
       "            <td>탈취설비 중화제 구매 (2차)  입찰참여완…</td>\n",
       "        </tr>\n",
       "    </tbody>\n",
       "</table>"
      ],
      "text/plain": [
       "+---+--------------------+-----------------------+-------------+------------------------------------------+\n",
       "| - |       market       |         number        |       price |                  title                   |\n",
       "+---+--------------------+-----------------------+-------------+------------------------------------------+\n",
       "| X |      나라장터      |     20241204921-00    |  290,679.51 | 2025년도 시립하이서울유스호스텔 미화 용… |\n",
       "| X |      나라장터      |     20241219401-00    |   22,169.16 | 보일러 및 냉각수 처리제 구매(연간단가계… |\n",
       "| X |    국방전자조달    | 수의LKP0160-1-2024-00 |  28,380,804 | 24-2차 정비피복 구매                     |\n",
       "| X | 나라장터(직접이행) |     20241219054-00    |   26,656.81 | 2025년 화성지사 화공약품(황산 외 8품목)… |\n",
       "| X | 한국전력(직접이행) |     G062400680-00     |   5,166,086 | 2025년 영흥발전본부 일반자재 연간단가계… |\n",
       "| X |      나라장터      |     20241224907-00    | 333,585,338 | ´24~´25년 도로관리사업소 제설자재(소금)… |\n",
       "| O |      나라장터      |     20241215205-00    |  36,285,520 | 2024학년도 유한공고 직업계고 실험실습생… |\n",
       "| O |      나라장터      |     20241220499-00    |  17,179,172 | 전기용품 연간단가구매 계약(긴급) 입찰참… |\n",
       "| O |      나라장터      |     20241220384-00    |  12,686,362 | 양천자원회수시설 전동스태커 등 39종 구…  |\n",
       "| O |      나라장터      |     20241211792-00    |  25,514,900 | 2025년도 마포평생학습관 연속간행물 구입… |\n",
       "| O |      한국전력      |     G012406180-00     |  11,481,788 | 광단자함(IJP BOX 가공 및 지중) 및 광케…  |\n",
       "| O |      나라장터      |     20241216936-00    |  28,193,240 | 2025년도 금천구립도서관 정기간행물 구독… |\n",
       "| O |      나라장터      |     20241221788-00    |  69,569,368 | 탈취설비 중화제 구매 (2차)  입찰참여완…  |\n",
       "+---+--------------------+-----------------------+-------------+------------------------------------------+"
      ]
     },
     "execution_count": 8,
     "metadata": {},
     "output_type": "execute_result"
    }
   ],
   "source": [
    "from utils.table import to_agent_table\n",
    "to_agent_table(bids, [\"is_completed\", \"market\", \"number\", \"price\", \"title\"])"
   ]
  },
  {
   "cell_type": "code",
   "execution_count": 7,
   "metadata": {},
   "outputs": [
    {
     "name": "stderr",
     "output_type": "stream",
     "text": [
      "2024-12-17 00:30:54,529 - Incon - INFO - 입찰 등록데이터 요청 - 1 page\n",
      "2024-12-17 00:30:55,536 - Incon - INFO - 입찰 데이터 클렌징\n",
      "2024-12-17 00:30:55,547 - Incon - INFO - 입찰 등록데이터 요청 - 2 page\n",
      "2024-12-17 00:30:56,370 - Incon - INFO - 입찰 데이터 클렌징\n"
     ]
    }
   ],
   "source": [
    "xxx = incon.get_raw_bid_data()"
   ]
  },
  {
   "cell_type": "code",
   "execution_count": null,
   "metadata": {},
   "outputs": [],
   "source": [
    "def try_save_screenshot(driver, path):\n",
    "    try:\n",
    "        # 디렉토리 미리 만들기\n",
    "        os.makedirs(os.path.dirname(path), exist_ok=True)\n",
    "\n",
    "        result = driver.save_screenshot(path)\n",
    "        return result\n",
    "    except Exception as e:\n",
    "        return False\n",
    "    \n",
    "screenshot_path = os.path.join('~', '.iaa', 'log', \"error_screenshot.png\")\n",
    "try_save_screenshot(incon, screenshot_path)"
   ]
  },
  {
   "cell_type": "code",
   "execution_count": 10,
   "metadata": {},
   "outputs": [
    {
     "name": "stderr",
     "output_type": "stream",
     "text": [
      "2025-04-11 01:10:17,933 - Automatic - DEBUG - go on 사전등록 탭. path=https://www.incon-mro.com/shop/preregistrationlist.php\n",
      "2025-04-11 01:10:19,217 - Automatic - DEBUG - exist on 페이지 버튼. path=//*[@id=\"preregistrationlist\"]/div/nav/span/a\n",
      "2025-04-11 01:10:19,358 - Automatic - DEBUG - count on 페이지 버튼. path=//*[@id=\"preregistrationlist\"]/div/nav/span/a\n",
      "2025-04-11 01:10:19,448 - Automatic - DEBUG - go on 소싱완료 탭. path=https://www.incon-mro.com/shop/preregistrationlist.php?&page=1\n",
      "2025-04-11 01:10:20,097 - Automatic - DEBUG - exist on 공고명. path=//td[contains(.,'4111311101')]\n",
      "2025-04-11 01:10:22,286 - Automatic - DEBUG - ERROR: Failed to get elements.<class 'selenium.common.exceptions.TimeoutException'> Message: \n",
      "\n",
      "2025-04-11 01:10:22,286 - Automatic - DEBUG - Failed to find an element\n",
      "2025-04-11 01:10:22,286 - Automatic - DEBUG - go on 소싱완료 탭. path=https://www.incon-mro.com/shop/preregistrationlist.php?&page=2\n",
      "2025-04-11 01:10:23,148 - Automatic - DEBUG - exist on 공고명. path=//td[contains(.,'4111311101')]\n",
      "2025-04-11 01:10:23,236 - Automatic - DEBUG - click on 체크버튼. path=//td[contains(.,'4111311101')]/../td/label\n",
      "2025-04-11 01:10:23,464 - Automatic - DEBUG - click on 사전등록완료 버튼. path=//button[text()='사전등록완료']\n",
      "2025-04-11 01:10:23,724 - Automatic - DEBUG - accept on 사전등록 확인 버튼. path=선택한 입찰공고를 사전등록하셨습니까?\n",
      "2025-04-11 01:10:23,737 - Automatic - DEBUG - accept: 선택한 입찰공고를 사전등록하셨습니까?\n",
      "\n",
      "* 해당 조달사이트에 접속하셔서 직접 [입찰참가신청/세부 품명등록]을 해 주셔야 합니다.\n"
     ]
    },
    {
     "data": {
      "text/plain": [
       "True"
      ]
     },
     "execution_count": 10,
     "metadata": {},
     "output_type": "execute_result"
    }
   ],
   "source": [
    "incon.complete_pre('4111311101')"
   ]
  }
 ],
 "metadata": {
  "kernelspec": {
   "display_name": "env",
   "language": "python",
   "name": "python3"
  },
  "language_info": {
   "codemirror_mode": {
    "name": "ipython",
    "version": 3
   },
   "file_extension": ".py",
   "mimetype": "text/x-python",
   "name": "python",
   "nbconvert_exporter": "python",
   "pygments_lexer": "ipython3",
   "version": "3.11.9"
  },
  "orig_nbformat": 4
 },
 "nbformat": 4,
 "nbformat_minor": 2
}
