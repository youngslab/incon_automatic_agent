{
 "cells": [
  {
   "cell_type": "code",
   "execution_count": 1,
   "metadata": {},
   "outputs": [],
   "source": [
    "# don't need to load extension everytime. \n",
    "%load_ext autoreload \n",
    "\n",
    "# This needs to be executed everytime.  \n",
    "%autoreload 2"
   ]
  },
  {
   "cell_type": "code",
   "execution_count": 2,
   "metadata": {},
   "outputs": [],
   "source": [
    "import os\n",
    "import sys\n",
    "\n",
    "# 현재 작업 디렉토리 가져오기\n",
    "current_directory = os.getcwd()\n",
    "\n",
    "# fmt: off\n",
    "module_directory = os.path.join(\n",
    "    current_directory, \"..\",\"thirdparty\", \"automatic\")\n",
    "if module_directory not in sys.path:\n",
    "    sys.path.append(module_directory)\n",
    "\n",
    "sys.path.append(os.path.join(current_directory, \"..\"))"
   ]
  },
  {
   "cell_type": "code",
   "execution_count": 3,
   "metadata": {},
   "outputs": [],
   "source": [
    "import automatic.selenium as s\n",
    "drv = s.create_driver()"
   ]
  },
  {
   "cell_type": "code",
   "execution_count": 4,
   "metadata": {},
   "outputs": [],
   "source": [
    "\n",
    "# This needs to be executed everytime.  \n",
    "%autoreload 2\n",
    "\n",
    "from org.incon import InconMRO\n",
    "import account\n",
    "pw=account.account_get(\"incon\", \"pw\")\n",
    "id=account.account_get(\"incon\", \"id\")\n",
    "\n",
    "incon = InconMRO(drv, id, pw)"
   ]
  },
  {
   "cell_type": "code",
   "execution_count": 5,
   "metadata": {},
   "outputs": [
    {
     "name": "stderr",
     "output_type": "stream",
     "text": [
      "2024-12-17 00:27:33,176 - Incon - INFO - 로그인\n",
      "2024-12-17 00:27:48,101 - Incon - INFO - 전체 소싱 요청\n",
      "2024-12-17 00:27:53,921 - Incon - INFO - 입찰 데이터 가격 산정\n",
      "2024-12-17 00:27:54,927 - Incon - INFO - 입찰 등록데이터 요청 - 1 page\n",
      "2024-12-17 00:27:55,945 - Incon - INFO - 입찰 등록데이터 요청 - 2 page\n"
     ]
    }
   ],
   "source": [
    "\n",
    "incon.login()\n",
    "incon.init_pre()\n",
    "incon.init_bid()"
   ]
  },
  {
   "cell_type": "code",
   "execution_count": 10,
   "metadata": {},
   "outputs": [
    {
     "name": "stderr",
     "output_type": "stream",
     "text": [
      "2024-12-16 22:57:02,436 - Incon - INFO - 입찰 데이터 가격 산정\n",
      "2024-12-16 22:57:03,892 - Incon - INFO - 입찰 등록데이터 요청 - 1 page\n",
      "2024-12-16 22:57:12,191 - Incon - INFO - 입찰 등록데이터 요청 - 2 page\n"
     ]
    }
   ],
   "source": []
  },
  {
   "cell_type": "code",
   "execution_count": 16,
   "metadata": {},
   "outputs": [
    {
     "name": "stderr",
     "output_type": "stream",
     "text": [
      "2024-12-15 11:00:30,585 - Incon - INFO - 사전 등록 데이터 요청\n",
      "2024-12-15 11:00:30,585 - Incon - INFO - 사전 등록 데이터(raw format)\n",
      "2024-12-15 11:00:32,125 - Incon - INFO - 사전등록데이터 요청 - 1 page\n",
      "2024-12-15 11:00:33,225 - Incon - INFO - 사전등록데이터 요청 - 2 page\n",
      "2024-12-15 11:00:34,056 - Incon - INFO - 사전등록 데이터 클렌징\n"
     ]
    }
   ],
   "source": [
    "%autoreload 2\n",
    "\n",
    "from utils.table import to_agent_table\n",
    "pres = incon.get_pre_data()\n"
   ]
  },
  {
   "cell_type": "code",
   "execution_count": 17,
   "metadata": {},
   "outputs": [
    {
     "name": "stdout",
     "output_type": "stream",
     "text": [
      "+---+--------------------+------------------+------------------------------------------+\n",
      "| - |       market       |      number      |                  title                   |\n",
      "+---+--------------------+------------------+------------------------------------------+\n",
      "| X |      가스공사      | 2024120511001-00 | 2025년 인천기지 기화해수펌프 토출밸브 …  |\n",
      "| O |      나라장터      |    1110159801    | 염화칼슘                                 |\n",
      "| O | 나라장터(직접이행) |    4010180602    | 가스엔진히트펌프                         |\n",
      "| O |      나라장터      |    1110159801    | 염화칼슘                                 |\n",
      "| O |      나라장터      |    4010180602    | 가스엔진히트펌프                         |\n",
      "| O |      나라장터      |    4010180602    | 가스엔진히트펌프                         |\n",
      "| O |      한국전력      |  G012406180-00   | 광단자함(IJP BOX 가공 및 지중) 및 광케…  |\n",
      "| O |      나라장터      |    5510151901    | 정기간행물                               |\n",
      "| O |      한국전력      |  G042400472-00   | 하동 2025년 4호기 계획예방정비공사 계측… |\n",
      "| O | 한국전력(직접이행) |  G082400459-00   | 당진 7호기 계획예방정비공사용 장기납기…  |\n",
      "| O |      나라장터      |    1235230502    | 가성소다                                 |\n",
      "| O |      나라장터      |    1311102701    | 요소수지성형재료                         |\n",
      "| O |      나라장터      |    1110159801    | 비식용소금                               |\n",
      "+---+--------------------+------------------+------------------------------------------+\n"
     ]
    }
   ],
   "source": [
    "table = to_agent_table(pres, [ \"is_completed\", \"market\", \"number\", \"title\"])\n",
    "print(table)"
   ]
  },
  {
   "cell_type": "code",
   "execution_count": 6,
   "metadata": {},
   "outputs": [
    {
     "name": "stderr",
     "output_type": "stream",
     "text": [
      "2024-12-17 00:27:57,143 - Incon - INFO - 입찰 데이터 요청\n",
      "2024-12-17 00:27:58,281 - Incon - INFO - 입찰 등록데이터 요청 - 1 page\n",
      "2024-12-17 00:27:59,438 - Incon - INFO - 입찰 데이터 클렌징\n",
      "2024-12-17 00:27:59,468 - Incon - INFO - 입찰 등록데이터 요청 - 2 page\n",
      "2024-12-17 00:28:00,371 - Incon - INFO - 입찰 데이터 클렌징\n",
      "2024-12-17 00:28:00,392 - Incon - INFO - 입찰 데이터 클렌징\n"
     ]
    }
   ],
   "source": [
    "\n",
    "bids = incon.get_bid_data()\n"
   ]
  },
  {
   "cell_type": "code",
   "execution_count": 8,
   "metadata": {},
   "outputs": [
    {
     "data": {
      "text/html": [
       "<table>\n",
       "    <thead>\n",
       "        <tr>\n",
       "            <th>-</th>\n",
       "            <th>market</th>\n",
       "            <th>number</th>\n",
       "            <th>price</th>\n",
       "            <th>title</th>\n",
       "        </tr>\n",
       "    </thead>\n",
       "    <tbody>\n",
       "        <tr>\n",
       "            <td>X</td>\n",
       "            <td>나라장터</td>\n",
       "            <td>20241204921-00</td>\n",
       "            <td>290,679.51</td>\n",
       "            <td>2025년도 시립하이서울유스호스텔 미화 용…</td>\n",
       "        </tr>\n",
       "        <tr>\n",
       "            <td>X</td>\n",
       "            <td>나라장터</td>\n",
       "            <td>20241219401-00</td>\n",
       "            <td>22,169.16</td>\n",
       "            <td>보일러 및 냉각수 처리제 구매(연간단가계…</td>\n",
       "        </tr>\n",
       "        <tr>\n",
       "            <td>X</td>\n",
       "            <td>국방전자조달</td>\n",
       "            <td>수의LKP0160-1-2024-00</td>\n",
       "            <td>28,380,804</td>\n",
       "            <td>24-2차 정비피복 구매                    </td>\n",
       "        </tr>\n",
       "        <tr>\n",
       "            <td>X</td>\n",
       "            <td>나라장터(직접이행)</td>\n",
       "            <td>20241219054-00</td>\n",
       "            <td>26,656.81</td>\n",
       "            <td>2025년 화성지사 화공약품(황산 외 8품목)…</td>\n",
       "        </tr>\n",
       "        <tr>\n",
       "            <td>X</td>\n",
       "            <td>한국전력(직접이행)</td>\n",
       "            <td>G062400680-00</td>\n",
       "            <td>5,166,086</td>\n",
       "            <td>2025년 영흥발전본부 일반자재 연간단가계…</td>\n",
       "        </tr>\n",
       "        <tr>\n",
       "            <td>X</td>\n",
       "            <td>나라장터</td>\n",
       "            <td>20241224907-00</td>\n",
       "            <td>333,585,338</td>\n",
       "            <td>´24~´25년 도로관리사업소 제설자재(소금)…</td>\n",
       "        </tr>\n",
       "        <tr>\n",
       "            <td>O</td>\n",
       "            <td>나라장터</td>\n",
       "            <td>20241215205-00</td>\n",
       "            <td>36,285,520</td>\n",
       "            <td>2024학년도 유한공고 직업계고 실험실습생…</td>\n",
       "        </tr>\n",
       "        <tr>\n",
       "            <td>O</td>\n",
       "            <td>나라장터</td>\n",
       "            <td>20241220499-00</td>\n",
       "            <td>17,179,172</td>\n",
       "            <td>전기용품 연간단가구매 계약(긴급) 입찰참…</td>\n",
       "        </tr>\n",
       "        <tr>\n",
       "            <td>O</td>\n",
       "            <td>나라장터</td>\n",
       "            <td>20241220384-00</td>\n",
       "            <td>12,686,362</td>\n",
       "            <td>양천자원회수시설 전동스태커 등 39종 구…</td>\n",
       "        </tr>\n",
       "        <tr>\n",
       "            <td>O</td>\n",
       "            <td>나라장터</td>\n",
       "            <td>20241211792-00</td>\n",
       "            <td>25,514,900</td>\n",
       "            <td>2025년도 마포평생학습관 연속간행물 구입…</td>\n",
       "        </tr>\n",
       "        <tr>\n",
       "            <td>O</td>\n",
       "            <td>한국전력</td>\n",
       "            <td>G012406180-00</td>\n",
       "            <td>11,481,788</td>\n",
       "            <td>광단자함(IJP BOX 가공 및 지중) 및 광케…</td>\n",
       "        </tr>\n",
       "        <tr>\n",
       "            <td>O</td>\n",
       "            <td>나라장터</td>\n",
       "            <td>20241216936-00</td>\n",
       "            <td>28,193,240</td>\n",
       "            <td>2025년도 금천구립도서관 정기간행물 구독…</td>\n",
       "        </tr>\n",
       "        <tr>\n",
       "            <td>O</td>\n",
       "            <td>나라장터</td>\n",
       "            <td>20241221788-00</td>\n",
       "            <td>69,569,368</td>\n",
       "            <td>탈취설비 중화제 구매 (2차)  입찰참여완…</td>\n",
       "        </tr>\n",
       "    </tbody>\n",
       "</table>"
      ],
      "text/plain": [
       "+---+--------------------+-----------------------+-------------+------------------------------------------+\n",
       "| - |       market       |         number        |       price |                  title                   |\n",
       "+---+--------------------+-----------------------+-------------+------------------------------------------+\n",
       "| X |      나라장터      |     20241204921-00    |  290,679.51 | 2025년도 시립하이서울유스호스텔 미화 용… |\n",
       "| X |      나라장터      |     20241219401-00    |   22,169.16 | 보일러 및 냉각수 처리제 구매(연간단가계… |\n",
       "| X |    국방전자조달    | 수의LKP0160-1-2024-00 |  28,380,804 | 24-2차 정비피복 구매                     |\n",
       "| X | 나라장터(직접이행) |     20241219054-00    |   26,656.81 | 2025년 화성지사 화공약품(황산 외 8품목)… |\n",
       "| X | 한국전력(직접이행) |     G062400680-00     |   5,166,086 | 2025년 영흥발전본부 일반자재 연간단가계… |\n",
       "| X |      나라장터      |     20241224907-00    | 333,585,338 | ´24~´25년 도로관리사업소 제설자재(소금)… |\n",
       "| O |      나라장터      |     20241215205-00    |  36,285,520 | 2024학년도 유한공고 직업계고 실험실습생… |\n",
       "| O |      나라장터      |     20241220499-00    |  17,179,172 | 전기용품 연간단가구매 계약(긴급) 입찰참… |\n",
       "| O |      나라장터      |     20241220384-00    |  12,686,362 | 양천자원회수시설 전동스태커 등 39종 구…  |\n",
       "| O |      나라장터      |     20241211792-00    |  25,514,900 | 2025년도 마포평생학습관 연속간행물 구입… |\n",
       "| O |      한국전력      |     G012406180-00     |  11,481,788 | 광단자함(IJP BOX 가공 및 지중) 및 광케…  |\n",
       "| O |      나라장터      |     20241216936-00    |  28,193,240 | 2025년도 금천구립도서관 정기간행물 구독… |\n",
       "| O |      나라장터      |     20241221788-00    |  69,569,368 | 탈취설비 중화제 구매 (2차)  입찰참여완…  |\n",
       "+---+--------------------+-----------------------+-------------+------------------------------------------+"
      ]
     },
     "execution_count": 8,
     "metadata": {},
     "output_type": "execute_result"
    }
   ],
   "source": [
    "from utils.table import to_agent_table\n",
    "to_agent_table(bids, [\"is_completed\", \"market\", \"number\", \"price\", \"title\"])"
   ]
  },
  {
   "cell_type": "code",
   "execution_count": 7,
   "metadata": {},
   "outputs": [
    {
     "name": "stderr",
     "output_type": "stream",
     "text": [
      "2024-12-17 00:30:54,529 - Incon - INFO - 입찰 등록데이터 요청 - 1 page\n",
      "2024-12-17 00:30:55,536 - Incon - INFO - 입찰 데이터 클렌징\n",
      "2024-12-17 00:30:55,547 - Incon - INFO - 입찰 등록데이터 요청 - 2 page\n",
      "2024-12-17 00:30:56,370 - Incon - INFO - 입찰 데이터 클렌징\n"
     ]
    }
   ],
   "source": [
    "xxx = incon.get_raw_bid_data()"
   ]
  }
 ],
 "metadata": {
  "kernelspec": {
   "display_name": "env",
   "language": "python",
   "name": "python3"
  },
  "language_info": {
   "codemirror_mode": {
    "name": "ipython",
    "version": 3
   },
   "file_extension": ".py",
   "mimetype": "text/x-python",
   "name": "python",
   "nbconvert_exporter": "python",
   "pygments_lexer": "ipython3",
   "version": "3.11.9"
  },
  "orig_nbformat": 4
 },
 "nbformat": 4,
 "nbformat_minor": 2
}
