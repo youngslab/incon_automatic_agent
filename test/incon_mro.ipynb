{
 "cells": [
  {
   "cell_type": "code",
   "execution_count": 1,
   "metadata": {},
   "outputs": [],
   "source": [
    "# don't need to load extension everytime. \n",
    "%load_ext autoreload \n",
    "\n",
    "# This needs to be executed everytime.  \n",
    "%autoreload 2"
   ]
  },
  {
   "cell_type": "code",
   "execution_count": 2,
   "metadata": {},
   "outputs": [],
   "source": [
    "import os\n",
    "import sys\n",
    "\n",
    "# 현재 작업 디렉토리 가져오기\n",
    "current_directory = os.getcwd()\n",
    "\n",
    "# fmt: off\n",
    "module_directory = os.path.join(\n",
    "    current_directory, \"..\",\"thirdparty\", \"automatic\")\n",
    "if module_directory not in sys.path:\n",
    "    sys.path.append(module_directory)\n",
    "\n",
    "sys.path.append(os.path.join(current_directory, \"..\"))"
   ]
  },
  {
   "cell_type": "code",
   "execution_count": 3,
   "metadata": {},
   "outputs": [],
   "source": [
    "import automatic.selenium as s\n",
    "drv = s.create_driver()"
   ]
  },
  {
   "cell_type": "code",
   "execution_count": 4,
   "metadata": {},
   "outputs": [],
   "source": [
    "\n",
    "# This needs to be executed everytime.  \n",
    "%autoreload 2\n",
    "\n",
    "from org.incon import InconMRO\n",
    "import account\n",
    "pw=account.account_get(\"incon\", \"pw\")\n",
    "id=account.account_get(\"incon\", \"id\")\n",
    "\n",
    "incon = InconMRO(drv, id, pw)"
   ]
  },
  {
   "cell_type": "code",
   "execution_count": 5,
   "metadata": {},
   "outputs": [
    {
     "name": "stderr",
     "output_type": "stream",
     "text": [
      "2024-04-03 00:07:13,016 - Incon - INFO - 로그인\n"
     ]
    }
   ],
   "source": [
    "\n",
    "incon.login()"
   ]
  },
  {
   "cell_type": "code",
   "execution_count": null,
   "metadata": {},
   "outputs": [],
   "source": []
  },
  {
   "cell_type": "code",
   "execution_count": 56,
   "metadata": {},
   "outputs": [
    {
     "name": "stderr",
     "output_type": "stream",
     "text": [
      "2024-03-22 21:13:06,760 - Incon - INFO - 사전 등록 데이터 요청\n",
      "2024-03-22 21:13:08,302 - Incon - INFO - 사전등록데이터 요청 - 1 page\n",
      "2024-03-22 21:13:09,512 - Incon - INFO - 사전등록 데이터 클렌징\n",
      "2024-03-22 21:13:09,525 - Incon - INFO - 사전등록데이터 요청 - 2 page\n",
      "2024-03-22 21:13:10,716 - Incon - INFO - 사전등록 데이터 클렌징\n"
     ]
    },
    {
     "name": "stdout",
     "output_type": "stream",
     "text": [
      "market=나라장터   , code=4619150201          , title=열감지기\n",
      "market=한국전력   , code=G052400217-00       , title=1부두 연속식 하역기(CSU) Boom&Gantry 성능개선용 자재 제작 구매\n",
      "market=국방전자조달 , code=2024LCF002507506-01 , title=무릎보호대 등 3항목 구매(물자)\n",
      "market=국방전자조달 , code=2024UMM024902943-01 , title=(246029-F) 나프탈렌 구매\n",
      "market=국방전자조달 , code=2024SCF027609466-01 , title=(긴급)밸브,체크형 등 50종\n",
      "market=국방전자조달 , code=2024SCF027307592-01 , title=(긴급) 밸브, 나비형 등 6종\n",
      "market=한국전력   , code=G052400218-00       , title=터빈설비 정비용 안전커버 제작 구매\n",
      "market=한국전력   , code=G052400226-00       , title=[세종발전본부] 2024년 계획예방정비공사 일반자재 구매\n",
      "market=가스공사   , code=2024031906001-00    , title=2024년 가스누출경보기 부속자재 통합발주(COSMOS, RIKEN KEIKI)\n",
      "market=나라장터   , code=3912100601          , title=인버터 \n",
      "market=나라장터   , code=1235230501          , title=소석회 \n",
      "market=나라장터   , code=4616158801          , title=등명기 \n",
      "market=나라장터   , code=4616158801          , title=등명기 \n"
     ]
    },
    {
     "ename": "",
     "evalue": "",
     "output_type": "error",
     "traceback": [
      "\u001b[1;31mThe Kernel crashed while executing code in the current cell or a previous cell. \n",
      "\u001b[1;31mPlease review the code in the cell(s) to identify a possible cause of the failure. \n",
      "\u001b[1;31mClick <a href='https://aka.ms/vscodeJupyterKernelCrash'>here</a> for more info. \n",
      "\u001b[1;31mView Jupyter <a href='command:jupyter.viewOutput'>log</a> for further details."
     ]
    }
   ],
   "source": [
    "%autoreload 2\n",
    "pres = incon.get_pre_data()\n",
    "for pre in pres:\n",
    "    print(pre)\n",
    "\n"
   ]
  },
  {
   "cell_type": "code",
   "execution_count": 51,
   "metadata": {},
   "outputs": [
    {
     "name": "stdout",
     "output_type": "stream",
     "text": [
      "market=나라장터   , code=4619150201          , title=nan\n",
      "market=한국전력   , code=G052400217-00       , title=nan\n",
      "market=국방전자조달 , code=2024LCF002507506-01 , title=nan\n",
      "market=국방전자조달 , code=2024UMM024902943-01 , title=nan\n",
      "market=국방전자조달 , code=2024SCF027307592-01 , title=nan\n",
      "market=국방전자조달 , code=2024SCF027609466-01 , title=nan\n",
      "market=한국전력   , code=G052400218-00       , title=nan\n",
      "market=한국전력   , code=G052400226-00       , title=nan\n",
      "market=가스공사   , code=2024031906001-00    , title=nan\n",
      "market=나라장터   , code=3912100601          , title=nan\n",
      "market=나라장터   , code=1235230501          , title=nan\n",
      "market=나라장터   , code=4616158801          , title=nan\n",
      "market=나라장터   , code=4616158801          , title=nan\n"
     ]
    }
   ],
   "source": [
    "for pre in pres:\n",
    "    print(pre)"
   ]
  },
  {
   "cell_type": "code",
   "execution_count": 12,
   "metadata": {},
   "outputs": [
    {
     "name": "stderr",
     "output_type": "stream",
     "text": [
      "2024-04-02 00:26:06,941 - Incon - INFO - 입찰 데이터 요청\n",
      "2024-04-02 00:26:08,016 - Incon - INFO - 입찰 등록데이터 요청 - 1 page\n",
      "2024-04-02 00:26:09,021 - Incon - INFO - 입찰 데이터 클렌징\n",
      "2024-04-02 00:26:09,031 - Incon - INFO - 입찰 등록데이터 요청 - 2 page\n",
      "2024-04-02 00:26:09,805 - Incon - INFO - 입찰 데이터 클렌징\n"
     ]
    }
   ],
   "source": [
    "bids = incon.get_bid_data()"
   ]
  },
  {
   "cell_type": "code",
   "execution_count": 13,
   "metadata": {},
   "outputs": [
    {
     "name": "stdout",
     "output_type": "stream",
     "text": [
      "market=국방전자조달 , code=수의LCJ0021-1-2024-00 , price=  25,690,656 KRW, title=(24육군-해파18)한빛부대 타이어류 구매 \n",
      "market=국방전자조달 , code=수의SCH0043-1-2024-00 , price=  40,642,793 KRW, title=24-13호 HDMI 분배기 등 167종 구매 \n",
      "market=나라장터   , code=20240347740-00      , price=  17,515,443 KRW, title=제2 건조시설 수선유지용품 구매 \n",
      "market=국방전자조달 , code=2024HCF006611694-01 , price=  38,609,057 KRW, title=청력보호헤드셋 구매  \n",
      "market=국방전자조달 , code=2024UMM032305368-01 , price=  65,610,617 KRW, title=(24F069-A) 렌탈프린터 임차용역  \n",
      "market=나라장터   , code=20240344486-00      , price=  14,408,135 KRW, title=2024년 통신장비 소모품 구매 입찰참여완료 \n",
      "market=나라장터   , code=20240343188-00      , price=  18,180,302 KRW, title=양천자원회수시설 온도전송계 구매 입찰참여완료 \n",
      "market=나라장터   , code=20240344959-00      , price=  13,869,572 KRW, title=남산 및 산하공원 운영물품 일괄구매(1분기) 입찰참여완료 \n",
      "market=나라장터   , code=20240347253-00      , price=  16,147,172 KRW, title=양천자원회수시설 기어레버 제작 등 소모품 44종 구매 입찰참여완료 \n",
      "market=나라장터   , code=20240343132-00      , price=  49,674,923 KRW, title=건축시공과 외 15개학과 실습재료 타일외 234종 구매 입찰참여완료 \n",
      "market=국방전자조달 , code=2024UMM033707113-01 , price= 135,897,933 KRW, title=(247094-F) 전장관리체계 운용품 구매  입찰참여완료 \n",
      "market=나라장터   , code=20240344136-00      , price=  26,934,759 KRW, title=기계분야 냉동기 오버홀 자재 117종 구매 단가계약  입찰참여완료 \n",
      "market=국방전자조달 , code=2024UMM031105619-01 , price=  88,382,265 KRW, title=24-M-산불진화 기계화시스템 구매  입찰참여완료 \n",
      "market=나라장터   , code=20240348748-00      , price= 168,798,694 KRW, title=23,24년 추가 제설제(염화칼슘) 구매(3차)  입찰참여완료 \n"
     ]
    }
   ],
   "source": [
    "for bid in bids:\n",
    "    print(bid)"
   ]
  },
  {
   "cell_type": "code",
   "execution_count": 84,
   "metadata": {},
   "outputs": [],
   "source": [
    "drv.quit()"
   ]
  }
 ],
 "metadata": {
  "kernelspec": {
   "display_name": "Python 3.10.8 64-bit (microsoft store)",
   "language": "python",
   "name": "python3"
  },
  "language_info": {
   "codemirror_mode": {
    "name": "ipython",
    "version": 3
   },
   "file_extension": ".py",
   "mimetype": "text/x-python",
   "name": "python",
   "nbconvert_exporter": "python",
   "pygments_lexer": "ipython3",
   "version": "3.11.8"
  },
  "orig_nbformat": 4,
  "vscode": {
   "interpreter": {
    "hash": "140d6880638af8c011551f0c48a660151749c27ccfb9a61f6d950e57001cc277"
   }
  }
 },
 "nbformat": 4,
 "nbformat_minor": 2
}
