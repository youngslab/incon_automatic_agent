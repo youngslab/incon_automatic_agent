{
 "cells": [
  {
   "cell_type": "code",
   "execution_count": 1,
   "metadata": {},
   "outputs": [],
   "source": [
    "# don't need to load extension everytime. \n",
    "%load_ext autoreload \n",
    "\n",
    "# This needs to be executed everytime.  \n",
    "%autoreload 2"
   ]
  },
  {
   "cell_type": "code",
   "execution_count": 2,
   "metadata": {},
   "outputs": [],
   "source": [
    "import os\n",
    "import sys\n",
    "\n",
    "# 현재 작업 디렉토리 가져오기\n",
    "current_directory = os.getcwd()\n",
    "\n",
    "# fmt: off\n",
    "module_directory = os.path.join(\n",
    "    current_directory, \"..\",\"thirdparty\", \"automatic\")\n",
    "if module_directory not in sys.path:\n",
    "    sys.path.append(module_directory)\n",
    "\n",
    "sys.path.append(os.path.join(current_directory, \"..\"))"
   ]
  },
  {
   "cell_type": "code",
   "execution_count": 3,
   "metadata": {},
   "outputs": [],
   "source": [
    "import logging\n",
    "from automatic.utils import *\n",
    "Logger.init(LOGGER_AUTOMATIC, logging.DEBUG)\n",
    "Logger.init(\"INCON\", logging.DEBUG)"
   ]
  },
  {
   "cell_type": "code",
   "execution_count": null,
   "metadata": {},
   "outputs": [],
   "source": []
  },
  {
   "cell_type": "code",
   "execution_count": 4,
   "metadata": {},
   "outputs": [],
   "source": [
    "import automatic.selenium as s\n",
    "drv = s.create_driver()"
   ]
  },
  {
   "cell_type": "code",
   "execution_count": 5,
   "metadata": {},
   "outputs": [],
   "source": [
    "\n",
    "# This needs to be executed everytime.  \n",
    "%autoreload 2\n",
    "\n",
    "from org.incon import InconMRO\n",
    "import account\n",
    "pw=account.account_get(\"incon\", \"pw\")\n",
    "id=account.account_get(\"incon\", \"id\")\n",
    "\n",
    "incon = InconMRO(drv, id, pw)"
   ]
  },
  {
   "cell_type": "code",
   "execution_count": 6,
   "metadata": {},
   "outputs": [
    {
     "name": "stderr",
     "output_type": "stream",
     "text": [
      "2025-04-06 13:03:13,826 - Automatic - DEBUG - go on 홈페이지. path=https://www.incon-mro.com/bbs/login.php?url=%2F\n",
      "2025-04-06 13:03:20,782 - Automatic - DEBUG - type on 아이디 입력 상자. path=login_id\n",
      "2025-04-06 13:03:21,036 - Automatic - DEBUG - type on 암호 입력 상자. path=login_pw\n",
      "2025-04-06 13:03:21,254 - Automatic - DEBUG - click on 확인 버튼. path=//button[text()='로그인']\n",
      "2025-04-06 13:03:22,655 - Automatic - DEBUG - go on 홈페이지. path=https://www.incon-mro.com\n",
      "2025-04-06 13:03:23,226 - Automatic - DEBUG - click on 출석이벤트 버튼. path=//a[text()=\"출석 이벤트\"]\n",
      "2025-04-06 13:03:25,098 - Automatic - DEBUG - click on 출석하기버튼. path=btnAttendance\n",
      "2025-04-06 13:03:25,289 - Automatic - DEBUG - accept on 출석확인 팝업. path=출석하시겠습니까?\n",
      "2025-04-06 13:03:25,305 - Automatic - DEBUG - accept: 오늘 출석하시겠습니까?\n",
      "2025-04-06 13:03:25,317 - Automatic - DEBUG - exist on . path=\n",
      "2025-04-06 13:03:25,499 - Automatic - DEBUG - accept on . path=\n",
      "2025-04-06 13:03:25,514 - Automatic - DEBUG - accept: 오늘 출석을 했습니다.\n"
     ]
    }
   ],
   "source": [
    "\n",
    "incon.login()\n"
   ]
  },
  {
   "cell_type": "code",
   "execution_count": null,
   "metadata": {},
   "outputs": [
    {
     "name": "stderr",
     "output_type": "stream",
     "text": [
      "2024-12-16 22:57:02,436 - Incon - INFO - 입찰 데이터 가격 산정\n",
      "2024-12-16 22:57:03,892 - Incon - INFO - 입찰 등록데이터 요청 - 1 page\n",
      "2024-12-16 22:57:12,191 - Incon - INFO - 입찰 등록데이터 요청 - 2 page\n"
     ]
    }
   ],
   "source": [
    "incon.init_pre()\n",
    "incon.init_bid()"
   ]
  },
  {
   "cell_type": "code",
   "execution_count": 6,
   "metadata": {},
   "outputs": [],
   "source": [
    "%autoreload 2\n",
    "\n",
    "from utils.table import to_agent_table\n",
    "pres = incon.get_pre_data()\n"
   ]
  },
  {
   "cell_type": "code",
   "execution_count": 7,
   "metadata": {},
   "outputs": [
    {
     "name": "stdout",
     "output_type": "stream",
     "text": [
      "+---+--------------------+---------------------+------------------------------------------+\n",
      "| - |       market       |        number       |                  title                   |\n",
      "+---+--------------------+---------------------+------------------------------------------+\n",
      "| X |      가스공사      |   2025020704001-00  | 2025년 공급관리소 PIC 구매               |\n",
      "| X |      가스공사      |   2025021011001-00  | 2025년 공급관리소 MOV Actuator 구매 교체 |\n",
      "| X |      가스공사      |   2025021104001-00  | 2025년 가스필터용 엘리먼트 통합발주      |\n",
      "| X |      가스공사      |   2025020710001-00  | 2025년 울타리감지기 부속자재 통합발주 …  |\n",
      "| X |      가스공사      |   2025021219001-00  | 2025년도 저장탱크(TK-201~205) 하역밸브 … |\n",
      "| X |    국방전자조달    | 2025UMM008003436-01 | 25-F-소형 타이어 탈착기 구매(259003-F)   |\n",
      "| O |      나라장터      |      1235239101     | 염화칼슘                                 |\n",
      "| O |      한국전력      |    G052500152-00    | 복합 2호기 증기터빈 계획예방정비용 일반… |\n",
      "| O | 한국전력(직접이행) |    G082500059-00    | [울산] ST#2 계획예방정비공사 사급자재 …  |\n",
      "| O |      한국전력      |    G052500168-00    | ST LO Cooler 정비용 자재 구매            |\n",
      "+---+--------------------+---------------------+------------------------------------------+\n"
     ]
    }
   ],
   "source": [
    "table = to_agent_table(pres, [ \"is_completed\", \"market\", \"number\", \"title\"])\n",
    "print(table)"
   ]
  },
  {
   "cell_type": "code",
   "execution_count": 8,
   "metadata": {},
   "outputs": [],
   "source": [
    "raw_pres = incon.get_pre_data_raw()"
   ]
  },
  {
   "cell_type": "code",
   "execution_count": 6,
   "metadata": {},
   "outputs": [
    {
     "name": "stderr",
     "output_type": "stream",
     "text": [
      "2024-12-17 00:27:57,143 - Incon - INFO - 입찰 데이터 요청\n",
      "2024-12-17 00:27:58,281 - Incon - INFO - 입찰 등록데이터 요청 - 1 page\n",
      "2024-12-17 00:27:59,438 - Incon - INFO - 입찰 데이터 클렌징\n",
      "2024-12-17 00:27:59,468 - Incon - INFO - 입찰 등록데이터 요청 - 2 page\n",
      "2024-12-17 00:28:00,371 - Incon - INFO - 입찰 데이터 클렌징\n",
      "2024-12-17 00:28:00,392 - Incon - INFO - 입찰 데이터 클렌징\n"
     ]
    }
   ],
   "source": [
    "\n",
    "bids = incon.get_bid_data()\n"
   ]
  },
  {
   "cell_type": "code",
   "execution_count": 8,
   "metadata": {},
   "outputs": [
    {
     "data": {
      "text/html": [
       "<table>\n",
       "    <thead>\n",
       "        <tr>\n",
       "            <th>-</th>\n",
       "            <th>market</th>\n",
       "            <th>number</th>\n",
       "            <th>price</th>\n",
       "            <th>title</th>\n",
       "        </tr>\n",
       "    </thead>\n",
       "    <tbody>\n",
       "        <tr>\n",
       "            <td>X</td>\n",
       "            <td>나라장터</td>\n",
       "            <td>20241204921-00</td>\n",
       "            <td>290,679.51</td>\n",
       "            <td>2025년도 시립하이서울유스호스텔 미화 용…</td>\n",
       "        </tr>\n",
       "        <tr>\n",
       "            <td>X</td>\n",
       "            <td>나라장터</td>\n",
       "            <td>20241219401-00</td>\n",
       "            <td>22,169.16</td>\n",
       "            <td>보일러 및 냉각수 처리제 구매(연간단가계…</td>\n",
       "        </tr>\n",
       "        <tr>\n",
       "            <td>X</td>\n",
       "            <td>국방전자조달</td>\n",
       "            <td>수의LKP0160-1-2024-00</td>\n",
       "            <td>28,380,804</td>\n",
       "            <td>24-2차 정비피복 구매                    </td>\n",
       "        </tr>\n",
       "        <tr>\n",
       "            <td>X</td>\n",
       "            <td>나라장터(직접이행)</td>\n",
       "            <td>20241219054-00</td>\n",
       "            <td>26,656.81</td>\n",
       "            <td>2025년 화성지사 화공약품(황산 외 8품목)…</td>\n",
       "        </tr>\n",
       "        <tr>\n",
       "            <td>X</td>\n",
       "            <td>한국전력(직접이행)</td>\n",
       "            <td>G062400680-00</td>\n",
       "            <td>5,166,086</td>\n",
       "            <td>2025년 영흥발전본부 일반자재 연간단가계…</td>\n",
       "        </tr>\n",
       "        <tr>\n",
       "            <td>X</td>\n",
       "            <td>나라장터</td>\n",
       "            <td>20241224907-00</td>\n",
       "            <td>333,585,338</td>\n",
       "            <td>´24~´25년 도로관리사업소 제설자재(소금)…</td>\n",
       "        </tr>\n",
       "        <tr>\n",
       "            <td>O</td>\n",
       "            <td>나라장터</td>\n",
       "            <td>20241215205-00</td>\n",
       "            <td>36,285,520</td>\n",
       "            <td>2024학년도 유한공고 직업계고 실험실습생…</td>\n",
       "        </tr>\n",
       "        <tr>\n",
       "            <td>O</td>\n",
       "            <td>나라장터</td>\n",
       "            <td>20241220499-00</td>\n",
       "            <td>17,179,172</td>\n",
       "            <td>전기용품 연간단가구매 계약(긴급) 입찰참…</td>\n",
       "        </tr>\n",
       "        <tr>\n",
       "            <td>O</td>\n",
       "            <td>나라장터</td>\n",
       "            <td>20241220384-00</td>\n",
       "            <td>12,686,362</td>\n",
       "            <td>양천자원회수시설 전동스태커 등 39종 구…</td>\n",
       "        </tr>\n",
       "        <tr>\n",
       "            <td>O</td>\n",
       "            <td>나라장터</td>\n",
       "            <td>20241211792-00</td>\n",
       "            <td>25,514,900</td>\n",
       "            <td>2025년도 마포평생학습관 연속간행물 구입…</td>\n",
       "        </tr>\n",
       "        <tr>\n",
       "            <td>O</td>\n",
       "            <td>한국전력</td>\n",
       "            <td>G012406180-00</td>\n",
       "            <td>11,481,788</td>\n",
       "            <td>광단자함(IJP BOX 가공 및 지중) 및 광케…</td>\n",
       "        </tr>\n",
       "        <tr>\n",
       "            <td>O</td>\n",
       "            <td>나라장터</td>\n",
       "            <td>20241216936-00</td>\n",
       "            <td>28,193,240</td>\n",
       "            <td>2025년도 금천구립도서관 정기간행물 구독…</td>\n",
       "        </tr>\n",
       "        <tr>\n",
       "            <td>O</td>\n",
       "            <td>나라장터</td>\n",
       "            <td>20241221788-00</td>\n",
       "            <td>69,569,368</td>\n",
       "            <td>탈취설비 중화제 구매 (2차)  입찰참여완…</td>\n",
       "        </tr>\n",
       "    </tbody>\n",
       "</table>"
      ],
      "text/plain": [
       "+---+--------------------+-----------------------+-------------+------------------------------------------+\n",
       "| - |       market       |         number        |       price |                  title                   |\n",
       "+---+--------------------+-----------------------+-------------+------------------------------------------+\n",
       "| X |      나라장터      |     20241204921-00    |  290,679.51 | 2025년도 시립하이서울유스호스텔 미화 용… |\n",
       "| X |      나라장터      |     20241219401-00    |   22,169.16 | 보일러 및 냉각수 처리제 구매(연간단가계… |\n",
       "| X |    국방전자조달    | 수의LKP0160-1-2024-00 |  28,380,804 | 24-2차 정비피복 구매                     |\n",
       "| X | 나라장터(직접이행) |     20241219054-00    |   26,656.81 | 2025년 화성지사 화공약품(황산 외 8품목)… |\n",
       "| X | 한국전력(직접이행) |     G062400680-00     |   5,166,086 | 2025년 영흥발전본부 일반자재 연간단가계… |\n",
       "| X |      나라장터      |     20241224907-00    | 333,585,338 | ´24~´25년 도로관리사업소 제설자재(소금)… |\n",
       "| O |      나라장터      |     20241215205-00    |  36,285,520 | 2024학년도 유한공고 직업계고 실험실습생… |\n",
       "| O |      나라장터      |     20241220499-00    |  17,179,172 | 전기용품 연간단가구매 계약(긴급) 입찰참… |\n",
       "| O |      나라장터      |     20241220384-00    |  12,686,362 | 양천자원회수시설 전동스태커 등 39종 구…  |\n",
       "| O |      나라장터      |     20241211792-00    |  25,514,900 | 2025년도 마포평생학습관 연속간행물 구입… |\n",
       "| O |      한국전력      |     G012406180-00     |  11,481,788 | 광단자함(IJP BOX 가공 및 지중) 및 광케…  |\n",
       "| O |      나라장터      |     20241216936-00    |  28,193,240 | 2025년도 금천구립도서관 정기간행물 구독… |\n",
       "| O |      나라장터      |     20241221788-00    |  69,569,368 | 탈취설비 중화제 구매 (2차)  입찰참여완…  |\n",
       "+---+--------------------+-----------------------+-------------+------------------------------------------+"
      ]
     },
     "execution_count": 8,
     "metadata": {},
     "output_type": "execute_result"
    }
   ],
   "source": [
    "from utils.table import to_agent_table\n",
    "to_agent_table(bids, [\"is_completed\", \"market\", \"number\", \"price\", \"title\"])"
   ]
  },
  {
   "cell_type": "code",
   "execution_count": 7,
   "metadata": {},
   "outputs": [
    {
     "name": "stderr",
     "output_type": "stream",
     "text": [
      "2024-12-17 00:30:54,529 - Incon - INFO - 입찰 등록데이터 요청 - 1 page\n",
      "2024-12-17 00:30:55,536 - Incon - INFO - 입찰 데이터 클렌징\n",
      "2024-12-17 00:30:55,547 - Incon - INFO - 입찰 등록데이터 요청 - 2 page\n",
      "2024-12-17 00:30:56,370 - Incon - INFO - 입찰 데이터 클렌징\n"
     ]
    }
   ],
   "source": [
    "xxx = incon.get_raw_bid_data()"
   ]
  },
  {
   "cell_type": "code",
   "execution_count": null,
   "metadata": {},
   "outputs": [],
   "source": [
    "def try_save_screenshot(driver, path):\n",
    "    try:\n",
    "        # 디렉토리 미리 만들기\n",
    "        os.makedirs(os.path.dirname(path), exist_ok=True)\n",
    "\n",
    "        result = driver.save_screenshot(path)\n",
    "        return result\n",
    "    except Exception as e:\n",
    "        return False\n",
    "    \n",
    "screenshot_path = os.path.join('~', '.iaa', 'log', \"error_screenshot.png\")\n",
    "try_save_screenshot(incon, screenshot_path)"
   ]
  }
 ],
 "metadata": {
  "kernelspec": {
   "display_name": "env",
   "language": "python",
   "name": "python3"
  },
  "language_info": {
   "codemirror_mode": {
    "name": "ipython",
    "version": 3
   },
   "file_extension": ".py",
   "mimetype": "text/x-python",
   "name": "python",
   "nbconvert_exporter": "python",
   "pygments_lexer": "ipython3",
   "version": "3.10.11"
  },
  "orig_nbformat": 4
 },
 "nbformat": 4,
 "nbformat_minor": 2
}
