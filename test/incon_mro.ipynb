{
 "cells": [
  {
   "cell_type": "code",
   "execution_count": 10,
   "metadata": {},
   "outputs": [
    {
     "name": "stdout",
     "output_type": "stream",
     "text": [
      "The autoreload extension is already loaded. To reload it, use:\n",
      "  %reload_ext autoreload\n"
     ]
    }
   ],
   "source": [
    "# don't need to load extension everytime. \n",
    "%load_ext autoreload \n",
    "\n",
    "# This needs to be executed everytime.  \n",
    "%autoreload 2"
   ]
  },
  {
   "cell_type": "code",
   "execution_count": 11,
   "metadata": {},
   "outputs": [],
   "source": [
    "import os\n",
    "import sys\n",
    "\n",
    "# 현재 작업 디렉토리 가져오기\n",
    "current_directory = os.getcwd()\n",
    "\n",
    "# fmt: off\n",
    "module_directory = os.path.join(\n",
    "    current_directory, \"..\",\"thirdparty\", \"automatic\")\n",
    "if module_directory not in sys.path:\n",
    "    sys.path.append(module_directory)\n",
    "\n",
    "sys.path.append(os.path.join(current_directory, \"..\"))"
   ]
  },
  {
   "cell_type": "code",
   "execution_count": 12,
   "metadata": {},
   "outputs": [],
   "source": [
    "import automatic.selenium as s\n",
    "drv = s.create_driver()"
   ]
  },
  {
   "cell_type": "code",
   "execution_count": 13,
   "metadata": {},
   "outputs": [],
   "source": [
    "\n",
    "# This needs to be executed everytime.  \n",
    "%autoreload 2\n",
    "\n",
    "from org.incon import InconMRO\n",
    "import account\n",
    "pw=account.account_get(\"incon\", \"pw\")\n",
    "id=account.account_get(\"incon\", \"id\")\n",
    "\n",
    "incon = InconMRO(drv, id, pw)"
   ]
  },
  {
   "cell_type": "code",
   "execution_count": 14,
   "metadata": {},
   "outputs": [
    {
     "name": "stderr",
     "output_type": "stream",
     "text": [
      "2024-03-22 20:04:01,337 - Incon - INFO - 로그인\n"
     ]
    }
   ],
   "source": [
    "\n",
    "incon.login()"
   ]
  },
  {
   "cell_type": "code",
   "execution_count": 56,
   "metadata": {},
   "outputs": [
    {
     "name": "stderr",
     "output_type": "stream",
     "text": [
      "2024-03-22 21:13:06,760 - Incon - INFO - 사전 등록 데이터 요청\n",
      "2024-03-22 21:13:08,302 - Incon - INFO - 사전등록데이터 요청 - 1 page\n",
      "2024-03-22 21:13:09,512 - Incon - INFO - 사전등록 데이터 클렌징\n",
      "2024-03-22 21:13:09,525 - Incon - INFO - 사전등록데이터 요청 - 2 page\n",
      "2024-03-22 21:13:10,716 - Incon - INFO - 사전등록 데이터 클렌징\n"
     ]
    },
    {
     "name": "stdout",
     "output_type": "stream",
     "text": [
      "market=나라장터   , code=4619150201          , title=열감지기\n",
      "market=한국전력   , code=G052400217-00       , title=1부두 연속식 하역기(CSU) Boom&Gantry 성능개선용 자재 제작 구매\n",
      "market=국방전자조달 , code=2024LCF002507506-01 , title=무릎보호대 등 3항목 구매(물자)\n",
      "market=국방전자조달 , code=2024UMM024902943-01 , title=(246029-F) 나프탈렌 구매\n",
      "market=국방전자조달 , code=2024SCF027609466-01 , title=(긴급)밸브,체크형 등 50종\n",
      "market=국방전자조달 , code=2024SCF027307592-01 , title=(긴급) 밸브, 나비형 등 6종\n",
      "market=한국전력   , code=G052400218-00       , title=터빈설비 정비용 안전커버 제작 구매\n",
      "market=한국전력   , code=G052400226-00       , title=[세종발전본부] 2024년 계획예방정비공사 일반자재 구매\n",
      "market=가스공사   , code=2024031906001-00    , title=2024년 가스누출경보기 부속자재 통합발주(COSMOS, RIKEN KEIKI)\n",
      "market=나라장터   , code=3912100601          , title=인버터 \n",
      "market=나라장터   , code=1235230501          , title=소석회 \n",
      "market=나라장터   , code=4616158801          , title=등명기 \n",
      "market=나라장터   , code=4616158801          , title=등명기 \n"
     ]
    },
    {
     "ename": "",
     "evalue": "",
     "output_type": "error",
     "traceback": [
      "\u001b[1;31mThe Kernel crashed while executing code in the current cell or a previous cell. \n",
      "\u001b[1;31mPlease review the code in the cell(s) to identify a possible cause of the failure. \n",
      "\u001b[1;31mClick <a href='https://aka.ms/vscodeJupyterKernelCrash'>here</a> for more info. \n",
      "\u001b[1;31mView Jupyter <a href='command:jupyter.viewOutput'>log</a> for further details."
     ]
    }
   ],
   "source": [
    "%autoreload 2\n",
    "pres = incon.get_pre_data()\n",
    "for pre in pres:\n",
    "    print(pre)\n",
    "\n"
   ]
  },
  {
   "cell_type": "code",
   "execution_count": 51,
   "metadata": {},
   "outputs": [
    {
     "name": "stdout",
     "output_type": "stream",
     "text": [
      "market=나라장터   , code=4619150201          , title=nan\n",
      "market=한국전력   , code=G052400217-00       , title=nan\n",
      "market=국방전자조달 , code=2024LCF002507506-01 , title=nan\n",
      "market=국방전자조달 , code=2024UMM024902943-01 , title=nan\n",
      "market=국방전자조달 , code=2024SCF027307592-01 , title=nan\n",
      "market=국방전자조달 , code=2024SCF027609466-01 , title=nan\n",
      "market=한국전력   , code=G052400218-00       , title=nan\n",
      "market=한국전력   , code=G052400226-00       , title=nan\n",
      "market=가스공사   , code=2024031906001-00    , title=nan\n",
      "market=나라장터   , code=3912100601          , title=nan\n",
      "market=나라장터   , code=1235230501          , title=nan\n",
      "market=나라장터   , code=4616158801          , title=nan\n",
      "market=나라장터   , code=4616158801          , title=nan\n"
     ]
    }
   ],
   "source": [
    "for pre in pres:\n",
    "    print(pre)"
   ]
  },
  {
   "cell_type": "code",
   "execution_count": 49,
   "metadata": {},
   "outputs": [
    {
     "name": "stdout",
     "output_type": "stream",
     "text": [
      "<class 'float'>\n",
      "<class 'str'>\n",
      "<class 'str'>\n",
      "<class 'str'>\n",
      "<class 'str'>\n",
      "<class 'str'>\n",
      "<class 'str'>\n",
      "<class 'str'>\n",
      "<class 'str'>\n",
      "<class 'float'>\n",
      "<class 'float'>\n",
      "<class 'float'>\n",
      "<class 'float'>\n"
     ]
    }
   ],
   "source": [
    "for i, d in pres.iterrows():\n",
    "    print(type(d['공고명']))"
   ]
  },
  {
   "cell_type": "code",
   "execution_count": 92,
   "metadata": {},
   "outputs": [
    {
     "name": "stderr",
     "output_type": "stream",
     "text": [
      "2024-03-12 21:33:36,974 - Icon - INFO - 입찰 데이터 가격 산정\n",
      "2024-03-12 21:33:36,976 - Icon - INFO - 입찰 데이터 요청\n",
      "2024-03-12 21:33:36,977 - Automatic - DEBUG - go on 소싱완료탭\n"
     ]
    },
    {
     "name": "stderr",
     "output_type": "stream",
     "text": [
      "2024-03-12 21:33:43,872 - Automatic - DEBUG - table on 소싱완료 리스트\n",
      "2024-03-12 21:33:44,319 - Icon - INFO - 입찰 데이터 클렌징\n"
     ]
    }
   ],
   "source": [
    "incon.bid_init()"
   ]
  },
  {
   "cell_type": "code",
   "execution_count": 100,
   "metadata": {},
   "outputs": [
    {
     "name": "stderr",
     "output_type": "stream",
     "text": [
      "2024-03-12 21:38:19,358 - Icon - INFO - 입찰 데이터 요청\n",
      "2024-03-12 21:38:19,359 - Automatic - DEBUG - go on 소싱완료탭\n"
     ]
    },
    {
     "name": "stderr",
     "output_type": "stream",
     "text": [
      "2024-03-12 21:38:23,671 - Automatic - DEBUG - table on 소싱완료 리스트\n",
      "2024-03-12 21:38:24,135 - Icon - INFO - 입찰 데이터 클렌징\n"
     ]
    }
   ],
   "source": [
    "bids = incon.get_bid_data()"
   ]
  },
  {
   "cell_type": "code",
   "execution_count": 101,
   "metadata": {},
   "outputs": [
    {
     "name": "stdout",
     "output_type": "stream",
     "text": [
      "market=나라장터   , code=20240309467-00      , price=  16,793,565 KRW, title=2024년 노원자원회수시설 설비유지관리 물품[메탈가스켓외 54종] 구매 \n",
      "market=나라장터   , code=20240307230-01      , price=  69,159,643 KRW, title=2024년 올림픽공원 조경자재 연간단가 구매 \n",
      "market=나라장터   , code=20240303682-00      , price= 190,197,177 KRW, title=영등포아리수정수센터 1,2정수장 용존오존농도계 구매  \n"
     ]
    }
   ],
   "source": [
    "for bid in bids:\n",
    "    print(bid)"
   ]
  },
  {
   "cell_type": "code",
   "execution_count": 84,
   "metadata": {},
   "outputs": [],
   "source": [
    "drv.quit()"
   ]
  }
 ],
 "metadata": {
  "kernelspec": {
   "display_name": "Python 3.10.8 64-bit (microsoft store)",
   "language": "python",
   "name": "python3"
  },
  "language_info": {
   "codemirror_mode": {
    "name": "ipython",
    "version": 3
   },
   "file_extension": ".py",
   "mimetype": "text/x-python",
   "name": "python",
   "nbconvert_exporter": "python",
   "pygments_lexer": "ipython3",
   "version": "3.11.8"
  },
  "orig_nbformat": 4,
  "vscode": {
   "interpreter": {
    "hash": "140d6880638af8c011551f0c48a660151749c27ccfb9a61f6d950e57001cc277"
   }
  }
 },
 "nbformat": 4,
 "nbformat_minor": 2
}
