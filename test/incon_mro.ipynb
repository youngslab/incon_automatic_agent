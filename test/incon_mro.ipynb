{
 "cells": [
  {
   "cell_type": "code",
   "execution_count": 1,
   "metadata": {},
   "outputs": [],
   "source": [
    "# don't need to load extension everytime. \n",
    "%load_ext autoreload \n",
    "\n",
    "# This needs to be executed everytime.  \n",
    "%autoreload 2"
   ]
  },
  {
   "cell_type": "code",
   "execution_count": 2,
   "metadata": {},
   "outputs": [],
   "source": [
    "import os\n",
    "import sys\n",
    "\n",
    "# 현재 작업 디렉토리 가져오기\n",
    "current_directory = os.getcwd()\n",
    "\n",
    "# fmt: off\n",
    "module_directory = os.path.join(\n",
    "    current_directory, \"..\",\"thirdparty\", \"automatic\")\n",
    "if module_directory not in sys.path:\n",
    "    sys.path.append(module_directory)\n",
    "\n",
    "sys.path.append(os.path.join(current_directory, \"..\"))"
   ]
  },
  {
   "cell_type": "code",
   "execution_count": 3,
   "metadata": {},
   "outputs": [],
   "source": [
    "import automatic.selenium as s\n",
    "drv = s.create_driver()"
   ]
  },
  {
   "cell_type": "code",
   "execution_count": 7,
   "metadata": {},
   "outputs": [],
   "source": [
    "\n",
    "# This needs to be executed everytime.  \n",
    "%autoreload 2\n",
    "\n",
    "from org.incon import InconMRO\n",
    "import account\n",
    "pw=account.account_get(\"incon\", \"pw\")\n",
    "id=account.account_get(\"incon\", \"id\")\n",
    "\n",
    "incon = InconMRO(drv, id, pw)"
   ]
  },
  {
   "cell_type": "code",
   "execution_count": 5,
   "metadata": {},
   "outputs": [
    {
     "name": "stderr",
     "output_type": "stream",
     "text": [
      "2024-12-08 08:47:18,197 - Incon - INFO - 로그인\n"
     ]
    }
   ],
   "source": [
    "\n",
    "incon.login()"
   ]
  },
  {
   "cell_type": "code",
   "execution_count": 8,
   "metadata": {},
   "outputs": [
    {
     "name": "stderr",
     "output_type": "stream",
     "text": [
      "2024-12-08 08:56:50,855 - Incon - INFO - 사전 등록 데이터(raw format)\n",
      "2024-12-08 08:56:51,923 - Incon - INFO - 사전등록데이터 요청 - 1 page\n",
      "2024-12-08 08:56:52,762 - Incon - INFO - 사전등록데이터 요청 - 2 page\n"
     ]
    }
   ],
   "source": [
    "df = incon.get_pre_data_raw()"
   ]
  },
  {
   "cell_type": "code",
   "execution_count": 9,
   "metadata": {},
   "outputs": [
    {
     "name": "stderr",
     "output_type": "stream",
     "text": [
      "2024-12-08 08:58:48,187 - Incon - INFO - 사전등록 데이터 클렌징\n"
     ]
    }
   ],
   "source": [
    "df_cleaned = incon.clean_pre_list(df)"
   ]
  },
  {
   "cell_type": "code",
   "execution_count": 11,
   "metadata": {},
   "outputs": [
    {
     "name": "stderr",
     "output_type": "stream",
     "text": [
      "2024-12-08 09:25:30,123 - Incon - INFO - 사전 등록 데이터 요청\n",
      "2024-12-08 09:25:30,131 - Incon - INFO - 사전 등록 데이터(raw format)\n",
      "2024-12-08 09:25:32,116 - Incon - INFO - 사전등록데이터 요청 - 1 page\n",
      "2024-12-08 09:25:32,866 - Incon - INFO - 사전등록데이터 요청 - 2 page\n",
      "2024-12-08 09:25:33,499 - Incon - INFO - 사전등록 데이터 클렌징\n"
     ]
    },
    {
     "name": "stdout",
     "output_type": "stream",
     "text": [
      "market=한국전력(직접이행), code=G022400419-00       , title=10호기 계측제어설비 계획예방정비공사 일반자재 구매 직접이행의무대상\n",
      "market=한국전력(직접이행), code=G022400416-00       , title=(긴급) 태안 5,6호기 환경설비 성능개선공사 덕트보온재 구매 직접이행의무대상\n",
      "market=국방전자조달 , code=2024SCF111255174-01 , title=해병대 대형차량 리프트, 브릿지형 구매\n",
      "market=한국전력   , code=G012406041-00       , title=축전지,무보수 밀폐형,MSB-400,400AH,2V-부산울산\n",
      "market=한국전력(직접이행), code=G012406070-00       , title=고정연축전지,밀폐형,PS-1000(E)-남부(대구경북건설) 직접이행의무대상\n",
      "market=국방전자조달 , code=2024UMM131952912-01 , title=(24G300-A)25년 프린터 임차 용역\n",
      "market=나라장터   , code=3010220403          , title=용접구조용압연강판\n",
      "market=나라장터   , code=4111331901          , title=기타수질분석기\n",
      "market=나라장터   , code=4010180602          , title=가스엔진히트펌프\n",
      "market=나라장터   , code=4010180602          , title=가스엔진히트펌프\n",
      "market=나라장터   , code=4010180602          , title=가스엔진히트펌프\n",
      "market=나라장터   , code=3911150403          , title=무대조명기구\n",
      "market=나라장터   , code=5310250501          , title=우산\n",
      "market=나라장터   , code=5510151901          , title=정기간행물\n",
      "market=나라장터   , code=4010180602          , title=가스엔진히트펌프\n",
      "market=나라장터   , code=4010180602          , title=가스엔진히트펌프\n",
      "market=나라장터   , code=4010180602          , title=가스엔진히트펌프\n",
      "market=나라장터(직접이행), code=4010170101          , title=냉방기\n"
     ]
    }
   ],
   "source": [
    "%autoreload 2\n",
    "pres = incon.get_pre_data()\n",
    "for pre in pres:\n",
    "    print(pre)\n",
    "\n"
   ]
  },
  {
   "cell_type": "code",
   "execution_count": 51,
   "metadata": {},
   "outputs": [
    {
     "name": "stdout",
     "output_type": "stream",
     "text": [
      "market=나라장터   , code=4619150201          , title=nan\n",
      "market=한국전력   , code=G052400217-00       , title=nan\n",
      "market=국방전자조달 , code=2024LCF002507506-01 , title=nan\n",
      "market=국방전자조달 , code=2024UMM024902943-01 , title=nan\n",
      "market=국방전자조달 , code=2024SCF027307592-01 , title=nan\n",
      "market=국방전자조달 , code=2024SCF027609466-01 , title=nan\n",
      "market=한국전력   , code=G052400218-00       , title=nan\n",
      "market=한국전력   , code=G052400226-00       , title=nan\n",
      "market=가스공사   , code=2024031906001-00    , title=nan\n",
      "market=나라장터   , code=3912100601          , title=nan\n",
      "market=나라장터   , code=1235230501          , title=nan\n",
      "market=나라장터   , code=4616158801          , title=nan\n",
      "market=나라장터   , code=4616158801          , title=nan\n"
     ]
    }
   ],
   "source": [
    "for pre in pres:\n",
    "    print(pre)"
   ]
  },
  {
   "cell_type": "code",
   "execution_count": 12,
   "metadata": {},
   "outputs": [
    {
     "name": "stderr",
     "output_type": "stream",
     "text": [
      "2024-12-08 09:25:52,537 - Incon - INFO - 입찰 데이터 요청\n",
      "2024-12-08 09:25:53,509 - Incon - INFO - 입찰 등록데이터 요청 - 1 page\n",
      "2024-12-08 09:25:54,204 - Incon - INFO - 입찰 데이터 클렌징\n",
      "2024-12-08 09:25:54,224 - Incon - INFO - 입찰 등록데이터 요청 - 2 page\n",
      "2024-12-08 09:25:54,783 - Incon - INFO - 입찰 데이터 클렌징\n"
     ]
    }
   ],
   "source": [
    "bids = incon.get_bid_data()"
   ]
  },
  {
   "cell_type": "code",
   "execution_count": 13,
   "metadata": {},
   "outputs": [
    {
     "name": "stdout",
     "output_type": "stream",
     "text": [
      "market=국방전자조달 , code=수의LHQ0058-1-2024-00 , price=  16,809,205 KRW, title=24년 40차 물자획득 안전물자(안전사다리) 구매 \n",
      "market=나라장터   , code=20241200526-00      , price=  12,216,351 KRW, title=2025년도 서울특별시교육청종로도서관 연속간행물(잡지) 구입 소액수의 공고 \n",
      "market=나라장터   , code=20241205816-00      , price=  21,334,752 KRW, title=2025년 정독도서관 연속간행물 구입 소액수의 견적 제출 공고 \n",
      "market=국방전자조달 , code=수의MCT0066-1-2024-00 , price=  10,744,695 KRW, title=경기대 의무용품(테이핑 등 3종)구매 \n",
      "market=국방전자조달 , code=수의LCI0008-1-2024-00 , price=  28,579,345 KRW, title=24년 정비피복(동계용) 구매 \n",
      "market=나라장터   , code=20241200597-00      , price= 425,459,650 KRW, title=2025년 한국잡월드 체험관 물품(소모품) 구매 \n",
      "market=나라장터   , code=20241200818-00      , price= 282,950,913 KRW, title=위례고운초 노후 냉난방개선사업 관급자재(가스히트펌프) 구매(계속비)  \n",
      "market=나라장터   , code=20241143175-00      , price=  62,472,404 KRW, title=수질자동측정망 측정장비(다항목수질측정기) 구매  \n",
      "market=나라장터   , code=20241200446-00      , price= 208,154,474 KRW, title=춘천교육대학교 석우홀 냉난방기 설치 공사(실외기)  \n",
      "market=나라장터   , code=20241201479-00      , price= 174,309,638 KRW, title=공항초 냉난방개선공사 관급자재[GHP실외기] 구매  \n",
      "market=나라장터   , code=20241203606-00      , price=  62,870,025 KRW, title=장우산 구입(코레일테크(주) 기관 창립 20주년 기념품)  \n",
      "market=나라장터   , code=20241205893-00      , price=  38,477,054 KRW, title=2025년 광진구립도서관 연속간행물 구매  \n"
     ]
    }
   ],
   "source": [
    "for bid in bids:\n",
    "    print(bid)"
   ]
  },
  {
   "cell_type": "code",
   "execution_count": 84,
   "metadata": {},
   "outputs": [],
   "source": [
    "drv.quit()"
   ]
  }
 ],
 "metadata": {
  "kernelspec": {
   "display_name": "env",
   "language": "python",
   "name": "python3"
  },
  "language_info": {
   "codemirror_mode": {
    "name": "ipython",
    "version": 3
   },
   "file_extension": ".py",
   "mimetype": "text/x-python",
   "name": "python",
   "nbconvert_exporter": "python",
   "pygments_lexer": "ipython3",
   "version": "3.11.9"
  },
  "orig_nbformat": 4
 },
 "nbformat": 4,
 "nbformat_minor": 2
}
