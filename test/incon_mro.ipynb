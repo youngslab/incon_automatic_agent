{
 "cells": [
  {
   "cell_type": "code",
   "execution_count": 1,
   "metadata": {},
   "outputs": [],
   "source": [
    "# don't need to load extension everytime. \n",
    "%load_ext autoreload \n",
    "\n",
    "# This needs to be executed everytime.  \n",
    "%autoreload 2"
   ]
  },
  {
   "cell_type": "code",
   "execution_count": 2,
   "metadata": {},
   "outputs": [],
   "source": [
    "import os\n",
    "import sys\n",
    "\n",
    "# 현재 작업 디렉토리 가져오기\n",
    "current_directory = os.getcwd()\n",
    "\n",
    "# fmt: off\n",
    "module_directory = os.path.join(\n",
    "    current_directory, \"..\",\"thirdparty\", \"automatic\")\n",
    "if module_directory not in sys.path:\n",
    "    sys.path.append(module_directory)\n",
    "\n",
    "sys.path.append(os.path.join(current_directory, \"..\"))"
   ]
  },
  {
   "cell_type": "code",
   "execution_count": 3,
   "metadata": {},
   "outputs": [],
   "source": [
    "import automatic.selenium as s\n",
    "drv = s.create_driver()"
   ]
  },
  {
   "cell_type": "code",
   "execution_count": 4,
   "metadata": {},
   "outputs": [],
   "source": [
    "\n",
    "# This needs to be executed everytime.  \n",
    "%autoreload 2\n",
    "\n",
    "from org.incon import InconMRO\n",
    "import account\n",
    "pw=account.account_get(\"incon\", \"pw\")\n",
    "id=account.account_get(\"incon\", \"id\")\n",
    "\n",
    "incon = InconMRO(drv, id, pw)"
   ]
  },
  {
   "cell_type": "code",
   "execution_count": 5,
   "metadata": {},
   "outputs": [
    {
     "name": "stderr",
     "output_type": "stream",
     "text": [
      "2024-12-15 10:44:41,638 - Incon - INFO - 로그인\n"
     ]
    }
   ],
   "source": [
    "\n",
    "incon.login()"
   ]
  },
  {
   "cell_type": "code",
   "execution_count": 6,
   "metadata": {},
   "outputs": [
    {
     "name": "stderr",
     "output_type": "stream",
     "text": [
      "2024-12-15 10:44:52,240 - Incon - INFO - 사전 등록 데이터(raw format)\n",
      "2024-12-15 10:44:53,343 - Incon - INFO - 사전등록데이터 요청 - 1 page\n",
      "2024-12-15 10:44:54,329 - Incon - INFO - 사전등록데이터 요청 - 2 page\n"
     ]
    }
   ],
   "source": [
    "df = incon.get_pre_data_raw()"
   ]
  },
  {
   "cell_type": "code",
   "execution_count": 9,
   "metadata": {},
   "outputs": [
    {
     "name": "stderr",
     "output_type": "stream",
     "text": [
      "2024-12-08 08:58:48,187 - Incon - INFO - 사전등록 데이터 클렌징\n"
     ]
    }
   ],
   "source": [
    "df_cleaned = incon.clean_pre_list(df)"
   ]
  },
  {
   "cell_type": "code",
   "execution_count": null,
   "metadata": {},
   "outputs": [
    {
     "ename": "ModuleNotFoundError",
     "evalue": "No module named 'pyautogui'",
     "output_type": "error",
     "traceback": [
      "\u001b[1;31m---------------------------------------------------------------------------\u001b[0m",
      "\u001b[1;31mModuleNotFoundError\u001b[0m                       Traceback (most recent call last)",
      "Cell \u001b[1;32mIn[7], line 2\u001b[0m\n\u001b[0;32m      1\u001b[0m get_ipython()\u001b[38;5;241m.\u001b[39mrun_line_magic(\u001b[38;5;124m'\u001b[39m\u001b[38;5;124mautoreload\u001b[39m\u001b[38;5;124m'\u001b[39m, \u001b[38;5;124m'\u001b[39m\u001b[38;5;124m2\u001b[39m\u001b[38;5;124m'\u001b[39m)\n\u001b[1;32m----> 2\u001b[0m \u001b[38;5;28;01mfrom\u001b[39;00m \u001b[38;5;21;01magent\u001b[39;00m \u001b[38;5;28;01mimport\u001b[39;00m print_pres_summary\n\u001b[0;32m      5\u001b[0m pres \u001b[38;5;241m=\u001b[39m incon\u001b[38;5;241m.\u001b[39mget_pre_data()\n\u001b[0;32m      6\u001b[0m print_pres_summary(pres)\n",
      "File \u001b[1;32mc:\\Users\\jaeyo\\virtual_machines\\shared\\incon\\test\\..\\agent.py:26\u001b[0m\n\u001b[0;32m     23\u001b[0m     sys\u001b[38;5;241m.\u001b[39mpath\u001b[38;5;241m.\u001b[39mappend(module_directory)\n\u001b[0;32m     25\u001b[0m \u001b[38;5;28;01mfrom\u001b[39;00m \u001b[38;5;21;01mautomatic\u001b[39;00m\u001b[38;5;21;01m.\u001b[39;00m\u001b[38;5;21;01mutils\u001b[39;00m\u001b[38;5;21;01m.\u001b[39;00m\u001b[38;5;21;01mlogger\u001b[39;00m \u001b[38;5;28;01mimport\u001b[39;00m Logger\n\u001b[1;32m---> 26\u001b[0m \u001b[38;5;28;01mfrom\u001b[39;00m \u001b[38;5;21;01morg\u001b[39;00m\u001b[38;5;21;01m.\u001b[39;00m\u001b[38;5;21;01mmarkets\u001b[39;00m \u001b[38;5;28;01mimport\u001b[39;00m create_market\n\u001b[0;32m     27\u001b[0m \u001b[38;5;28;01mfrom\u001b[39;00m \u001b[38;5;21;01morg\u001b[39;00m\u001b[38;5;21;01m.\u001b[39;00m\u001b[38;5;21;01mincon\u001b[39;00m \u001b[38;5;28;01mimport\u001b[39;00m InconMRO\n\u001b[0;32m     29\u001b[0m \u001b[38;5;66;03m# fmt: on)\u001b[39;00m\n",
      "File \u001b[1;32mc:\\Users\\jaeyo\\virtual_machines\\shared\\incon\\test\\..\\org\\markets.py:15\u001b[0m\n\u001b[0;32m     13\u001b[0m \u001b[38;5;28;01mfrom\u001b[39;00m \u001b[38;5;21;01mtyping\u001b[39;00m \u001b[38;5;28;01mimport\u001b[39;00m List\n\u001b[0;32m     14\u001b[0m \u001b[38;5;28;01mfrom\u001b[39;00m \u001b[38;5;21;01menum\u001b[39;00m \u001b[38;5;28;01mimport\u001b[39;00m Enum\n\u001b[1;32m---> 15\u001b[0m \u001b[38;5;28;01mfrom\u001b[39;00m \u001b[38;5;21;01morg\u001b[39;00m\u001b[38;5;21;01m.\u001b[39;00m\u001b[38;5;21;01md2b\u001b[39;00m \u001b[38;5;28;01mimport\u001b[39;00m D2B\n\u001b[0;32m     16\u001b[0m \u001b[38;5;28;01mfrom\u001b[39;00m \u001b[38;5;21;01morg\u001b[39;00m\u001b[38;5;21;01m.\u001b[39;00m\u001b[38;5;21;01mkepco\u001b[39;00m \u001b[38;5;28;01mimport\u001b[39;00m Kepco\n\u001b[0;32m     17\u001b[0m \u001b[38;5;28;01mfrom\u001b[39;00m \u001b[38;5;21;01morg\u001b[39;00m\u001b[38;5;21;01m.\u001b[39;00m\u001b[38;5;21;01mg2b\u001b[39;00m\u001b[38;5;21;01m.\u001b[39;00m\u001b[38;5;21;01mg2b\u001b[39;00m \u001b[38;5;28;01mimport\u001b[39;00m G2B\n",
      "File \u001b[1;32mc:\\Users\\jaeyo\\virtual_machines\\shared\\incon\\test\\..\\org\\d2b\\__init__.py:3\u001b[0m\n\u001b[0;32m      2\u001b[0m \u001b[38;5;66;03m# from .d2b import *\u001b[39;00m\n\u001b[1;32m----> 3\u001b[0m \u001b[38;5;28;01mfrom\u001b[39;00m \u001b[38;5;21;01m.\u001b[39;00m\u001b[38;5;21;01md2b_v2\u001b[39;00m \u001b[38;5;28;01mimport\u001b[39;00m \u001b[38;5;241m*\u001b[39m\n",
      "File \u001b[1;32mc:\\Users\\jaeyo\\virtual_machines\\shared\\incon\\test\\..\\org\\d2b\\d2b_v2.py:10\u001b[0m\n\u001b[0;32m      8\u001b[0m \u001b[38;5;28;01mimport\u001b[39;00m \u001b[38;5;21;01mautomatic\u001b[39;00m \u001b[38;5;28;01mas\u001b[39;00m \u001b[38;5;21;01mam\u001b[39;00m\n\u001b[0;32m      9\u001b[0m \u001b[38;5;28;01mimport\u001b[39;00m \u001b[38;5;21;01mautomatic\u001b[39;00m\u001b[38;5;21;01m.\u001b[39;00m\u001b[38;5;21;01mselenium\u001b[39;00m \u001b[38;5;28;01mas\u001b[39;00m \u001b[38;5;21;01ms\u001b[39;00m\n\u001b[1;32m---> 10\u001b[0m \u001b[38;5;28;01mimport\u001b[39;00m \u001b[38;5;21;01mautomatic\u001b[39;00m\u001b[38;5;21;01m.\u001b[39;00m\u001b[38;5;21;01mwin32\u001b[39;00m \u001b[38;5;28;01mas\u001b[39;00m \u001b[38;5;21;01mw\u001b[39;00m\n\u001b[0;32m     11\u001b[0m \u001b[38;5;28;01mfrom\u001b[39;00m \u001b[38;5;21;01mautomatic\u001b[39;00m\u001b[38;5;21;01m.\u001b[39;00m\u001b[38;5;21;01mselenium\u001b[39;00m\u001b[38;5;21;01m.\u001b[39;00m\u001b[38;5;21;01mutils\u001b[39;00m \u001b[38;5;28;01mimport\u001b[39;00m create_driver\n\u001b[0;32m     12\u001b[0m \u001b[38;5;28;01mfrom\u001b[39;00m \u001b[38;5;21;01mautomatic\u001b[39;00m\u001b[38;5;21;01m.\u001b[39;00m\u001b[38;5;21;01mutils\u001b[39;00m\u001b[38;5;21;01m.\u001b[39;00m\u001b[38;5;21;01mlogger\u001b[39;00m \u001b[38;5;28;01mimport\u001b[39;00m Logger\n",
      "File \u001b[1;32mc:\\Users\\jaeyo\\virtual_machines\\shared\\incon\\test\\..\\thirdparty\\automatic\\automatic\\win32\\__init__.py:2\u001b[0m\n\u001b[1;32m----> 2\u001b[0m \u001b[38;5;28;01mfrom\u001b[39;00m \u001b[38;5;21;01m.\u001b[39;00m\u001b[38;5;21;01mcontext\u001b[39;00m \u001b[38;5;28;01mimport\u001b[39;00m Context\n\u001b[0;32m      3\u001b[0m \u001b[38;5;28;01mfrom\u001b[39;00m \u001b[38;5;21;01m.\u001b[39;00m\u001b[38;5;21;01melements\u001b[39;00m \u001b[38;5;28;01mimport\u001b[39;00m \u001b[38;5;241m*\u001b[39m\n",
      "File \u001b[1;32mc:\\Users\\jaeyo\\virtual_machines\\shared\\incon\\test\\..\\thirdparty\\automatic\\automatic\\win32\\context.py:3\u001b[0m\n\u001b[0;32m      2\u001b[0m \u001b[38;5;66;03m# pyautogui\u001b[39;00m\n\u001b[1;32m----> 3\u001b[0m \u001b[38;5;28;01mimport\u001b[39;00m \u001b[38;5;21;01mpyautogui\u001b[39;00m\n\u001b[0;32m      4\u001b[0m \u001b[38;5;28;01mimport\u001b[39;00m \u001b[38;5;21;01mpyperclip\u001b[39;00m\n\u001b[0;32m      5\u001b[0m \u001b[38;5;28;01mimport\u001b[39;00m \u001b[38;5;21;01mautoit\u001b[39;00m\n",
      "\u001b[1;31mModuleNotFoundError\u001b[0m: No module named 'pyautogui'"
     ]
    }
   ],
   "source": [
    "%autoreload 2\n",
    "from utils.table import print_pres_summary\n",
    "\n",
    "\n",
    "pres = incon.get_pre_data()\n",
    "print_pres_summary(pres)"
   ]
  },
  {
   "cell_type": "code",
   "execution_count": 51,
   "metadata": {},
   "outputs": [
    {
     "name": "stdout",
     "output_type": "stream",
     "text": [
      "market=나라장터   , code=4619150201          , title=nan\n",
      "market=한국전력   , code=G052400217-00       , title=nan\n",
      "market=국방전자조달 , code=2024LCF002507506-01 , title=nan\n",
      "market=국방전자조달 , code=2024UMM024902943-01 , title=nan\n",
      "market=국방전자조달 , code=2024SCF027307592-01 , title=nan\n",
      "market=국방전자조달 , code=2024SCF027609466-01 , title=nan\n",
      "market=한국전력   , code=G052400218-00       , title=nan\n",
      "market=한국전력   , code=G052400226-00       , title=nan\n",
      "market=가스공사   , code=2024031906001-00    , title=nan\n",
      "market=나라장터   , code=3912100601          , title=nan\n",
      "market=나라장터   , code=1235230501          , title=nan\n",
      "market=나라장터   , code=4616158801          , title=nan\n",
      "market=나라장터   , code=4616158801          , title=nan\n"
     ]
    }
   ],
   "source": [
    "for pre in pres:\n",
    "    print(pre)"
   ]
  },
  {
   "cell_type": "code",
   "execution_count": 12,
   "metadata": {},
   "outputs": [
    {
     "name": "stderr",
     "output_type": "stream",
     "text": [
      "2024-12-08 09:25:52,537 - Incon - INFO - 입찰 데이터 요청\n",
      "2024-12-08 09:25:53,509 - Incon - INFO - 입찰 등록데이터 요청 - 1 page\n",
      "2024-12-08 09:25:54,204 - Incon - INFO - 입찰 데이터 클렌징\n",
      "2024-12-08 09:25:54,224 - Incon - INFO - 입찰 등록데이터 요청 - 2 page\n",
      "2024-12-08 09:25:54,783 - Incon - INFO - 입찰 데이터 클렌징\n"
     ]
    }
   ],
   "source": [
    "bids = incon.get_bid_data()"
   ]
  },
  {
   "cell_type": "code",
   "execution_count": 13,
   "metadata": {},
   "outputs": [
    {
     "name": "stdout",
     "output_type": "stream",
     "text": [
      "market=국방전자조달 , code=수의LHQ0058-1-2024-00 , price=  16,809,205 KRW, title=24년 40차 물자획득 안전물자(안전사다리) 구매 \n",
      "market=나라장터   , code=20241200526-00      , price=  12,216,351 KRW, title=2025년도 서울특별시교육청종로도서관 연속간행물(잡지) 구입 소액수의 공고 \n",
      "market=나라장터   , code=20241205816-00      , price=  21,334,752 KRW, title=2025년 정독도서관 연속간행물 구입 소액수의 견적 제출 공고 \n",
      "market=국방전자조달 , code=수의MCT0066-1-2024-00 , price=  10,744,695 KRW, title=경기대 의무용품(테이핑 등 3종)구매 \n",
      "market=국방전자조달 , code=수의LCI0008-1-2024-00 , price=  28,579,345 KRW, title=24년 정비피복(동계용) 구매 \n",
      "market=나라장터   , code=20241200597-00      , price= 425,459,650 KRW, title=2025년 한국잡월드 체험관 물품(소모품) 구매 \n",
      "market=나라장터   , code=20241200818-00      , price= 282,950,913 KRW, title=위례고운초 노후 냉난방개선사업 관급자재(가스히트펌프) 구매(계속비)  \n",
      "market=나라장터   , code=20241143175-00      , price=  62,472,404 KRW, title=수질자동측정망 측정장비(다항목수질측정기) 구매  \n",
      "market=나라장터   , code=20241200446-00      , price= 208,154,474 KRW, title=춘천교육대학교 석우홀 냉난방기 설치 공사(실외기)  \n",
      "market=나라장터   , code=20241201479-00      , price= 174,309,638 KRW, title=공항초 냉난방개선공사 관급자재[GHP실외기] 구매  \n",
      "market=나라장터   , code=20241203606-00      , price=  62,870,025 KRW, title=장우산 구입(코레일테크(주) 기관 창립 20주년 기념품)  \n",
      "market=나라장터   , code=20241205893-00      , price=  38,477,054 KRW, title=2025년 광진구립도서관 연속간행물 구매  \n"
     ]
    }
   ],
   "source": [
    "for bid in bids:\n",
    "    print(bid)"
   ]
  },
  {
   "cell_type": "code",
   "execution_count": 84,
   "metadata": {},
   "outputs": [],
   "source": [
    "drv.quit()"
   ]
  }
 ],
 "metadata": {
  "kernelspec": {
   "display_name": "env",
   "language": "python",
   "name": "python3"
  },
  "language_info": {
   "codemirror_mode": {
    "name": "ipython",
    "version": 3
   },
   "file_extension": ".py",
   "mimetype": "text/x-python",
   "name": "python",
   "nbconvert_exporter": "python",
   "pygments_lexer": "ipython3",
   "version": "3.11.9"
  },
  "orig_nbformat": 4
 },
 "nbformat": 4,
 "nbformat_minor": 2
}
