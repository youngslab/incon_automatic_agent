{
 "cells": [
  {
   "cell_type": "code",
   "execution_count": 9,
   "metadata": {},
   "outputs": [
    {
     "name": "stdout",
     "output_type": "stream",
     "text": [
      "The autoreload extension is already loaded. To reload it, use:\n",
      "  %reload_ext autoreload\n"
     ]
    }
   ],
   "source": [
    "%load_ext autoreload\n",
    "\n",
    "# WebDriver Manager (selenium 4)\n",
    "# https://pypi.org/project/webdriver-manager/#use-with-edge\n",
    "import os\n",
    "from selenium import webdriver\n",
    "from selenium.webdriver.edge.service import Service\n",
    "from webdriver_manager.microsoft import EdgeChromiumDriverManager\n",
    "\n",
    "def create_edge_driver(headless=False):\n",
    "    options = webdriver.EdgeOptions()\n",
    "    # level 3 is lowest value for log-level\n",
    "    options.add_argument('log-level=3')\n",
    "    if headless:\n",
    "        options.add_argument('headless')\n",
    "        options.add_argument('disable-gpu')\n",
    "\n",
    "    service = Service(EdgeChromiumDriverManager().install())\n",
    "    import time\n",
    "    time.sleep(1)\n",
    "    return webdriver.Edge(options=options, service=service)\n"
   ]
  },
  {
   "cell_type": "code",
   "execution_count": 10,
   "metadata": {},
   "outputs": [],
   "source": [
    "%autoreload 2 \n",
    "\n",
    "import account\n",
    "name  = account.account_get(\"kogas\", \"manager_name\")\n",
    "phone = account.account_get(\"kogas\", \"manager_phone\")\n",
    "email = account.account_get(\"kogas\", \"manager_email\")\n",
    "\n",
    "driver = create_edge_driver()\n",
    "\n",
    "filepath = os.path.join(\n",
    "                    os.path.expanduser(\"~\"), \".iaa\", \"중소기업확인서.pdf\")\n",
    "\n",
    "from org.kogas.kogas import Kogas\n",
    "kogas = Kogas(driver, name, phone, email, filepath)"
   ]
  },
  {
   "cell_type": "code",
   "execution_count": 11,
   "metadata": {},
   "outputs": [
    {
     "data": {
      "text/plain": [
       "True"
      ]
     },
     "execution_count": 11,
     "metadata": {},
     "output_type": "execute_result"
    }
   ],
   "source": [
    "%autoreload 2\n",
    "kogas.login()\n"
   ]
  },
  {
   "cell_type": "code",
   "execution_count": 14,
   "metadata": {},
   "outputs": [
    {
     "ename": "NoSuchWindowException",
     "evalue": "Message: no such window\n  (Session info: MicrosoftEdge=110.0.1587.63)\nStacktrace:\nBacktrace:\n\tMicrosoft::Applications::Events::EventProperties::SetProperty [0x00007FF7E59A48E2+14722]\n\tMicrosoft::Applications::Events::EventProperty::EventProperty [0x00007FF7E593B972+817410]\n\t(No symbol) [0x00007FF7E55CD9B3]\n\t(No symbol) [0x00007FF7E563D0FC]\n\t(No symbol) [0x00007FF7E5630650]\n\t(No symbol) [0x00007FF7E5601FFC]\n\t(No symbol) [0x00007FF7E5600F7E]\n\t(No symbol) [0x00007FF7E56027EE]\n\tMicrosoft::Applications::Events::EventProperties::SetProperty [0x00007FF7E581F580+181072]\n\t(No symbol) [0x00007FF7E56D07F7]\n\tMicrosoft::Applications::Events::EventProperty::EventProperty [0x00007FF7E5880252+49634]\n\tMicrosoft::Applications::Events::EventProperty::EventProperty [0x00007FF7E5883455+62437]\n\tMicrosoft::Applications::Events::ILogManager::DispatchEventBroadcast [0x00007FF7E5B92018+1407928]\n\tMicrosoft::Applications::Events::EventProperty::EventProperty [0x00007FF7E5943E7F+851471]\n\tMicrosoft::Applications::Events::EventProperty::EventProperty [0x00007FF7E5948EE4+872052]\n\tMicrosoft::Applications::Events::EventProperty::EventProperty [0x00007FF7E594903C+872396]\n\tMicrosoft::Applications::Events::EventProperty::EventProperty [0x00007FF7E595134B+905947]\n\tBaseThreadInitThunk [0x00007FFD8B3B26BD+29]\n\tRtlUserThreadStart [0x00007FFD8C7CDFB8+40]\n",
     "output_type": "error",
     "traceback": [
      "\u001b[1;31m---------------------------------------------------------------------------\u001b[0m",
      "\u001b[1;31mNoSuchWindowException\u001b[0m                     Traceback (most recent call last)",
      "Cell \u001b[1;32mIn [14], line 1\u001b[0m\n\u001b[1;32m----> 1\u001b[0m kogas\u001b[39m.\u001b[39;49mregister(\u001b[39m\"\u001b[39;49m\u001b[39m2023022412001-00\u001b[39;49m\u001b[39m\"\u001b[39;49m)\n",
      "File \u001b[1;32mc:\\Users\\integ\\incon\\org\\kogas\\kogas.py:272\u001b[0m, in \u001b[0;36mKogas.register\u001b[1;34m(self, code)\u001b[0m\n\u001b[0;32m    271\u001b[0m \u001b[39mdef\u001b[39;00m \u001b[39mregister\u001b[39m(\u001b[39mself\u001b[39m, code):\n\u001b[1;32m--> 272\u001b[0m     \u001b[39mreturn\u001b[39;00m \u001b[39mself\u001b[39;49m\u001b[39m.\u001b[39;49m__register(code, \u001b[39mself\u001b[39;49m\u001b[39m.\u001b[39;49mmanager_name,\n\u001b[0;32m    273\u001b[0m                            \u001b[39mself\u001b[39;49m\u001b[39m.\u001b[39;49mmanager_phone, \u001b[39mself\u001b[39;49m\u001b[39m.\u001b[39;49mmanager_email, \u001b[39mself\u001b[39;49m\u001b[39m.\u001b[39;49msmall_business)\n",
      "File \u001b[1;32mc:\\Users\\integ\\incon\\org\\kogas\\kogas.py:251\u001b[0m, in \u001b[0;36mKogas.__register\u001b[1;34m(self, code, manager_name, manager_phone, manager_email, small_business)\u001b[0m\n\u001b[0;32m    248\u001b[0m     \u001b[39mreturn\u001b[39;00m \u001b[39mFalse\u001b[39;00m\n\u001b[0;32m    250\u001b[0m \u001b[39m# 입찰 보증금 지급각서\u001b[39;00m\n\u001b[1;32m--> 251\u001b[0m \u001b[39mif\u001b[39;00m \u001b[39mnot\u001b[39;00m (\u001b[39mself\u001b[39;49m\u001b[39m.\u001b[39;49mkogas_register_deposit_payment_agreement_button\u001b[39m.\u001b[39;49mclick()\n\u001b[0;32m    252\u001b[0m         \u001b[39mand\u001b[39;00m \u001b[39mself\u001b[39m\u001b[39m.\u001b[39mkogas_deposit_payment_window_popup\u001b[39m.\u001b[39maccept(\u001b[39m\"\u001b[39m\u001b[39m동의 하시겠습니까?\u001b[39m\u001b[39m\"\u001b[39m)):\n\u001b[0;32m    253\u001b[0m     \u001b[39mprint\u001b[39m(\u001b[39mf\u001b[39m\u001b[39m\"\u001b[39m\u001b[39mERROR: 입찰 보증금 지급각서 동의에 실패하였습니다.\u001b[39m\u001b[39m\"\u001b[39m)\n\u001b[0;32m    254\u001b[0m     \u001b[39mreturn\u001b[39;00m \u001b[39mFalse\u001b[39;00m\n",
      "File \u001b[1;32mc:\\Users\\integ\\incon\\automatic\\browser.py:399\u001b[0m, in \u001b[0;36mClickableElement.click\u001b[1;34m(self, timeout, differed, brower_click)\u001b[0m\n\u001b[0;32m    396\u001b[0m     differed \u001b[39m=\u001b[39m \u001b[39mself\u001b[39m\u001b[39m.\u001b[39mcontext\u001b[39m.\u001b[39mdefault_differed\n\u001b[0;32m    398\u001b[0m \u001b[39m# make parent activated\u001b[39;00m\n\u001b[1;32m--> 399\u001b[0m \u001b[39mif\u001b[39;00m \u001b[39mnot\u001b[39;00m \u001b[39mself\u001b[39;49m\u001b[39m.\u001b[39;49mparent\u001b[39m.\u001b[39;49mactivate():\n\u001b[0;32m    400\u001b[0m     \u001b[39mprint\u001b[39m(\u001b[39mf\u001b[39m\u001b[39m\"\u001b[39m\u001b[39mERROR: Failed to activate parent. \u001b[39m\u001b[39m{\u001b[39;00m\u001b[39mself\u001b[39m\u001b[39m.\u001b[39mparnet\u001b[39m}\u001b[39;00m\u001b[39m\"\u001b[39m)\n\u001b[0;32m    401\u001b[0m     \u001b[39mreturn\u001b[39;00m \u001b[39mFalse\u001b[39;00m\n",
      "File \u001b[1;32mc:\\Users\\integ\\incon\\automatic\\browser.py:248\u001b[0m, in \u001b[0;36mFrame.activate\u001b[1;34m(self, timeout)\u001b[0m\n\u001b[0;32m    246\u001b[0m \u001b[39mdef\u001b[39;00m \u001b[39mactivate\u001b[39m(\u001b[39mself\u001b[39m, \u001b[39m*\u001b[39m, timeout\u001b[39m=\u001b[39m\u001b[39mNone\u001b[39;00m):\n\u001b[0;32m    247\u001b[0m     \u001b[39mtry\u001b[39;00m:\n\u001b[1;32m--> 248\u001b[0m         \u001b[39mreturn\u001b[39;00m \u001b[39mself\u001b[39;49m\u001b[39m.\u001b[39;49m__activate(timeout\u001b[39m=\u001b[39;49mtimeout)\n\u001b[0;32m    249\u001b[0m     \u001b[39mexcept\u001b[39;00m StaleElementReferenceException \u001b[39mas\u001b[39;00m e:\n\u001b[0;32m    250\u001b[0m         \u001b[39mprint\u001b[39m(\u001b[39m\"\u001b[39m\u001b[39mERROR: StaleElementRefereceException. Retry\u001b[39m\u001b[39m\"\u001b[39m)\n",
      "File \u001b[1;32mc:\\Users\\integ\\incon\\automatic\\browser.py:225\u001b[0m, in \u001b[0;36mFrame.__activate\u001b[1;34m(self, timeout)\u001b[0m\n\u001b[0;32m    222\u001b[0m \u001b[39mif\u001b[39;00m timeout \u001b[39mis\u001b[39;00m \u001b[39mNone\u001b[39;00m:\n\u001b[0;32m    223\u001b[0m     timeout \u001b[39m=\u001b[39m \u001b[39mself\u001b[39m\u001b[39m.\u001b[39mcontext\u001b[39m.\u001b[39mdefault_timeout\n\u001b[1;32m--> 225\u001b[0m \u001b[39mif\u001b[39;00m \u001b[39mnot\u001b[39;00m \u001b[39mself\u001b[39;49m\u001b[39m.\u001b[39;49mparent\u001b[39m.\u001b[39;49mactivate(timeout\u001b[39m=\u001b[39;49mtimeout):\n\u001b[0;32m    226\u001b[0m     \u001b[39mprint\u001b[39m(\u001b[39mf\u001b[39m\u001b[39m\"\u001b[39m\u001b[39mERROR: Can\u001b[39m\u001b[39m'\u001b[39m\u001b[39mt activate parent=\u001b[39m\u001b[39m{\u001b[39;00m\u001b[39mself\u001b[39m\u001b[39m.\u001b[39mparent\u001b[39m}\u001b[39;00m\u001b[39m\"\u001b[39m)\n\u001b[0;32m    227\u001b[0m     \u001b[39mreturn\u001b[39;00m \u001b[39mFalse\u001b[39;00m\n",
      "File \u001b[1;32mc:\\Users\\integ\\incon\\automatic\\browser.py:199\u001b[0m, in \u001b[0;36mWindow.activate\u001b[1;34m(self, timeout)\u001b[0m\n\u001b[0;32m    196\u001b[0m \u001b[39mif\u001b[39;00m \u001b[39mnot\u001b[39;00m \u001b[39mself\u001b[39m\u001b[39m.\u001b[39m__handle:\n\u001b[0;32m    197\u001b[0m     \u001b[39mreturn\u001b[39;00m \u001b[39mFalse\u001b[39;00m\n\u001b[1;32m--> 199\u001b[0m \u001b[39mself\u001b[39;49m\u001b[39m.\u001b[39;49m__context\u001b[39m.\u001b[39;49mset_window(\u001b[39mself\u001b[39;49m\u001b[39m.\u001b[39;49m__handle)\n\u001b[0;32m    200\u001b[0m \u001b[39mreturn\u001b[39;00m \u001b[39mTrue\u001b[39;00m\n",
      "File \u001b[1;32mc:\\Users\\integ\\incon\\automatic\\browser.py:156\u001b[0m, in \u001b[0;36mContext.set_window\u001b[1;34m(self, handle)\u001b[0m\n\u001b[0;32m    154\u001b[0m \u001b[39mif\u001b[39;00m \u001b[39mself\u001b[39m\u001b[39m.\u001b[39m__driver\u001b[39m.\u001b[39mcurrent_window_handle \u001b[39m==\u001b[39m handle:\n\u001b[0;32m    155\u001b[0m     \u001b[39mreturn\u001b[39;00m\n\u001b[1;32m--> 156\u001b[0m \u001b[39mself\u001b[39;49m\u001b[39m.\u001b[39;49m__driver\u001b[39m.\u001b[39;49mswitch_to\u001b[39m.\u001b[39;49mwindow(handle)\n",
      "File \u001b[1;32m~\\AppData\\Local\\Packages\\PythonSoftwareFoundation.Python.3.10_qbz5n2kfra8p0\\LocalCache\\local-packages\\Python310\\site-packages\\selenium\\webdriver\\remote\\switch_to.py:135\u001b[0m, in \u001b[0;36mSwitchTo.window\u001b[1;34m(self, window_name)\u001b[0m\n\u001b[0;32m    123\u001b[0m \u001b[39mdef\u001b[39;00m \u001b[39mwindow\u001b[39m(\u001b[39mself\u001b[39m, window_name) \u001b[39m-\u001b[39m\u001b[39m>\u001b[39m \u001b[39mNone\u001b[39;00m:\n\u001b[0;32m    124\u001b[0m     \u001b[39m\"\"\"\u001b[39;00m\n\u001b[0;32m    125\u001b[0m \u001b[39m    Switches focus to the specified window.\u001b[39;00m\n\u001b[0;32m    126\u001b[0m \n\u001b[1;32m   (...)\u001b[0m\n\u001b[0;32m    133\u001b[0m \u001b[39m            driver.switch_to.window('main')\u001b[39;00m\n\u001b[0;32m    134\u001b[0m \u001b[39m    \"\"\"\u001b[39;00m\n\u001b[1;32m--> 135\u001b[0m     \u001b[39mself\u001b[39;49m\u001b[39m.\u001b[39;49m_w3c_window(window_name)\n",
      "File \u001b[1;32m~\\AppData\\Local\\Packages\\PythonSoftwareFoundation.Python.3.10_qbz5n2kfra8p0\\LocalCache\\local-packages\\Python310\\site-packages\\selenium\\webdriver\\remote\\switch_to.py:143\u001b[0m, in \u001b[0;36mSwitchTo._w3c_window\u001b[1;34m(self, window_name)\u001b[0m\n\u001b[0;32m    139\u001b[0m     \u001b[39mself\u001b[39m\u001b[39m.\u001b[39m_driver\u001b[39m.\u001b[39mexecute(Command\u001b[39m.\u001b[39mSWITCH_TO_WINDOW, {\u001b[39m\"\u001b[39m\u001b[39mhandle\u001b[39m\u001b[39m\"\u001b[39m: h})\n\u001b[0;32m    141\u001b[0m \u001b[39mtry\u001b[39;00m:\n\u001b[0;32m    142\u001b[0m     \u001b[39m# Try using it as a handle first.\u001b[39;00m\n\u001b[1;32m--> 143\u001b[0m     send_handle(window_name)\n\u001b[0;32m    144\u001b[0m \u001b[39mexcept\u001b[39;00m NoSuchWindowException:\n\u001b[0;32m    145\u001b[0m     \u001b[39m# Check every window to try to find the given window name.\u001b[39;00m\n\u001b[0;32m    146\u001b[0m     original_handle \u001b[39m=\u001b[39m \u001b[39mself\u001b[39m\u001b[39m.\u001b[39m_driver\u001b[39m.\u001b[39mcurrent_window_handle\n",
      "File \u001b[1;32m~\\AppData\\Local\\Packages\\PythonSoftwareFoundation.Python.3.10_qbz5n2kfra8p0\\LocalCache\\local-packages\\Python310\\site-packages\\selenium\\webdriver\\remote\\switch_to.py:139\u001b[0m, in \u001b[0;36mSwitchTo._w3c_window.<locals>.send_handle\u001b[1;34m(h)\u001b[0m\n\u001b[0;32m    138\u001b[0m \u001b[39mdef\u001b[39;00m \u001b[39msend_handle\u001b[39m(h):\n\u001b[1;32m--> 139\u001b[0m     \u001b[39mself\u001b[39;49m\u001b[39m.\u001b[39;49m_driver\u001b[39m.\u001b[39;49mexecute(Command\u001b[39m.\u001b[39;49mSWITCH_TO_WINDOW, {\u001b[39m\"\u001b[39;49m\u001b[39mhandle\u001b[39;49m\u001b[39m\"\u001b[39;49m: h})\n",
      "File \u001b[1;32m~\\AppData\\Local\\Packages\\PythonSoftwareFoundation.Python.3.10_qbz5n2kfra8p0\\LocalCache\\local-packages\\Python310\\site-packages\\selenium\\webdriver\\remote\\webdriver.py:444\u001b[0m, in \u001b[0;36mWebDriver.execute\u001b[1;34m(self, driver_command, params)\u001b[0m\n\u001b[0;32m    442\u001b[0m response \u001b[39m=\u001b[39m \u001b[39mself\u001b[39m\u001b[39m.\u001b[39mcommand_executor\u001b[39m.\u001b[39mexecute(driver_command, params)\n\u001b[0;32m    443\u001b[0m \u001b[39mif\u001b[39;00m response:\n\u001b[1;32m--> 444\u001b[0m     \u001b[39mself\u001b[39;49m\u001b[39m.\u001b[39;49merror_handler\u001b[39m.\u001b[39;49mcheck_response(response)\n\u001b[0;32m    445\u001b[0m     response[\u001b[39m\"\u001b[39m\u001b[39mvalue\u001b[39m\u001b[39m\"\u001b[39m] \u001b[39m=\u001b[39m \u001b[39mself\u001b[39m\u001b[39m.\u001b[39m_unwrap_value(response\u001b[39m.\u001b[39mget(\u001b[39m\"\u001b[39m\u001b[39mvalue\u001b[39m\u001b[39m\"\u001b[39m, \u001b[39mNone\u001b[39;00m))\n\u001b[0;32m    446\u001b[0m     \u001b[39mreturn\u001b[39;00m response\n",
      "File \u001b[1;32m~\\AppData\\Local\\Packages\\PythonSoftwareFoundation.Python.3.10_qbz5n2kfra8p0\\LocalCache\\local-packages\\Python310\\site-packages\\selenium\\webdriver\\remote\\errorhandler.py:249\u001b[0m, in \u001b[0;36mErrorHandler.check_response\u001b[1;34m(self, response)\u001b[0m\n\u001b[0;32m    247\u001b[0m         alert_text \u001b[39m=\u001b[39m value[\u001b[39m\"\u001b[39m\u001b[39malert\u001b[39m\u001b[39m\"\u001b[39m]\u001b[39m.\u001b[39mget(\u001b[39m\"\u001b[39m\u001b[39mtext\u001b[39m\u001b[39m\"\u001b[39m)\n\u001b[0;32m    248\u001b[0m     \u001b[39mraise\u001b[39;00m exception_class(message, screen, stacktrace, alert_text)  \u001b[39m# type: ignore[call-arg]  # mypy is not smart enough here\u001b[39;00m\n\u001b[1;32m--> 249\u001b[0m \u001b[39mraise\u001b[39;00m exception_class(message, screen, stacktrace)\n",
      "\u001b[1;31mNoSuchWindowException\u001b[0m: Message: no such window\n  (Session info: MicrosoftEdge=110.0.1587.63)\nStacktrace:\nBacktrace:\n\tMicrosoft::Applications::Events::EventProperties::SetProperty [0x00007FF7E59A48E2+14722]\n\tMicrosoft::Applications::Events::EventProperty::EventProperty [0x00007FF7E593B972+817410]\n\t(No symbol) [0x00007FF7E55CD9B3]\n\t(No symbol) [0x00007FF7E563D0FC]\n\t(No symbol) [0x00007FF7E5630650]\n\t(No symbol) [0x00007FF7E5601FFC]\n\t(No symbol) [0x00007FF7E5600F7E]\n\t(No symbol) [0x00007FF7E56027EE]\n\tMicrosoft::Applications::Events::EventProperties::SetProperty [0x00007FF7E581F580+181072]\n\t(No symbol) [0x00007FF7E56D07F7]\n\tMicrosoft::Applications::Events::EventProperty::EventProperty [0x00007FF7E5880252+49634]\n\tMicrosoft::Applications::Events::EventProperty::EventProperty [0x00007FF7E5883455+62437]\n\tMicrosoft::Applications::Events::ILogManager::DispatchEventBroadcast [0x00007FF7E5B92018+1407928]\n\tMicrosoft::Applications::Events::EventProperty::EventProperty [0x00007FF7E5943E7F+851471]\n\tMicrosoft::Applications::Events::EventProperty::EventProperty [0x00007FF7E5948EE4+872052]\n\tMicrosoft::Applications::Events::EventProperty::EventProperty [0x00007FF7E594903C+872396]\n\tMicrosoft::Applications::Events::EventProperty::EventProperty [0x00007FF7E595134B+905947]\n\tBaseThreadInitThunk [0x00007FFD8B3B26BD+29]\n\tRtlUserThreadStart [0x00007FFD8C7CDFB8+40]\n"
     ]
    }
   ],
   "source": [
    "\n",
    "\n",
    "kogas.register(\"2023022412001-00\")"
   ]
  },
  {
   "cell_type": "code",
   "execution_count": 16,
   "metadata": {},
   "outputs": [
    {
     "name": "stdout",
     "output_type": "stream",
     "text": [
      "INFO: 상세 페이지로 이동\n",
      "INFO: 입찰 금액 입력\n",
      "INFO: 입찰 금액 재확인.\n"
     ]
    },
    {
     "data": {
      "text/plain": [
       "True"
      ]
     },
     "execution_count": 16,
     "metadata": {},
     "output_type": "execute_result"
    }
   ],
   "source": [
    "%autoreload 2 \n",
    "kogas.participate(\"2023022412001-00\", \"27817546\")\n"
   ]
  },
  {
   "cell_type": "markdown",
   "metadata": {},
   "source": [
    "kogas."
   ]
  }
 ],
 "metadata": {
  "kernelspec": {
   "display_name": "Python 3.10.8 64-bit (microsoft store)",
   "language": "python",
   "name": "python3"
  },
  "language_info": {
   "codemirror_mode": {
    "name": "ipython",
    "version": 3
   },
   "file_extension": ".py",
   "mimetype": "text/x-python",
   "name": "python",
   "nbconvert_exporter": "python",
   "pygments_lexer": "ipython3",
   "version": "3.10.11"
  },
  "orig_nbformat": 4,
  "vscode": {
   "interpreter": {
    "hash": "140d6880638af8c011551f0c48a660151749c27ccfb9a61f6d950e57001cc277"
   }
  }
 },
 "nbformat": 4,
 "nbformat_minor": 2
}
