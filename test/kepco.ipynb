{
 "cells": [
  {
   "attachments": {},
   "cell_type": "markdown",
   "metadata": {},
   "source": [
    "# KEPCO Test"
   ]
  },
  {
   "attachments": {},
   "cell_type": "markdown",
   "metadata": {},
   "source": [
    "## 1 Environment"
   ]
  },
  {
   "cell_type": "code",
   "execution_count": 1,
   "metadata": {},
   "outputs": [],
   "source": [
    "import os\n",
    "import sys\n",
    "\n",
    "# 현재 작업 디렉토리 가져오기\n",
    "current_directory = os.getcwd()\n",
    "\n",
    "# fmt: off\n",
    "module_directory = os.path.join(\n",
    "    current_directory, \"..\",\"thirdparty\", \"automatic\")\n",
    "if module_directory not in sys.path:\n",
    "    sys.path.append(module_directory)\n",
    "\n",
    "sys.path.append(os.path.join(current_directory, \"..\"))\n"
   ]
  },
  {
   "cell_type": "code",
   "execution_count": 2,
   "metadata": {},
   "outputs": [],
   "source": [
    "%reload_ext autoreload\n",
    "%autoreload 2\n",
    "\n",
    "from automatic.utils import *\n",
    "import logging\n",
    "Logger.init(LOGGER_AUTOMATIC, logging.DEBUG)"
   ]
  },
  {
   "cell_type": "code",
   "execution_count": 3,
   "metadata": {},
   "outputs": [],
   "source": [
    "import automatic.selenium as s\n",
    "try:\n",
    "    drv.quit()\n",
    "except:\n",
    "    pass\n",
    "drv = s.create_driver()"
   ]
  },
  {
   "cell_type": "code",
   "execution_count": 4,
   "metadata": {},
   "outputs": [],
   "source": [
    "%reload_ext autoreload\n",
    "%autoreload 2\n",
    "\n",
    "from org.kepco import Kepco\n",
    "\n",
    "import account\n",
    "\n",
    "id=account.account_get(\"kepco\", \"id\")\n",
    "pw=account.account_get(\"kepco\", \"pw\")\n",
    "cert=account.account_get(\"kepco\", \"cert\")\n",
    "\n",
    "kepco = Kepco(drv, id, pw, cert)\n"
   ]
  },
  {
   "cell_type": "code",
   "execution_count": 7,
   "metadata": {},
   "outputs": [
    {
     "name": "stderr",
     "output_type": "stream",
     "text": [
      "2024-04-20 19:25:05,528 - Automatic - DEBUG - go on 홈페이지. path=https://srm.kepco.net/index.do?theme=default\n",
      "2024-04-20 19:25:09,738 - Automatic - DEBUG - exist on test. path=\n",
      "2024-04-20 19:25:12,935 - Automatic - DEBUG - exist on 로그아웃버튼. path=//span[text()='로그아웃']\n",
      "2024-04-20 19:25:16,186 - Automatic - DEBUG - click on 로그인 버튼. path=//span[text()=\"로그인\"]/../../..\n",
      "2024-04-20 19:25:21,420 - Kepco - INFO - 아이디/비번 입력\n",
      "2024-04-20 19:25:21,421 - Automatic - DEBUG - type on 로그인 아이디. path=username\n",
      "2024-04-20 19:25:21,853 - Automatic - DEBUG - type on 로그인 비번. path=password\n",
      "2024-04-20 19:25:22,197 - Automatic - DEBUG - click on 로그인 버튼. path=certBtn\n",
      "2024-04-20 19:25:22,528 - Kepco - INFO - 인증서 로그인\n",
      "2024-04-20 19:25:22,529 - Automatic - DEBUG - click on 하드디스크. path=NX_MEDIA_HDD\n",
      "2024-04-20 19:25:26,928 - Automatic - DEBUG - click on 인증서. path=//td/div[contains(text(),\"사업자\")]\n",
      "2024-04-20 19:25:27,235 - Automatic - DEBUG - type on 보안토큰 비밀번호. path=certPwd\n",
      "2024-04-20 19:25:30,570 - Automatic - DEBUG - click on 확인버튼. path=//*[@id=\"nx-cert-select\"]/div[4]/button[1]\n",
      "2024-04-20 19:25:40,828 - Automatic - DEBUG - exist on 로그아웃버튼. path=//span[text()='로그아웃']\n"
     ]
    },
    {
     "data": {
      "text/plain": [
       "True"
      ]
     },
     "execution_count": 7,
     "metadata": {},
     "output_type": "execute_result"
    }
   ],
   "source": [
    "kepco.login()"
   ]
  },
  {
   "cell_type": "code",
   "execution_count": 17,
   "metadata": {},
   "outputs": [
    {
     "name": "stderr",
     "output_type": "stream",
     "text": [
      "2024-04-03 22:49:02,940 - Automatic - DEBUG - go on 홈페이지. path=https://srm.kepco.net/index.do?theme=default\n",
      "2024-04-03 22:49:03,174 - Automatic - DEBUG - exist on test. path=\n",
      "2024-04-03 22:49:03,193 - Automatic - DEBUG - accept on test. path=\n",
      "2024-04-03 22:49:03,208 - Automatic - DEBUG - accept: \n",
      "2024-04-03 22:49:03,367 - Automatic - DEBUG - exist on 홈탭. path=//span[text()=\"home\"]\n",
      "2024-04-03 22:49:08,345 - Kepco - INFO - 입찰/계약 탭 열기\n",
      "2024-04-03 22:49:08,346 - Automatic - DEBUG - click on 입찰/계약 버튼. path=//span[text()=\"입찰/계약\"]\n",
      "2024-04-03 22:49:08,967 - Automatic - DEBUG - click on 입찰 버튼. path=//h4[text()=\" 입찰(투찰진행) \"]\n",
      "2024-04-03 22:49:09,462 - Kepco - INFO - 공고번호 검색 G012401555-00\n",
      "2024-04-03 22:49:09,465 - Automatic - DEBUG - type on 공고번호 입력상자. path=//input[@title=\"공고번호\"]\n",
      "2024-04-03 22:49:15,400 - Automatic - DEBUG - click on 조회 버튼. path=//span[text()=\"조회\"]\n",
      "2024-04-03 22:49:15,550 - Automatic - DEBUG - exist on 메세지 박스 확인 버튼. path=//div[contains(@class,\"x-window\") and contains(@class,\"x-message-box\")]/div[3]/div/div/a/span/span/span[text()='확인']/../../..\n",
      "2024-04-03 22:49:16,809 - Kepco - INFO - 검색 결과 검증\n",
      "2024-04-03 22:49:16,868 - Automatic - DEBUG - count on 체크박스. path=//div[@class=\"x-grid-row-checker\"]\n",
      "2024-04-03 22:49:17,398 - Automatic - DEBUG - table on 검색결과 테이블. path=//*[contains(text(),\"G012401555\")]/../../../..\n",
      "2024-04-03 22:49:17,522 - Automatic - DEBUG - click on 체크박스. path=//div[@class=\"x-grid-row-checker\"]\n",
      "2024-04-03 22:49:17,685 - Automatic - DEBUG - click on 입찰 참여 버튼. path=//span[text()=\"입찰참여\"]\n",
      "2024-04-03 22:49:17,841 - Automatic - DEBUG - exist on 메세지 박스 예 버튼. path=//div[contains(@class,\"x-window\") and contains(@class,\"x-message-box\")]/div[3]/div/div/a/span/span/span[text()='예']/../../..\n",
      "2024-04-03 22:49:18,440 - Automatic - DEBUG - click on 메세지 박스 예 버튼. path=//div[contains(@class,\"x-window\") and contains(@class,\"x-message-box\")]/div[3]/div/div/a/span/span/span[text()='예']/../../..\n",
      "2024-04-03 22:49:18,826 - Kepco - INFO - 지문인식예외투찰\n",
      "2024-04-03 22:49:18,830 - Automatic - DEBUG - click on 지문인식예외투찰 버튼. path=//td[6]/div/img\n",
      "2024-04-03 22:49:20,145 - Automatic - DEBUG - exist on 메세지 박스 예 버튼. path=//div[contains(@class,\"x-window\") and contains(@class,\"x-message-box\")]/div[3]/div/div/a/span/span/span[text()='예']/../../..\n",
      "2024-04-03 22:49:20,222 - Automatic - DEBUG - click on 메세지 박스 예 버튼. path=//div[contains(@class,\"x-window\") and contains(@class,\"x-message-box\")]/div[3]/div/div/a/span/span/span[text()='예']/../../..\n",
      "2024-04-03 22:49:20,424 - Automatic - DEBUG - exist on 메세지 박스 확인 버튼. path=//div[contains(@class,\"x-window\") and contains(@class,\"x-message-box\")]/div[3]/div/div/a/span/span/span[text()='확인']/../../..\n",
      "2024-04-03 22:49:21,529 - Automatic - DEBUG - exist on 패널 팝업 닫기 버튼. path=//div[contains(@class,\"x-panel\") and contains(@class,\"x-panel-popup\")]/div/div/div/a/span/span/span[2]\n",
      "2024-04-03 22:49:21,645 - Automatic - DEBUG - clicks on 패널 팝업 닫기 버튼. path=//div[contains(@class,\"x-panel\") and contains(@class,\"x-panel-popup\")]/div/div/div/a/span/span/span[2]\n",
      "2024-04-03 22:49:22,926 - Automatic - DEBUG - exist on 메세지 박스 확인 버튼. path=//div[contains(@class,\"x-window\") and contains(@class,\"x-message-box\")]/div[3]/div/div/a/span/span/span[text()='확인']/../../..\n",
      "2024-04-03 22:49:24,076 - Automatic - DEBUG - exist on 패널 팝업 닫기 버튼. path=//div[contains(@class,\"x-panel\") and contains(@class,\"x-panel-popup\")]/div/div/div/a/span/span/span[2]\n",
      "2024-04-03 22:49:25,260 - Automatic - DEBUG - ERROR: Failed to get elements.<class 'selenium.common.exceptions.TimeoutException'> Message: \n",
      "\n",
      "2024-04-03 22:49:25,263 - Kepco - INFO - 개인인증서 로그인\n",
      "2024-04-03 22:49:25,265 - Automatic - DEBUG - click on 하드디스크. path=NX_MEDIA_HDD\n",
      "2024-04-03 22:49:25,682 - Automatic - DEBUG - click on 인증서. path=//td/div[contains(text(),\"은행\")]\n",
      "2024-04-03 22:49:26,025 - Automatic - DEBUG - type on 보안토큰 비밀번호. path=certPwd\n",
      "2024-04-03 22:49:29,499 - Automatic - DEBUG - click on 확인버튼. path=//*[@id=\"nx-cert-select\"]/div[4]/button[1]\n",
      "2024-04-03 22:49:29,845 - Automatic - DEBUG - exist on 메세지 박스 확인 버튼. path=//div[contains(@class,\"x-window\") and contains(@class,\"x-message-box\")]/div[3]/div/div/a/span/span/span[text()='확인']/../../..\n",
      "2024-04-03 22:49:30,948 - Automatic - DEBUG - exist on 패널 팝업 닫기 버튼. path=//div[contains(@class,\"x-panel\") and contains(@class,\"x-panel-popup\")]/div/div/div/a/span/span/span[2]\n",
      "2024-04-03 22:49:32,099 - Automatic - DEBUG - ERROR: Failed to get elements.<class 'selenium.common.exceptions.TimeoutException'> Message: \n",
      "\n",
      "2024-04-03 22:49:33,104 - Automatic - DEBUG - exist on 메세지 박스 확인 버튼. path=//div[contains(@class,\"x-window\") and contains(@class,\"x-message-box\")]/div[3]/div/div/a/span/span/span[text()='확인']/../../..\n",
      "2024-04-03 22:49:33,192 - Automatic - DEBUG - click on 메세지 박스 확인 버튼. path=//div[contains(@class,\"x-window\") and contains(@class,\"x-message-box\")]/div[3]/div/div/a/span/span/span[text()='확인']/../../..\n",
      "2024-04-03 22:49:33,404 - Automatic - DEBUG - exist on 패널 팝업 닫기 버튼. path=//div[contains(@class,\"x-panel\") and contains(@class,\"x-panel-popup\")]/div/div/div/a/span/span/span[2]\n",
      "2024-04-03 22:49:34,598 - Automatic - DEBUG - ERROR: Failed to get elements.<class 'selenium.common.exceptions.TimeoutException'> Message: \n",
      "\n",
      "2024-04-03 22:49:35,600 - Automatic - DEBUG - exist on 메세지 박스 확인 버튼. path=//div[contains(@class,\"x-window\") and contains(@class,\"x-message-box\")]/div[3]/div/div/a/span/span/span[text()='확인']/../../..\n",
      "2024-04-03 22:49:35,682 - Automatic - DEBUG - click on 메세지 박스 확인 버튼. path=//div[contains(@class,\"x-window\") and contains(@class,\"x-message-box\")]/div[3]/div/div/a/span/span/span[text()='확인']/../../..\n",
      "2024-04-03 22:49:36,663 - Automatic - DEBUG - exist on 패널 팝업 닫기 버튼. path=//div[contains(@class,\"x-panel\") and contains(@class,\"x-panel-popup\")]/div/div/div/a/span/span/span[2]\n",
      "2024-04-03 22:49:38,112 - Automatic - DEBUG - clicks on 패널 팝업 닫기 버튼. path=//div[contains(@class,\"x-panel\") and contains(@class,\"x-panel-popup\")]/div/div/div/a/span/span/span[2]\n",
      "2024-04-03 22:49:39,633 - Automatic - DEBUG - exist on 메세지 박스 확인 버튼. path=//div[contains(@class,\"x-window\") and contains(@class,\"x-message-box\")]/div[3]/div/div/a/span/span/span[text()='확인']/../../..\n",
      "2024-04-03 22:49:40,746 - Automatic - DEBUG - exist on 패널 팝업 닫기 버튼. path=//div[contains(@class,\"x-panel\") and contains(@class,\"x-panel-popup\")]/div/div/div/a/span/span/span[2]\n",
      "2024-04-03 22:49:42,069 - Automatic - DEBUG - ERROR: Failed to get elements.<class 'selenium.common.exceptions.TimeoutException'> Message: \n",
      "\n",
      "2024-04-03 22:49:42,070 - Kepco - INFO - 추첨번호 선택\n",
      "2024-04-03 22:49:42,071 - Automatic - DEBUG - clicks on 추첨번호 버튼. path=//span[contains(text(),\"예정가격추첨갯수\")]/../../div/div/table/tbody/tr/td/a/span/span/span[2]\n",
      "2024-04-03 22:49:47,169 - Kepco - INFO - 가격입력 f23153292\n",
      "2024-04-03 22:49:47,170 - Automatic - DEBUG - type on 가격입력. path=//span[text()=\"숫자\"]/../../div/div/table/tbody/tr/td[1]/div[1]/div/div/div[2]/input\n",
      "2024-04-03 22:49:47,372 - Automatic - DEBUG - click on 포커스 변경. path=//span[text()=\"숫자\"]/../../div/div/table/tbody/tr/td[1]/div/div/div/div/div\n",
      "2024-04-03 22:49:47,540 - Automatic - DEBUG - type on 가격입력. path=//span[text()=\"확인\"]/../../div/div/div/div/div[2]/div/div/div[2]/input\n",
      "2024-04-03 22:49:47,735 - Automatic - DEBUG - click on 포커스 변경. path=//span[text()=\"확인\"]/../../div/div/div/div/div[2]/div/div/div/div\n",
      "2024-04-03 22:49:47,959 - Automatic - DEBUG - click on 입력값 확인 버튼. path=//span[text()=\"입력값확인\"]\n",
      "2024-04-03 22:49:48,121 - Kepco - INFO - 제출\n",
      "2024-04-03 22:49:48,122 - Automatic - DEBUG - click on 제출 버튼. path=//span[text()=\"제출\"]\n",
      "2024-04-03 22:49:48,304 - Automatic - DEBUG - exist on 메세지 박스 예 버튼. path=//div[contains(@class,\"x-window\") and contains(@class,\"x-message-box\")]/div[3]/div/div/a/span/span/span[text()='예']/../../..\n",
      "2024-04-03 22:49:50,114 - Automatic - DEBUG - click on 메세지 박스 예 버튼. path=//div[contains(@class,\"x-window\") and contains(@class,\"x-message-box\")]/div[3]/div/div/a/span/span/span[text()='예']/../../..\n",
      "2024-04-03 22:49:50,364 - Automatic - DEBUG - exist on 메세지 박스 확인 버튼. path=//div[contains(@class,\"x-window\") and contains(@class,\"x-message-box\")]/div[3]/div/div/a/span/span/span[text()='확인']/../../..\n",
      "2024-04-03 22:49:55,456 - Automatic - DEBUG - click on 하드디스크. path=NX_MEDIA_HDD\n",
      "2024-04-03 22:49:55,829 - Automatic - DEBUG - click on 인증서. path=//td/div[contains(text(),\"사업자\")]\n",
      "2024-04-03 22:49:56,225 - Automatic - DEBUG - type on 보안토큰 비밀번호. path=certPwd\n",
      "2024-04-03 22:49:59,685 - Automatic - DEBUG - click on 확인버튼. path=//*[@id=\"nx-cert-select\"]/div[4]/button[1]\n"
     ]
    }
   ],
   "source": [
    "table = kepco.participate(\"G012401555-00\", \"23153292\")"
   ]
  }
 ],
 "metadata": {
  "kernelspec": {
   "display_name": "Python 3",
   "language": "python",
   "name": "python3"
  },
  "language_info": {
   "codemirror_mode": {
    "name": "ipython",
    "version": 3
   },
   "file_extension": ".py",
   "mimetype": "text/x-python",
   "name": "python",
   "nbconvert_exporter": "python",
   "pygments_lexer": "ipython3",
   "version": "3.11.9"
  },
  "orig_nbformat": 4
 },
 "nbformat": 4,
 "nbformat_minor": 2
}
