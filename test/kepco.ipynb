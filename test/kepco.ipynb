{
 "cells": [
  {
   "attachments": {},
   "cell_type": "markdown",
   "metadata": {},
   "source": [
    "# KEPCO Test"
   ]
  },
  {
   "attachments": {},
   "cell_type": "markdown",
   "metadata": {},
   "source": [
    "## 1 Environment"
   ]
  },
  {
   "cell_type": "code",
   "execution_count": 1,
   "metadata": {},
   "outputs": [],
   "source": [
    "import os\n",
    "import sys\n",
    "\n",
    "# 현재 작업 디렉토리 가져오기\n",
    "current_directory = os.getcwd()\n",
    "\n",
    "# fmt: off\n",
    "module_directory = os.path.join(\n",
    "    current_directory, \"..\",\"thirdparty\", \"automatic\")\n",
    "if module_directory not in sys.path:\n",
    "    sys.path.append(module_directory)\n",
    "\n",
    "sys.path.append(os.path.join(current_directory, \"..\"))\n"
   ]
  },
  {
   "cell_type": "code",
   "execution_count": 2,
   "metadata": {},
   "outputs": [],
   "source": [
    "%reload_ext autoreload\n",
    "%autoreload 2\n",
    "\n",
    "from automatic.utils import *\n",
    "import logging\n",
    "Logger.init(LOGGER_AUTOMATIC, logging.DEBUG)"
   ]
  },
  {
   "cell_type": "code",
   "execution_count": 3,
   "metadata": {},
   "outputs": [],
   "source": [
    "import automatic.selenium as s\n",
    "try:\n",
    "    drv.quit()\n",
    "except:\n",
    "    pass\n",
    "drv = s.create_driver()"
   ]
  },
  {
   "cell_type": "code",
   "execution_count": null,
   "metadata": {},
   "outputs": [],
   "source": [
    "%reload_ext autoreload\n",
    "%autoreload 2\n",
    "\n",
    "from org.markets import MarketFactory\n",
    "\n",
    "kepco = MarketFactory.create(\"한국전력\", drv = drv)"
   ]
  },
  {
   "cell_type": "code",
   "execution_count": null,
   "metadata": {},
   "outputs": [
    {
     "name": "stderr",
     "output_type": "stream",
     "text": [
      "2025-04-01 21:08:02,439 - Automatic - DEBUG - go on 홈페이지. path=https://srm.kepco.net/index.do?theme=default\n",
      "2025-04-01 21:08:09,514 - Automatic - DEBUG - exist on test. path=\n",
      "2025-04-01 21:08:12,678 - Automatic - DEBUG - exist on 로그아웃버튼. path=//span[text()='로그아웃']\n",
      "2025-04-01 21:08:12,678 - Automatic - DEBUG - get_element by visiable\n",
      "2025-04-01 21:08:15,808 - Automatic - DEBUG - ERROR: Failed to get elements.<class 'selenium.common.exceptions.TimeoutException'> Message: \n",
      "\n",
      "2025-04-01 21:08:15,809 - Automatic - DEBUG - Failed to find an element\n",
      "2025-04-01 21:08:15,814 - Automatic - DEBUG - click on 로그인 버튼. path=//span[text()=\"로그인\"]/../../..\n",
      "2025-04-01 21:08:15,821 - Automatic - DEBUG - get_element by visiable\n",
      "2025-04-01 21:08:22,005 - Kepco - INFO - 아이디/비번 입력\n",
      "2025-04-01 21:08:22,005 - Automatic - DEBUG - type on 로그인 아이디. path=username\n",
      "2025-04-01 21:08:22,008 - Automatic - DEBUG - get_element by visiable\n",
      "2025-04-01 21:08:22,105 - Automatic - DEBUG - get_element by visiable\n",
      "2025-04-01 21:08:22,308 - Automatic - DEBUG - type on 로그인 비번. path=password\n",
      "2025-04-01 21:08:22,317 - Automatic - DEBUG - get_element by visiable\n",
      "2025-04-01 21:08:22,399 - Automatic - DEBUG - get_element by visiable\n",
      "2025-04-01 21:08:22,585 - Automatic - DEBUG - click on 로그인 버튼. path=certBtn\n",
      "2025-04-01 21:08:22,592 - Automatic - DEBUG - get_element by visiable\n",
      "2025-04-01 21:08:22,675 - Automatic - DEBUG - get_element by visiable\n",
      "2025-04-01 21:08:22,997 - Kepco - INFO - 인증서 로그인\n",
      "2025-04-01 21:08:22,999 - Automatic - DEBUG - click on 하드디스크. path=NX_MEDIA_HDD\n",
      "2025-04-01 21:08:23,014 - Automatic - DEBUG - get_element by visiable\n",
      "2025-04-01 21:08:25,280 - Automatic - DEBUG - get_element by visiable\n",
      "2025-04-01 21:08:27,212 - Automatic - DEBUG - click on 인증서. path=//td/div[contains(text(),\"사업자\")]\n",
      "2025-04-01 21:08:27,220 - Automatic - DEBUG - get_element by visiable\n",
      "2025-04-01 21:08:27,349 - Automatic - DEBUG - get_element by visiable\n",
      "2025-04-01 21:08:27,661 - Automatic - DEBUG - type on 보안토큰 비밀번호. path=certPwd\n",
      "2025-04-01 21:08:30,673 - Automatic - DEBUG - get_element by visiable\n",
      "2025-04-01 21:08:31,041 - Automatic - DEBUG - get_element by visiable\n",
      "2025-04-01 21:08:32,035 - Automatic - DEBUG - click on 확인버튼. path=//*[@id=\"nx-cert-select\"]/div[4]/button[1]\n",
      "2025-04-01 21:08:32,054 - Automatic - DEBUG - get_element by visiable\n",
      "2025-04-01 21:08:32,353 - Automatic - DEBUG - get_element by visiable\n",
      "2025-04-01 21:08:43,441 - Automatic - DEBUG - exist on 로그아웃버튼. path=//span[text()='로그아웃']\n",
      "2025-04-01 21:08:43,526 - Automatic - DEBUG - get_element by visiable\n"
     ]
    },
    {
     "data": {
      "text/plain": [
       "True"
      ]
     },
     "execution_count": 5,
     "metadata": {},
     "output_type": "execute_result"
    }
   ],
   "source": [
    "if kepco is not None:\n",
    "    kepco.login()"
   ]
  },
  {
   "cell_type": "code",
   "execution_count": 7,
   "metadata": {},
   "outputs": [
    {
     "name": "stderr",
     "output_type": "stream",
     "text": [
      "2025-04-01 01:03:41,836 - Automatic - DEBUG - go on 홈페이지. path=https://srm.kepco.net/index.do?theme=default\n",
      "2025-04-01 01:03:43,938 - Automatic - DEBUG - exist on test. path=\n",
      "2025-04-01 01:03:47,099 - Automatic - DEBUG - exist on 홈탭. path=//span[text()=\"home\"]\n",
      "2025-04-01 01:03:47,108 - Automatic - DEBUG - get_element by visiable\n",
      "2025-04-01 01:03:47,181 - Kepco - INFO - 공고번호 조회 탭 열기\n",
      "2025-04-01 01:03:47,183 - Automatic - DEBUG - click on 입찰/계약 탭. path=//span[text()=\"입찰/계약\"]\n",
      "2025-04-01 01:03:47,200 - Automatic - DEBUG - get_element by visiable\n",
      "2025-04-01 01:03:47,485 - Automatic - DEBUG - click on 입찰참가신청. path=//h4[text()=\" 입찰참가신청 \"]\n",
      "2025-04-01 01:03:47,494 - Automatic - DEBUG - get_element by visiable\n",
      "2025-04-01 01:03:47,751 - Automatic - DEBUG - exist on 닫기 버튼. path=//span[@class=\"x-tab-close-btn\"]\n",
      "2025-04-01 01:03:47,768 - Automatic - DEBUG - get_element by visiable\n",
      "2025-04-01 01:03:48,445 - Kepco - INFO - 공고번호 조회\n",
      "2025-04-01 01:03:48,446 - Automatic - DEBUG - type on 공고번호 입력 박스. path=//input[@title=\"공고번호\"]\n",
      "2025-04-01 01:03:51,454 - Automatic - DEBUG - get_element by visiable\n",
      "2025-04-01 01:03:51,698 - Automatic - DEBUG - click on 확인 버튼. path=//span[text()=\"조회\"]\n",
      "2025-04-01 01:03:51,705 - Automatic - DEBUG - get_element by visiable\n",
      "2025-04-01 01:03:51,874 - Automatic - DEBUG - count on 체크박스. path=//div[@class=\"x-grid-row-checker\"]\n",
      "2025-04-01 01:03:51,886 - Automatic - DEBUG - get_element by visiable\n",
      "2025-04-01 01:03:52,455 - Automatic - DEBUG - table on 검색결과 테이블. path=/html/body/div[4]/div[2]/div[2]/div/div/div[2]/div/div/div/div[2]/div[1]/div/div/div/div[2]/div[3]/div[2]/div/div[2]/div[2]/div/div[2]/table\n",
      "2025-04-01 01:03:52,462 - Automatic - DEBUG - get_element by visiable\n",
      "2025-04-01 01:03:52,535 - Automatic - DEBUG - click on 체크박스. path=//div[@class=\"x-grid-row-checker\"]\n",
      "2025-04-01 01:03:52,542 - Automatic - DEBUG - get_element by visiable\n",
      "2025-04-01 01:03:52,707 - Automatic - DEBUG - click on 참가신청. path=//*[contains(@class,\"x-btn-icon-el x-btn-icon-el-default-toolbar-small btn-request\")]\n",
      "2025-04-01 01:03:52,715 - Automatic - DEBUG - get_element by visiable\n",
      "2025-04-01 01:03:52,952 - Automatic - DEBUG - exist on 답합유의사항 확인 체크박스. path=//input[@title=\"위의 사항을 확인하였습니다.\"]\n",
      "2025-04-01 01:03:52,959 - Automatic - DEBUG - get_element by visiable\n",
      "2025-04-01 01:03:53,014 - Automatic - DEBUG - click on 답합유의사항 확인 체크박스. path=//input[@title=\"위의 사항을 확인하였습니다.\"]\n",
      "2025-04-01 01:03:53,021 - Automatic - DEBUG - get_element by visiable\n",
      "2025-04-01 01:03:53,224 - Kepco - INFO - 모든 popup닫기\n",
      "2025-04-01 01:03:53,226 - Kepco - INFO - 메세지 박스 닫기: 확인\n",
      "2025-04-01 01:03:53,227 - Automatic - DEBUG - exist on 메세지 박스 확인 버튼 텍스트. path=//div[contains(@class,\"x-window\") and contains(@class,\"x-message-box\")]\n",
      "2025-04-01 01:03:53,258 - Automatic - DEBUG - get_element by visiable\n",
      "2025-04-01 01:03:56,437 - Automatic - DEBUG - text on 메세지 박스 확인 버튼 텍스트. path=//div[contains(@class,\"x-window\") and contains(@class,\"x-message-box\")]\n",
      "2025-04-01 01:03:56,447 - Automatic - DEBUG - get_element by visiable\n",
      "2025-04-01 01:03:56,560 - Kepco - INFO - Messagebox: 알림 상호 또는 법인의 명칭,대표자 및 공동대표자의 성명 등 등록사항이 변경된 경우 변경등록하지 아니하고 입찰참여시에는 입찰무효처리되오니 유의하시기 바랍니다. 확인\n",
      "2025-04-01 01:03:56,562 - Automatic - DEBUG - exist on 메세지 박스 확인 버튼. path=//div[contains(@class,\"x-window\") and contains(@class,\"x-message-box\")]/div[3]/div/div/a/span/span/span[text()='확인']/../../..\n",
      "2025-04-01 01:03:56,575 - Automatic - DEBUG - get_element by visiable\n",
      "2025-04-01 01:03:56,641 - Automatic - DEBUG - click on 메세지 박스 확인 버튼. path=//div[contains(@class,\"x-window\") and contains(@class,\"x-message-box\")]/div[3]/div/div/a/span/span/span[text()='확인']/../../..\n",
      "2025-04-01 01:03:56,649 - Automatic - DEBUG - get_element by visiable\n",
      "2025-04-01 01:04:00,537 - Kepco - INFO - 메세지 박스 닫기 성공\n",
      "2025-04-01 01:04:00,539 - Automatic - DEBUG - exist on 패널 팝업 닫기 버튼. path=//div[contains(@class,\"x-panel\") and contains(@class,\"x-panel-popup\")]/div/div/div/a/span/span/span[2]\n",
      "2025-04-01 01:04:00,636 - Automatic - DEBUG - get_element by visiable\n",
      "2025-04-01 01:04:00,775 - Automatic - DEBUG - clicks on 패널 팝업 닫기 버튼. path=//div[contains(@class,\"x-panel\") and contains(@class,\"x-panel-popup\")]/div/div/div/a/span/span/span[2]\n",
      "2025-04-01 01:04:00,787 - Automatic - DEBUG - get_element by visiable\n",
      "2025-04-01 01:04:03,155 - Kepco - INFO - 메세지 박스 닫기: 확인\n",
      "2025-04-01 01:04:03,156 - Automatic - DEBUG - exist on 메세지 박스 확인 버튼 텍스트. path=//div[contains(@class,\"x-window\") and contains(@class,\"x-message-box\")]\n",
      "2025-04-01 01:04:03,164 - Automatic - DEBUG - get_element by visiable\n",
      "2025-04-01 01:04:04,231 - Automatic - DEBUG - ERROR: Failed to get elements.<class 'selenium.common.exceptions.TimeoutException'> Message: \n",
      "\n",
      "2025-04-01 01:04:04,237 - Automatic - DEBUG - Failed to find an element\n",
      "2025-04-01 01:04:04,240 - Automatic - DEBUG - exist on 메세지 박스 확인 버튼. path=//div[contains(@class,\"x-window\") and contains(@class,\"x-message-box\")]/div[3]/div/div/a/span/span/span[text()='확인']/../../..\n",
      "2025-04-01 01:04:04,260 - Automatic - DEBUG - get_element by visiable\n",
      "2025-04-01 01:04:05,339 - Automatic - DEBUG - ERROR: Failed to get elements.<class 'selenium.common.exceptions.TimeoutException'> Message: \n",
      "\n",
      "2025-04-01 01:04:05,340 - Automatic - DEBUG - Failed to find an element\n",
      "2025-04-01 01:04:05,340 - Automatic - DEBUG - exist on 패널 팝업 닫기 버튼. path=//div[contains(@class,\"x-panel\") and contains(@class,\"x-panel-popup\")]/div/div/div/a/span/span/span[2]\n",
      "2025-04-01 01:04:05,346 - Automatic - DEBUG - get_element by visiable\n",
      "2025-04-01 01:04:06,465 - Automatic - DEBUG - ERROR: Failed to get elements.<class 'selenium.common.exceptions.TimeoutException'> Message: \n",
      "\n",
      "2025-04-01 01:04:07,469 - Kepco - INFO - 메세지 박스 닫기: 확인\n",
      "2025-04-01 01:04:07,470 - Automatic - DEBUG - exist on 메세지 박스 확인 버튼 텍스트. path=//div[contains(@class,\"x-window\") and contains(@class,\"x-message-box\")]\n",
      "2025-04-01 01:04:07,479 - Automatic - DEBUG - get_element by visiable\n",
      "2025-04-01 01:04:08,545 - Automatic - DEBUG - ERROR: Failed to get elements.<class 'selenium.common.exceptions.TimeoutException'> Message: \n",
      "\n",
      "2025-04-01 01:04:08,546 - Automatic - DEBUG - Failed to find an element\n",
      "2025-04-01 01:04:08,546 - Automatic - DEBUG - exist on 메세지 박스 확인 버튼. path=//div[contains(@class,\"x-window\") and contains(@class,\"x-message-box\")]/div[3]/div/div/a/span/span/span[text()='확인']/../../..\n",
      "2025-04-01 01:04:08,553 - Automatic - DEBUG - get_element by visiable\n",
      "2025-04-01 01:04:09,617 - Automatic - DEBUG - ERROR: Failed to get elements.<class 'selenium.common.exceptions.TimeoutException'> Message: \n",
      "\n",
      "2025-04-01 01:04:09,618 - Automatic - DEBUG - Failed to find an element\n",
      "2025-04-01 01:04:09,618 - Automatic - DEBUG - exist on 패널 팝업 닫기 버튼. path=//div[contains(@class,\"x-panel\") and contains(@class,\"x-panel-popup\")]/div/div/div/a/span/span/span[2]\n",
      "2025-04-01 01:04:09,626 - Automatic - DEBUG - get_element by visiable\n",
      "2025-04-01 01:04:10,744 - Automatic - DEBUG - ERROR: Failed to get elements.<class 'selenium.common.exceptions.TimeoutException'> Message: \n",
      "\n",
      "2025-04-01 01:04:11,746 - Kepco - INFO - 메세지 박스 닫기: 확인\n",
      "2025-04-01 01:04:11,747 - Automatic - DEBUG - exist on 메세지 박스 확인 버튼 텍스트. path=//div[contains(@class,\"x-window\") and contains(@class,\"x-message-box\")]\n",
      "2025-04-01 01:04:11,757 - Automatic - DEBUG - get_element by visiable\n",
      "2025-04-01 01:04:12,826 - Automatic - DEBUG - ERROR: Failed to get elements.<class 'selenium.common.exceptions.TimeoutException'> Message: \n",
      "\n",
      "2025-04-01 01:04:12,827 - Automatic - DEBUG - Failed to find an element\n",
      "2025-04-01 01:04:12,827 - Automatic - DEBUG - exist on 메세지 박스 확인 버튼. path=//div[contains(@class,\"x-window\") and contains(@class,\"x-message-box\")]/div[3]/div/div/a/span/span/span[text()='확인']/../../..\n",
      "2025-04-01 01:04:12,834 - Automatic - DEBUG - get_element by visiable\n",
      "2025-04-01 01:04:13,894 - Automatic - DEBUG - ERROR: Failed to get elements.<class 'selenium.common.exceptions.TimeoutException'> Message: \n",
      "\n",
      "2025-04-01 01:04:13,895 - Automatic - DEBUG - Failed to find an element\n",
      "2025-04-01 01:04:13,896 - Automatic - DEBUG - exist on 패널 팝업 닫기 버튼. path=//div[contains(@class,\"x-panel\") and contains(@class,\"x-panel-popup\")]/div/div/div/a/span/span/span[2]\n",
      "2025-04-01 01:04:13,903 - Automatic - DEBUG - get_element by visiable\n",
      "2025-04-01 01:04:15,043 - Automatic - DEBUG - ERROR: Failed to get elements.<class 'selenium.common.exceptions.TimeoutException'> Message: \n",
      "\n",
      "2025-04-01 01:04:15,044 - Kepco - INFO - 중소기업확인서 첨부\n",
      "2025-04-01 01:04:15,046 - Kepco - INFO - 파일 첨부 C:\\Users\\jaeyo\\.iaa\\small_business_confirmation.pdf\n",
      "2025-04-01 01:04:15,048 - Automatic - DEBUG - clicks on 파일첨부 버튼. path=//*[text()=\"파일첨부\"]\n",
      "2025-04-01 01:04:15,056 - Automatic - DEBUG - get_element by visiable\n",
      "2025-04-01 01:04:15,301 - Automatic - DEBUG - type on 파일입력상자. path=Edit1\n",
      "2025-04-01 01:04:19,934 - Automatic - DEBUG - Typing: \"C:\\Users\\jaeyo\\.iaa\\small_business_confirmation.pdf\"\n",
      "2025-04-01 01:04:20,249 - Automatic - DEBUG - click on 확인 버튼. path=Button2\n",
      "2025-04-01 01:04:26,086 - Kepco - INFO - 약정들에 동의\n",
      "2025-04-01 01:04:26,089 - Automatic - DEBUG - exist on 체크박스. path=//div/div[not(contains(@style,\"display: none\"))]/div[3]/div/div/div[2]/div/div/input\n",
      "2025-04-01 01:04:27,099 - Automatic - DEBUG - get_element by visiable\n",
      "2025-04-01 01:04:27,272 - Automatic - DEBUG - clicks on 체크박스. path=//div/div[not(contains(@style,\"display: none\"))]/div[3]/div/div/div[2]/div/div/input\n",
      "2025-04-01 01:04:28,281 - Automatic - DEBUG - get_element by visiable\n",
      "2025-04-01 01:04:31,905 - Kepco - INFO - 제출 확인\n",
      "2025-04-01 01:04:31,905 - Automatic - DEBUG - click on 제출 버튼. path=//span[text()=\"제출\"]\n",
      "2025-04-01 01:04:31,919 - Automatic - DEBUG - get_element by visiable\n",
      "2025-04-01 01:04:32,071 - Kepco - INFO - 메세지 박스 닫기: 예\n",
      "2025-04-01 01:04:32,072 - Automatic - DEBUG - exist on 메세지 박스 예 버튼 텍스트. path=//div[contains(@class,\"x-window\") and contains(@class,\"x-message-box\")]\n",
      "2025-04-01 01:04:32,077 - Automatic - DEBUG - get_element by visiable\n",
      "2025-04-01 01:04:32,771 - Automatic - DEBUG - text on 메세지 박스 예 버튼 텍스트. path=//div[contains(@class,\"x-window\") and contains(@class,\"x-message-box\")]\n",
      "2025-04-01 01:04:32,777 - Automatic - DEBUG - get_element by visiable\n",
      "2025-04-01 01:04:32,844 - Kepco - INFO - Messagebox: 확인 [참가신청 후, 가격입찰서 제출 유의사항 안내]  전자조달시스템에서는 입찰담합 방지를 위해,  동일 공고번호에 동일 ①IP(Internet Protocol) 및 ②MAC(Media Access Control)주소에서 복수로 입찰서를 제출하는 것을 차단하고 있음을 안내드립니다.  업무에 유의하여 주시기 바랍니다.  예시) 아래의 경우, 하나의 공고에서 한 업체만 입찰서를 제출 할 수 있습니다. ① 한 사무실에서 동일 IP로 3대의 PC를 사용할 경우 : 동일 IP 차단 ② 한 사무실에서 여러개의 IP로 1대의 PC를 사용할 경우 : 동일 MAC 차단  - Internet Protocol : 인터넷에 연결된 장치를 식별하는 고유한 번호의 집합 - Media Access Control : 네트워크 카드가 가진 고유의 주소 예 아니오\n",
      "2025-04-01 01:04:32,845 - Automatic - DEBUG - exist on 메세지 박스 예 버튼. path=//div[contains(@class,\"x-window\") and contains(@class,\"x-message-box\")]/div[3]/div/div/a/span/span/span[text()='예']/../../..\n",
      "2025-04-01 01:04:32,854 - Automatic - DEBUG - get_element by visiable\n",
      "2025-04-01 01:04:32,897 - Automatic - DEBUG - click on 메세지 박스 예 버튼. path=//div[contains(@class,\"x-window\") and contains(@class,\"x-message-box\")]/div[3]/div/div/a/span/span/span[text()='예']/../../..\n",
      "2025-04-01 01:04:32,903 - Automatic - DEBUG - get_element by visiable\n",
      "2025-04-01 01:04:33,088 - Kepco - INFO - 메세지 박스 닫기 성공\n",
      "2025-04-01 01:04:33,112 - Kepco - INFO - 메세지 박스 닫기: 확인\n",
      "2025-04-01 01:04:33,120 - Automatic - DEBUG - exist on 메세지 박스 확인 버튼 텍스트. path=//div[contains(@class,\"x-window\") and contains(@class,\"x-message-box\")]\n",
      "2025-04-01 01:04:33,140 - Automatic - DEBUG - get_element by visiable\n",
      "2025-04-01 01:04:33,186 - Automatic - DEBUG - text on 메세지 박스 확인 버튼 텍스트. path=//div[contains(@class,\"x-window\") and contains(@class,\"x-message-box\")]\n",
      "2025-04-01 01:04:33,195 - Automatic - DEBUG - get_element by visiable\n",
      "2025-04-01 01:04:33,260 - Kepco - INFO - Messagebox: 확인 별도 제출요구서류가 있는 경우 첨부 여부를 반드시 확인하시기 바랍니다. 입찰참가신청서를 제출하시겠습니까? 예 아니오\n",
      "2025-04-01 01:04:33,262 - Automatic - DEBUG - exist on 메세지 박스 확인 버튼. path=//div[contains(@class,\"x-window\") and contains(@class,\"x-message-box\")]/div[3]/div/div/a/span/span/span[text()='확인']/../../..\n",
      "2025-04-01 01:04:33,268 - Automatic - DEBUG - get_element by visiable\n",
      "2025-04-01 01:04:43,385 - Automatic - DEBUG - ERROR: Failed to get elements.<class 'selenium.common.exceptions.TimeoutException'> Message: \n",
      "\n",
      "2025-04-01 01:04:43,387 - Automatic - DEBUG - Failed to find an element\n",
      "2025-04-01 01:04:43,387 - Kepco - INFO - 메세지 박스 닫기: 예\n",
      "2025-04-01 01:04:43,388 - Automatic - DEBUG - exist on 메세지 박스 예 버튼 텍스트. path=//div[contains(@class,\"x-window\") and contains(@class,\"x-message-box\")]\n",
      "2025-04-01 01:04:43,394 - Automatic - DEBUG - get_element by visiable\n",
      "2025-04-01 01:04:43,436 - Automatic - DEBUG - text on 메세지 박스 예 버튼 텍스트. path=//div[contains(@class,\"x-window\") and contains(@class,\"x-message-box\")]\n",
      "2025-04-01 01:04:43,443 - Automatic - DEBUG - get_element by visiable\n",
      "2025-04-01 01:04:43,508 - Kepco - INFO - Messagebox: 확인 별도 제출요구서류가 있는 경우 첨부 여부를 반드시 확인하시기 바랍니다. 입찰참가신청서를 제출하시겠습니까? 예 아니오\n",
      "2025-04-01 01:04:43,509 - Automatic - DEBUG - exist on 메세지 박스 예 버튼. path=//div[contains(@class,\"x-window\") and contains(@class,\"x-message-box\")]/div[3]/div/div/a/span/span/span[text()='예']/../../..\n",
      "2025-04-01 01:04:43,517 - Automatic - DEBUG - get_element by visiable\n",
      "2025-04-01 01:04:43,563 - Automatic - DEBUG - click on 메세지 박스 예 버튼. path=//div[contains(@class,\"x-window\") and contains(@class,\"x-message-box\")]/div[3]/div/div/a/span/span/span[text()='예']/../../..\n",
      "2025-04-01 01:04:43,572 - Automatic - DEBUG - get_element by visiable\n",
      "2025-04-01 01:04:43,743 - Kepco - INFO - 메세지 박스 닫기 성공\n",
      "2025-04-01 01:04:43,744 - Kepco - INFO - 인증서 제출\n",
      "2025-04-01 01:04:43,745 - Automatic - DEBUG - click on 하드디스크. path=NX_MEDIA_HDD\n",
      "2025-04-01 01:04:43,808 - Automatic - DEBUG - get_element by visiable\n",
      "2025-04-01 01:04:45,006 - Automatic - DEBUG - get_element by visiable\n",
      "2025-04-01 01:04:46,393 - Automatic - DEBUG - click on 인증서. path=//td/div[contains(text(),\"사업자\")]\n",
      "2025-04-01 01:04:46,430 - Automatic - DEBUG - get_element by visiable\n",
      "2025-04-01 01:04:46,563 - Automatic - DEBUG - get_element by visiable\n",
      "2025-04-01 01:04:46,930 - Automatic - DEBUG - type on 보안토큰 비밀번호. path=certPwd\n",
      "2025-04-01 01:04:49,937 - Automatic - DEBUG - get_element by visiable\n",
      "2025-04-01 01:04:50,028 - Automatic - DEBUG - get_element by visiable\n",
      "2025-04-01 01:04:50,260 - Automatic - DEBUG - click on 확인버튼. path=//*[@id=\"nx-cert-select\"]/div[4]/button[1]\n",
      "2025-04-01 01:04:50,266 - Automatic - DEBUG - get_element by visiable\n",
      "2025-04-01 01:04:50,352 - Automatic - DEBUG - get_element by visiable\n",
      "2025-04-01 01:04:50,614 - Kepco - INFO - 메세지 박스 닫기: 확인\n",
      "2025-04-01 01:04:50,616 - Automatic - DEBUG - exist on 메세지 박스 확인 버튼 텍스트. path=//div[contains(@class,\"x-window\") and contains(@class,\"x-message-box\")]\n",
      "2025-04-01 01:04:50,622 - Automatic - DEBUG - get_element by visiable\n",
      "2025-04-01 01:04:54,739 - Automatic - DEBUG - text on 메세지 박스 확인 버튼 텍스트. path=//div[contains(@class,\"x-window\") and contains(@class,\"x-message-box\")]\n",
      "2025-04-01 01:04:54,743 - Automatic - DEBUG - get_element by visiable\n",
      "2025-04-01 01:04:54,802 - Kepco - INFO - Messagebox: 알림 제출 하였습니다. 확인\n",
      "2025-04-01 01:04:54,803 - Automatic - DEBUG - exist on 메세지 박스 확인 버튼. path=//div[contains(@class,\"x-window\") and contains(@class,\"x-message-box\")]/div[3]/div/div/a/span/span/span[text()='확인']/../../..\n",
      "2025-04-01 01:04:54,809 - Automatic - DEBUG - get_element by visiable\n",
      "2025-04-01 01:04:54,852 - Automatic - DEBUG - click on 메세지 박스 확인 버튼. path=//div[contains(@class,\"x-window\") and contains(@class,\"x-message-box\")]/div[3]/div/div/a/span/span/span[text()='확인']/../../..\n",
      "2025-04-01 01:04:54,858 - Automatic - DEBUG - get_element by visiable\n",
      "2025-04-01 01:04:54,995 - Kepco - INFO - 메세지 박스 닫기 성공\n"
     ]
    },
    {
     "data": {
      "text/plain": [
       "True"
      ]
     },
     "execution_count": 7,
     "metadata": {},
     "output_type": "execute_result"
    }
   ],
   "source": [
    "kepco.register(\"G012501598-00\")"
   ]
  },
  {
   "cell_type": "code",
   "execution_count": null,
   "metadata": {},
   "outputs": [],
   "source": [
    "table = kepco.participate(\"G012401555-00\", \"23153292\")"
   ]
  }
 ],
 "metadata": {
  "kernelspec": {
   "display_name": "env",
   "language": "python",
   "name": "python3"
  },
  "language_info": {
   "codemirror_mode": {
    "name": "ipython",
    "version": 3
   },
   "file_extension": ".py",
   "mimetype": "text/x-python",
   "name": "python",
   "nbconvert_exporter": "python",
   "pygments_lexer": "ipython3",
   "version": "3.11.9"
  },
  "orig_nbformat": 4
 },
 "nbformat": 4,
 "nbformat_minor": 2
}
