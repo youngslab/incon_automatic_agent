{
 "cells": [
  {
   "attachments": {},
   "cell_type": "markdown",
   "metadata": {},
   "source": [
    "# KEPCO Test"
   ]
  },
  {
   "attachments": {},
   "cell_type": "markdown",
   "metadata": {},
   "source": [
    "## 1 Environment"
   ]
  },
  {
   "cell_type": "code",
   "execution_count": 23,
   "metadata": {},
   "outputs": [],
   "source": [
    "import os\n",
    "import sys\n",
    "\n",
    "# 현재 작업 디렉토리 가져오기\n",
    "current_directory = os.getcwd()\n",
    "\n",
    "# fmt: off\n",
    "module_directory = os.path.join(\n",
    "    current_directory, \"..\",\"thirdparty\", \"automatic\")\n",
    "if module_directory not in sys.path:\n",
    "    sys.path.append(module_directory)\n",
    "\n",
    "sys.path.append(os.path.join(current_directory, \"..\"))\n"
   ]
  },
  {
   "cell_type": "code",
   "execution_count": 24,
   "metadata": {},
   "outputs": [],
   "source": [
    "%reload_ext autoreload\n",
    "%autoreload 2\n",
    "\n",
    "from automatic.utils import *\n",
    "import logging\n",
    "Logger.init(LOGGER_AUTOMATIC, logging.DEBUG)"
   ]
  },
  {
   "cell_type": "code",
   "execution_count": 25,
   "metadata": {},
   "outputs": [],
   "source": [
    "import automatic.selenium as s\n",
    "try:\n",
    "    drv.quit()\n",
    "except:\n",
    "    pass\n",
    "drv = s.create_driver()"
   ]
  },
  {
   "cell_type": "code",
   "execution_count": 26,
   "metadata": {},
   "outputs": [],
   "source": [
    "%reload_ext autoreload\n",
    "%autoreload 2\n",
    "\n",
    "from org.kepco import Kepco\n",
    "\n",
    "import account\n",
    "\n",
    "id=account.account_get(\"kepco\", \"id\")\n",
    "pw=account.account_get(\"kepco\", \"pw\")\n",
    "cert=account.account_get(\"kepco\", \"cert\")\n",
    "\n",
    "kepco = Kepco(drv, id, pw, cert)\n"
   ]
  },
  {
   "cell_type": "code",
   "execution_count": 27,
   "metadata": {},
   "outputs": [
    {
     "name": "stderr",
     "output_type": "stream",
     "text": [
      "2024-03-21 22:07:36,071 - Automatic - DEBUG - go on 홈페이지. path=https://srm.kepco.net/index.do?theme=default\n",
      "2024-03-21 22:07:38,241 - Automatic - DEBUG - exist on test. path=\n",
      "2024-03-21 22:07:41,270 - Automatic - DEBUG - exist on 로그아웃버튼. path=//span[text()='로그아웃']\n",
      "2024-03-21 22:07:44,421 - Automatic - DEBUG - click on 로그인 버튼. path=//span[text()=\"로그인\"]/../../..\n"
     ]
    },
    {
     "ename": "ElementNotFoundException",
     "evalue": "Element is not Found.. op=click, desc=로그인 버튼. path=//span[text()=\"로그인\"]/../../..",
     "output_type": "error",
     "traceback": [
      "\u001b[1;31m---------------------------------------------------------------------------\u001b[0m",
      "\u001b[1;31mElementNotFoundException\u001b[0m                  Traceback (most recent call last)",
      "Cell \u001b[1;32mIn[27], line 1\u001b[0m\n\u001b[1;32m----> 1\u001b[0m \u001b[43mkepco\u001b[49m\u001b[38;5;241;43m.\u001b[39;49m\u001b[43mlogin\u001b[49m\u001b[43m(\u001b[49m\u001b[43m)\u001b[49m\n",
      "File \u001b[1;32mc:\\Users\\jaeyo\\virtual_machines\\shared\\incon\\test\\..\\org\\kepco\\kepco_v2.py:58\u001b[0m, in \u001b[0;36mKepco.login\u001b[1;34m(self)\u001b[0m\n\u001b[0;32m     54\u001b[0m     \u001b[38;5;28;01mreturn\u001b[39;00m \u001b[38;5;28;01mTrue\u001b[39;00m\n\u001b[0;32m     56\u001b[0m \u001b[38;5;66;03m# fLogin = s.Id(\"로그인 버튼 프레임\", 'mdiiframe-1010-iframeEl')\u001b[39;00m\n\u001b[0;32m     57\u001b[0m \u001b[38;5;66;03m# self.click(s.Id(\"로그인 버튼\", \"memberLogin\", parent=fLogin, differ=3))\u001b[39;00m\n\u001b[1;32m---> 58\u001b[0m \u001b[38;5;28;43mself\u001b[39;49m\u001b[38;5;241;43m.\u001b[39;49m\u001b[43mclick\u001b[49m\u001b[43m(\u001b[49m\u001b[43ms\u001b[49m\u001b[38;5;241;43m.\u001b[39;49m\u001b[43mXpath\u001b[49m\u001b[43m(\u001b[49m\u001b[38;5;124;43m\"\u001b[39;49m\u001b[38;5;124;43m로그인 버튼\u001b[39;49m\u001b[38;5;124;43m\"\u001b[39;49m\u001b[43m,\u001b[49m\u001b[43m \u001b[49m\u001b[38;5;124;43m'\u001b[39;49m\u001b[38;5;124;43m//span[text()=\u001b[39;49m\u001b[38;5;124;43m\"\u001b[39;49m\u001b[38;5;124;43m로그인\u001b[39;49m\u001b[38;5;124;43m\"\u001b[39;49m\u001b[38;5;124;43m]/../../..\u001b[39;49m\u001b[38;5;124;43m'\u001b[39;49m\u001b[43m)\u001b[49m\u001b[43m)\u001b[49m\n\u001b[0;32m     60\u001b[0m time\u001b[38;5;241m.\u001b[39msleep(\u001b[38;5;241m5\u001b[39m)\n\u001b[0;32m     62\u001b[0m \u001b[38;5;28mself\u001b[39m\u001b[38;5;241m.\u001b[39mlogger\u001b[38;5;241m.\u001b[39minfo(\u001b[38;5;124m\"\u001b[39m\u001b[38;5;124m아이디/비번 입력\u001b[39m\u001b[38;5;124m\"\u001b[39m)\n",
      "File \u001b[1;32mc:\\Users\\jaeyo\\virtual_machines\\shared\\incon\\test\\..\\thirdparty\\automatic\\automatic\\automatic.py:60\u001b[0m, in \u001b[0;36mAutomatic.click\u001b[1;34m(self, target)\u001b[0m\n\u001b[0;32m     59\u001b[0m \u001b[38;5;28;01mdef\u001b[39;00m \u001b[38;5;21mclick\u001b[39m(\u001b[38;5;28mself\u001b[39m, target: Descriptor):\n\u001b[1;32m---> 60\u001b[0m     \u001b[38;5;28;01mreturn\u001b[39;00m \u001b[38;5;28;43mself\u001b[39;49m\u001b[38;5;241;43m.\u001b[39;49m\u001b[43m_do\u001b[49m\u001b[43m(\u001b[49m\u001b[38;5;124;43m\"\u001b[39;49m\u001b[38;5;124;43mclick\u001b[39;49m\u001b[38;5;124;43m\"\u001b[39;49m\u001b[43m,\u001b[49m\u001b[43m \u001b[49m\u001b[43mtarget\u001b[49m\u001b[43m)\u001b[49m\n",
      "File \u001b[1;32mc:\\Users\\jaeyo\\virtual_machines\\shared\\incon\\test\\..\\thirdparty\\automatic\\automatic\\automatic.py:40\u001b[0m, in \u001b[0;36mAutomatic._do\u001b[1;34m(self, op, desc, *args, **kwargs)\u001b[0m\n\u001b[0;32m     36\u001b[0m     \u001b[38;5;28;01mraise\u001b[39;00m \u001b[38;5;167;01mException\u001b[39;00m(\u001b[38;5;124mf\u001b[39m\u001b[38;5;124m\"\u001b[39m\u001b[38;5;124mContext cannot support type \u001b[39m\u001b[38;5;132;01m{\u001b[39;00m\u001b[38;5;28mtype\u001b[39m(desc)\u001b[38;5;132;01m}\u001b[39;00m\u001b[38;5;124m of desc(\u001b[39m\u001b[38;5;132;01m{\u001b[39;00mdesc\u001b[38;5;132;01m}\u001b[39;00m\u001b[38;5;124m)\u001b[39m\u001b[38;5;124m\"\u001b[39m)\n\u001b[0;32m     37\u001b[0m     \u001b[38;5;66;03m# fmt: on\u001b[39;00m\n\u001b[0;32m     38\u001b[0m \n\u001b[0;32m     39\u001b[0m \u001b[38;5;66;03m# Run operation in a context\u001b[39;00m\n\u001b[1;32m---> 40\u001b[0m \u001b[38;5;28;01mreturn\u001b[39;00m \u001b[38;5;28;43mself\u001b[39;49m\u001b[38;5;241;43m.\u001b[39;49m\u001b[43m_dispatch\u001b[49m\u001b[43m(\u001b[49m\u001b[43mctx\u001b[49m\u001b[43m,\u001b[49m\u001b[43m \u001b[49m\u001b[43mop\u001b[49m\u001b[43m,\u001b[49m\u001b[43m \u001b[49m\u001b[43mdesc\u001b[49m\u001b[43m,\u001b[49m\u001b[43m \u001b[49m\u001b[38;5;241;43m*\u001b[39;49m\u001b[43margs\u001b[49m\u001b[43m,\u001b[49m\u001b[43m \u001b[49m\u001b[38;5;241;43m*\u001b[39;49m\u001b[38;5;241;43m*\u001b[39;49m\u001b[43mkwargs\u001b[49m\u001b[43m)\u001b[49m\n",
      "File \u001b[1;32mc:\\Users\\jaeyo\\virtual_machines\\shared\\incon\\test\\..\\thirdparty\\automatic\\automatic\\automatic.py:28\u001b[0m, in \u001b[0;36mAutomatic._dispatch\u001b[1;34m(self, context, op, *args, **kwargs)\u001b[0m\n\u001b[0;32m     25\u001b[0m \u001b[38;5;28;01mif\u001b[39;00m \u001b[38;5;129;01mnot\u001b[39;00m op:\n\u001b[0;32m     26\u001b[0m     \u001b[38;5;28;01mraise\u001b[39;00m \u001b[38;5;167;01mException\u001b[39;00m(\u001b[38;5;124mf\u001b[39m\u001b[38;5;124m\"\u001b[39m\u001b[38;5;124mContext can not support op:\u001b[39m\u001b[38;5;132;01m{\u001b[39;00mop\u001b[38;5;132;01m}\u001b[39;00m\u001b[38;5;124m\"\u001b[39m)\n\u001b[1;32m---> 28\u001b[0m \u001b[38;5;28;01mreturn\u001b[39;00m \u001b[43mop\u001b[49m\u001b[43m(\u001b[49m\u001b[38;5;241;43m*\u001b[39;49m\u001b[43margs\u001b[49m\u001b[43m,\u001b[49m\u001b[43m \u001b[49m\u001b[38;5;241;43m*\u001b[39;49m\u001b[38;5;241;43m*\u001b[39;49m\u001b[43mkwargs\u001b[49m\u001b[43m)\u001b[49m\n",
      "File \u001b[1;32mc:\\Users\\jaeyo\\virtual_machines\\shared\\incon\\test\\..\\thirdparty\\automatic\\automatic\\selenium\\context.py:257\u001b[0m, in \u001b[0;36mContext.click\u001b[1;34m(self, descriptor)\u001b[0m\n\u001b[0;32m    255\u001b[0m elem \u001b[38;5;241m=\u001b[39m \u001b[38;5;28mself\u001b[39m\u001b[38;5;241m.\u001b[39mget(descriptor)\n\u001b[0;32m    256\u001b[0m \u001b[38;5;28;01mif\u001b[39;00m \u001b[38;5;129;01mnot\u001b[39;00m elem:\n\u001b[1;32m--> 257\u001b[0m     \u001b[38;5;28;01mraise\u001b[39;00m ElementNotFoundException(descriptor, \u001b[38;5;124m\"\u001b[39m\u001b[38;5;124mclick\u001b[39m\u001b[38;5;124m\"\u001b[39m)\n\u001b[0;32m    259\u001b[0m \u001b[38;5;28;01mif\u001b[39;00m \u001b[38;5;129;01mnot\u001b[39;00m \u001b[38;5;28misinstance\u001b[39m(elem, WebElement):\n\u001b[0;32m    260\u001b[0m     \u001b[38;5;28;01mraise\u001b[39;00m InvalidOperationException(descriptor, \u001b[38;5;124m\"\u001b[39m\u001b[38;5;124mclick\u001b[39m\u001b[38;5;124m\"\u001b[39m)\n",
      "\u001b[1;31mElementNotFoundException\u001b[0m: Element is not Found.. op=click, desc=로그인 버튼. path=//span[text()=\"로그인\"]/../../.."
     ]
    }
   ],
   "source": [
    "kepco.login()"
   ]
  },
  {
   "cell_type": "code",
   "execution_count": 8,
   "metadata": {},
   "outputs": [
    {
     "name": "stderr",
     "output_type": "stream",
     "text": [
      "2024-03-21 01:41:59,884 - Automatic - DEBUG - go on 홈페이지. path=https://srm.kepco.net/index.do?theme=default\n",
      "2024-03-21 01:41:59,937 - Automatic - DEBUG - exist on test. path=\n",
      "2024-03-21 01:41:59,945 - Automatic - DEBUG - accept on test. path=\n",
      "2024-03-21 01:41:59,991 - Automatic - DEBUG - exist on 홈탭. path=//span[text()=\"home\"]\n",
      "2024-03-21 01:42:05,662 - Kepco - INFO - 입찰/계약 탭 열기\n",
      "2024-03-21 01:42:05,663 - Automatic - DEBUG - click on 입찰/계약 버튼. path=//span[text()=\"입찰/계약\"]\n",
      "2024-03-21 01:42:05,844 - Automatic - DEBUG - click on 입찰 버튼. path=//h4[text()=\" 입찰(투찰진행) \"]\n",
      "2024-03-21 01:42:05,999 - Kepco - INFO - 공고번호 검색 G012401217-00\n",
      "2024-03-21 01:42:06,002 - Automatic - DEBUG - type on 공고번호 입력상자. path=//input[@title=\"공고번호\"]\n",
      "2024-03-21 01:42:11,537 - Automatic - DEBUG - click on 조회 버튼. path=//span[text()=\"조회\"]\n",
      "2024-03-21 01:42:11,657 - Automatic - DEBUG - exist on 메세지 박스 확인 버튼. path=//div[contains(@class,\"x-window\") and contains(@class,\"x-message-box\")]/div[3]/div/div/a/span/span/span[text()='확인']/../../..\n",
      "2024-03-21 01:42:12,717 - Kepco - INFO - 검색 결과 검증\n",
      "2024-03-21 01:42:12,717 - Automatic - DEBUG - count on 체크박스. path=//div[@class=\"x-grid-row-checker\"]\n",
      "2024-03-21 01:42:12,774 - Automatic - DEBUG - table on 검색결과 테이블. path=//*[contains(text(),\"G012401217\")]/../../../..\n",
      "2024-03-21 01:42:12,847 - Automatic - DEBUG - click on 체크박스. path=//div[@class=\"x-grid-row-checker\"]\n",
      "2024-03-21 01:42:12,981 - Automatic - DEBUG - click on 입찰 참여 버튼. path=//span[text()=\"입찰참여\"]\n",
      "2024-03-21 01:42:13,125 - Automatic - DEBUG - exist on 메세지 박스 예 버튼. path=//div[contains(@class,\"x-window\") and contains(@class,\"x-message-box\")]/div[3]/div/div/a/span/span/span[text()='예']/../../..\n",
      "2024-03-21 01:42:14,225 - Automatic - DEBUG - click on 메세지 박스 예 버튼. path=//div[contains(@class,\"x-window\") and contains(@class,\"x-message-box\")]/div[3]/div/div/a/span/span/span[text()='예']/../../..\n",
      "2024-03-21 01:42:19,121 - Kepco - INFO - 지문인식예외투찰\n",
      "2024-03-21 01:42:19,123 - Automatic - DEBUG - click on 지문인식예외투찰 버튼. path=//td[6]/div/img\n",
      "2024-03-21 01:42:21,959 - Automatic - DEBUG - exist on 메세지 박스 예 버튼. path=//div[contains(@class,\"x-window\") and contains(@class,\"x-message-box\")]/div[3]/div/div/a/span/span/span[text()='예']/../../..\n",
      "2024-03-21 01:42:22,009 - Automatic - DEBUG - click on 메세지 박스 예 버튼. path=//div[contains(@class,\"x-window\") and contains(@class,\"x-message-box\")]/div[3]/div/div/a/span/span/span[text()='예']/../../..\n",
      "2024-03-21 01:42:22,200 - Automatic - DEBUG - exist on 메세지 박스 확인 버튼. path=//div[contains(@class,\"x-window\") and contains(@class,\"x-message-box\")]/div[3]/div/div/a/span/span/span[text()='확인']/../../..\n",
      "2024-03-21 01:42:23,303 - Automatic - DEBUG - exist on 패널 팝업 닫기 버튼. path=//div[contains(@class,\"x-panel\") and contains(@class,\"x-panel-popup\")]/div/div/div/a/span/span/span[2]\n",
      "2024-03-21 01:42:23,390 - Automatic - DEBUG - clicks on 패널 팝업 닫기 버튼. path=//div[contains(@class,\"x-panel\") and contains(@class,\"x-panel-popup\")]/div/div/div/a/span/span/span[2]\n",
      "2024-03-21 01:42:24,660 - Automatic - DEBUG - exist on 메세지 박스 확인 버튼. path=//div[contains(@class,\"x-window\") and contains(@class,\"x-message-box\")]/div[3]/div/div/a/span/span/span[text()='확인']/../../..\n",
      "2024-03-21 01:42:25,754 - Automatic - DEBUG - exist on 패널 팝업 닫기 버튼. path=//div[contains(@class,\"x-panel\") and contains(@class,\"x-panel-popup\")]/div/div/div/a/span/span/span[2]\n",
      "2024-03-21 01:42:26,885 - Kepco - INFO - 개인인증서 로그인\n",
      "2024-03-21 01:42:26,886 - Automatic - DEBUG - click on 하드디스크. path=NX_MEDIA_HDD\n",
      "2024-03-21 01:42:27,194 - Automatic - DEBUG - click on 인증서. path=//td/div[contains(text(),\"은행\")]\n",
      "2024-03-21 01:42:27,491 - Automatic - DEBUG - type on 보안토큰 비밀번호. path=certPwd\n",
      "2024-03-21 01:42:30,793 - Automatic - DEBUG - click on 확인버튼. path=//*[@id=\"nx-cert-select\"]/div[4]/button[1]\n",
      "2024-03-21 01:42:31,070 - Automatic - DEBUG - exist on 메세지 박스 확인 버튼. path=//div[contains(@class,\"x-window\") and contains(@class,\"x-message-box\")]/div[3]/div/div/a/span/span/span[text()='확인']/../../..\n",
      "2024-03-21 01:42:32,151 - Automatic - DEBUG - exist on 패널 팝업 닫기 버튼. path=//div[contains(@class,\"x-panel\") and contains(@class,\"x-panel-popup\")]/div/div/div/a/span/span/span[2]\n",
      "2024-03-21 01:42:34,404 - Automatic - DEBUG - exist on 메세지 박스 확인 버튼. path=//div[contains(@class,\"x-window\") and contains(@class,\"x-message-box\")]/div[3]/div/div/a/span/span/span[text()='확인']/../../..\n",
      "2024-03-21 01:42:34,470 - Automatic - DEBUG - click on 메세지 박스 확인 버튼. path=//div[contains(@class,\"x-window\") and contains(@class,\"x-message-box\")]/div[3]/div/div/a/span/span/span[text()='확인']/../../..\n",
      "2024-03-21 01:42:34,636 - Automatic - DEBUG - exist on 패널 팝업 닫기 버튼. path=//div[contains(@class,\"x-panel\") and contains(@class,\"x-panel-popup\")]/div/div/div/a/span/span/span[2]\n",
      "2024-03-21 01:42:36,748 - Automatic - DEBUG - exist on 메세지 박스 확인 버튼. path=//div[contains(@class,\"x-window\") and contains(@class,\"x-message-box\")]/div[3]/div/div/a/span/span/span[text()='확인']/../../..\n",
      "2024-03-21 01:42:36,808 - Automatic - DEBUG - click on 메세지 박스 확인 버튼. path=//div[contains(@class,\"x-window\") and contains(@class,\"x-message-box\")]/div[3]/div/div/a/span/span/span[text()='확인']/../../..\n",
      "2024-03-21 01:42:43,713 - Automatic - DEBUG - exist on 패널 팝업 닫기 버튼. path=//div[contains(@class,\"x-panel\") and contains(@class,\"x-panel-popup\")]/div/div/div/a/span/span/span[2]\n",
      "2024-03-21 01:42:45,354 - Automatic - DEBUG - clicks on 패널 팝업 닫기 버튼. path=//div[contains(@class,\"x-panel\") and contains(@class,\"x-panel-popup\")]/div/div/div/a/span/span/span[2]\n",
      "2024-03-21 01:42:45,731 - Kepco - INFO - 추첨번호 선택\n",
      "2024-03-21 01:42:45,732 - Automatic - DEBUG - clicks on 추첨번호 버튼. path=//span[contains(text(),\"예정가격추첨갯수\")]/../../div/div/table/tbody/tr/td/a/span/span/span[2]\n"
     ]
    }
   ],
   "source": [
    "table = kepco.participate(\"G012401217-00\", \"10000000\")"
   ]
  },
  {
   "cell_type": "code",
   "execution_count": 9,
   "metadata": {},
   "outputs": [],
   "source": [
    "\n",
    "\n",
    "from automatic import Automatic\n",
    "import automatic.selenium as s\n",
    "\n",
    "selenium = s.Context(drv, timeout=10, differ=0)\n",
    "auto = Automatic([selenium])\n"
   ]
  },
  {
   "cell_type": "code",
   "execution_count": 13,
   "metadata": {},
   "outputs": [
    {
     "data": {
      "text/plain": [
       "<selenium.webdriver.remote.webelement.WebElement (session=\"f9fbe008478da515af1da991878fb96b\", element=\"f.75804D7D1C7294C4C4F6BCEA901A4CC7.d.98F90A8C669D844E44787431AB8465DE.e.12931\")>"
      ]
     },
     "execution_count": 13,
     "metadata": {},
     "output_type": "execute_result"
    }
   ],
   "source": [
    "drv.find_element(\"xpath\", '//span[text()=\"숫자\"]/../../div/div/table/tbody/tr/td[1]/div[1]/div/div/div[2]/input')"
   ]
  },
  {
   "cell_type": "code",
   "execution_count": 22,
   "metadata": {},
   "outputs": [
    {
     "name": "stderr",
     "output_type": "stream",
     "text": [
      "2024-03-21 02:44:30,970 - Automatic - DEBUG - type on 가격입력. path=//span[text()=\"숫자\"]/../../div/div/table/tbody/tr/td[1]/div[1]/div/div/div[2]/input\n",
      "2024-03-21 02:44:31,327 - Automatic - DEBUG - type on 가격입력. path=//span[text()=\"확인\"]/../../div/div/div/div/div[2]/div/div/div[2]/input\n",
      "2024-03-21 02:44:31,944 - Automatic - DEBUG - click on 입력값 확인 버튼. path=//span[text()=\"입력값확인\"]\n"
     ]
    }
   ],
   "source": [
    "# Not\n",
    "# auto.exist(s.Xpath(\"추첨번호 버튼\", '//span[text()=\"숫자\"]/../../div/div/table/tbody/tr/td[1]', timeout=1), \"1111\")\n",
    "\n",
    "\n",
    "# auto.type(s.Xpath(\"xxxx\", \"xxxx\"))\n",
    "# Not clickable.... \n",
    "auto.type(s.Xpath(\"가격입력\", '//span[text()=\"숫자\"]/../../div/div/table/tbody/tr/td[1]/div[1]/div/div/div[2]/input', timeout=1, visible=False), \"15\")\n",
    "auto.type(s.Xpath(\"가격입력\", '//span[text()=\"확인\"]/../../div/div/div/div/div[2]/div/div/div[2]/input', timeout=1, visible=False), \"15\")\n",
    "auto.click(s.Xpath(\"입력값 확인 버튼\", '//span[text()=\"입력값확인\"]'))\n",
    "# auto.text\n",
    "\n",
    "# driver.execute_script(f'arguments[0].value = \"{cost}\"', input_layer)\n"
   ]
  }
 ],
 "metadata": {
  "kernelspec": {
   "display_name": "Python 3.10.11 64-bit (microsoft store)",
   "language": "python",
   "name": "python3"
  },
  "language_info": {
   "codemirror_mode": {
    "name": "ipython",
    "version": 3
   },
   "file_extension": ".py",
   "mimetype": "text/x-python",
   "name": "python",
   "nbconvert_exporter": "python",
   "pygments_lexer": "ipython3",
   "version": "3.11.8"
  },
  "orig_nbformat": 4,
  "vscode": {
   "interpreter": {
    "hash": "e1a611bfe618ddced957fae6e2b829e3db4b5e8138885cb3bfce781d42e2449a"
   }
  }
 },
 "nbformat": 4,
 "nbformat_minor": 2
}
