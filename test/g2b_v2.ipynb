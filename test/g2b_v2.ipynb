{
 "cells": [
  {
   "cell_type": "code",
   "execution_count": 1,
   "metadata": {},
   "outputs": [],
   "source": [
    "# don't need to load extension everyf   time. \n",
    "%load_ext autoreload \n",
    "\n",
    "# This needs to be executed everytime.  \n",
    "%autoreload 2"
   ]
  },
  {
   "cell_type": "code",
   "execution_count": 2,
   "metadata": {},
   "outputs": [],
   "source": [
    "import os\n",
    "import sys\n",
    "\n",
    "# 현재 작업 디렉토리 가져오기\n",
    "current_directory = os.getcwd()\n",
    "\n",
    "# fmt: off\n",
    "module_directory = os.path.join(\n",
    "    current_directory, \"..\",\"thirdparty\", \"automatic\")\n",
    "if module_directory not in sys.path:\n",
    "    sys.path.append(module_directory)\n",
    "\n",
    "sys.path.append(os.path.join(current_directory, \"..\"))"
   ]
  },
  {
   "cell_type": "code",
   "execution_count": 3,
   "metadata": {},
   "outputs": [],
   "source": [
    "import automatic.selenium as s\n",
    "drv = s.create_driver()"
   ]
  },
  {
   "cell_type": "code",
   "execution_count": 4,
   "metadata": {},
   "outputs": [],
   "source": [
    "\n",
    "# This needs to be executed everytime.  \n",
    "%autoreload 2\n",
    "\n",
    "from org.g2b import G2B\n",
    "import account\n",
    "pw=account.account_get(\"g2b\", \"pw\")\n",
    "id=account.account_get(\"g2b\", \"id\")\n",
    "\n",
    "g2b = G2B(drv, pw, id)\n"
   ]
  },
  {
   "cell_type": "code",
   "execution_count": 5,
   "metadata": {},
   "outputs": [
    {
     "name": "stderr",
     "output_type": "stream",
     "text": [
      "2024-12-09 22:22:22,265 - G2B - INFO - 로그인\n",
      "2024-12-09 22:22:36,648 - G2B - INFO - 인증서 로그인(기업)\n",
      "2024-12-09 22:22:40,577 - G2B - INFO - 주민번호 입력\n",
      "2024-12-09 22:22:44,268 - G2B - INFO - 인증서 로그인(개인)\n",
      "2024-12-09 22:22:48,188 - G2B - INFO - 예외적용자 확인\n"
     ]
    },
    {
     "data": {
      "text/plain": [
       "True"
      ]
     },
     "execution_count": 5,
     "metadata": {},
     "output_type": "execute_result"
    }
   ],
   "source": [
    "\n",
    "g2b.login()"
   ]
  },
  {
   "cell_type": "code",
   "execution_count": 6,
   "metadata": {},
   "outputs": [
    {
     "name": "stderr",
     "output_type": "stream",
     "text": [
      "2024-12-09 22:22:53,261 - G2B - INFO - 물품등록. code=20241204753-00, price=473929496.\n",
      "2024-12-09 22:22:53,263 - G2B - INFO - 물품 검색\n"
     ]
    },
    {
     "name": "stdout",
     "output_type": "stream",
     "text": [
      "Timeout! wait_until takes 5.727223873138428. timeout=5, interval=0.5, retry=6\n",
      "Timeout! wait_until takes 5.009976863861084. timeout=5, interval=0.5, retry=6\n"
     ]
    },
    {
     "name": "stderr",
     "output_type": "stream",
     "text": [
      "2024-12-09 22:23:23,530 - G2B - INFO - 물품구매입찰서 작성\n",
      "2024-12-09 22:23:32,234 - G2B - INFO - 투찰금액 확인\n",
      "2024-12-09 22:23:58,452 - G2B - ERROR - Element is not Found.. op=activate, desc=추첨번호 선택 창. path=추첨번호 선택\n"
     ]
    },
    {
     "name": "stdout",
     "output_type": "stream",
     "text": [
      "Timeout! wait_until takes 20.44234299659729. timeout=20, interval=0.5, retry=7\n"
     ]
    },
    {
     "data": {
      "text/plain": [
       "False"
      ]
     },
     "execution_count": 6,
     "metadata": {},
     "output_type": "execute_result"
    }
   ],
   "source": [
    "g2b.participate(\"20241204753-00\", \"473929496\")"
   ]
  },
  {
   "cell_type": "code",
   "execution_count": 18,
   "metadata": {},
   "outputs": [
    {
     "data": {
      "text/plain": [
       "True"
      ]
     },
     "execution_count": 18,
     "metadata": {},
     "output_type": "execute_result"
    }
   ],
   "source": [
    "import os.path\n",
    "\n",
    "os.path.exists('C:\\\\Users\\\\jaeyo\\\\virtual_machines\\\\shared\\\\incon\\\\org\\\\g2b\\\\res\\\\g2b\\\\safeg2b_2_9_confirm_button.png')"
   ]
  },
  {
   "cell_type": "code",
   "execution_count": 8,
   "metadata": {},
   "outputs": [
    {
     "data": {
      "text/plain": [
       "['98AA68DD35C1B52252CB7E65D4A91E6F',\n",
       " 'C3BC96D39D99719082545C7E26253D92',\n",
       " '65F0DB4D83D4CDF4C0ACDB144B55DA0B',\n",
       " 'DC4214EFA492DFAE3A79F1B37CEA1498']"
      ]
     },
     "execution_count": 8,
     "metadata": {},
     "output_type": "execute_result"
    }
   ],
   "source": [
    "drv.window_handles"
   ]
  },
  {
   "cell_type": "code",
   "execution_count": 11,
   "metadata": {},
   "outputs": [],
   "source": [
    "\n",
    "drv.switch_to.window('98AA68DD35C1B52252CB7E65D4A91E6F')\n"
   ]
  },
  {
   "cell_type": "code",
   "execution_count": 12,
   "metadata": {},
   "outputs": [
    {
     "name": "stdout",
     "output_type": "stream",
     "text": [
      "The autoreload extension is already loaded. To reload it, use:\n",
      "  %reload_ext autoreload\n"
     ]
    }
   ],
   "source": [
    "# don't need to load extension everyf   time. \n",
    "%load_ext autoreload \n",
    "\n",
    "# This needs to be executed everytime.  \n",
    "%autoreload 2\n",
    "\n",
    "import automatic.win32 as w\n",
    "from org.g2b.res import resmgr\n",
    "\n",
    "from automatic import Automatic\n",
    "\n",
    "selenium=s.Context(driver=drv, timeout=10, differ=0)\n",
    "a = Automatic([selenium])\n"
   ]
  },
  {
   "cell_type": "code",
   "execution_count": 13,
   "metadata": {},
   "outputs": [],
   "source": [
    "wHistory = s.Title(\"전자입찰 송수신상세이력조회 창\", \"전자입찰 송수신상세이력조회\")\n",
    "a.click(s.Xpath(\"닫기 버튼\", \"//span[text()='닫기']/..\", parent=wHistory))"
   ]
  }
 ],
 "metadata": {
  "kernelspec": {
   "display_name": "Python 3",
   "language": "python",
   "name": "python3"
  },
  "language_info": {
   "codemirror_mode": {
    "name": "ipython",
    "version": 3
   },
   "file_extension": ".py",
   "mimetype": "text/x-python",
   "name": "python",
   "nbconvert_exporter": "python",
   "pygments_lexer": "ipython3",
   "version": "3.11.9"
  },
  "orig_nbformat": 4
 },
 "nbformat": 4,
 "nbformat_minor": 2
}
