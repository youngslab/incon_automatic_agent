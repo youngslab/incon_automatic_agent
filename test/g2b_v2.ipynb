{
 "cells": [
  {
   "cell_type": "code",
   "execution_count": 1,
   "metadata": {},
   "outputs": [],
   "source": [
    "# don't need to load extension everyf   time. \n",
    "%load_ext autoreload \n",
    "\n",
    "# This needs to be executed everytime.  \n",
    "%autoreload 2"
   ]
  },
  {
   "cell_type": "code",
   "execution_count": 2,
   "metadata": {},
   "outputs": [],
   "source": [
    "from automatic.utils.logger import init_logger\n",
    "import logging\n",
    "\n",
    "init_logger(logging.DEBUG)"
   ]
  },
  {
   "cell_type": "code",
   "execution_count": 6,
   "metadata": {},
   "outputs": [],
   "source": [
    "import automatic.selenium as s\n",
    "drv = s.create_driver()"
   ]
  },
  {
   "cell_type": "code",
   "execution_count": 7,
   "metadata": {},
   "outputs": [],
   "source": [
    "\n",
    "# This needs to be executed everytime.  \n",
    "%autoreload 2\n",
    "\n",
    "from org.g2b import G2B\n",
    "import account\n",
    "pw=account.account_get(\"g2b\", \"pw\")\n",
    "id=account.account_get(\"g2b\", \"id\")\n",
    "\n",
    "g2b = G2B(drv, pw, id)\n"
   ]
  },
  {
   "cell_type": "code",
   "execution_count": 8,
   "metadata": {},
   "outputs": [
    {
     "name": "stderr",
     "output_type": "stream",
     "text": [
      "2024-03-15 00:51:31,608 - G2B - INFO - 로그인\n",
      "2024-03-15 00:51:31,610 - Automatic - DEBUG - go on G2B 홈페이지\n",
      "2024-03-15 00:51:33,299 - Automatic - DEBUG - click on 지문인식 예외적용 버튼\n",
      "2024-03-15 00:51:47,055 - Automatic - DEBUG - click on 로그인버튼\n",
      "2024-03-15 00:51:49,958 - Automatic - DEBUG - accept on 팝업\n",
      "2024-03-15 00:51:57,531 - G2B - ERROR - Logger._log() got an unexpected keyword argument 'differ'\n"
     ]
    },
    {
     "data": {
      "text/plain": [
       "False"
      ]
     },
     "execution_count": 8,
     "metadata": {},
     "output_type": "execute_result"
    }
   ],
   "source": [
    "\n",
    "g2b.login()"
   ]
  },
  {
   "cell_type": "code",
   "execution_count": 31,
   "metadata": {},
   "outputs": [
    {
     "name": "stderr",
     "output_type": "stream",
     "text": [
      "2024-03-09 16:53:44,817 - G2B - INFO - 사전등록: ['5313161501']\n",
      "2024-03-09 16:53:44,820 - G2B - INFO - 마이페이지로 이동\n",
      "2024-03-09 16:53:44,823 - Automatic - DEBUG - go on 마이페이지\n",
      "2024-03-09 16:53:52,854 - Automatic - DEBUG - click on 에디트 버트\n",
      "2024-03-09 16:53:56,174 - Automatic - DEBUG - table on 공급품목표\n",
      "2024-03-09 16:53:56,679 - G2B - INFO - 이미 등록되었습니다.\n"
     ]
    }
   ],
   "source": [
    "g2b.register(\"5313161501\")"
   ]
  },
  {
   "cell_type": "code",
   "execution_count": 36,
   "metadata": {},
   "outputs": [
    {
     "name": "stderr",
     "output_type": "stream",
     "text": [
      "2024-03-09 17:01:10,288 - G2B - INFO - 물품등록. code=20240301181-00, price=14497018.\n",
      "2024-03-09 17:01:10,290 - G2B - INFO - 물품 검색\n",
      "2024-03-09 17:01:10,291 - Automatic - DEBUG - click on 입찰정보버튼\n",
      "2024-03-09 17:01:12,041 - Automatic - DEBUG - type on 입찰번호 입력상자\n",
      "2024-03-09 17:01:17,629 - Automatic - DEBUG - click on 검색버튼\n",
      "2024-03-09 17:01:18,530 - Automatic - DEBUG - click on 지문투찰버튼\n",
      "2024-03-09 17:01:22,356 - Automatic - DEBUG - click on 투찰 링크\n",
      "2024-03-09 17:01:23,858 - Automatic - DEBUG - exist on 접수완료 메세지\n",
      "2024-03-09 17:01:24,323 - Automatic - DEBUG - click on 닫기버튼\n",
      "2024-03-09 17:01:24,689 - G2B - INFO - 이미 등록이 완료 되었습니다.\n"
     ]
    },
    {
     "data": {
      "text/plain": [
       "True"
      ]
     },
     "execution_count": 36,
     "metadata": {},
     "output_type": "execute_result"
    }
   ],
   "source": [
    "\n",
    "# 입찰정보 click g2b.participate(\"20240301181-00\", \"14497018\")"
   ]
  },
  {
   "cell_type": "code",
   "execution_count": 12,
   "metadata": {},
   "outputs": [
    {
     "data": {
      "text/plain": [
       "True"
      ]
     },
     "execution_count": 12,
     "metadata": {},
     "output_type": "execute_result"
    }
   ],
   "source": [
    "import os.path\n",
    "\n",
    "os.path.exists('C:\\\\Users\\\\jaeyo\\\\virtual_machines\\\\shared\\\\incon\\\\org\\\\g2b\\\\res\\\\g2b\\\\safeg2b_2_9_confirm_button.png')"
   ]
  },
  {
   "cell_type": "code",
   "execution_count": 16,
   "metadata": {},
   "outputs": [
    {
     "name": "stdout",
     "output_type": "stream",
     "text": [
      "The autoreload extension is already loaded. To reload it, use:\n",
      "  %reload_ext autoreload\n",
      "DEBUG: activate\n",
      "__activate 확인 버튼\n",
      "__activate 나라장터 Java 창\n",
      "title\n",
      "img\n",
      "do... timeout = 5\n",
      "do... timeout = 5\n",
      "do... timeout = 5\n",
      "do... timeout = 5\n",
      "do... timeout = 5\n",
      "do... timeout = 5\n",
      "do... timeout = 5\n",
      "do... timeout = 5\n",
      "do... timeout = 5\n",
      "do... timeout = 5\n",
      "Timeout! wait_until takes 5.179311513900757. timeout=5, interval=0.5, retry=10\n"
     ]
    },
    {
     "ename": "ElementNotFoundException",
     "evalue": "Element is not Found.. op=activate, desc=확인 버튼",
     "output_type": "error",
     "traceback": [
      "\u001b[1;31m---------------------------------------------------------------------------\u001b[0m",
      "\u001b[1;31mElementNotFoundException\u001b[0m                  Traceback (most recent call last)",
      "Cell \u001b[1;32mIn[16], line 16\u001b[0m\n\u001b[0;32m     13\u001b[0m a \u001b[38;5;241m=\u001b[39m Automatic([win32])\n\u001b[0;32m     15\u001b[0m wConfirm \u001b[38;5;241m=\u001b[39m w\u001b[38;5;241m.\u001b[39mTitle(\u001b[38;5;124m\"\u001b[39m\u001b[38;5;124m나라장터 Java 창\u001b[39m\u001b[38;5;124m\"\u001b[39m, \u001b[38;5;124m\"\u001b[39m\u001b[38;5;124m나라장터\u001b[39m\u001b[38;5;124m\"\u001b[39m)\n\u001b[1;32m---> 16\u001b[0m \u001b[43ma\u001b[49m\u001b[38;5;241;43m.\u001b[39;49m\u001b[43mclick\u001b[49m\u001b[43m(\u001b[49m\n\u001b[0;32m     17\u001b[0m \u001b[43m    \u001b[49m\u001b[43mw\u001b[49m\u001b[38;5;241;43m.\u001b[39;49m\u001b[43mImage\u001b[49m\u001b[43m(\u001b[49m\u001b[38;5;124;43m\"\u001b[39;49m\u001b[38;5;124;43m확인 버튼\u001b[39;49m\u001b[38;5;124;43m\"\u001b[39;49m\u001b[43m,\u001b[49m\u001b[43m \u001b[49m\u001b[38;5;124;43m'\u001b[39;49m\u001b[38;5;124;43mC:\u001b[39;49m\u001b[38;5;130;43;01m\\\\\u001b[39;49;00m\u001b[38;5;124;43mUsers\u001b[39;49m\u001b[38;5;130;43;01m\\\\\u001b[39;49;00m\u001b[38;5;124;43mjaeyo\u001b[39;49m\u001b[38;5;130;43;01m\\\\\u001b[39;49;00m\u001b[38;5;124;43mvirtual_machines\u001b[39;49m\u001b[38;5;130;43;01m\\\\\u001b[39;49;00m\u001b[38;5;124;43mshared\u001b[39;49m\u001b[38;5;130;43;01m\\\\\u001b[39;49;00m\u001b[38;5;124;43mincon\u001b[39;49m\u001b[38;5;130;43;01m\\\\\u001b[39;49;00m\u001b[38;5;124;43morg\u001b[39;49m\u001b[38;5;130;43;01m\\\\\u001b[39;49;00m\u001b[38;5;124;43mg2b\u001b[39;49m\u001b[38;5;130;43;01m\\\\\u001b[39;49;00m\u001b[38;5;124;43mres\u001b[39;49m\u001b[38;5;130;43;01m\\\\\u001b[39;49;00m\u001b[38;5;124;43mg2b\u001b[39;49m\u001b[38;5;130;43;01m\\\\\u001b[39;49;00m\u001b[38;5;124;43msafeg2b_2_9_confirm_button.png\u001b[39;49m\u001b[38;5;124;43m'\u001b[39;49m\u001b[43m,\u001b[49m\u001b[43m \u001b[49m\u001b[43mparent\u001b[49m\u001b[38;5;241;43m=\u001b[39;49m\u001b[43mwConfirm\u001b[49m\u001b[43m,\u001b[49m\u001b[43m \u001b[49m\u001b[43mdiffer\u001b[49m\u001b[38;5;241;43m=\u001b[39;49m\u001b[38;5;241;43m3\u001b[39;49m\u001b[43m,\u001b[49m\u001b[43m \u001b[49m\u001b[43mtimeout\u001b[49m\u001b[38;5;241;43m=\u001b[39;49m\u001b[38;5;241;43m5\u001b[39;49m\u001b[43m,\u001b[49m\u001b[43m \u001b[49m\u001b[43mconfidence\u001b[49m\u001b[38;5;241;43m=\u001b[39;49m\u001b[38;5;241;43m0.3\u001b[39;49m\u001b[43m,\u001b[49m\u001b[43m \u001b[49m\u001b[43mgrayscale\u001b[49m\u001b[38;5;241;43m=\u001b[39;49m\u001b[38;5;241;43m0.5\u001b[39;49m\u001b[43m)\u001b[49m\u001b[43m)\u001b[49m\n",
      "File \u001b[1;32mc:\\Users\\jaeyo\\virtual_machines\\shared\\incon\\thirdparty\\automatic\\automatic\\automatic.py:61\u001b[0m, in \u001b[0;36mAutomatic.click\u001b[1;34m(self, target)\u001b[0m\n\u001b[0;32m     60\u001b[0m \u001b[38;5;28;01mdef\u001b[39;00m \u001b[38;5;21mclick\u001b[39m(\u001b[38;5;28mself\u001b[39m, target: Descriptor):\n\u001b[1;32m---> 61\u001b[0m     \u001b[38;5;28;01mreturn\u001b[39;00m \u001b[38;5;28;43mself\u001b[39;49m\u001b[38;5;241;43m.\u001b[39;49m\u001b[43m_do\u001b[49m\u001b[43m(\u001b[49m\u001b[38;5;124;43m\"\u001b[39;49m\u001b[38;5;124;43mclick\u001b[39;49m\u001b[38;5;124;43m\"\u001b[39;49m\u001b[43m,\u001b[49m\u001b[43m \u001b[49m\u001b[43mtarget\u001b[49m\u001b[43m)\u001b[49m\n",
      "File \u001b[1;32mc:\\Users\\jaeyo\\virtual_machines\\shared\\incon\\thirdparty\\automatic\\automatic\\automatic.py:41\u001b[0m, in \u001b[0;36mAutomatic._do\u001b[1;34m(self, op, desc, *args, **kwargs)\u001b[0m\n\u001b[0;32m     37\u001b[0m     \u001b[38;5;28;01mraise\u001b[39;00m \u001b[38;5;167;01mException\u001b[39;00m(\u001b[38;5;124mf\u001b[39m\u001b[38;5;124m\"\u001b[39m\u001b[38;5;124mContext cannot support type \u001b[39m\u001b[38;5;132;01m{\u001b[39;00m\u001b[38;5;28mtype\u001b[39m(desc)\u001b[38;5;132;01m}\u001b[39;00m\u001b[38;5;124m of desc(\u001b[39m\u001b[38;5;132;01m{\u001b[39;00mdesc\u001b[38;5;132;01m}\u001b[39;00m\u001b[38;5;124m)\u001b[39m\u001b[38;5;124m\"\u001b[39m)\n\u001b[0;32m     38\u001b[0m     \u001b[38;5;66;03m# fmt: on\u001b[39;00m\n\u001b[0;32m     39\u001b[0m \n\u001b[0;32m     40\u001b[0m \u001b[38;5;66;03m# Run operation in a context\u001b[39;00m\n\u001b[1;32m---> 41\u001b[0m \u001b[38;5;28;01mreturn\u001b[39;00m \u001b[38;5;28;43mself\u001b[39;49m\u001b[38;5;241;43m.\u001b[39;49m\u001b[43m_dispatch\u001b[49m\u001b[43m(\u001b[49m\u001b[43mctx\u001b[49m\u001b[43m,\u001b[49m\u001b[43m \u001b[49m\u001b[43mop\u001b[49m\u001b[43m,\u001b[49m\u001b[43m \u001b[49m\u001b[43mdesc\u001b[49m\u001b[43m,\u001b[49m\u001b[43m \u001b[49m\u001b[38;5;241;43m*\u001b[39;49m\u001b[43margs\u001b[49m\u001b[43m,\u001b[49m\u001b[43m \u001b[49m\u001b[38;5;241;43m*\u001b[39;49m\u001b[38;5;241;43m*\u001b[39;49m\u001b[43mkwargs\u001b[49m\u001b[43m)\u001b[49m\n",
      "File \u001b[1;32mc:\\Users\\jaeyo\\virtual_machines\\shared\\incon\\thirdparty\\automatic\\automatic\\automatic.py:29\u001b[0m, in \u001b[0;36mAutomatic._dispatch\u001b[1;34m(self, context, op, *args, **kwargs)\u001b[0m\n\u001b[0;32m     26\u001b[0m \u001b[38;5;28;01mif\u001b[39;00m \u001b[38;5;129;01mnot\u001b[39;00m op:\n\u001b[0;32m     27\u001b[0m     \u001b[38;5;28;01mraise\u001b[39;00m \u001b[38;5;167;01mException\u001b[39;00m(\u001b[38;5;124mf\u001b[39m\u001b[38;5;124m\"\u001b[39m\u001b[38;5;124mContext can not support op:\u001b[39m\u001b[38;5;132;01m{\u001b[39;00mop\u001b[38;5;132;01m}\u001b[39;00m\u001b[38;5;124m\"\u001b[39m)\n\u001b[1;32m---> 29\u001b[0m \u001b[38;5;28;01mreturn\u001b[39;00m \u001b[43mop\u001b[49m\u001b[43m(\u001b[49m\u001b[38;5;241;43m*\u001b[39;49m\u001b[43margs\u001b[49m\u001b[43m,\u001b[49m\u001b[43m \u001b[49m\u001b[38;5;241;43m*\u001b[39;49m\u001b[38;5;241;43m*\u001b[39;49m\u001b[43mkwargs\u001b[49m\u001b[43m)\u001b[49m\n",
      "File \u001b[1;32mc:\\Users\\jaeyo\\virtual_machines\\shared\\incon\\thirdparty\\automatic\\automatic\\win32\\context.py:102\u001b[0m, in \u001b[0;36mContext.click\u001b[1;34m(self, desc)\u001b[0m\n\u001b[0;32m    100\u001b[0m \u001b[38;5;28;01mdef\u001b[39;00m \u001b[38;5;21mclick\u001b[39m(\u001b[38;5;28mself\u001b[39m, desc: Descriptor):\n\u001b[0;32m    101\u001b[0m     \u001b[38;5;28mprint\u001b[39m(\u001b[38;5;124m\"\u001b[39m\u001b[38;5;124mDEBUG: activate\u001b[39m\u001b[38;5;124m\"\u001b[39m)\n\u001b[1;32m--> 102\u001b[0m     \u001b[38;5;28;43mself\u001b[39;49m\u001b[38;5;241;43m.\u001b[39;49m\u001b[43m__activate\u001b[49m\u001b[43m(\u001b[49m\u001b[43mdesc\u001b[49m\u001b[43m)\u001b[49m\n\u001b[0;32m    103\u001b[0m     \u001b[38;5;28mprint\u001b[39m(\u001b[38;5;124m\"\u001b[39m\u001b[38;5;124mDEBUG: get\u001b[39m\u001b[38;5;124m\"\u001b[39m)\n\u001b[0;32m    104\u001b[0m     elem \u001b[38;5;241m=\u001b[39m \u001b[38;5;28mself\u001b[39m\u001b[38;5;241m.\u001b[39mget(desc)\n",
      "File \u001b[1;32mc:\\Users\\jaeyo\\virtual_machines\\shared\\incon\\thirdparty\\automatic\\automatic\\win32\\context.py:60\u001b[0m, in \u001b[0;36mContext.__activate\u001b[1;34m(self, desc)\u001b[0m\n\u001b[0;32m     58\u001b[0m elem \u001b[38;5;241m=\u001b[39m \u001b[38;5;28mself\u001b[39m\u001b[38;5;241m.\u001b[39mget(desc)\n\u001b[0;32m     59\u001b[0m \u001b[38;5;28;01mif\u001b[39;00m \u001b[38;5;129;01mnot\u001b[39;00m elem:\n\u001b[1;32m---> 60\u001b[0m     \u001b[38;5;28;01mraise\u001b[39;00m ElementNotFoundException(desc, \u001b[38;5;124m\"\u001b[39m\u001b[38;5;124mactivate\u001b[39m\u001b[38;5;124m\"\u001b[39m)\n\u001b[0;32m     62\u001b[0m \u001b[38;5;28;01mif\u001b[39;00m is_window(desc):\n\u001b[0;32m     63\u001b[0m     timeout \u001b[38;5;241m=\u001b[39m get_or(desc\u001b[38;5;241m.\u001b[39mtimeout(), \u001b[38;5;28mself\u001b[39m\u001b[38;5;241m.\u001b[39m__timeout)\n",
      "\u001b[1;31mElementNotFoundException\u001b[0m: Element is not Found.. op=activate, desc=확인 버튼"
     ]
    }
   ],
   "source": [
    "# don't need to load extension everyf   time. \n",
    "%load_ext autoreload \n",
    "\n",
    "# This needs to be executed everytime.  \n",
    "%autoreload 2\n",
    "\n",
    "import automatic.win32 as w\n",
    "\n",
    "win32 = w.Context()\n",
    "\n",
    "from automatic import Automatic\n",
    "\n",
    "a = Automatic([win32])\n",
    "\n",
    "wConfirm = w.Title(\"나라장터 Java 창\", \"나라장터\")\n",
    "a.click(\n",
    "    w.Image(\"확인 버튼\", 'C:\\\\Users\\\\jaeyo\\\\virtual_machines\\\\shared\\\\incon\\\\org\\\\g2b\\\\res\\\\g2b\\\\safeg2b_2_9_confirm_button.png', parent=wConfirm, differ=3, timeout=5, confidence=0.3, grayscale=0.3))\n"
   ]
  },
  {
   "cell_type": "code",
   "execution_count": 14,
   "metadata": {},
   "outputs": [
    {
     "data": {
      "text/plain": [
       "True"
      ]
     },
     "execution_count": 14,
     "metadata": {},
     "output_type": "execute_result"
    }
   ],
   "source": [
    "wConfirm = w.Title(\"나라장터 Java 창\", \"나라장터\")\n",
    "\n",
    "isinstance(wConfirm, w.Title)"
   ]
  }
 ],
 "metadata": {
  "kernelspec": {
   "display_name": "Python 3.10.8 64-bit (microsoft store)",
   "language": "python",
   "name": "python3"
  },
  "language_info": {
   "codemirror_mode": {
    "name": "ipython",
    "version": 3
   },
   "file_extension": ".py",
   "mimetype": "text/x-python",
   "name": "python",
   "nbconvert_exporter": "python",
   "pygments_lexer": "ipython3",
   "version": "3.11.8"
  },
  "orig_nbformat": 4,
  "vscode": {
   "interpreter": {
    "hash": "140d6880638af8c011551f0c48a660151749c27ccfb9a61f6d950e57001cc277"
   }
  }
 },
 "nbformat": 4,
 "nbformat_minor": 2
}
