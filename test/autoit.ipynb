{
 "cells": [
  {
   "cell_type": "code",
   "execution_count": 40,
   "metadata": {},
   "outputs": [
    {
     "ename": "AutoItError",
     "evalue": "timeout on wait for window exists",
     "output_type": "error",
     "traceback": [
      "\u001b[1;31m---------------------------------------------------------------------------\u001b[0m",
      "\u001b[1;31mAutoItError\u001b[0m                               Traceback (most recent call last)",
      "Input \u001b[1;32mIn [40]\u001b[0m, in \u001b[0;36m<cell line: 22>\u001b[1;34m()\u001b[0m\n\u001b[0;32m     18\u001b[0m     autoit\u001b[38;5;241m.\u001b[39mcontrol_click(window, button_class)\n\u001b[0;32m     21\u001b[0m filepath\u001b[38;5;241m=\u001b[39mos\u001b[38;5;241m.\u001b[39mpath\u001b[38;5;241m.\u001b[39mjoin(os\u001b[38;5;241m.\u001b[39mpath\u001b[38;5;241m.\u001b[39mexpanduser(\u001b[38;5;124m\"\u001b[39m\u001b[38;5;124m~\u001b[39m\u001b[38;5;124m\"\u001b[39m),\u001b[38;5;124m\"\u001b[39m\u001b[38;5;124m.iaa\u001b[39m\u001b[38;5;124m\"\u001b[39m, \u001b[38;5;124m\"\u001b[39m\u001b[38;5;124mAR_중소기업_확인서.pdf\u001b[39m\u001b[38;5;124m\"\u001b[39m)\n\u001b[1;32m---> 22\u001b[0m \u001b[43mfile_chooser\u001b[49m\u001b[43m(\u001b[49m\u001b[43mfilepath\u001b[49m\u001b[43m)\u001b[49m\n",
      "Input \u001b[1;32mIn [40]\u001b[0m, in \u001b[0;36mfile_chooser\u001b[1;34m(filepath)\u001b[0m\n\u001b[0;32m      6\u001b[0m \u001b[38;5;28;01mdef\u001b[39;00m \u001b[38;5;21mfile_chooser\u001b[39m(filepath):\n\u001b[0;32m      7\u001b[0m     window\u001b[38;5;241m=\u001b[39m\u001b[38;5;124m\"\u001b[39m\u001b[38;5;124m[TITLE:열기; CLASS:#32770]\u001b[39m\u001b[38;5;124m\"\u001b[39m\n\u001b[1;32m----> 8\u001b[0m     \u001b[43mautoit\u001b[49m\u001b[38;5;241;43m.\u001b[39;49m\u001b[43mwin_wait\u001b[49m\u001b[43m(\u001b[49m\u001b[43mwindow\u001b[49m\u001b[43m,\u001b[49m\u001b[43m \u001b[49m\u001b[43mtimeout\u001b[49m\u001b[38;5;241;43m=\u001b[39;49m\u001b[38;5;241;43m10\u001b[39;49m\u001b[43m)\u001b[49m\n\u001b[0;32m      9\u001b[0m     autoit\u001b[38;5;241m.\u001b[39mwin_activate(window)\n\u001b[0;32m     10\u001b[0m     autoit\u001b[38;5;241m.\u001b[39mwin_wait_active(window, timeout\u001b[38;5;241m=\u001b[39m\u001b[38;5;241m10\u001b[39m)\n",
      "File \u001b[1;32mC:\\Program Files (x86)\\Microsoft Visual Studio\\Shared\\Python39_86\\lib\\site-packages\\autoit\\autoit.py:84\u001b[0m, in \u001b[0;36mAutoItAPI.check.<locals>._check.<locals>.wrapper\u001b[1;34m(*args, **kwargs)\u001b[0m\n\u001b[0;32m     82\u001b[0m \u001b[38;5;28;01mif\u001b[39;00m \u001b[38;5;241m2\u001b[39m \u001b[38;5;129;01min\u001b[39;00m flags:\n\u001b[0;32m     83\u001b[0m     \u001b[38;5;28;01mif\u001b[39;00m \u001b[38;5;28mself\u001b[39m\u001b[38;5;241m.\u001b[39m_has_unexpected_ret(ret, unexpected_ret):\n\u001b[1;32m---> 84\u001b[0m         \u001b[38;5;28;01mraise\u001b[39;00m AutoItError(err_msg)\n\u001b[0;32m     86\u001b[0m \u001b[38;5;28;01mreturn\u001b[39;00m ret\n",
      "\u001b[1;31mAutoItError\u001b[0m: timeout on wait for window exists"
     ]
    }
   ],
   "source": [
    "# %pip install pyautoit\n",
    "\n",
    "import autoit, os\n",
    "\n",
    "\n",
    "def file_chooser(filepath):\n",
    "    window=\"[TITLE:열기; CLASS:#32770]\"\n",
    "    autoit.win_wait(window, timeout=10)\n",
    "    autoit.win_activate(window)\n",
    "    autoit.win_wait_active(window, timeout=10)\n",
    "\n",
    "    # fill the edit box with filepath\n",
    "    edit_class=\"Edit1\"\n",
    "    autoit.control_set_text(window, edit_class, filepath)    \n",
    "\n",
    "    # click ok button\n",
    "    button_class=\"Button1\"\n",
    "    autoit.control_click(window, button_class)\n",
    "\n",
    "\n",
    "filepath=os.path.join(os.path.expanduser(\"~\"),\".iaa\", \"AR_중소기업_확인서.pdf\")\n",
    "file_chooser(filepath)\n"
   ]
  },
  {
   "cell_type": "code",
   "execution_count": null,
   "metadata": {},
   "outputs": [],
   "source": []
  },
  {
   "cell_type": "markdown",
   "metadata": {},
   "source": []
  },
  {
   "cell_type": "code",
   "execution_count": 1,
   "metadata": {},
   "outputs": [
    {
     "ename": "ImportError",
     "evalue": "cannot import name 'dispatch' from 'plum' (C:\\Program Files (x86)\\Microsoft Visual Studio\\Shared\\Python39_86\\lib\\site-packages\\plum\\__init__.py)",
     "output_type": "error",
     "traceback": [
      "\u001b[1;31m---------------------------------------------------------------------------\u001b[0m",
      "\u001b[1;31mImportError\u001b[0m                               Traceback (most recent call last)",
      "Input \u001b[1;32mIn [1]\u001b[0m, in \u001b[0;36m<cell line: 1>\u001b[1;34m()\u001b[0m\n\u001b[1;32m----> 1\u001b[0m \u001b[38;5;28;01mimport\u001b[39;00m \u001b[38;5;21;01mauto\u001b[39;00m\n\u001b[0;32m      2\u001b[0m filepath\u001b[38;5;241m=\u001b[39mos\u001b[38;5;241m.\u001b[39mpath\u001b[38;5;241m.\u001b[39mjoin(os\u001b[38;5;241m.\u001b[39mpath\u001b[38;5;241m.\u001b[39mexpanduser(\u001b[38;5;124m\"\u001b[39m\u001b[38;5;124m~\u001b[39m\u001b[38;5;124m\"\u001b[39m),\u001b[38;5;124m\"\u001b[39m\u001b[38;5;124m.iaa\u001b[39m\u001b[38;5;124m\"\u001b[39m, \u001b[38;5;124m\"\u001b[39m\u001b[38;5;124mAR_중소기업_확인서.pdf\u001b[39m\u001b[38;5;124m\"\u001b[39m)\n\u001b[0;32m      3\u001b[0m auto\u001b[38;5;241m.\u001b[39mauto_file_chooser(filepath)\n",
      "File \u001b[1;32mc:\\Users\\Jaeyoung\\dev\\incon_project\\incon_automatic_agent\\auto\\__init__.py:3\u001b[0m, in \u001b[0;36m<module>\u001b[1;34m\u001b[0m\n\u001b[1;32m----> 3\u001b[0m \u001b[38;5;28;01mfrom\u001b[39;00m \u001b[38;5;21;01m.\u001b[39;00m\u001b[38;5;21;01mauto\u001b[39;00m \u001b[38;5;28;01mimport\u001b[39;00m auto_file_chooser, auto_click, auto_type, auto_find_all_elements, auto_find_element\n\u001b[0;32m      4\u001b[0m \u001b[38;5;28;01mfrom\u001b[39;00m \u001b[38;5;21;01m.\u001b[39;00m\u001b[38;5;21;01mselenium\u001b[39;00m \u001b[38;5;28;01mimport\u001b[39;00m Frame\n\u001b[0;32m      6\u001b[0m __all__ \u001b[38;5;241m=\u001b[39m [\u001b[38;5;124m\"\u001b[39m\u001b[38;5;124mauto_file_chooser\u001b[39m\u001b[38;5;124m\"\u001b[39m, \u001b[38;5;124m\"\u001b[39m\u001b[38;5;124mauto_click\u001b[39m\u001b[38;5;124m\"\u001b[39m, \u001b[38;5;124m\"\u001b[39m\u001b[38;5;124mauto_type\u001b[39m\u001b[38;5;124m\"\u001b[39m,\n\u001b[0;32m      7\u001b[0m            \u001b[38;5;124m\"\u001b[39m\u001b[38;5;124mauto_find_all_elements\u001b[39m\u001b[38;5;124m\"\u001b[39m, \u001b[38;5;124m\"\u001b[39m\u001b[38;5;124mauto_find_element\u001b[39m\u001b[38;5;124m\"\u001b[39m]\n",
      "File \u001b[1;32mc:\\Users\\Jaeyoung\\dev\\incon_project\\incon_automatic_agent\\auto\\auto.py:5\u001b[0m, in \u001b[0;36m<module>\u001b[1;34m\u001b[0m\n\u001b[0;32m      3\u001b[0m \u001b[38;5;28;01mimport\u001b[39;00m \u001b[38;5;21;01mlogging\u001b[39;00m\n\u001b[0;32m      4\u001b[0m \u001b[38;5;28;01mfrom\u001b[39;00m \u001b[38;5;21;01mauto\u001b[39;00m \u001b[38;5;28;01mimport\u001b[39;00m selenium\n\u001b[1;32m----> 5\u001b[0m \u001b[38;5;28;01mfrom\u001b[39;00m \u001b[38;5;21;01mplum\u001b[39;00m \u001b[38;5;28;01mimport\u001b[39;00m dispatch  \u001b[38;5;66;03m# mulitple dispatch\u001b[39;00m\n\u001b[0;32m      7\u001b[0m \u001b[38;5;28;01mfrom\u001b[39;00m \u001b[38;5;21;01mtyping\u001b[39;00m \u001b[38;5;28;01mimport\u001b[39;00m Tuple, Union, List\n\u001b[0;32m      9\u001b[0m \u001b[38;5;28;01mfrom\u001b[39;00m \u001b[38;5;21;01mselenium\u001b[39;00m\u001b[38;5;21;01m.\u001b[39;00m\u001b[38;5;21;01mwebdriver\u001b[39;00m\u001b[38;5;21;01m.\u001b[39;00m\u001b[38;5;21;01mremote\u001b[39;00m\u001b[38;5;21;01m.\u001b[39;00m\u001b[38;5;21;01mwebdriver\u001b[39;00m \u001b[38;5;28;01mimport\u001b[39;00m WebDriver\n",
      "\u001b[1;31mImportError\u001b[0m: cannot import name 'dispatch' from 'plum' (C:\\Program Files (x86)\\Microsoft Visual Studio\\Shared\\Python39_86\\lib\\site-packages\\plum\\__init__.py)"
     ]
    }
   ],
   "source": [
    "\n",
    "import auto\n",
    "filepath=os.path.join(os.path.expanduser(\"~\"),\".iaa\", \"AR_중소기업_확인서.pdf\")\n",
    "auto.auto_file_chooser(filepath)"
   ]
  },
  {
   "cell_type": "markdown",
   "metadata": {},
   "source": [
    "# "
   ]
  },
  {
   "cell_type": "code",
   "execution_count": 18,
   "metadata": {},
   "outputs": [
    {
     "name": "stdout",
     "output_type": "stream",
     "text": [
      "[20776794, 19205308]\n"
     ]
    }
   ],
   "source": [
    "\n",
    "\n",
    "import win32api,win32gui\n",
    "\n",
    "def dumpWindow(hwnd, wantedText=None, wantedClass=None):\n",
    "    '''\n",
    "    :param hwnd: 窗口句柄\n",
    "    :param wantedText: 指定子窗口名\n",
    "    :param wantedClass: 指定子窗口类名\n",
    "    :return: 返回父窗口下所有子窗体的句柄\n",
    "    '''\n",
    "    windows = []\n",
    "    hwndChild = None\n",
    "    while True:\n",
    "        hwndChild = win32gui.FindWindowEx(hwnd, hwndChild, wantedClass, wantedText)\n",
    "        if hwndChild:\n",
    "            textName = win32gui.GetWindowText(hwndChild)\n",
    "            className = win32gui.GetClassName(hwndChild)\n",
    "            windows.append((hwndChild, textName, className))\n",
    "        else:\n",
    "            return windows \n",
    "\n",
    "\n",
    "\n",
    "def find_child_handle(parent_handle, child_class):    \n",
    "    # child = win32gui.FindWindowEx(hwnd, None, \"Edit\", \"\")\n",
    "    children = []\n",
    "\n",
    "    def callback(handle, children):\n",
    "        children.append(handle)\n",
    "        \n",
    "    win32gui.EnumChildWindows(hwnd, callback, children)\n",
    "    return [ handle for handle in children if win32gui.GetClassName(handle) == child_class ]\n",
    "\n",
    "    \n",
    "    #      lambda x, _ : if print(f\"class:{win32gui.GetClassName(x)}, text:{win32gui.GetWindowText(x)}\")\n",
    "    \n",
    "    # print(child)\n",
    "\n",
    "# dumpWindow(None)\n",
    "\n",
    "hwnd = win32gui.FindWindow(\"#32770\", \"열기\") \n",
    "# hwnd = win32gui.FindWindow(\"Edit\", None) \n",
    "# print(hwnd)\n",
    "# child = None\n",
    "# child = win32gui.FindWindowEx(hwnd, None, \"Edit\", \"\")\n",
    "cs = find_child_handle(hwnd, \"Edit\")\n",
    "print(cs)\n",
    "\n",
    "# callback = lambda x, _ : print(f\"class:{win32gui.GetClassName(x)}, text:{win32gui.GetWindowText(x)}\")\n",
    "# win32gui.EnumChildWindows(hwnd, callback, None)\n",
    "\n",
    "\n",
    "\n",
    "# hwnd = win32gui.EnumChildWindows() (hwnd, None, \"Edit\", None)\n",
    "# print(hwnd)\n"
   ]
  }
 ],
 "metadata": {
  "interpreter": {
   "hash": "92fb4c2409ed31477d92edbb6efc8924d502a27dd5c8e25f2c5eb7d2566c1048"
  },
  "kernelspec": {
   "display_name": "Python 3.9.7 32-bit",
   "name": "python3"
  },
  "language_info": {
   "codemirror_mode": {
    "name": "ipython",
    "version": 3
   },
   "file_extension": ".py",
   "mimetype": "text/x-python",
   "name": "python",
   "nbconvert_exporter": "python",
   "pygments_lexer": "ipython3",
   "version": "3.9.7"
  },
  "orig_nbformat": 4
 },
 "nbformat": 4,
 "nbformat_minor": 2
}
