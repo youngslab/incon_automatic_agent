{
 "cells": [
  {
   "cell_type": "code",
   "execution_count": 85,
   "metadata": {},
   "outputs": [
    {
     "name": "stdout",
     "output_type": "stream",
     "text": [
      "The autoreload extension is already loaded. To reload it, use:\n",
      "  %reload_ext autoreload\n"
     ]
    }
   ],
   "source": [
    "# don't need to load extension everytime. \n",
    "%load_ext autoreload \n",
    "\n",
    "# This needs to be executed everytime.  \n",
    "%autoreload 2"
   ]
  },
  {
   "cell_type": "code",
   "execution_count": 86,
   "metadata": {},
   "outputs": [],
   "source": [
    "from automatic.utils.logger import init_logger\n",
    "import logging\n",
    "\n",
    "init_logger(logging.DEBUG)"
   ]
  },
  {
   "cell_type": "code",
   "execution_count": 87,
   "metadata": {},
   "outputs": [],
   "source": [
    "import automatic.selenium as s\n",
    "drv = s.create_driver()"
   ]
  },
  {
   "cell_type": "code",
   "execution_count": 88,
   "metadata": {},
   "outputs": [],
   "source": [
    "\n",
    "# This needs to be executed everytime.  \n",
    "%autoreload 2\n",
    "\n",
    "from org.incon_v2.incon_v2 import InconMRO_v2\n",
    "import account\n",
    "pw=account.account_get(\"incon\", \"pw\")\n",
    "id=account.account_get(\"incon\", \"id\")\n",
    "\n",
    "incon = InconMRO_v2(drv, id, pw)"
   ]
  },
  {
   "attachments": {},
   "cell_type": "markdown",
   "metadata": {},
   "source": []
  },
  {
   "cell_type": "code",
   "execution_count": 89,
   "metadata": {},
   "outputs": [
    {
     "name": "stderr",
     "output_type": "stream",
     "text": [
      "2024-03-12 21:30:16,359 - Icon - INFO - 로그인\n",
      "2024-03-12 21:30:16,360 - Automatic - DEBUG - go on 홈페이지\n",
      "2024-03-12 21:30:22,886 - Automatic - DEBUG - type on 아이디 입력 상자\n",
      "2024-03-12 21:30:24,010 - Automatic - DEBUG - type on 암호 입력 상자\n",
      "2024-03-12 21:30:26,900 - Automatic - DEBUG - click on 확인 버튼\n"
     ]
    }
   ],
   "source": [
    "\n",
    "incon.login()"
   ]
  },
  {
   "cell_type": "code",
   "execution_count": null,
   "metadata": {},
   "outputs": [],
   "source": []
  },
  {
   "cell_type": "code",
   "execution_count": 72,
   "metadata": {},
   "outputs": [
    {
     "name": "stderr",
     "output_type": "stream",
     "text": [
      "2024-03-12 13:01:25,151 - Icon - INFO - 사전 등록 데이터 요청\n",
      "2024-03-12 13:01:25,152 - Automatic - DEBUG - go on 사전등록 탭\n"
     ]
    },
    {
     "name": "stderr",
     "output_type": "stream",
     "text": [
      "2024-03-12 13:01:33,252 - Automatic - DEBUG - count on 페이지 버튼\n",
      "2024-03-12 13:01:35,296 - Icon - INFO - 사전등록데이터 요청 - 1 page\n",
      "2024-03-12 13:01:35,297 - Automatic - DEBUG - go on 사전등록 탭\n",
      "2024-03-12 13:01:36,477 - Automatic - DEBUG - table on 사전등록 리스트\n",
      "2024-03-12 13:01:36,876 - Icon - INFO - 사전등록 데이터 클렌징\n",
      "2024-03-12 13:01:36,878 - Icon - INFO - 사전등록데이터 요청 - 2 page\n",
      "2024-03-12 13:01:36,878 - Automatic - DEBUG - go on 사전등록 탭\n",
      "2024-03-12 13:01:37,943 - Automatic - DEBUG - table on 사전등록 리스트\n",
      "2024-03-12 13:01:37,985 - Icon - INFO - 사전등록 데이터 클렌징\n"
     ]
    },
    {
     "name": "stdout",
     "output_type": "stream",
     "text": [
      "[<org.incon_v2.incon_v2.Preregistration object at 0x14c810390>, <org.incon_v2.incon_v2.Preregistration object at 0x14c810f10>, <org.incon_v2.incon_v2.Preregistration object at 0x14c812050>, <org.incon_v2.incon_v2.Preregistration object at 0x14c813210>, <org.incon_v2.incon_v2.Preregistration object at 0x14c812e10>, <org.incon_v2.incon_v2.Preregistration object at 0x14c811cd0>, <org.incon_v2.incon_v2.Preregistration object at 0x14c810450>, <org.incon_v2.incon_v2.Preregistration object at 0x14c8104d0>, <org.incon_v2.incon_v2.Preregistration object at 0x14c811910>, <org.incon_v2.incon_v2.Preregistration object at 0x127466ed0>]\n",
      "[<org.incon_v2.incon_v2.Preregistration object at 0x14c810390>, <org.incon_v2.incon_v2.Preregistration object at 0x14c810f10>, <org.incon_v2.incon_v2.Preregistration object at 0x14c812050>, <org.incon_v2.incon_v2.Preregistration object at 0x14c813210>, <org.incon_v2.incon_v2.Preregistration object at 0x14c812e10>, <org.incon_v2.incon_v2.Preregistration object at 0x14c811cd0>, <org.incon_v2.incon_v2.Preregistration object at 0x14c810450>, <org.incon_v2.incon_v2.Preregistration object at 0x14c8104d0>, <org.incon_v2.incon_v2.Preregistration object at 0x14c811910>, <org.incon_v2.incon_v2.Preregistration object at 0x127466ed0>]\n",
      "[<org.incon_v2.incon_v2.Preregistration object at 0x14c810390>, <org.incon_v2.incon_v2.Preregistration object at 0x14c810f10>, <org.incon_v2.incon_v2.Preregistration object at 0x14c812050>, <org.incon_v2.incon_v2.Preregistration object at 0x14c813210>, <org.incon_v2.incon_v2.Preregistration object at 0x14c812e10>, <org.incon_v2.incon_v2.Preregistration object at 0x14c811cd0>, <org.incon_v2.incon_v2.Preregistration object at 0x14c810450>, <org.incon_v2.incon_v2.Preregistration object at 0x14c8104d0>, <org.incon_v2.incon_v2.Preregistration object at 0x14c811910>, <org.incon_v2.incon_v2.Preregistration object at 0x127466ed0>]\n",
      "[<org.incon_v2.incon_v2.Preregistration object at 0x14c810390>, <org.incon_v2.incon_v2.Preregistration object at 0x14c810f10>, <org.incon_v2.incon_v2.Preregistration object at 0x14c812050>, <org.incon_v2.incon_v2.Preregistration object at 0x14c813210>, <org.incon_v2.incon_v2.Preregistration object at 0x14c812e10>, <org.incon_v2.incon_v2.Preregistration object at 0x14c811cd0>, <org.incon_v2.incon_v2.Preregistration object at 0x14c810450>, <org.incon_v2.incon_v2.Preregistration object at 0x14c8104d0>, <org.incon_v2.incon_v2.Preregistration object at 0x14c811910>, <org.incon_v2.incon_v2.Preregistration object at 0x127466ed0>]\n",
      "[<org.incon_v2.incon_v2.Preregistration object at 0x14c810390>, <org.incon_v2.incon_v2.Preregistration object at 0x14c810f10>, <org.incon_v2.incon_v2.Preregistration object at 0x14c812050>, <org.incon_v2.incon_v2.Preregistration object at 0x14c813210>, <org.incon_v2.incon_v2.Preregistration object at 0x14c812e10>, <org.incon_v2.incon_v2.Preregistration object at 0x14c811cd0>, <org.incon_v2.incon_v2.Preregistration object at 0x14c810450>, <org.incon_v2.incon_v2.Preregistration object at 0x14c8104d0>, <org.incon_v2.incon_v2.Preregistration object at 0x14c811910>, <org.incon_v2.incon_v2.Preregistration object at 0x127466ed0>]\n",
      "[<org.incon_v2.incon_v2.Preregistration object at 0x14c810390>, <org.incon_v2.incon_v2.Preregistration object at 0x14c810f10>, <org.incon_v2.incon_v2.Preregistration object at 0x14c812050>, <org.incon_v2.incon_v2.Preregistration object at 0x14c813210>, <org.incon_v2.incon_v2.Preregistration object at 0x14c812e10>, <org.incon_v2.incon_v2.Preregistration object at 0x14c811cd0>, <org.incon_v2.incon_v2.Preregistration object at 0x14c810450>, <org.incon_v2.incon_v2.Preregistration object at 0x14c8104d0>, <org.incon_v2.incon_v2.Preregistration object at 0x14c811910>, <org.incon_v2.incon_v2.Preregistration object at 0x127466ed0>]\n",
      "[<org.incon_v2.incon_v2.Preregistration object at 0x14c810390>, <org.incon_v2.incon_v2.Preregistration object at 0x14c810f10>, <org.incon_v2.incon_v2.Preregistration object at 0x14c812050>, <org.incon_v2.incon_v2.Preregistration object at 0x14c813210>, <org.incon_v2.incon_v2.Preregistration object at 0x14c812e10>, <org.incon_v2.incon_v2.Preregistration object at 0x14c811cd0>, <org.incon_v2.incon_v2.Preregistration object at 0x14c810450>, <org.incon_v2.incon_v2.Preregistration object at 0x14c8104d0>, <org.incon_v2.incon_v2.Preregistration object at 0x14c811910>, <org.incon_v2.incon_v2.Preregistration object at 0x127466ed0>]\n",
      "[<org.incon_v2.incon_v2.Preregistration object at 0x14c810390>, <org.incon_v2.incon_v2.Preregistration object at 0x14c810f10>, <org.incon_v2.incon_v2.Preregistration object at 0x14c812050>, <org.incon_v2.incon_v2.Preregistration object at 0x14c813210>, <org.incon_v2.incon_v2.Preregistration object at 0x14c812e10>, <org.incon_v2.incon_v2.Preregistration object at 0x14c811cd0>, <org.incon_v2.incon_v2.Preregistration object at 0x14c810450>, <org.incon_v2.incon_v2.Preregistration object at 0x14c8104d0>, <org.incon_v2.incon_v2.Preregistration object at 0x14c811910>, <org.incon_v2.incon_v2.Preregistration object at 0x127466ed0>]\n",
      "[<org.incon_v2.incon_v2.Preregistration object at 0x14c810390>, <org.incon_v2.incon_v2.Preregistration object at 0x14c810f10>, <org.incon_v2.incon_v2.Preregistration object at 0x14c812050>, <org.incon_v2.incon_v2.Preregistration object at 0x14c813210>, <org.incon_v2.incon_v2.Preregistration object at 0x14c812e10>, <org.incon_v2.incon_v2.Preregistration object at 0x14c811cd0>, <org.incon_v2.incon_v2.Preregistration object at 0x14c810450>, <org.incon_v2.incon_v2.Preregistration object at 0x14c8104d0>, <org.incon_v2.incon_v2.Preregistration object at 0x14c811910>, <org.incon_v2.incon_v2.Preregistration object at 0x127466ed0>]\n",
      "[<org.incon_v2.incon_v2.Preregistration object at 0x14c810390>, <org.incon_v2.incon_v2.Preregistration object at 0x14c810f10>, <org.incon_v2.incon_v2.Preregistration object at 0x14c812050>, <org.incon_v2.incon_v2.Preregistration object at 0x14c813210>, <org.incon_v2.incon_v2.Preregistration object at 0x14c812e10>, <org.incon_v2.incon_v2.Preregistration object at 0x14c811cd0>, <org.incon_v2.incon_v2.Preregistration object at 0x14c810450>, <org.incon_v2.incon_v2.Preregistration object at 0x14c8104d0>, <org.incon_v2.incon_v2.Preregistration object at 0x14c811910>, <org.incon_v2.incon_v2.Preregistration object at 0x127466ed0>]\n"
     ]
    }
   ],
   "source": [
    "%autoreload 2\n",
    "pres = incon.get_pre_data()\n",
    "for pre in pres:\n",
    "    print(pre)\n",
    "\n"
   ]
  },
  {
   "attachments": {},
   "cell_type": "markdown",
   "metadata": {},
   "source": []
  },
  {
   "cell_type": "code",
   "execution_count": 92,
   "metadata": {},
   "outputs": [
    {
     "name": "stderr",
     "output_type": "stream",
     "text": [
      "2024-03-12 21:33:36,974 - Icon - INFO - 입찰 데이터 가격 산정\n",
      "2024-03-12 21:33:36,976 - Icon - INFO - 입찰 데이터 요청\n",
      "2024-03-12 21:33:36,977 - Automatic - DEBUG - go on 소싱완료탭\n"
     ]
    },
    {
     "name": "stderr",
     "output_type": "stream",
     "text": [
      "2024-03-12 21:33:43,872 - Automatic - DEBUG - table on 소싱완료 리스트\n",
      "2024-03-12 21:33:44,319 - Icon - INFO - 입찰 데이터 클렌징\n"
     ]
    }
   ],
   "source": [
    "incon.bid_init()"
   ]
  },
  {
   "cell_type": "code",
   "execution_count": 98,
   "metadata": {},
   "outputs": [
    {
     "name": "stderr",
     "output_type": "stream",
     "text": [
      "2024-03-12 21:37:32,795 - Icon - INFO - 입찰 데이터 요청\n",
      "2024-03-12 21:37:32,796 - Automatic - DEBUG - go on 소싱완료탭\n"
     ]
    },
    {
     "name": "stderr",
     "output_type": "stream",
     "text": [
      "2024-03-12 21:37:36,012 - Automatic - DEBUG - table on 소싱완료 리스트\n",
      "2024-03-12 21:37:36,136 - Icon - INFO - 입찰 데이터 클렌징\n"
     ]
    }
   ],
   "source": [
    "bids = incon.get_bid_data()"
   ]
  },
  {
   "cell_type": "code",
   "execution_count": 99,
   "metadata": {},
   "outputs": [
    {
     "name": "stdout",
     "output_type": "stream",
     "text": [
      "market=나라장터   , code=20240309467-00      , price=  16,793,565 KRW, title=2024년 노원자원회수시설 설비유지관리 물품[메탈가스켓외 54종] 구매 \n",
      "market=나라장터   , code=20240307230-01      , price=  69,159,643 KRW, title=2024년 올림픽공원 조경자재 연간단가 구매 \n",
      "market=나라장터   , code=20240303682-00      , price= 190,197,177 KRW, title=영등포아리수정수센터 1,2정수장 용존오존농도계 구매 사전등록완료 \n"
     ]
    }
   ],
   "source": [
    "for bid in bids:\n",
    "    print(bid)"
   ]
  },
  {
   "cell_type": "code",
   "execution_count": 29,
   "metadata": {},
   "outputs": [
    {
     "data": {
      "text/plain": [
       "Index(['공고 전체', '구분', '조달사이트', '공고번호 / 공고명', '견적서', '산정금액', '사전등록마감일시',\n",
       "       '입찰마감일시', '참가가능지역', 'Unnamed: 9', 'Unnamed: 10', 'Unnamed: 11', '비고'],\n",
       "      dtype='object')"
      ]
     },
     "execution_count": 29,
     "metadata": {},
     "output_type": "execute_result"
    }
   ],
   "source": [
    "xs.columns"
   ]
  },
  {
   "cell_type": "code",
   "execution_count": 84,
   "metadata": {},
   "outputs": [],
   "source": [
    "drv.quit()"
   ]
  }
 ],
 "metadata": {
  "kernelspec": {
   "display_name": "Python 3.10.8 64-bit (microsoft store)",
   "language": "python",
   "name": "python3"
  },
  "language_info": {
   "codemirror_mode": {
    "name": "ipython",
    "version": 3
   },
   "file_extension": ".py",
   "mimetype": "text/x-python",
   "name": "python",
   "nbconvert_exporter": "python",
   "pygments_lexer": "ipython3",
   "version": "3.11.7"
  },
  "orig_nbformat": 4,
  "vscode": {
   "interpreter": {
    "hash": "140d6880638af8c011551f0c48a660151749c27ccfb9a61f6d950e57001cc277"
   }
  }
 },
 "nbformat": 4,
 "nbformat_minor": 2
}
