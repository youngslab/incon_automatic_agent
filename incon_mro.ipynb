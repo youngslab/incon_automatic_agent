{
 "cells": [
  {
   "cell_type": "code",
   "execution_count": 2,
   "metadata": {},
   "outputs": [],
   "source": [
    "%load_ext autoreload\n",
    "\n",
    "# WebDriver Manager (selenium 4)\n",
    "# https://pypi.org/project/webdriver-manager/#use-with-edge\n",
    "import os\n",
    "from selenium import webdriver\n",
    "from selenium.webdriver.edge.service import Service\n",
    "from webdriver_manager.microsoft import EdgeChromiumDriverManager\n",
    "\n",
    "def create_edge_driver(headless=False):\n",
    "    options = webdriver.EdgeOptions()\n",
    "    # level 3 is lowest value for log-level\n",
    "    options.add_argument('log-level=3')\n",
    "    if headless:\n",
    "        options.add_argument('headless')\n",
    "        options.add_argument('disable-gpu')\n",
    "\n",
    "    service = Service(EdgeChromiumDriverManager().install())\n",
    "    import time\n",
    "    time.sleep(1)\n",
    "    return webdriver.Edge(options=options, service=service)\n",
    "\n",
    "driver = create_edge_driver()"
   ]
  },
  {
   "cell_type": "code",
   "execution_count": 3,
   "metadata": {},
   "outputs": [],
   "source": [
    "%autoreload 2 \n",
    "from org.incon.incon_mro import InconMRO\n",
    "from account import account_get\n",
    "\n",
    "id=account_get(\"incon\", \"id\")\n",
    "pw=account_get(\"incon\", \"pw\")\n",
    "incon = InconMRO(driver, id, pw)\n",
    "\n"
   ]
  },
  {
   "attachments": {},
   "cell_type": "markdown",
   "metadata": {},
   "source": []
  },
  {
   "cell_type": "code",
   "execution_count": null,
   "metadata": {},
   "outputs": [],
   "source": [
    "%autoreload 2\n",
    "incon.login()\n"
   ]
  },
  {
   "cell_type": "code",
   "execution_count": 10,
   "metadata": {},
   "outputs": [
    {
     "name": "stdout",
     "output_type": "stream",
     "text": [
      "사전등록데이터\n",
      "market=나라장터(기타), code=4924170101,4914169801, title=다이빙보드,수영시설기구\n",
      "market=한국전력   , code=G022300312-00       , title=탈황폐수 무방류설비 후처리 탈수기 여과포 구매\n",
      "market=국방전자조달 , code=2023SCF035236478-01 , title=(긴급) 밸브, 게이트형 등 17종\n",
      "market=국방전자조달 , code=2023SCF039135867-01 , title=콜드파이어 등 5종 구매\n",
      "market=한국전력   , code=G052300490-00       , title=IoT기반 연료하역작업 안전관리플랫폼 시작품 제작용 기자재 구매\n",
      "market=나라장터(기타), code=4110331101          , title=압력계\n",
      "입찰데이터\n",
      "market=나라장터(기타), code=20230828377-00      , price= 112,127,836 KRW, title=실습재료 강관(흑ks) 외 371종 구매\n",
      "market=국방전자조달 , code=수의LGP0263-1-2023-00 , price=  66,503,608 KRW, title='23년 전관방송용 앰프(600W) 구매설치\n",
      "market=나라장터(기타), code=20230834233-00      , price=  15,626,515 KRW, title=2023년 안전모 구매\n",
      "market=국방전자조달 , code=수의LCN0036-1-2023-00 , price=  23,226,201 KRW, title=생도식당 취사기구 식판 등 4종 구매\n",
      "market=나라장터(기타), code=20230835049-00      , price=  19,528,027 KRW, title=제1 건조시설 보일러(1, 2호) 압입송풍기 모터 외 1종 예비품 구매\n",
      "market=나라장터(기타), code=20230830102-00      , price= 104,164,959 KRW, title=전시체험관 운영물품 연간계약 구매\n",
      "market=나라장터(기타), code=20230836004-00      , price=  76,498,291 KRW, title=무안공항 4분기 자재구매\n",
      "market=한국전력   , code=G012304266-00       , price=  23,162,257 KRW, title=불꽃감지기(Fire Detector), IR3 8EA\n"
     ]
    }
   ],
   "source": [
    "%autoreload 2\n",
    "\n",
    "print(\"사전등록데이터\")\n",
    "pres = incon.get_pre_data()\n",
    "for pre in pres:\n",
    "    print(pre)\n",
    "\n",
    "print(\"입찰데이터\")\n",
    "bids = incon.get_bid_data()\n",
    "for bid in bids:\n",
    "    print(bid)\n"
   ]
  },
  {
   "cell_type": "code",
   "execution_count": 14,
   "metadata": {},
   "outputs": [],
   "source": [
    "%autoreload 2\n",
    "bids[0].complete()"
   ]
  },
  {
   "attachments": {},
   "cell_type": "markdown",
   "metadata": {},
   "source": []
  }
 ],
 "metadata": {
  "kernelspec": {
   "display_name": "Python 3.10.8 64-bit (microsoft store)",
   "language": "python",
   "name": "python3"
  },
  "language_info": {
   "codemirror_mode": {
    "name": "ipython",
    "version": 3
   },
   "file_extension": ".py",
   "mimetype": "text/x-python",
   "name": "python",
   "nbconvert_exporter": "python",
   "pygments_lexer": "ipython3",
   "version": "3.10.11"
  },
  "orig_nbformat": 4,
  "vscode": {
   "interpreter": {
    "hash": "140d6880638af8c011551f0c48a660151749c27ccfb9a61f6d950e57001cc277"
   }
  }
 },
 "nbformat": 4,
 "nbformat_minor": 2
}
