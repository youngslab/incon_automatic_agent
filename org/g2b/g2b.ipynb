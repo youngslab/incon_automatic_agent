{
 "cells": [
  {
   "cell_type": "code",
   "execution_count": 23,
   "metadata": {},
   "outputs": [
    {
     "name": "stdout",
     "output_type": "stream",
     "text": [
      "The autoreload extension is already loaded. To reload it, use:\n",
      "  %reload_ext autoreload\n"
     ]
    }
   ],
   "source": [
    "# don't need to load extension everytime. \n",
    "%load_ext autoreload \n",
    "\n",
    "# This needs to be executed everytime.  \n",
    "%autoreload 2"
   ]
  },
  {
   "cell_type": "code",
   "execution_count": 24,
   "metadata": {},
   "outputs": [],
   "source": [
    "import logging\n",
    "logging.basicConfig(level=logging.INFO)"
   ]
  },
  {
   "cell_type": "code",
   "execution_count": 25,
   "metadata": {},
   "outputs": [
    {
     "name": "stderr",
     "output_type": "stream",
     "text": [
      "INFO:WDM:====== WebDriver manager ======\n"
     ]
    },
    {
     "name": "stdout",
     "output_type": "stream",
     "text": [
      "The autoreload extension is already loaded. To reload it, use:\n",
      "  %reload_ext autoreload\n"
     ]
    },
    {
     "name": "stderr",
     "output_type": "stream",
     "text": [
      "INFO:WDM:Get LATEST edgedriver version for 120.0.2210 Edge\n",
      "INFO:WDM:Driver [C:\\Users\\integ\\.wdm\\drivers\\edgedriver\\win64\\120.0.2210\\msedgedriver.exe] found in cache\n"
     ]
    }
   ],
   "source": [
    "# don't need to load extension everytime. \n",
    "%load_ext autoreload \n",
    "\n",
    "# This needs to be executed everytime.  \n",
    "%autoreload 2\n",
    "\n",
    "from org.g2b.g2b import G2B\n",
    "import account\n",
    "\n",
    "\n",
    "pw=account.account_get(\"g2b\", \"pw\")\n",
    "\n",
    "g2b = G2B(pw)\n"
   ]
  },
  {
   "cell_type": "code",
   "execution_count": 26,
   "metadata": {},
   "outputs": [
    {
     "name": "stdout",
     "output_type": "stream",
     "text": [
      "The autoreload extension is already loaded. To reload it, use:\n",
      "  %reload_ext autoreload\n"
     ]
    },
    {
     "name": "stderr",
     "output_type": "stream",
     "text": [
      "INFO:g2b:기업 인증서 로그인\n",
      "INFO:auto:인증서 로그인 시작\n",
      "INFO:auto:인증서 선택 윈도우를 최상단으로 이동\n",
      "INFO:auto:인증서 선택 윈도우에서 패스워드입력\n",
      "INFO:auto:인증서 선택 윈도우에서 확인 버튼 클릭\n",
      "INFO:auto:인증서 로그인 종료\n",
      "INFO:g2b:주민번호 입력\n",
      "INFO:g2b:개인인증서 로그인\n",
      "INFO:auto:인증서 로그인 시작\n",
      "INFO:auto:인증서 선택 윈도우를 최상단으로 이동\n",
      "INFO:auto:인증서 선택 윈도우에서 패스워드입력\n",
      "INFO:auto:인증서 선택 윈도우에서 확인 버튼 클릭\n",
      "INFO:auto:인증서 로그인 종료\n",
      "INFO:g2b:Window focus 변경 - {title}\n",
      "INFO:g2b:예외적용자 확인\n"
     ]
    },
    {
     "data": {
      "text/plain": [
       "True"
      ]
     },
     "execution_count": 26,
     "metadata": {},
     "output_type": "execute_result"
    }
   ],
   "source": [
    "# don't need to load extension everytime. \n",
    "%load_ext autoreload \n",
    "\n",
    "# This needs to be executed everytime.  \n",
    "%autoreload 2\n",
    "from org.g2b.g2b import G2B\n",
    "import account\n",
    "\n",
    "g2b.login()\n"
   ]
  },
  {
   "cell_type": "code",
   "execution_count": null,
   "metadata": {},
   "outputs": [],
   "source": []
  },
  {
   "cell_type": "code",
   "execution_count": 15,
   "metadata": {},
   "outputs": [
    {
     "name": "stderr",
     "output_type": "stream",
     "text": [
      "INFO:g2b:1235230501 is already registered.\n"
     ]
    },
    {
     "data": {
      "text/plain": [
       "True"
      ]
     },
     "execution_count": 15,
     "metadata": {},
     "output_type": "execute_result"
    }
   ],
   "source": [
    "%autoreload 2\n",
    "from org.g2b.g2b import G2B\n",
    "g2b.register(\"1235230501\")"
   ]
  },
  {
   "cell_type": "code",
   "execution_count": 28,
   "metadata": {},
   "outputs": [
    {
     "name": "stderr",
     "output_type": "stream",
     "text": [
      "INFO:g2b:participate in 20240116002-00 price=199332094\n",
      "INFO:g2b:물품공고분류조회: 1-투찰 링크 클릭\n"
     ]
    },
    {
     "name": "stdout",
     "output_type": "stream",
     "text": [
      "Timeout! wait_until takes 1.6693158149719238. timeout=1, interval=0.5, retry=3\n",
      "Timeout! wait_until takes 5.689608573913574. timeout=5, interval=0.5, retry=9\n"
     ]
    },
    {
     "name": "stderr",
     "output_type": "stream",
     "text": [
      "INFO:g2b:투찰공지사항: 동의 체크버튼(3개) 확인\n",
      "INFO:g2b:투찰공지사항: 확인버튼\n",
      "INFO:g2b:물품구매입찰서: 동의함\n",
      "INFO:g2b:투찰금액 확인\n",
      "INFO:g2b:추첨번호 선택\n",
      "INFO:g2b:개인인증서 로그인\n",
      "INFO:auto:인증서 로그인 시작\n",
      "INFO:auto:인증서 선택 윈도우를 최상단으로 이동\n",
      "INFO:auto:인증서 선택 윈도우에서 패스워드입력\n",
      "INFO:auto:인증서 선택 윈도우에서 확인 버튼 클릭\n",
      "INFO:auto:인증서 로그인 종료\n",
      "INFO:g2b:나라장터: 정상접수 확인\n"
     ]
    },
    {
     "ename": "KeyboardInterrupt",
     "evalue": "",
     "output_type": "error",
     "traceback": [
      "\u001b[1;31m---------------------------------------------------------------------------\u001b[0m",
      "\u001b[1;31mKeyboardInterrupt\u001b[0m                         Traceback (most recent call last)",
      "\u001b[1;32mshared\\incon\\g2b.ipynb Cell 7\u001b[0m in \u001b[0;36m5\n\u001b[0;32m      <a href='vscode-notebook-cell://jaeyoungs/shared/incon/g2b.ipynb#W4sZmlsZQ%3D%3D?line=1'>2</a>\u001b[0m \u001b[39mfrom\u001b[39;00m \u001b[39morg\u001b[39;00m\u001b[39m.\u001b[39;00m\u001b[39mg2b\u001b[39;00m\u001b[39m.\u001b[39;00m\u001b[39mg2b\u001b[39;00m \u001b[39mimport\u001b[39;00m G2B\n\u001b[0;32m      <a href='vscode-notebook-cell://jaeyoungs/shared/incon/g2b.ipynb#W4sZmlsZQ%3D%3D?line=3'>4</a>\u001b[0m \u001b[39m# 입찰정보 click \u001b[39;00m\n\u001b[1;32m----> <a href='vscode-notebook-cell://jaeyoungs/shared/incon/g2b.ipynb#W4sZmlsZQ%3D%3D?line=4'>5</a>\u001b[0m g2b\u001b[39m.\u001b[39;49mparticipate(\u001b[39m\"\u001b[39;49m\u001b[39m20240116002-00\u001b[39;49m\u001b[39m\"\u001b[39;49m, \u001b[39m\"\u001b[39;49m\u001b[39m199332094\u001b[39;49m\u001b[39m\"\u001b[39;49m)\n",
      "File \u001b[1;32m\\\\jaeyoungs\\shared\\incon\\org\\g2b\\g2b.py:548\u001b[0m, in \u001b[0;36mG2B.participate\u001b[1;34m(self, code, price)\u001b[0m\n\u001b[0;32m    546\u001b[0m \u001b[39mdef\u001b[39;00m \u001b[39mparticipate\u001b[39m(\u001b[39mself\u001b[39m, code, price):\n\u001b[0;32m    547\u001b[0m     log()\u001b[39m.\u001b[39minfo(\u001b[39mf\u001b[39m\u001b[39m\"\u001b[39m\u001b[39mparticipate in \u001b[39m\u001b[39m{\u001b[39;00mcode\u001b[39m}\u001b[39;00m\u001b[39m price=\u001b[39m\u001b[39m{\u001b[39;00mprice\u001b[39m}\u001b[39;00m\u001b[39m\"\u001b[39m)\n\u001b[1;32m--> 548\u001b[0m     \u001b[39mreturn\u001b[39;00m g2b_participate(\u001b[39mself\u001b[39m\u001b[39m.\u001b[39mauto, code, price, \u001b[39mself\u001b[39m\u001b[39m.\u001b[39mpw)\n",
      "File \u001b[1;32m_pydevd_bundle/pydevd_cython.pyx:1586\u001b[0m, in \u001b[0;36m_pydevd_bundle.pydevd_cython.trace_dispatch\u001b[1;34m()\u001b[0m\n",
      "File \u001b[1;32m_pydevd_bundle/pydevd_cython.pyx:1443\u001b[0m, in \u001b[0;36m_pydevd_bundle.pydevd_cython.SafeCallWrapper.__call__\u001b[1;34m()\u001b[0m\n",
      "File \u001b[1;32m_pydevd_bundle/pydevd_cython.pyx:1820\u001b[0m, in \u001b[0;36m_pydevd_bundle.pydevd_cython.ThreadTracer.__call__\u001b[1;34m()\u001b[0m\n",
      "File \u001b[1;32m_pydevd_bundle/pydevd_cython.pyx:1368\u001b[0m, in \u001b[0;36m_pydevd_bundle.pydevd_cython.PyDBFrame.trace_dispatch\u001b[1;34m()\u001b[0m\n",
      "File \u001b[1;32m_pydevd_bundle/pydevd_cython.pyx:1359\u001b[0m, in \u001b[0;36m_pydevd_bundle.pydevd_cython.PyDBFrame.trace_dispatch\u001b[1;34m()\u001b[0m\n",
      "File \u001b[1;32m_pydevd_bundle/pydevd_cython.pyx:311\u001b[0m, in \u001b[0;36m_pydevd_bundle.pydevd_cython.PyDBFrame.do_wait_suspend\u001b[1;34m()\u001b[0m\n",
      "File \u001b[1;32m~\\AppData\\Local\\Packages\\PythonSoftwareFoundation.Python.3.10_qbz5n2kfra8p0\\LocalCache\\local-packages\\Python310\\site-packages\\debugpy\\_vendored\\pydevd\\pydevd.py:2062\u001b[0m, in \u001b[0;36mPyDB.do_wait_suspend\u001b[1;34m(self, thread, frame, event, arg, exception_type)\u001b[0m\n\u001b[0;32m   2059\u001b[0m             from_this_thread\u001b[39m.\u001b[39mappend(frame_custom_thread_id)\n\u001b[0;32m   2061\u001b[0m     \u001b[39mwith\u001b[39;00m \u001b[39mself\u001b[39m\u001b[39m.\u001b[39m_threads_suspended_single_notification\u001b[39m.\u001b[39mnotify_thread_suspended(thread_id, stop_reason):\n\u001b[1;32m-> 2062\u001b[0m         keep_suspended \u001b[39m=\u001b[39m \u001b[39mself\u001b[39;49m\u001b[39m.\u001b[39;49m_do_wait_suspend(thread, frame, event, arg, suspend_type, from_this_thread, frames_tracker)\n\u001b[0;32m   2064\u001b[0m frames_list \u001b[39m=\u001b[39m \u001b[39mNone\u001b[39;00m\n\u001b[0;32m   2066\u001b[0m \u001b[39mif\u001b[39;00m keep_suspended:\n\u001b[0;32m   2067\u001b[0m     \u001b[39m# This means that we should pause again after a set next statement.\u001b[39;00m\n",
      "File \u001b[1;32m~\\AppData\\Local\\Packages\\PythonSoftwareFoundation.Python.3.10_qbz5n2kfra8p0\\LocalCache\\local-packages\\Python310\\site-packages\\debugpy\\_vendored\\pydevd\\pydevd.py:2098\u001b[0m, in \u001b[0;36mPyDB._do_wait_suspend\u001b[1;34m(self, thread, frame, event, arg, suspend_type, from_this_thread, frames_tracker)\u001b[0m\n\u001b[0;32m   2095\u001b[0m         \u001b[39mself\u001b[39m\u001b[39m.\u001b[39m_call_input_hook()\n\u001b[0;32m   2097\u001b[0m     \u001b[39mself\u001b[39m\u001b[39m.\u001b[39mprocess_internal_commands()\n\u001b[1;32m-> 2098\u001b[0m     time\u001b[39m.\u001b[39;49msleep(\u001b[39m0.01\u001b[39;49m)\n\u001b[0;32m   2100\u001b[0m \u001b[39mself\u001b[39m\u001b[39m.\u001b[39mcancel_async_evaluation(get_current_thread_id(thread), \u001b[39mstr\u001b[39m(\u001b[39mid\u001b[39m(frame)))\n\u001b[0;32m   2102\u001b[0m \u001b[39m# process any stepping instructions\u001b[39;00m\n",
      "\u001b[1;31mKeyboardInterrupt\u001b[0m: "
     ]
    }
   ],
   "source": [
    "%autoreload 2\n",
    "from org.g2b.g2b import G2B\n",
    "\n",
    "# 입찰정보 click \n",
    "g2b.participate(\"20240116002-00\", \"199332094\")"
   ]
  }
 ],
 "metadata": {
  "kernelspec": {
   "display_name": "Python 3.10.8 64-bit (microsoft store)",
   "language": "python",
   "name": "python3"
  },
  "language_info": {
   "codemirror_mode": {
    "name": "ipython",
    "version": 3
   },
   "file_extension": ".py",
   "mimetype": "text/x-python",
   "name": "python",
   "nbconvert_exporter": "python",
   "pygments_lexer": "ipython3",
   "version": "3.10.11"
  },
  "orig_nbformat": 4,
  "vscode": {
   "interpreter": {
    "hash": "140d6880638af8c011551f0c48a660151749c27ccfb9a61f6d950e57001cc277"
   }
  }
 },
 "nbformat": 4,
 "nbformat_minor": 2
}
