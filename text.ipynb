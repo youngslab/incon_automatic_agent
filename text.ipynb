{
 "cells": [
  {
   "cell_type": "markdown",
   "metadata": {},
   "source": [
    "# Image Capture\n",
    "window 좌표를 얻어와서 image를 capture한다. \n",
    "\n"
   ]
  },
  {
   "cell_type": "code",
   "execution_count": 17,
   "metadata": {},
   "outputs": [],
   "source": []
  },
  {
   "cell_type": "code",
   "execution_count": 18,
   "metadata": {},
   "outputs": [],
   "source": [
    "\n"
   ]
  },
  {
   "cell_type": "markdown",
   "metadata": {},
   "source": []
  },
  {
   "cell_type": "code",
   "execution_count": 27,
   "metadata": {},
   "outputs": [
    {
     "name": "stdout",
     "output_type": "stream",
     "text": [
      "bbox=(930, 183, 1970, 992)\n",
      "psm=3\n",
      "떼 testpng GQ WU Ooesn\n",
      "\n",
      "0 2 100%\n",
      "\n",
      "psm=4\n",
      "a\n",
      "\n",
      "0 6\n",
      "\n",
      "testpng\n",
      "\n",
      "GQ 판\n",
      "\n",
      "Ooesn\n",
      "\n",
      "100%\n",
      "\n",
      "aa\n",
      "\n",
      "ㅁ\n",
      "\n",
      "×\n",
      "\n",
      "게\n",
      "\n",
      "psm=5\n",
      "x 틸\n",
      "ㅁ\n",
      "ㅣ ㅁ\n",
      "(og\n",
      "봄\n",
      "은\n",
      "” 목\n",
      "a\n",
      "혁\n",
      "멋\n",
      "， 더 급\n",
      "” a\n",
      "5\n",
      "“ 5 a\n",
      "때 =\n",
      "=\n",
      "4 한 드\n",
      "a 되\n",
      "비\n",
      "이 한 헨 화\n",
      "름 통 프\n",
      "t 논 홈\n",
      "x h 북\n",
      "5 필 페 때\n",
      "뿐 뻔 구\n",
      "Sa 4\n",
      "들 홈 w\n",
      "룰 싸\n",
      "버 OR 가\n",
      "도 ) 던 해\n",
      "또 Rom %\n",
      "wm So\n",
      "=\n",
      "띠 0\n",
      "루\n",
      "미\n",
      "도 테\n",
      "2\n",
      "퉁\n",
      "더\n",
      "2\n",
      "9 a:\n",
      "래 으 읍 __ 슴\n",
      "\n",
      "psm=6\n",
      "- ㅁ x\n",
      "떼 testpng 6 Q WU Ooo 르 랙 …\n",
      "\"\n",
      "t\n",
      "나 라 잘 터 ×\n",
      "Gp BOSS 20240308738 번 차 수 00 번 입 참 분 류 ! 번 의 문 서 가 정 상 점 수 되 었 습 니 다\n",
      "… 미 BDAS 추 렵 번 호 를 SHSM 많 습 니 다\n",
      "정 상 접 수 며 부 를 보 년 문 서 합 페 서 반 드 시 확 민 하 시기 바 랍 니 다 .\n",
      ",\n",
      "0 6 100% Qa Oo 시\n",
      "\n",
      "psm=7\n",
      ". __ |\n",
      "\n",
      "psm=8\n",
      "-=\n",
      "\n",
      "psm=9\n",
      "Cee\n",
      "\n",
      "psm=10\n",
      "-=\n",
      "\n",
      "psm=11\n",
      "a\n",
      "\n",
      "testpng\n",
      "\n",
      "GQ 판\n",
      "\n",
      "Ooesn\n",
      "\n",
      "ㅁ\n",
      "\n",
      "×\n",
      "\n",
      "0 6\n",
      "\n",
      "100%\n",
      "\n",
      "aa\n",
      "\n",
      "게\n",
      "\n",
      "5\n",
      "\n",
      "psm=12\n",
      "a\n",
      "\n",
      "testpng\n",
      "\n",
      ".\n",
      "\n",
      "매\n",
      "\n",
      "Ooesn\n",
      "\n",
      "~\n",
      "\n",
      "0 6\n",
      "\n",
      "100%\n",
      "\n",
      "5\n",
      "\n",
      "psm=13\n",
      "-=\n",
      "\n"
     ]
    }
   ],
   "source": [
    "# OCR\n",
    "import pytesseract\n",
    "from PIL import ImageGrab\n",
    "import autoit\n",
    "\n",
    "# window_title = \"나라장터\"\n",
    "window_title = \"test.png ‎- Photos\"\n",
    "# 1. windows coordinate\n",
    "bbox = autoit.win_get_pos(window_title) # (292, 165, 1380, 767)\n",
    "print(f\"bbox={bbox}\")\n",
    "# autoit.win_get_pos(\"Invalid title\") # AutoItError: No window match the criteria\n",
    "# screenshot\n",
    "autoit.win_activate(window_title)\n",
    "screenshot = ImageGrab.grab(bbox=bbox) # (left, top, right, bottom)\n",
    "# screenshot.save(\"test.png\")\n",
    "\n",
    "# for psm in range(3, 14):\n",
    "    # print(f\"psm={psm}\")\n",
    "    config=f'-l kor'\n",
    "    pytesseract.pytesseract.tesseract_cmd = r'C:\\Program Files\\Tesseract-OCR\\tesseract.exe'\n",
    "    data = pytesseract.image_to_data(screenshot, config=config, output_type=pytesseract.Output.DICT)\n",
    "    for i, word in enumerate(data['text']):\n",
    "        if \"OK\".lower() in word.lower():\n",
    "            print(\"found\")\n",
    "\n",
    "    print(pytesseract.image_to_string(screenshot, config=config) )\n",
    "\n",
    "\n"
   ]
  },
  {
   "cell_type": "code",
   "execution_count": 30,
   "metadata": {},
   "outputs": [
    {
     "name": "stdout",
     "output_type": "stream",
     "text": [
      "bbox=(930, 183, 1970, 992)\n",
      "떼 . 109 따 잎 딴 0380 = 을 에\n",
      "\n",
      "0 2 100%\n",
      "\n"
     ]
    }
   ],
   "source": [
    "\n",
    "\n",
    "# window_title = \"나라장터\"\n",
    "window_title = \"test.png ‎- Photos\"\n",
    "# 1. windows coordinate\n",
    "bbox = autoit.win_get_pos(window_title) # (292, 165, 1380, 767)\n",
    "print(f\"bbox={bbox}\")\n",
    "# autoit.win_get_pos(\"Invalid title\") # AutoItError: No window match the criteria\n",
    "# screenshot\n",
    "autoit.win_activate(window_title)\n",
    "screenshot = ImageGrab.grab(bbox=bbox) # (left, top, right, bottom)\n",
    "# screenshot.save(\"test.png\")\n",
    "\n",
    "\n"
   ]
  },
  {
   "cell_type": "code",
   "execution_count": 50,
   "metadata": {},
   "outputs": [
    {
     "name": "stdout",
     "output_type": "stream",
     "text": [
      "나 라 장 터 ×\n",
      "공 고 번 호 20240328738 번 차 수 00 번 QAR ! 번 의 문 서 가 정 상 접 수 되 었 습 니 다 .\n",
      "\n",
      "미 공 고 건 은 추 첨 번 호 를 SHS 많 습 니 다 .\n",
      "\n",
      "정 삼 접 수 며 부 를 보 낸 문 서 함 메 서 반 드 시 확 민 하 시기 바 랍 니 다 .\n",
      "OK\n",
      "\n",
      "\n"
     ]
    }
   ],
   "source": [
    "import cv2\n",
    "import numpy as np\n",
    "\n",
    "gray = cv2.imread(\"test.png\", cv2.IMREAD_GRAYSCALE)\n",
    "config=f'-l kor+eng'\n",
    "print(pytesseract.image_to_string(gray, config=config) )"
   ]
  },
  {
   "cell_type": "code",
   "execution_count": 61,
   "metadata": {},
   "outputs": [
    {
     "name": "stdout",
     "output_type": "stream",
     "text": [
      "bbox=(1243, 96, 1779, 605)\n",
      "띠 . 떼애 Baw a - ㅁ x\n",
      "\n",
      "×\n",
      "\n",
      "[ 103% Q Q 뜨 2\n",
      "\n"
     ]
    }
   ],
   "source": [
    "# window_title = \"나라장터\"\n",
    "window_title = \"test.png ‎- Photos\"\n",
    "# 1. windows coordinate\n",
    "bbox = autoit.win_get_pos(window_title) # (292, 165, 1380, 767)\n",
    "print(f\"bbox={bbox}\")\n",
    "# autoit.win_get_pos(\"Invalid title\") # AutoItError: No window match the criteria\n",
    "# screenshot\n",
    "autoit.win_activate(window_title)\n",
    "screenshot = ImageGrab.grab(bbox=bbox) # (left, top, right, bottom)\n",
    "\n",
    "image_np = np.array(screenshot)\n",
    "\n",
    "# OpenCV는 BGR 색상 체계를 사용하므로 RGB로 변환\n",
    "# image_np = cv2.cvtColor(image_np, cv2.COLOR_BGR2RGB)\n",
    "\n",
    "# 이미지를 그레이스케일로 변환\n",
    "gray_image = cv2.cvtColor(image_np, cv2.COLOR_RGB2GRAY)\n",
    "    \n",
    "config=f'-l kor+eng'\n",
    "print(pytesseract.image_to_string(image_np, config=config) )"
   ]
  },
  {
   "cell_type": "code",
   "execution_count": 36,
   "metadata": {},
   "outputs": [
    {
     "name": "stdout",
     "output_type": "stream",
     "text": [
      "psm=3\n",
      "psm=4\n",
      "psm=5\n",
      "psm=6\n",
      "psm=7\n",
      "psm=8\n",
      "psm=9\n",
      "psm=10\n",
      "psm=11\n",
      "psm=12\n",
      "psm=13\n"
     ]
    }
   ],
   "source": [
    "for psm in range(3, 14):\n",
    "    print(f\"psm={psm}\")\n",
    "    config=f'-l eng'\n",
    "    pytesseract.pytesseract.tesseract_cmd = r'C:\\Program Files\\Tesseract-OCR\\tesseract.exe'\n",
    "    data = pytesseract.image_to_data(gray, config=config, output_type=pytesseract.Output.DICT)\n",
    "    for i, word in enumerate(data['text']):\n",
    "        if \"OK\".lower() in word.lower():\n",
    "            print(\"found\")\n",
    "\n",
    "    \n",
    "\n",
    "    # print(pytesseract.image_to_string(screenshot, config=config) )\n"
   ]
  },
  {
   "cell_type": "code",
   "execution_count": 62,
   "metadata": {},
   "outputs": [
    {
     "data": {
      "text/plain": [
       "PIL.Image.Image"
      ]
     },
     "execution_count": 62,
     "metadata": {},
     "output_type": "execute_result"
    }
   ],
   "source": [
    "type(screenshot)"
   ]
  },
  {
   "cell_type": "code",
   "execution_count": null,
   "metadata": {},
   "outputs": [],
   "source": []
  },
  {
   "cell_type": "code",
   "execution_count": 37,
   "metadata": {},
   "outputs": [],
   "source": [
    "%reload_ext autoreload\n",
    "%autoreload 2\n",
    "import automatic.win32 as w\n",
    "from automatic import Automatic\n",
    "\n",
    "win32 = w.Context()\n",
    "auto = Automatic([win32])\n",
    "\n",
    "wMemo = w.Title(\"Notepad\", \"나라장터\")\n",
    "auto.click(w.Text(\"Ok\", \"OK\", parent=wMemo))\n",
    "\n",
    "\n",
    "\n"
   ]
  },
  {
   "cell_type": "code",
   "execution_count": 25,
   "metadata": {},
   "outputs": [],
   "source": []
  },
  {
   "cell_type": "code",
   "execution_count": 32,
   "metadata": {},
   "outputs": [
    {
     "name": "stdout",
     "output_type": "stream",
     "text": [
      "672, 318\n"
     ]
    }
   ],
   "source": [
    "autoit.win_activate(window_title)\n",
    "print(f\"{int(pos[0])}, {int(pos[1])}\")\n",
    "\n",
    "import pyautogui\n",
    "pyautogui.click(pos)"
   ]
  },
  {
   "cell_type": "code",
   "execution_count": 64,
   "metadata": {},
   "outputs": [],
   "source": [
    "from PIL import Image\n",
    "\n",
    "screenshot2 = Image.open(\"test.png\")"
   ]
  },
  {
   "cell_type": "code",
   "execution_count": 66,
   "metadata": {},
   "outputs": [
    {
     "data": {
      "text/plain": [
       "PIL.Image.Image"
      ]
     },
     "execution_count": 66,
     "metadata": {},
     "output_type": "execute_result"
    }
   ],
   "source": [
    "type(screenshot)"
   ]
  },
  {
   "cell_type": "code",
   "execution_count": 65,
   "metadata": {},
   "outputs": [
    {
     "data": {
      "text/plain": [
       "PIL.PngImagePlugin.PngImageFile"
      ]
     },
     "execution_count": 65,
     "metadata": {},
     "output_type": "execute_result"
    }
   ],
   "source": [
    "type(screenshot2)"
   ]
  },
  {
   "cell_type": "code",
   "execution_count": 68,
   "metadata": {},
   "outputs": [
    {
     "name": "stdout",
     "output_type": "stream",
     "text": [
      "나 라 장 터 ×\n",
      "공 고 번 호 20240328738 번 차 수 00 번 QAR ! 번 의 문 서 가 정 상 접 수 되 었 습 니 다 .\n",
      "\n",
      "미 공 고 건 은 추 첨 번 호 를 SHS 많 습 니 다 .\n",
      "\n",
      "정 삼 접 수 며 부 를 보 낸 문 서 함 메 서 반 드 시 확 민 하 시기 바 랍 니 다 .\n",
      "OK\n",
      "\n",
      "\n"
     ]
    }
   ],
   "source": [
    "\n",
    "image_np = np.array(screenshot2)\n",
    "\n",
    "# OpenCV는 BGR 색상 체계를 사용하므로 RGB로 변환\n",
    "image_np = cv2.cvtColor(image_np, cv2.COLOR_BGR2RGB)\n",
    "\n",
    "# 이미지를 그레이스케일로 변환\n",
    "gray_image = cv2.cvtColor(image_np, cv2.COLOR_RGB2GRAY)\n",
    "    \n",
    "config=f'-l kor+eng'\n",
    "print(pytesseract.image_to_string(image_np, config=config) )"
   ]
  }
 ],
 "metadata": {
  "kernelspec": {
   "display_name": "Python 3",
   "language": "python",
   "name": "python3"
  },
  "language_info": {
   "codemirror_mode": {
    "name": "ipython",
    "version": 3
   },
   "file_extension": ".py",
   "mimetype": "text/x-python",
   "name": "python",
   "nbconvert_exporter": "python",
   "pygments_lexer": "ipython3",
   "version": "3.11.8"
  }
 },
 "nbformat": 4,
 "nbformat_minor": 2
}
