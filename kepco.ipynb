{
 "cells": [
  {
   "attachments": {},
   "cell_type": "markdown",
   "metadata": {},
   "source": [
    "# KEPCO Test"
   ]
  },
  {
   "attachments": {},
   "cell_type": "markdown",
   "metadata": {},
   "source": [
    "## 1 Environment"
   ]
  },
  {
   "cell_type": "code",
   "execution_count": 1,
   "metadata": {},
   "outputs": [],
   "source": [
    "%reload_ext autoreload\n",
    "%autoreload 2\n",
    "\n",
    "from org.kepco import Kepco\n",
    "\n",
    "import account\n",
    "id=account.account_get(\"kepco\", \"id\")\n",
    "pw=account.account_get(\"kepco\", \"pw\")\n",
    "cert=account.account_get(\"kepco\", \"cert\")\n",
    "kepco = Kepco(id=id, pw=pw,cert_pw=cert)\n"
   ]
  },
  {
   "attachments": {},
   "cell_type": "markdown",
   "metadata": {},
   "source": [
    "## 2. Kepco Login"
   ]
  },
  {
   "cell_type": "code",
   "execution_count": 2,
   "metadata": {},
   "outputs": [
    {
     "data": {
      "text/plain": [
       "True"
      ]
     },
     "execution_count": 2,
     "metadata": {},
     "output_type": "execute_result"
    }
   ],
   "source": [
    "%autoreload 2\n",
    "from org.kepco import Kepco\n",
    "\n",
    "kepco.login()"
   ]
  },
  {
   "attachments": {},
   "cell_type": "markdown",
   "metadata": {},
   "source": [
    "## 2. Register"
   ]
  },
  {
   "cell_type": "code",
   "execution_count": 5,
   "metadata": {},
   "outputs": [
    {
     "name": "stderr",
     "output_type": "stream",
     "text": [
      "Failed to click 파일첨부. Some of Popups might be not cleared and hides button. \n"
     ]
    },
    {
     "name": "stdout",
     "output_type": "stream",
     "text": [
      "messagebox: 별도 제출요구서류가 있는 경우 첨부 여부를 반드시 확인하시기 바랍니다.\n",
      "입찰참가신청서를 제출하시겠습니까?\n"
     ]
    },
    {
     "data": {
      "text/plain": [
       "True"
      ]
     },
     "execution_count": 5,
     "metadata": {},
     "output_type": "execute_result"
    }
   ],
   "source": [
    "%autoreload 2\n",
    "\n",
    "kepco.register(\"G022300192-00\")\n"
   ]
  },
  {
   "cell_type": "code",
   "execution_count": null,
   "metadata": {},
   "outputs": [],
   "source": []
  },
  {
   "attachments": {},
   "cell_type": "markdown",
   "metadata": {},
   "source": [
    "## 3. Participate"
   ]
  },
  {
   "cell_type": "code",
   "execution_count": null,
   "metadata": {},
   "outputs": [],
   "source": [
    "\n",
    "%autoreload 2\n",
    "\n",
    "import pyautogui\n",
    "from org.kepco import *\n",
    "import random\n",
    "from selenium.webdriver.support import expected_conditions as when\n",
    "from selenium.webdriver.support.ui import WebDriverWait\n",
    "\n",
    "\n",
    "\n",
    "#--------------------------\n",
    "\n",
    "# ID: Kepco - 입찰 - 검색결과 검증\n",
    "# Description: 투찰진행상태를 확인한다. - 미제출\n",
    "def can_participate(driver:WebDriver) -> bool :\n",
    "    elem = auto_find_element(driver, By.XPATH, \"//div[2]/div/div[2]/table/tbody/tr/td[2]/div\")\n",
    "    if elem.text == \"미제출\":\n",
    "        return True\n",
    "    else:\n",
    "        return False\n",
    "\n",
    "\n",
    "# ID: Kepco - 입찰 - 검색결과 검증\n",
    "def validate_bid_search_result(driver:WebDriver, number):\n",
    "    es = auto_find_all_elements(driver, By.XPATH, '//div[@class=\"x-grid-row-checker\"]')\n",
    "    if len(es) != 1:\n",
    "        log().error(f\"Failed to validate the result. Item should be only one. found={len(es)} \")\n",
    "        return False\n",
    "\n",
    "    # validate number\n",
    "    e = auto_find_element(driver, By.XPATH, '//div[2]/table[1]/tbody/tr/td[5]/div[contains(@class,\"x-grid-cell-inner\")]')\n",
    "    bid_num = e.text\n",
    "    if number.find(bid_num) < 0:\n",
    "        log().error(f\"Failed to validate the result. Bid number missmatch. found={bid_num}, expected={number} \")\n",
    "        return False\n",
    "\n",
    "    return True\n",
    "        \n",
    "\n",
    "\n",
    "\n",
    "def participate(driver, number, cost):\n",
    "    # close all tabs\n",
    "    close_all_tab(driver)\n",
    "\n",
    "    # open bid tab\n",
    "    if not open_bid_tab(driver):\n",
    "        log().error(\"Failed to open bind tab.\")\n",
    "        return False\n",
    "\n",
    "    # ID: Kepco - 입찰 - 공고번호 검색\n",
    "    # 공고번호 입력\n",
    "    num_input = wait_clickable(driver, (By.XPATH, '//input[@title=\"공고번호\"]'))\n",
    "    num_input.send_keys(number)\n",
    "\n",
    "    # 조회 버튼 클릭                                    \n",
    "    # XXX: 가끔 click이 안되는 경우가 있다. \n",
    "    # auto_click(driver, By.XPATH, '//span[text()=\"조회\"]')\n",
    "    search_btn = wait_clickable(driver, (By.XPATH, '//span[text()=\"조회\"]'))\n",
    "    search_btn.click()\n",
    "    \n",
    "    # messagebox : 공고일자의 최대 검색일자는 6개월 입니다. \"확인\" \n",
    "    msgbox = kepco_get_messagebox(driver)    \n",
    "    if msgbox:\n",
    "        log().info(f\"messagebox: text={msgbox.text}\")\n",
    "        okbtn = kepco_messagebox_get_button(msgbox, \"확인\")\n",
    "        okbtn.click()\n",
    "\n",
    "    # ID: Kepco - 입찰 - 검색결과 검증\n",
    "    if not validate_bid_search_result(driver, number):\n",
    "        log().error(\"Validation Failed.\")\n",
    "        return False\n",
    "\n",
    "    # Description: 투찰진행상태 가져오기 \n",
    "    if not can_participate(driver):\n",
    "        log().info(\"Already Registered.\")\n",
    "        return True\n",
    "\n",
    "    # ID: Kepco - 입찰 - 입찰참여 버튼\n",
    "    # checkbox click\n",
    "    log().info(f\"Kepco - 입찰 - 입찰참여 버튼\")\n",
    "    auto_click(driver, By.XPATH, '//div[@class=\"x-grid-row-checker\"]')\n",
    "    # TODO: 안눌리는 경우가 생긴다.\n",
    "    if not auto_click(driver, By.XPATH, '//span[text()=\"입찰참여\"]'):\n",
    "        log().error(\"Failed to click 입찰참여 button.\")\n",
    "        return False\n",
    "                \n",
    "    # messagebox - 입찰 창여 하시겠습니까?\n",
    "    msgbox = kepco_get_messagebox(driver)\n",
    "    log().info(f\"messagebox: text={msgbox.text}\")\n",
    "    yesbtn = kepco_messagebox_get_button(msgbox, \"예\")\n",
    "    yesbtn.click()\n",
    "\n",
    "    # ID: Kepco - 입찰 - 입찰서 작성 - 지문인식 투찰 버튼 \n",
    "    log().info(f\"Kepco - 입찰 - 입찰서 작성 - 지문인식 투찰 버튼\")\n",
    "    auto_click(driver, By.XPATH, '//td[5]/div/img')\n",
    "\n",
    "\n",
    "    # TODO: 시간이 오래된 경우 공인인증서 확인 창이 생성된다. \n",
    "\n",
    "\n",
    "    # messagebox - 지문인식투찰을 진행하시겠습니까?\n",
    "    msgbox = kepco_get_messagebox(driver)\n",
    "    log().info(f\"messagebox: text={msgbox.text}\")\n",
    "    okbtn = kepco_messagebox_get_button(msgbox, \"예\")\n",
    "    okbtn.click()\n",
    "\n",
    "    # close all popup \n",
    "    log().info(f\"Kepco - Common - 모든 팝업창 닫기\")\n",
    "    close_all_popup(driver, timeout = 15)\n",
    "\n",
    "\n",
    "    # ID: Kepco - 입찰 - 추첨\n",
    "    log().info(f\"Kepco - Common - 추첨번호 선택\")\n",
    "    boxes = auto_find_all_elements(driver, By.XPATH, \"//tr[3]/td/div/div/div/table/tbody/tr/td/a/span/span/span[2]\")\n",
    "    boxes = random.sample(boxes, k=4)\n",
    "    for box in boxes:\n",
    "        # 4개가 모두 click이 안되는 경우가 있다. \n",
    "        # 중복된 개체가 있는 것으로 보인다. \n",
    "        time.sleep(1)\n",
    "        auto_click(driver, box)\n",
    "\n",
    "    # ID: Kepco - 입찰 - 가격입력\n",
    "    # ---------------------------\n",
    "    cost_box = wait_element(driver, (By.XPATH, \"//tbody/tr[4]/td/div[1]/div/div/table/tbody/tr[1]/td/div[1]\"))\n",
    "\n",
    "    # input layer\n",
    "    input_layer = cost_box.find_element(By.XPATH, './/input')\n",
    "    driver.execute_script(f'arguments[0].value = \"{cost}\"', input_layer)\n",
    "\n",
    "    # focus\n",
    "    text_layer = cost_box.find_element(By.XPATH, './/div[@class=\"x-form-field-inputcover-displayEl\"]')\n",
    "    text_layer.click()\n",
    "\n",
    "    valid_box = wait_element(driver, (By.XPATH, \"//tbody/tr[4]/td/div[1]/div/div/table/tbody/tr[2]/td/div[1]\"))\n",
    "\n",
    "    # input layer\n",
    "    input_layer = valid_box.find_element(By.XPATH, './/input')\n",
    "    driver.execute_script(f'arguments[0].value = \"{cost}\"', input_layer)\n",
    "\n",
    "    # focus\n",
    "    text_layer = valid_box.find_element(By.XPATH, './/div[@class=\"x-form-field-inputcover-displayEl\"]')\n",
    "    text_layer.click()\n",
    "\n",
    "    # focus out to temp element.\n",
    "    cost_box.click()\n",
    "\n",
    "    # 입력값 확인 버튼 \n",
    "    auto_click(driver, By.XPATH, '//span[text()=\"입력값확인\"]')\n",
    "    \n",
    "    # ---------------------------\n",
    "    # ID: Kepco - 입찰 - 제출\n",
    "    # ---------------------------\n",
    "    auto_click(driver, By.XPATH, '//span[text()=\"제출\"]')\n",
    "    msgbox = kepco_get_messagebox(driver)\n",
    "    yesbtn = kepco_messagebox_get_button(msgbox, \"예\")\n",
    "    yesbtn.click()\n",
    "\n",
    "    #message box - 제출되었습니다. \n",
    "    msgbox = kepco_get_messagebox(driver)\n",
    "    btn = kepco_messagebox_get_button(msgbox, \"확인\")\n",
    "    btn.click()\n",
    "\n",
    "\n"
   ]
  },
  {
   "cell_type": "code",
   "execution_count": null,
   "metadata": {},
   "outputs": [],
   "source": [
    "\n",
    "# number= 'G092200035-00'\n",
    "# register(driver, number)\n",
    "\n",
    "number = 'G052200237-00'\n",
    "cost = \"25436532\"\n",
    "participate(driver, number, cost)\n"
   ]
  },
  {
   "attachments": {},
   "cell_type": "markdown",
   "metadata": {},
   "source": [
    "# Kepco Close All Tab test\n"
   ]
  },
  {
   "cell_type": "code",
   "execution_count": null,
   "metadata": {},
   "outputs": [],
   "source": [
    "from org.kepco import Kepco\n",
    "import account \n",
    "\n",
    "id = account.account_get(\"kepco\", \"id\")\n",
    "pw = account.account_get(\"kepco\", \"pw\")\n",
    "\n",
    "kepco = Kepco(id, pw)\n",
    "\n"
   ]
  },
  {
   "cell_type": "code",
   "execution_count": null,
   "metadata": {},
   "outputs": [],
   "source": [
    "\n",
    "# Refresh\n",
    "kepco.driver.refresh()\n",
    "\n",
    "# Accept alert\n",
    "alert = kepco.driver.switch_to.alert\n",
    "print(alert.text)\n",
    "alert.accept()\n",
    "\n"
   ]
  },
  {
   "cell_type": "code",
   "execution_count": null,
   "metadata": {},
   "outputs": [],
   "source": [
    "from auto import *\n",
    "\n",
    "# validate login\n",
    "# wait_element(kepco.driver, (By.XPATH, '//span[text()=\"로그아웃\"]'), timeout=15)\n",
    "wait_element(kepco.driver, (By.XPATH, '//span[text()=\"로그인\"]/../../../a[contains(@style, display: none;)]'), timeout=15)\n",
    "\n",
    "//a[contains(@style, \"display: none;\")]/span/span/span[2 and text()=\"로그인\"]\n",
    "\n"
   ]
  }
 ],
 "metadata": {
  "kernelspec": {
   "display_name": "Python 3.10.11 64-bit (microsoft store)",
   "language": "python",
   "name": "python3"
  },
  "language_info": {
   "codemirror_mode": {
    "name": "ipython",
    "version": 3
   },
   "file_extension": ".py",
   "mimetype": "text/x-python",
   "name": "python",
   "nbconvert_exporter": "python",
   "pygments_lexer": "ipython3",
   "version": "3.10.11"
  },
  "orig_nbformat": 4,
  "vscode": {
   "interpreter": {
    "hash": "e1a611bfe618ddced957fae6e2b829e3db4b5e8138885cb3bfce781d42e2449a"
   }
  }
 },
 "nbformat": 4,
 "nbformat_minor": 2
}
