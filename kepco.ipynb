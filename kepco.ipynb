{
 "cells": [
  {
   "cell_type": "code",
   "execution_count": 18,
   "source": [
    "# login\r\n",
    "%load_ext autoreload\r\n",
    "%autoreload 2\r\n",
    "\r\n",
    "from org.kepco import Kepco\r\n",
    "import agent\r\n",
    "import logger\r\n",
    "\r\n",
    "logger.logger_init(basedir=agent.iaa_get_config_directory())\r\n",
    "\r\n",
    "k = Kepco('jaeyoungs4585', \"Wodudqkr@845\", \"GetLastError#2\")\r\n",
    "\r\n"
   ],
   "outputs": [
    {
     "output_type": "stream",
     "name": "stdout",
     "text": [
      "The autoreload extension is already loaded. To reload it, use:\n",
      "  %reload_ext autoreload\n",
      "open logger.json\n"
     ]
    }
   ],
   "metadata": {}
  },
  {
   "cell_type": "code",
   "execution_count": 24,
   "source": [
    "# login\r\n",
    "%load_ext autoreload\r\n",
    "%autoreload 2\r\n",
    "\r\n",
    "from selenium.webdriver.remote.webdriver import WebDriver\r\n",
    "from selenium.webdriver.remote.webelement import WebElement\r\n",
    "from selenium.webdriver.common.by import By\r\n",
    "from org.kepco import *\r\n",
    "import os\r\n",
    "import time\r\n",
    "\r\n",
    "class Temp:\r\n",
    "    def __init__(self, number):\r\n",
    "        self.number = number\r\n",
    "\r\n",
    "driver = k.driver\r\n",
    "number = \"G012202823\"\r\n",
    "\r\n",
    "# def kepco_pre_register(driver: WebDriver, number):\r\n",
    "\r\n",
    "# 1. 공고번호 조회\r\n",
    "\r\n",
    "# 1.1 입찰 참가신청 페이지로 이동\r\n",
    "kepco_pre_go_register_page(driver)\r\n",
    "\r\n",
    "\r\n",
    "kepco_pre_search_notice_number(driver, number)\r\n",
    "\r\n",
    "\r\n"
   ],
   "outputs": [
    {
     "output_type": "stream",
     "name": "stdout",
     "text": [
      "The autoreload extension is already loaded. To reload it, use:\n",
      "  %reload_ext autoreload\n"
     ]
    }
   ],
   "metadata": {}
  },
  {
   "cell_type": "code",
   "execution_count": 26,
   "source": [
    "kepco_pre_validate_notice_number(driver)"
   ],
   "outputs": [
    {
     "output_type": "execute_result",
     "data": {
      "text/plain": [
       "True"
      ]
     },
     "metadata": {},
     "execution_count": 26
    }
   ],
   "metadata": {}
  },
  {
   "cell_type": "code",
   "execution_count": null,
   "source": [
    "# 1.2 조회\r\n",
    "\r\n",
    "#  1.3\r\n",
    "# log().info(\"1.3 validate\")\r\n",
    "kepco.kepco_pre_validate_notice_number(driver):\r\n",
    "    raise Exception(\"F\")\r\n",
    "    # log().info(\"Already registered\")\r\n",
    "    # return True\r\n",
    "\r\n",
    "# log().info(\"1.4 apply\")\r\n",
    "org.kepco.kepco_pre_apply_participation(driver)\r\n",
    "\r\n",
    "# 2. Application Form\r\n",
    "# 2.1.  메세지등의 팝업을 처리한다.\r\n",
    "org.kepco.kepco_pre_close_popup(driver)\r\n",
    "\r\n",
    "# 2.2. 중소기업확인서 첨부\r\n",
    "filepath = os.path.join(os.path.expanduser(\"~\"), \".iaa\", \"AR_중소기업_확인서.pdf\")\r\n",
    "org.kepco.kepco_attach_small_business_confirmation_document(driver, filepath)\r\n",
    "\r\n",
    "# XXX: 빠르게 진행하기 때문에 다시 제출하라는 문구가 뜨는 것 같음\r\n",
    "time.sleep(5)\r\n",
    "\r\n",
    "# 모든 조항에 동의\r\n",
    "org.kepco.kepco_pre_agree_commitments(driver)\r\n",
    "\r\n",
    "# XXX: 빠르게 진행하기 때문에 다시 제출하라는 문구가 뜨는 것 같음\r\n",
    "time.sleep(5)\r\n",
    "\r\n",
    "# 2.3 제출 버튼 클릭\r\n",
    "org.kepco.kepco_pre_submit_application_form(driver)\r\n",
    "\r\n",
    "# 3. 정리\r\n",
    "# 3.1 확인\r\n",
    "org.kepco.kepco_pre_confirm_submission(driver)\r\n",
    "\r\n",
    "# 3.2 certificate login\r\n",
    "org.kepco.kepco_certificate_login(driver, \"GetLastError#2\")\r\n",
    "\r\n",
    "# 3.3 confirm done\r\n",
    "org.kepco.kepco_pre_confirm_done(driver)"
   ],
   "outputs": [],
   "metadata": {}
  }
 ],
 "metadata": {
  "orig_nbformat": 4,
  "language_info": {
   "name": "python",
   "version": "3.10.4",
   "mimetype": "text/x-python",
   "codemirror_mode": {
    "name": "ipython",
    "version": 3
   },
   "pygments_lexer": "ipython3",
   "nbconvert_exporter": "python",
   "file_extension": ".py"
  },
  "kernelspec": {
   "name": "python3",
   "display_name": "Python 3.10.4 64-bit"
  },
  "interpreter": {
   "hash": "d9a4ba7a39ad5692da286452aea182a2f639774b342ad6371c4f013f8b98072d"
  }
 },
 "nbformat": 4,
 "nbformat_minor": 2
}