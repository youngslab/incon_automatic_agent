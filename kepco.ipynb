{
 "cells": [
  {
   "cell_type": "markdown",
   "metadata": {},
   "source": [
    "# KEPCO Test"
   ]
  },
  {
   "cell_type": "markdown",
   "metadata": {},
   "source": [
    "## 1 Environment"
   ]
  },
  {
   "cell_type": "code",
   "execution_count": 1,
   "metadata": {},
   "outputs": [
    {
     "name": "stderr",
     "output_type": "stream",
     "text": [
      "[WDM] - ====== WebDriver manager ======\n",
      "[WDM] - Current edge version is 104.0.1293\n",
      "[WDM] - Get LATEST edgedriver version for 104.0.1293 Edge\n",
      "[WDM] - Trying to download new driver from https://msedgedriver.azureedge.net/104.0.1293.63/edgedriver_win64.zip\n",
      "[WDM] - Driver has been saved in cache [C:\\Users\\Jaeyoung\\.wdm\\drivers\\edgedriver\\win64\\104.0.1293.63]\n"
     ]
    },
    {
     "data": {
      "text/plain": [
       "''"
      ]
     },
     "execution_count": 1,
     "metadata": {},
     "output_type": "execute_result"
    }
   ],
   "source": [
    "%reload_ext autoreload\n",
    "%autoreload 2\n",
    "\n",
    "import logging\n",
    "import logger\n",
    "import account\n",
    "\n",
    "from selenium.webdriver.remote.webdriver import WebDriver\n",
    "from selenium.webdriver.remote.webelement import WebElement\n",
    "from selenium.webdriver.common.by import By\n",
    "\n",
    "from org.kepco import kepco\n",
    "\n",
    "def log():\n",
    "    return logging.getLogger(__package__)\n",
    "\n",
    "logger.logger_init()\n",
    "\n",
    "driver = kepco.create_driver()\n",
    "\n",
    "import account\n",
    "id=account.account_get(\"kepco\", \"id\")\n",
    "pw=account.account_get(\"kepco\", \"pw\")\n",
    "cert=account.account_get(\"kepco\", \"cert\")\n",
    "\n",
    ";"
   ]
  },
  {
   "cell_type": "markdown",
   "metadata": {},
   "source": [
    "## 2. Kepco Login"
   ]
  },
  {
   "cell_type": "code",
   "execution_count": 2,
   "metadata": {},
   "outputs": [
    {
     "name": "stdout",
     "output_type": "stream",
     "text": [
      "2022-08-22 07:36:35,419 [D] org.kepco: login\n"
     ]
    },
    {
     "ename": "Exception",
     "evalue": "Failed to find frame. locator=('id', 'mdiiframe-1010-iframeEl')",
     "output_type": "error",
     "traceback": [
      "\u001b[1;31m---------------------------------------------------------------------------\u001b[0m",
      "\u001b[1;31mException\u001b[0m                                 Traceback (most recent call last)",
      "\u001b[1;32mc:\\Users\\Jaeyoung\\dev\\incon_project\\incon_automatic_agent\\kepco.ipynb Cell 5'\u001b[0m in \u001b[0;36m<cell line: 9>\u001b[1;34m()\u001b[0m\n\u001b[0;32m      <a href='vscode-notebook-cell:/c%3A/Users/Jaeyoung/dev/incon_project/incon_automatic_agent/kepco.ipynb#ch0000004?line=5'>6</a>\u001b[0m     kepco_go_homepage(driver)\n\u001b[0;32m      <a href='vscode-notebook-cell:/c%3A/Users/Jaeyoung/dev/incon_project/incon_automatic_agent/kepco.ipynb#ch0000004?line=6'>7</a>\u001b[0m     kepco_login(driver, \u001b[39mid\u001b[39m, pw)\n\u001b[1;32m----> <a href='vscode-notebook-cell:/c%3A/Users/Jaeyoung/dev/incon_project/incon_automatic_agent/kepco.ipynb#ch0000004?line=8'>9</a>\u001b[0m login(driver, \u001b[39mid\u001b[39;49m, pw)\n",
      "\u001b[1;32mc:\\Users\\Jaeyoung\\dev\\incon_project\\incon_automatic_agent\\kepco.ipynb Cell 5'\u001b[0m in \u001b[0;36mlogin\u001b[1;34m(driver, id, pw)\u001b[0m\n\u001b[0;32m      <a href='vscode-notebook-cell:/c%3A/Users/Jaeyoung/dev/incon_project/incon_automatic_agent/kepco.ipynb#ch0000004?line=4'>5</a>\u001b[0m log()\u001b[39m.\u001b[39mdebug(\u001b[39m\"\u001b[39m\u001b[39mlogin\u001b[39m\u001b[39m\"\u001b[39m)\n\u001b[0;32m      <a href='vscode-notebook-cell:/c%3A/Users/Jaeyoung/dev/incon_project/incon_automatic_agent/kepco.ipynb#ch0000004?line=5'>6</a>\u001b[0m kepco_go_homepage(driver)\n\u001b[1;32m----> <a href='vscode-notebook-cell:/c%3A/Users/Jaeyoung/dev/incon_project/incon_automatic_agent/kepco.ipynb#ch0000004?line=6'>7</a>\u001b[0m kepco_login(driver, \u001b[39mid\u001b[39;49m, pw)\n",
      "File \u001b[1;32mc:\\Users\\Jaeyoung\\dev\\incon_project\\incon_automatic_agent\\org\\kepco\\kepco.py:489\u001b[0m, in \u001b[0;36mkepco_login\u001b[1;34m(driver, id, pw, cert_pw)\u001b[0m\n\u001b[0;32m    488\u001b[0m \u001b[39mdef\u001b[39;00m \u001b[39mkepco_login\u001b[39m(driver, \u001b[39mid\u001b[39m, pw, \u001b[39m*\u001b[39m, cert_pw\u001b[39m=\u001b[39m\u001b[39mNone\u001b[39;00m):\n\u001b[1;32m--> 489\u001b[0m     \u001b[39mwith\u001b[39;00m Frame(driver, (By\u001b[39m.\u001b[39;49mID, \u001b[39m\"\u001b[39;49m\u001b[39mmdiiframe-1010-iframeEl\u001b[39;49m\u001b[39m\"\u001b[39;49m)) \u001b[39mas\u001b[39;00m f:\n\u001b[0;32m    490\u001b[0m         auto_click(driver, By\u001b[39m.\u001b[39mID, \u001b[39m'\u001b[39m\u001b[39mmemberLogin\u001b[39m\u001b[39m'\u001b[39m)\n\u001b[0;32m    492\u001b[0m     \u001b[39mwith\u001b[39;00m Frame(driver, (By\u001b[39m.\u001b[39mID, \u001b[39m'\u001b[39m\u001b[39mkepcoLoginPop\u001b[39m\u001b[39m'\u001b[39m)):\n",
      "File \u001b[1;32mc:\\Users\\Jaeyoung\\dev\\incon_project\\incon_automatic_agent\\auto\\selenium.py:203\u001b[0m, in \u001b[0;36mFrame.__init__\u001b[1;34m(self, driver, locator, timeout)\u001b[0m\n\u001b[0;32m    201\u001b[0m \u001b[39mself\u001b[39m\u001b[39m.\u001b[39mframe \u001b[39m=\u001b[39m find_element_until(driver, locator, timeout\u001b[39m=\u001b[39mtimeout)\n\u001b[0;32m    202\u001b[0m \u001b[39mif\u001b[39;00m \u001b[39mnot\u001b[39;00m \u001b[39mself\u001b[39m\u001b[39m.\u001b[39mframe:\n\u001b[1;32m--> 203\u001b[0m     \u001b[39mraise\u001b[39;00m \u001b[39mException\u001b[39;00m(\u001b[39mf\u001b[39m\u001b[39m\"\u001b[39m\u001b[39mFailed to find frame. locator=\u001b[39m\u001b[39m{\u001b[39;00mlocator\u001b[39m}\u001b[39;00m\u001b[39m\"\u001b[39m)\n",
      "\u001b[1;31mException\u001b[0m: Failed to find frame. locator=('id', 'mdiiframe-1010-iframeEl')"
     ]
    }
   ],
   "source": [
    "%autoreload 2\n",
    "from org.kepco import *\n",
    "\n",
    "def login(driver: WebDriver, id, pw):\n",
    "    log().debug(\"login\")\n",
    "    kepco_go_homepage(driver)\n",
    "    kepco_login(driver, id, pw)\n",
    "\n",
    "login(driver, id, pw)\n"
   ]
  },
  {
   "cell_type": "markdown",
   "metadata": {},
   "source": [
    "## 2. Register"
   ]
  },
  {
   "cell_type": "code",
   "execution_count": null,
   "metadata": {},
   "outputs": [],
   "source": [
    "%autoreload 2\n",
    "\n",
    "from auto import *\n",
    "from org.kepco import *\n",
    "\n",
    "def register(driver: WebDriver, number, *, cert=None):\n",
    "\n",
    "    # close_all_tab\n",
    "    close_all_tab(driver)\n",
    "\n",
    "    # # 1. 공고번호 조회\n",
    "    if not open_register_tab(driver):\n",
    "        log().error(\"Failed to open register tab.\")\n",
    "        \n",
    "    # 1.2 조회\n",
    "    log().info(\"1.2 search\")\n",
    "    # ID: Kepco - 입찰 - 공고번호 검색\n",
    "    # 공고번호 입력\n",
    "    num_input = wait_clickable(driver, (By.XPATH, '//input[@title=\"공고번호\"]'))\n",
    "    num_input.send_keys(number)\n",
    "\n",
    "    # 조회 버튼 클릭                                    \n",
    "    search_btn = wait_clickable(driver, (By.XPATH, '//span[text()=\"조회\"]'))\n",
    "    search_btn.click()\n",
    "\n",
    "    #  1.3 \n",
    "    log().info(\"1.3 validate\")\n",
    "    if kepco_pre_is_current_registered(driver):\n",
    "        log().info(\"Already registered\")\n",
    "        return True\n",
    "\n",
    "    log().info(\"1.4 apply\")\n",
    "    if not kepco_pre_apply_participation(driver):\n",
    "        log().error(\"Failed to apply\")\n",
    "        return False\n",
    "\n",
    "    # 2. Application Form\n",
    "    # 2.1.  메세지등의 팝업을 처리한다.\n",
    "    log().info(\"2.1 close popup\")\n",
    "    kepco_pre_close_popup(driver)\n",
    "\n",
    "    # 2.2. 중소기업확인서 첨부\n",
    "    log().info(\"2.2 attach a file\")\n",
    "    filepath = os.path.join(os.path.expanduser(\"~\"), \".iaa\", \"AR_중소기업_확인서.pdf\")\n",
    "    kepco_attach_small_business_confirmation_document(driver, filepath)\n",
    "\n",
    "    # XXX: 빠르게 진행하기 때문에 다시 제출하라는 문구가 뜨는 것 같음\n",
    "    time.sleep(10)\n",
    "\n",
    "    # 모든 조항에 동의\n",
    "    log().info(\"2.3 aggreement\")\n",
    "    kepco_pre_agree_commitments(driver)\n",
    "\n",
    "    # XXX: 빠르게 진행하기 때문에 다시 제출하라는 문구가 뜨는 것 같음\n",
    "    time.sleep(10)\n",
    "\n",
    "    # 2.3 제출 버튼 클릭\n",
    "    log().info(\"2.4 submit\")\n",
    "    kepco_pre_submit_application_form(driver)\n",
    "\n",
    "    # 3. 정리\n",
    "    # 3.1 확인\n",
    "    # XXX: 제출 버튼을 클릭한 후, popup이open될 때 까지 기다린다.\n",
    "    log().info(\"3.1 confirm\")\n",
    "    if not kepco_pre_confirm_submission(driver):\n",
    "        # \"입찰참가신청등록 화면에 있는 닫기버튼을 눌러 다시 신청하세요.\"\n",
    "        return False\n",
    "\n",
    "    # 3.2 certificate login (Optional)\n",
    "    if cert:\n",
    "        log().info(\"3.2 certifiate\")\n",
    "        kepco_certificate_login(driver, cert)\n",
    "\n",
    "    # 확인 버튼 클릭(알림: 제출 하였습니다.\n",
    "    log().info(\"3.3 done\")\n",
    "    kepco_pre_confirm_done(driver)\n",
    "\n",
    "    return True\n",
    "\n",
    "\n",
    "\n"
   ]
  },
  {
   "cell_type": "code",
   "execution_count": null,
   "metadata": {},
   "outputs": [],
   "source": []
  },
  {
   "cell_type": "markdown",
   "metadata": {},
   "source": [
    "## 3. Participate"
   ]
  },
  {
   "cell_type": "code",
   "execution_count": null,
   "metadata": {},
   "outputs": [],
   "source": [
    "\n",
    "%autoreload 2\n",
    "\n",
    "import pyautogui\n",
    "from org.kepco import *\n",
    "import random\n",
    "from selenium.webdriver.support import expected_conditions as when\n",
    "from selenium.webdriver.support.ui import WebDriverWait\n",
    "\n",
    "\n",
    "\n",
    "#--------------------------\n",
    "\n",
    "# ID: Kepco - 입찰 - 검색결과 검증\n",
    "# Description: 투찰진행상태를 확인한다. - 미제출\n",
    "def can_participate(driver:WebDriver) -> bool :\n",
    "    elem = auto_find_element(driver, By.XPATH, \"//div[2]/div/div[2]/table/tbody/tr/td[2]/div\")\n",
    "    if elem.text == \"미제출\":\n",
    "        return True\n",
    "    else:\n",
    "        return False\n",
    "\n",
    "\n",
    "# ID: Kepco - 입찰 - 검색결과 검증\n",
    "def validate_bid_search_result(driver:WebDriver, number):\n",
    "    es = auto_find_all_elements(driver, By.XPATH, '//div[@class=\"x-grid-row-checker\"]')\n",
    "    if len(es) != 1:\n",
    "        log().error(f\"Failed to validate the result. Item should be only one. found={len(es)} \")\n",
    "        return False\n",
    "\n",
    "    # validate number\n",
    "    e = auto_find_element(driver, By.XPATH, '//div[2]/table[1]/tbody/tr/td[5]/div[contains(@class,\"x-grid-cell-inner\")]')\n",
    "    bid_num = e.text\n",
    "    if number.find(bid_num) < 0:\n",
    "        log().error(f\"Failed to validate the result. Bid number missmatch. found={bid_num}, expected={number} \")\n",
    "        return False\n",
    "\n",
    "    return True\n",
    "        \n",
    "\n",
    "\n",
    "\n",
    "def participate(driver, number, cost):\n",
    "    # close all tabs\n",
    "    close_all_tab(driver)\n",
    "\n",
    "    # open bid tab\n",
    "    if not open_bid_tab(driver):\n",
    "        log().error(\"Failed to open bind tab.\")\n",
    "        return False\n",
    "\n",
    "    # ID: Kepco - 입찰 - 공고번호 검색\n",
    "    # 공고번호 입력\n",
    "    num_input = wait_clickable(driver, (By.XPATH, '//input[@title=\"공고번호\"]'))\n",
    "    num_input.send_keys(number)\n",
    "\n",
    "    # 조회 버튼 클릭                                    \n",
    "    # XXX: 가끔 click이 안되는 경우가 있다. \n",
    "    # auto_click(driver, By.XPATH, '//span[text()=\"조회\"]')\n",
    "    search_btn = wait_clickable(driver, (By.XPATH, '//span[text()=\"조회\"]'))\n",
    "    search_btn.click()\n",
    "    \n",
    "    # messagebox : 공고일자의 최대 검색일자는 6개월 입니다. \"확인\" \n",
    "    msgbox = kepco_get_messagebox(driver)    \n",
    "    if msgbox:\n",
    "        log().info(f\"messagebox: text={msgbox.text}\")\n",
    "        okbtn = kepco_messagebox_get_button(msgbox, \"확인\")\n",
    "        okbtn.click()\n",
    "\n",
    "    # ID: Kepco - 입찰 - 검색결과 검증\n",
    "    if not validate_bid_search_result(driver, number):\n",
    "        log().error(\"Validation Failed.\")\n",
    "        return False\n",
    "\n",
    "    # Description: 투찰진행상태 가져오기 \n",
    "    if not can_participate(driver):\n",
    "        log().info(\"Already Registered.\")\n",
    "        return True\n",
    "\n",
    "    # ID: Kepco - 입찰 - 입찰참여 버튼\n",
    "    # checkbox click\n",
    "    log().info(f\"Kepco - 입찰 - 입찰참여 버튼\")\n",
    "    auto_click(driver, By.XPATH, '//div[@class=\"x-grid-row-checker\"]')\n",
    "    # TODO: 안눌리는 경우가 생긴다.\n",
    "    if not auto_click(driver, By.XPATH, '//span[text()=\"입찰참여\"]'):\n",
    "        log().error(\"Failed to click 입찰참여 button.\")\n",
    "        return False\n",
    "                \n",
    "    # messagebox - 입찰 창여 하시겠습니까?\n",
    "    msgbox = kepco_get_messagebox(driver)\n",
    "    log().info(f\"messagebox: text={msgbox.text}\")\n",
    "    yesbtn = kepco_messagebox_get_button(msgbox, \"예\")\n",
    "    yesbtn.click()\n",
    "\n",
    "    # ID: Kepco - 입찰 - 입찰서 작성 - 지문인식 투찰 버튼 \n",
    "    log().info(f\"Kepco - 입찰 - 입찰서 작성 - 지문인식 투찰 버튼\")\n",
    "    auto_click(driver, By.XPATH, '//td[5]/div/img')\n",
    "\n",
    "\n",
    "    # TODO: 시간이 오래된 경우 공인인증서 확인 창이 생성된다. \n",
    "\n",
    "\n",
    "    # messagebox - 지문인식투찰을 진행하시겠습니까?\n",
    "    msgbox = kepco_get_messagebox(driver)\n",
    "    log().info(f\"messagebox: text={msgbox.text}\")\n",
    "    okbtn = kepco_messagebox_get_button(msgbox, \"예\")\n",
    "    okbtn.click()\n",
    "\n",
    "    # close all popup \n",
    "    log().info(f\"Kepco - Common - 모든 팝업창 닫기\")\n",
    "    close_all_popup(driver, timeout = 15)\n",
    "\n",
    "\n",
    "    # ID: Kepco - 입찰 - 추첨\n",
    "    log().info(f\"Kepco - Common - 추첨번호 선택\")\n",
    "    boxes = auto_find_all_elements(driver, By.XPATH, \"//tr[3]/td/div/div/div/table/tbody/tr/td/a/span/span/span[2]\")\n",
    "    boxes = random.sample(boxes, k=4)\n",
    "    for box in boxes:\n",
    "        # 4개가 모두 click이 안되는 경우가 있다. \n",
    "        # 중복된 개체가 있는 것으로 보인다. \n",
    "        time.sleep(1)\n",
    "        auto_click(driver, box)\n",
    "\n",
    "    # ID: Kepco - 입찰 - 가격입력\n",
    "    # ---------------------------\n",
    "    cost_box = wait_element(driver, (By.XPATH, \"//tbody/tr[4]/td/div[1]/div/div/table/tbody/tr[1]/td/div[1]\"))\n",
    "\n",
    "    # input layer\n",
    "    input_layer = cost_box.find_element(By.XPATH, './/input')\n",
    "    driver.execute_script(f'arguments[0].value = \"{cost}\"', input_layer)\n",
    "\n",
    "    # focus\n",
    "    text_layer = cost_box.find_element(By.XPATH, './/div[@class=\"x-form-field-inputcover-displayEl\"]')\n",
    "    text_layer.click()\n",
    "\n",
    "    valid_box = wait_element(driver, (By.XPATH, \"//tbody/tr[4]/td/div[1]/div/div/table/tbody/tr[2]/td/div[1]\"))\n",
    "\n",
    "    # input layer\n",
    "    input_layer = valid_box.find_element(By.XPATH, './/input')\n",
    "    driver.execute_script(f'arguments[0].value = \"{cost}\"', input_layer)\n",
    "\n",
    "    # focus\n",
    "    text_layer = valid_box.find_element(By.XPATH, './/div[@class=\"x-form-field-inputcover-displayEl\"]')\n",
    "    text_layer.click()\n",
    "\n",
    "    # focus out to temp element.\n",
    "    cost_box.click()\n",
    "\n",
    "    # 입력값 확인 버튼 \n",
    "    auto_click(driver, By.XPATH, '//span[text()=\"입력값확인\"]')\n",
    "    \n",
    "    # ---------------------------\n",
    "    # ID: Kepco - 입찰 - 제출\n",
    "    # ---------------------------\n",
    "    auto_click(driver, By.XPATH, '//span[text()=\"제출\"]')\n",
    "    msgbox = kepco_get_messagebox(driver)\n",
    "    yesbtn = kepco_messagebox_get_button(msgbox, \"예\")\n",
    "    yesbtn.click()\n",
    "\n",
    "    #message box - 제출되었습니다. \n",
    "    msgbox = kepco_get_messagebox(driver)\n",
    "    btn = kepco_messagebox_get_button(msgbox, \"확인\")\n",
    "    btn.click()\n",
    "\n",
    "\n"
   ]
  },
  {
   "cell_type": "code",
   "execution_count": null,
   "metadata": {},
   "outputs": [
    {
     "name": "stdout",
     "output_type": "stream",
     "text": [
      "2022-06-27 23:54:15,206 [E] auto: Failed to find an element. locator=('xpath', '//span[@class=\"x-tab-close-btn\"]'), timeout=10\n",
      "2022-06-27 23:54:27,297 [E] org.kepco: Message box is none\n",
      "2022-06-27 23:54:27,813 [E] org.kepco: Message box is none\n",
      "2022-06-27 23:54:28,317 [E] org.kepco: Message box is none\n",
      "2022-06-27 23:54:28,830 [E] org.kepco: Message box is none\n",
      "2022-06-27 23:54:29,335 [E] org.kepco: Message box is none\n",
      "2022-06-27 23:54:29,839 [E] org.kepco: Message box is none\n",
      "2022-06-27 23:54:30,354 [E] org.kepco: Message box is none\n",
      "2022-06-27 23:54:30,858 [E] org.kepco: Message box is none\n",
      "2022-06-27 23:54:31,364 [E] org.kepco: Message box is none\n",
      "2022-06-27 23:54:31,879 [E] org.kepco: Message box is none\n",
      "2022-06-27 23:54:32,392 [E] org.kepco: Message box is none\n",
      "2022-06-27 23:54:32,895 [E] org.kepco: Message box is none\n",
      "2022-06-27 23:54:33,409 [E] org.kepco: Message box is none\n",
      "2022-06-27 23:54:33,925 [E] org.kepco: Message box is none\n",
      "2022-06-27 23:54:34,435 [E] org.kepco: Message box is none\n",
      "2022-06-27 23:54:34,938 [E] org.kepco: Message box is none\n",
      "2022-06-27 23:54:35,453 [E] org.kepco: Message box is none\n",
      "2022-06-27 23:54:35,967 [E] org.kepco: Message box is none\n",
      "2022-06-27 23:54:36,476 [E] org.kepco: Message box is none\n",
      "2022-06-27 23:54:36,982 [E] org.kepco: Message box is none\n",
      "2022-06-27 23:54:37,495 [E] org.kepco: Message box is none\n",
      "2022-06-27 23:54:37,497 [E] auto: Timeout! wait_until takes 10.197506189346313. timeout=10, interval=0.5, retry=21\n",
      "2022-06-27 23:54:47,534 [E] auto: Failed to find an element. locator=('xpath', '//div[@class=\"x-grid-row-checker\"]'), timeout=10\n",
      "2022-06-27 23:54:47,537 [E] org.kepco: Failed to validate the result. Item should be only one. found=0 \n",
      "2022-06-27 23:54:47,540 [E] org.kepco: Validation Failed.\n"
     ]
    },
    {
     "data": {
      "text/plain": [
       "False"
      ]
     },
     "execution_count": 5,
     "metadata": {},
     "output_type": "execute_result"
    }
   ],
   "source": [
    "\n",
    "# number= 'G092200035-00'\n",
    "# register(driver, number)\n",
    "\n",
    "number = 'G052200237-00'\n",
    "cost = \"25436532\"\n",
    "participate(driver, number, cost)\n"
   ]
  },
  {
   "cell_type": "markdown",
   "metadata": {},
   "source": [
    "# Kepco Close All Tab test\n"
   ]
  },
  {
   "cell_type": "code",
   "execution_count": 2,
   "metadata": {},
   "outputs": [
    {
     "name": "stderr",
     "output_type": "stream",
     "text": [
      "[WDM] - ====== WebDriver manager ======\n",
      "[WDM] - Current edge version is 104.0.1293\n",
      "[WDM] - Get LATEST edgedriver version for 104.0.1293 Edge\n",
      "[WDM] - Trying to download new driver from https://msedgedriver.azureedge.net/104.0.1293.63/edgedriver_win64.zip\n",
      "[WDM] - Driver has been saved in cache [C:\\Users\\Jaeyoung\\.wdm\\drivers\\edgedriver\\win64\\104.0.1293.63]\n"
     ]
    }
   ],
   "source": [
    "from org.kepco import Kepco\n",
    "import account \n",
    "\n",
    "id = account.account_get(\"kepco\", \"id\")\n",
    "pw = account.account_get(\"kepco\", \"pw\")\n",
    "\n",
    "kepco = Kepco(id, pw)\n",
    "\n"
   ]
  },
  {
   "cell_type": "code",
   "execution_count": null,
   "metadata": {},
   "outputs": [],
   "source": [
    "\n",
    "# Refresh\n",
    "kepco.driver.refresh()\n",
    "\n",
    "# Accept alert\n",
    "alert = kepco.driver.switch_to.alert\n",
    "print(alert.text)\n",
    "alert.accept()\n",
    "\n"
   ]
  },
  {
   "cell_type": "code",
   "execution_count": null,
   "metadata": {},
   "outputs": [
    {
     "data": {
      "text/plain": [
       "<selenium.webdriver.remote.webelement.WebElement (session=\"e07bd50ee9ebb7baee24d4cbc3cef519\", element=\"db24fd16-1bce-4877-8ddf-0b3267a5144a\")>"
      ]
     },
     "execution_count": 5,
     "metadata": {},
     "output_type": "execute_result"
    }
   ],
   "source": [
    "from auto import *\n",
    "\n",
    "# validate login\n",
    "# wait_element(kepco.driver, (By.XPATH, '//span[text()=\"로그아웃\"]'), timeout=15)\n",
    "wait_element(kepco.driver, (By.XPATH, '//span[text()=\"로그인\"]/../../../a[contains(@style, display: none;)]'), timeout=15)\n",
    "\n",
    "//a[contains(@style, \"display: none;\")]/span/span/span[2 and text()=\"로그인\"]\n",
    "\n"
   ]
  }
 ],
 "metadata": {
  "kernelspec": {
   "display_name": "Python 3.10.5 64-bit (windows store)",
   "language": "python",
   "name": "python3"
  },
  "language_info": {
   "codemirror_mode": {
    "name": "ipython",
    "version": 3
   },
   "file_extension": ".py",
   "mimetype": "text/x-python",
   "name": "python",
   "nbconvert_exporter": "python",
   "pygments_lexer": "ipython3",
   "version": "3.10.6"
  },
  "orig_nbformat": 4,
  "vscode": {
   "interpreter": {
    "hash": "e398664b889d95939af182e1236644ec2c12756fbfd397b4d6d4279343aa268c"
   }
  }
 },
 "nbformat": 4,
 "nbformat_minor": 2
}
