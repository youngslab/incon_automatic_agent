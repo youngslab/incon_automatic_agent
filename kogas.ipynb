{
 "cells": [
  {
   "cell_type": "code",
   "execution_count": 4,
   "metadata": {},
   "outputs": [
    {
     "name": "stdout",
     "output_type": "stream",
     "text": [
      "The autoreload extension is already loaded. To reload it, use:\n",
      "  %reload_ext autoreload\n"
     ]
    }
   ],
   "source": [
    "%load_ext autoreload\n",
    "\n",
    "# WebDriver Manager (selenium 4)\n",
    "# https://pypi.org/project/webdriver-manager/#use-with-edge\n",
    "import os\n",
    "from selenium import webdriver\n",
    "from selenium.webdriver.edge.service import Service\n",
    "from webdriver_manager.microsoft import EdgeChromiumDriverManager\n",
    "\n",
    "def create_edge_driver(headless=False):\n",
    "    options = webdriver.EdgeOptions()\n",
    "    # level 3 is lowest value for log-level\n",
    "    options.add_argument('log-level=3')\n",
    "    if headless:\n",
    "        options.add_argument('headless')\n",
    "        options.add_argument('disable-gpu')\n",
    "\n",
    "    service = Service(EdgeChromiumDriverManager().install())\n",
    "    import time\n",
    "    time.sleep(1)\n",
    "    return webdriver.Edge(options=options, service=service)\n"
   ]
  },
  {
   "cell_type": "code",
   "execution_count": 5,
   "metadata": {},
   "outputs": [],
   "source": [
    "%autoreload 2 \n",
    "\n",
    "import account\n",
    "name  = account.account_get(\"kogas\", \"manager_name\")\n",
    "phone = account.account_get(\"kogas\", \"manager_phone\")\n",
    "email = account.account_get(\"kogas\", \"manager_email\")\n",
    "\n",
    "driver = create_edge_driver()\n",
    "\n",
    "filepath = os.path.join(\n",
    "                    os.path.expanduser(\"~\"), \".iaa\", \"중소기업확인서.pdf\")\n",
    "\n",
    "from org.kogas.kogas import Kogas\n",
    "kogas = Kogas(driver, name, phone, email, filepath)"
   ]
  },
  {
   "cell_type": "code",
   "execution_count": 6,
   "metadata": {},
   "outputs": [
    {
     "data": {
      "text/plain": [
       "True"
      ]
     },
     "execution_count": 6,
     "metadata": {},
     "output_type": "execute_result"
    }
   ],
   "source": [
    "%autoreload 2\n",
    "kogas.login()\n"
   ]
  },
  {
   "cell_type": "code",
   "execution_count": 7,
   "metadata": {},
   "outputs": [
    {
     "name": "stdout",
     "output_type": "stream",
     "text": [
      "ERROR: Failed to find an element. [desc=입찰 참가 신청 탭]\n",
      "INFO: 이미등록 되어있습니다.\n"
     ]
    },
    {
     "data": {
      "text/plain": [
       "True"
      ]
     },
     "execution_count": 7,
     "metadata": {},
     "output_type": "execute_result"
    }
   ],
   "source": [
    "\n",
    "\n",
    "kogas.register(\"2023011210001\")"
   ]
  },
  {
   "cell_type": "code",
   "execution_count": null,
   "metadata": {},
   "outputs": [],
   "source": [
    "%autoreload 2\n",
    "kogas.init()"
   ]
  },
  {
   "cell_type": "code",
   "execution_count": 9,
   "metadata": {},
   "outputs": [
    {
     "name": "stdout",
     "output_type": "stream",
     "text": [
      "INFO: 상세 페이지로 이동\n",
      "INFO: 입찰 금액 입력\n"
     ]
    },
    {
     "ename": "AttributeError",
     "evalue": "'Kogas' object has no attribute 'kogas_par_confirm_guidance'",
     "output_type": "error",
     "traceback": [
      "\u001b[1;31m---------------------------------------------------------------------------\u001b[0m",
      "\u001b[1;31mAttributeError\u001b[0m                            Traceback (most recent call last)",
      "Cell \u001b[1;32mIn [9], line 2\u001b[0m\n\u001b[0;32m      1\u001b[0m get_ipython()\u001b[39m.\u001b[39mrun_line_magic(\u001b[39m'\u001b[39m\u001b[39mautoreload\u001b[39m\u001b[39m'\u001b[39m, \u001b[39m'\u001b[39m\u001b[39m2\u001b[39m\u001b[39m'\u001b[39m)\n\u001b[1;32m----> 2\u001b[0m kogas\u001b[39m.\u001b[39;49mparticipate(\u001b[39m\"\u001b[39;49m\u001b[39m2023011210001\u001b[39;49m\u001b[39m\"\u001b[39;49m, \u001b[39m\"\u001b[39;49m\u001b[39m17720831\u001b[39;49m\u001b[39m\"\u001b[39;49m)\n",
      "File \u001b[1;32mc:\\Users\\integ\\incon\\org\\kogas\\kogas.py:293\u001b[0m, in \u001b[0;36mKogas.participate\u001b[1;34m(self, code, price)\u001b[0m\n\u001b[0;32m    291\u001b[0m         \u001b[39mreturn\u001b[39;00m \u001b[39mFalse\u001b[39;00m\n\u001b[0;32m    292\u001b[0m \u001b[39melse\u001b[39;00m: \u001b[39m# 견적서 제출\u001b[39;00m\n\u001b[1;32m--> 293\u001b[0m     \u001b[39mif\u001b[39;00m \u001b[39mnot\u001b[39;00m (\u001b[39mself\u001b[39;49m\u001b[39m.\u001b[39;49mkogas_par_confirm_guidance\u001b[39m.\u001b[39mclick()\n\u001b[0;32m    294\u001b[0m             \u001b[39mand\u001b[39;00m \u001b[39mself\u001b[39m\u001b[39m.\u001b[39mkogas_par_confirm_check_button\u001b[39m.\u001b[39mclick()\n\u001b[0;32m    295\u001b[0m             \u001b[39mand\u001b[39;00m \u001b[39mself\u001b[39m\u001b[39m.\u001b[39mkogas_par_multiple_reserve_check_boxes\u001b[39m.\u001b[39mclick(num_elements\u001b[39m=\u001b[39m\u001b[39m4\u001b[39m)\n\u001b[0;32m    296\u001b[0m             \u001b[39mand\u001b[39;00m \u001b[39mself\u001b[39m\u001b[39m.\u001b[39mkogas_par_enter_amount_input\u001b[39m.\u001b[39mtype(price)\n\u001b[0;32m    297\u001b[0m             \u001b[39mand\u001b[39;00m \u001b[39mself\u001b[39m\u001b[39m.\u001b[39mkogas_par_submit_estimate\u001b[39m.\u001b[39mclick()):\n\u001b[0;32m    298\u001b[0m         \u001b[39mprint\u001b[39m(\u001b[39mf\u001b[39m\u001b[39m\"\u001b[39m\u001b[39mERROR: 입찰 금액 입력에 실패하였습니다. code:\u001b[39m\u001b[39m{\u001b[39;00mcode\u001b[39m}\u001b[39;00m\u001b[39m, price:\u001b[39m\u001b[39m{\u001b[39;00mprice\u001b[39m}\u001b[39;00m\u001b[39m\"\u001b[39m)\n\u001b[0;32m    299\u001b[0m         \u001b[39mreturn\u001b[39;00m \u001b[39mFalse\u001b[39;00m\n",
      "\u001b[1;31mAttributeError\u001b[0m: 'Kogas' object has no attribute 'kogas_par_confirm_guidance'"
     ]
    }
   ],
   "source": [
    "%autoreload 2 \n",
    "kogas.participate(\"2023011210001\", \"17720831\")\n"
   ]
  },
  {
   "cell_type": "markdown",
   "metadata": {},
   "source": []
  }
 ],
 "metadata": {
  "kernelspec": {
   "display_name": "Python 3.10.8 64-bit (microsoft store)",
   "language": "python",
   "name": "python3"
  },
  "language_info": {
   "codemirror_mode": {
    "name": "ipython",
    "version": 3
   },
   "file_extension": ".py",
   "mimetype": "text/x-python",
   "name": "python",
   "nbconvert_exporter": "python",
   "pygments_lexer": "ipython3",
   "version": "3.10.9"
  },
  "orig_nbformat": 4,
  "vscode": {
   "interpreter": {
    "hash": "140d6880638af8c011551f0c48a660151749c27ccfb9a61f6d950e57001cc277"
   }
  }
 },
 "nbformat": 4,
 "nbformat_minor": 2
}
