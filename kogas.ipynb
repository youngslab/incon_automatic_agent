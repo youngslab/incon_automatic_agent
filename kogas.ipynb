{
 "cells": [
  {
   "cell_type": "code",
   "execution_count": 1,
   "metadata": {},
   "outputs": [],
   "source": [
    "%load_ext autoreload\n"
   ]
  },
  {
   "cell_type": "code",
   "execution_count": 2,
   "metadata": {},
   "outputs": [],
   "source": [
    "%autoreload 2 \n",
    "\n",
    "import account\n",
    "name  = account.account_get(\"kogas\", \"manager_name\")\n",
    "phone = account.account_get(\"kogas\", \"manager_phone\")\n",
    "email = account.account_get(\"kogas\", \"manager_email\")\n",
    "\n",
    "from org.kogas.kogas import Kogas\n",
    "kogas = Kogas(name, phone, email)"
   ]
  },
  {
   "cell_type": "code",
   "execution_count": 6,
   "metadata": {},
   "outputs": [
    {
     "name": "stderr",
     "output_type": "stream",
     "text": [
      "Error: Failed to find 로그인 button\n"
     ]
    },
    {
     "name": "stdout",
     "output_type": "stream",
     "text": [
      "Error element not found\n"
     ]
    },
    {
     "data": {
      "text/plain": [
       "False"
      ]
     },
     "execution_count": 6,
     "metadata": {},
     "output_type": "execute_result"
    }
   ],
   "source": [
    "%autoreload 2\n",
    "kogas.login()\n"
   ]
  },
  {
   "cell_type": "code",
   "execution_count": 38,
   "metadata": {},
   "outputs": [
    {
     "ename": "UnexpectedAlertPresentException",
     "evalue": "Alert Text: 가스공사에 입찰등록을 제출하시겠습니까?\n\n(동일 사항에 대하여 동일 PC에서는 1통의 입찰서만을 제출할 수 있습니다.)\nMessage: unexpected alert open: {Alert text : 가스공사에 입찰등록을 제출하시겠습니까?\n\n(동일 사항에 대하여 동일 PC에서는 1통의 입찰서만을 제출할 수 있습니다.)}\n  (Session info: MicrosoftEdge=107.0.1418.56)\nStacktrace:\nBacktrace:\n\tMicrosoft::Applications::Events::EventProperties::SetProperty [0x00007FF78ACE8532+9986]\n\tMicrosoft::Applications::Events::EventProperty::EventProperty [0x00007FF78AC85D62+1445202]\n\tOrdinal0 [0x00007FF78A86FC8C+654476]\n\tOrdinal0 [0x00007FF78A8ED828+1169448]\n\tOrdinal0 [0x00007FF78A8D39B3+1063347]\n\tOrdinal0 [0x00007FF78A8A506A+872554]\n\tOrdinal0 [0x00007FF78A8A402E+868398]\n\tOrdinal0 [0x00007FF78A8A570F+874255]\n\tMicrosoft::Applications::Events::EventProperty::EventProperty [0x00007FF78AB46108+135416]\n\tMicrosoft::Applications::Events::EventProperty::EventProperty [0x00007FF78AB302CF+45759]\n\tMicrosoft::Applications::Events::EventProperty::EventProperty [0x00007FF78AB3374C+59196]\n\tOrdinal0 [0x00007FF78A97B1F4+1749492]\n\tMicrosoft::Applications::Events::EventProperty::EventProperty [0x00007FF78AC8B65A+1467978]\n\tMicrosoft::Applications::Events::EventProperty::EventProperty [0x00007FF78AC8FEF4+1486564]\n\tMicrosoft::Applications::Events::EventProperty::EventProperty [0x00007FF78AC9004D+1486909]\n\tMicrosoft::Applications::Events::EventProperty::EventProperty [0x00007FF78AC97E0B+1519099]\n\tBaseThreadInitThunk [0x00007FFCF2F2244D+29]\n\tRtlUserThreadStart [0x00007FFCF42CDFB8+40]\n",
     "output_type": "error",
     "traceback": [
      "\u001b[1;31m---------------------------------------------------------------------------\u001b[0m",
      "\u001b[1;31mUnexpectedAlertPresentException\u001b[0m           Traceback (most recent call last)",
      "Cell \u001b[1;32mIn [38], line 1\u001b[0m\n\u001b[1;32m----> 1\u001b[0m kogas\u001b[39m.\u001b[39;49mregister(\u001b[39m\"\u001b[39;49m\u001b[39m2022112402\u001b[39;49m\u001b[39m\"\u001b[39;49m)\n",
      "File \u001b[1;32mc:\\Users\\integ\\incon\\org\\kogas\\kogas.py:438\u001b[0m, in \u001b[0;36mKogas.register\u001b[1;34m(self, code)\u001b[0m\n\u001b[0;32m    437\u001b[0m \u001b[39mdef\u001b[39;00m \u001b[39mregister\u001b[39m(\u001b[39mself\u001b[39m, code):\n\u001b[1;32m--> 438\u001b[0m     \u001b[39mreturn\u001b[39;00m kogas_register(\u001b[39mself\u001b[39;49m\u001b[39m.\u001b[39;49mauto, code, \u001b[39mself\u001b[39;49m\u001b[39m.\u001b[39;49mmanager_name,\n\u001b[0;32m    439\u001b[0m                           \u001b[39mself\u001b[39;49m\u001b[39m.\u001b[39;49mmanager_phone, \u001b[39mself\u001b[39;49m\u001b[39m.\u001b[39;49mmanager_email)\n",
      "File \u001b[1;32mc:\\Users\\integ\\incon\\org\\kogas\\kogas.py:296\u001b[0m, in \u001b[0;36mkogas_register\u001b[1;34m(auto, number, manager_name, manager_phone, manager_email)\u001b[0m\n\u001b[0;32m    293\u001b[0m \u001b[39mif\u001b[39;00m \u001b[39mnot\u001b[39;00m register_lv2():\n\u001b[0;32m    294\u001b[0m     \u001b[39mreturn\u001b[39;00m \u001b[39mFalse\u001b[39;00m\n\u001b[1;32m--> 296\u001b[0m \u001b[39mif\u001b[39;00m \u001b[39mnot\u001b[39;00m work_in_frame(auto, \u001b[39mlambda\u001b[39;49;00m: register_lv3()):\n\u001b[0;32m    297\u001b[0m     \u001b[39mreturn\u001b[39;00m \u001b[39mFalse\u001b[39;00m\n\u001b[0;32m    299\u001b[0m \u001b[39mreturn\u001b[39;00m \u001b[39mTrue\u001b[39;00m\n",
      "File \u001b[1;32mc:\\Users\\integ\\incon\\org\\kogas\\kogas.py:179\u001b[0m, in \u001b[0;36mwork_in_frame\u001b[1;34m(auto, func)\u001b[0m\n\u001b[0;32m    177\u001b[0m     \u001b[39mprint\u001b[39m(\u001b[39m\"\u001b[39m\u001b[39mFailed to find body frame\u001b[39m\u001b[39m\"\u001b[39m)\n\u001b[0;32m    178\u001b[0m     \u001b[39mreturn\u001b[39;00m \u001b[39mFalse\u001b[39;00m\n\u001b[1;32m--> 179\u001b[0m \u001b[39mwith\u001b[39;00m auto\u001b[39m.\u001b[39mget_frame(body):\n\u001b[0;32m    180\u001b[0m     \u001b[39mreturn\u001b[39;00m func()\n",
      "File \u001b[1;32m~\\AppData\\Local\\Packages\\PythonSoftwareFoundation.Python.3.10_qbz5n2kfra8p0\\LocalCache\\local-packages\\Python310\\site-packages\\integ_auto-0.3-py3.10.egg\\integ_auto\\auto.py:189\u001b[0m, in \u001b[0;36mFrame.__exit__\u001b[1;34m(self, exc_type, exc_val, exc_tb)\u001b[0m\n\u001b[0;32m    187\u001b[0m \u001b[39mdef\u001b[39;00m \u001b[39m__exit__\u001b[39m(\u001b[39mself\u001b[39m, exc_type, exc_val, exc_tb):\n\u001b[0;32m    188\u001b[0m     \u001b[39mif\u001b[39;00m \u001b[39mself\u001b[39m\u001b[39m.\u001b[39mrecovery:\n\u001b[1;32m--> 189\u001b[0m         \u001b[39mself\u001b[39;49m\u001b[39m.\u001b[39;49mdriver\u001b[39m.\u001b[39;49mswitch_to\u001b[39m.\u001b[39;49mparent_frame()\n",
      "File \u001b[1;32m~\\AppData\\Local\\Packages\\PythonSoftwareFoundation.Python.3.10_qbz5n2kfra8p0\\LocalCache\\local-packages\\Python310\\site-packages\\selenium\\webdriver\\remote\\switch_to.py:121\u001b[0m, in \u001b[0;36mSwitchTo.parent_frame\u001b[1;34m(self)\u001b[0m\n\u001b[0;32m    111\u001b[0m \u001b[39mdef\u001b[39;00m \u001b[39mparent_frame\u001b[39m(\u001b[39mself\u001b[39m) \u001b[39m-\u001b[39m\u001b[39m>\u001b[39m \u001b[39mNone\u001b[39;00m:\n\u001b[0;32m    112\u001b[0m     \u001b[39m\"\"\"\u001b[39;00m\n\u001b[0;32m    113\u001b[0m \u001b[39m    Switches focus to the parent context. If the current context is the top\u001b[39;00m\n\u001b[0;32m    114\u001b[0m \u001b[39m    level browsing context, the context remains unchanged.\u001b[39;00m\n\u001b[1;32m   (...)\u001b[0m\n\u001b[0;32m    119\u001b[0m \u001b[39m            driver.switch_to.parent_frame()\u001b[39;00m\n\u001b[0;32m    120\u001b[0m \u001b[39m    \"\"\"\u001b[39;00m\n\u001b[1;32m--> 121\u001b[0m     \u001b[39mself\u001b[39;49m\u001b[39m.\u001b[39;49m_driver\u001b[39m.\u001b[39;49mexecute(Command\u001b[39m.\u001b[39;49mSWITCH_TO_PARENT_FRAME)\n",
      "File \u001b[1;32m~\\AppData\\Local\\Packages\\PythonSoftwareFoundation.Python.3.10_qbz5n2kfra8p0\\LocalCache\\local-packages\\Python310\\site-packages\\selenium\\webdriver\\remote\\webdriver.py:444\u001b[0m, in \u001b[0;36mWebDriver.execute\u001b[1;34m(self, driver_command, params)\u001b[0m\n\u001b[0;32m    442\u001b[0m response \u001b[39m=\u001b[39m \u001b[39mself\u001b[39m\u001b[39m.\u001b[39mcommand_executor\u001b[39m.\u001b[39mexecute(driver_command, params)\n\u001b[0;32m    443\u001b[0m \u001b[39mif\u001b[39;00m response:\n\u001b[1;32m--> 444\u001b[0m     \u001b[39mself\u001b[39;49m\u001b[39m.\u001b[39;49merror_handler\u001b[39m.\u001b[39;49mcheck_response(response)\n\u001b[0;32m    445\u001b[0m     response[\u001b[39m\"\u001b[39m\u001b[39mvalue\u001b[39m\u001b[39m\"\u001b[39m] \u001b[39m=\u001b[39m \u001b[39mself\u001b[39m\u001b[39m.\u001b[39m_unwrap_value(response\u001b[39m.\u001b[39mget(\u001b[39m\"\u001b[39m\u001b[39mvalue\u001b[39m\u001b[39m\"\u001b[39m, \u001b[39mNone\u001b[39;00m))\n\u001b[0;32m    446\u001b[0m     \u001b[39mreturn\u001b[39;00m response\n",
      "File \u001b[1;32m~\\AppData\\Local\\Packages\\PythonSoftwareFoundation.Python.3.10_qbz5n2kfra8p0\\LocalCache\\local-packages\\Python310\\site-packages\\selenium\\webdriver\\remote\\errorhandler.py:248\u001b[0m, in \u001b[0;36mErrorHandler.check_response\u001b[1;34m(self, response)\u001b[0m\n\u001b[0;32m    246\u001b[0m     \u001b[39melif\u001b[39;00m \u001b[39m\"\u001b[39m\u001b[39malert\u001b[39m\u001b[39m\"\u001b[39m \u001b[39min\u001b[39;00m value:\n\u001b[0;32m    247\u001b[0m         alert_text \u001b[39m=\u001b[39m value[\u001b[39m\"\u001b[39m\u001b[39malert\u001b[39m\u001b[39m\"\u001b[39m]\u001b[39m.\u001b[39mget(\u001b[39m\"\u001b[39m\u001b[39mtext\u001b[39m\u001b[39m\"\u001b[39m)\n\u001b[1;32m--> 248\u001b[0m     \u001b[39mraise\u001b[39;00m exception_class(message, screen, stacktrace, alert_text)  \u001b[39m# type: ignore[call-arg]  # mypy is not smart enough here\u001b[39;00m\n\u001b[0;32m    249\u001b[0m \u001b[39mraise\u001b[39;00m exception_class(message, screen, stacktrace)\n",
      "\u001b[1;31mUnexpectedAlertPresentException\u001b[0m: Alert Text: 가스공사에 입찰등록을 제출하시겠습니까?\n\n(동일 사항에 대하여 동일 PC에서는 1통의 입찰서만을 제출할 수 있습니다.)\nMessage: unexpected alert open: {Alert text : 가스공사에 입찰등록을 제출하시겠습니까?\n\n(동일 사항에 대하여 동일 PC에서는 1통의 입찰서만을 제출할 수 있습니다.)}\n  (Session info: MicrosoftEdge=107.0.1418.56)\nStacktrace:\nBacktrace:\n\tMicrosoft::Applications::Events::EventProperties::SetProperty [0x00007FF78ACE8532+9986]\n\tMicrosoft::Applications::Events::EventProperty::EventProperty [0x00007FF78AC85D62+1445202]\n\tOrdinal0 [0x00007FF78A86FC8C+654476]\n\tOrdinal0 [0x00007FF78A8ED828+1169448]\n\tOrdinal0 [0x00007FF78A8D39B3+1063347]\n\tOrdinal0 [0x00007FF78A8A506A+872554]\n\tOrdinal0 [0x00007FF78A8A402E+868398]\n\tOrdinal0 [0x00007FF78A8A570F+874255]\n\tMicrosoft::Applications::Events::EventProperty::EventProperty [0x00007FF78AB46108+135416]\n\tMicrosoft::Applications::Events::EventProperty::EventProperty [0x00007FF78AB302CF+45759]\n\tMicrosoft::Applications::Events::EventProperty::EventProperty [0x00007FF78AB3374C+59196]\n\tOrdinal0 [0x00007FF78A97B1F4+1749492]\n\tMicrosoft::Applications::Events::EventProperty::EventProperty [0x00007FF78AC8B65A+1467978]\n\tMicrosoft::Applications::Events::EventProperty::EventProperty [0x00007FF78AC8FEF4+1486564]\n\tMicrosoft::Applications::Events::EventProperty::EventProperty [0x00007FF78AC9004D+1486909]\n\tMicrosoft::Applications::Events::EventProperty::EventProperty [0x00007FF78AC97E0B+1519099]\n\tBaseThreadInitThunk [0x00007FFCF2F2244D+29]\n\tRtlUserThreadStart [0x00007FFCF42CDFB8+40]\n"
     ]
    }
   ],
   "source": [
    "\n",
    "\n",
    "kogas.register(\"2022112402\")"
   ]
  },
  {
   "cell_type": "code",
   "execution_count": 70,
   "metadata": {},
   "outputs": [
    {
     "data": {
      "text/plain": [
       "True"
      ]
     },
     "execution_count": 70,
     "metadata": {},
     "output_type": "execute_result"
    }
   ],
   "source": [
    "%autoreload 2 \n",
    "kogas.participate(\"2022111702001-00\", \"24056199\")\n"
   ]
  }
 ],
 "metadata": {
  "kernelspec": {
   "display_name": "Python 3.10.8 64-bit (microsoft store)",
   "language": "python",
   "name": "python3"
  },
  "language_info": {
   "codemirror_mode": {
    "name": "ipython",
    "version": 3
   },
   "file_extension": ".py",
   "mimetype": "text/x-python",
   "name": "python",
   "nbconvert_exporter": "python",
   "pygments_lexer": "ipython3",
   "version": "3.10.8"
  },
  "orig_nbformat": 4,
  "vscode": {
   "interpreter": {
    "hash": "140d6880638af8c011551f0c48a660151749c27ccfb9a61f6d950e57001cc277"
   }
  }
 },
 "nbformat": 4,
 "nbformat_minor": 2
}
