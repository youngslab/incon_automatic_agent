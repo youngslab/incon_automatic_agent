{
 "cells": [
  {
   "cell_type": "code",
   "execution_count": 1,
   "metadata": {},
   "outputs": [
    {
     "name": "stderr",
     "output_type": "stream",
     "text": [
      "[WDM] - ====== WebDriver manager ======\n",
      "[WDM] - Current edge version is 103.0.1264\n",
      "[WDM] - Get LATEST edgedriver version for 103.0.1264 Edge\n",
      "[WDM] - Trying to download new driver from https://msedgedriver.azureedge.net/103.0.1264.77/edgedriver_win64.zip\n",
      "[WDM] - Driver has been saved in cache [C:\\Users\\Jaeyoung\\.wdm\\drivers\\edgedriver\\win64\\103.0.1264.77]\n"
     ]
    }
   ],
   "source": [
    "from selenium import webdriver\n",
    "from selenium.webdriver.edge.service import Service\n",
    "from webdriver_manager.microsoft import EdgeChromiumDriverManager\n",
    "from selenium.webdriver.remote.webdriver import WebDriver\n",
    "from selenium.webdriver.remote.webelement import WebElement\n",
    "from selenium.webdriver.common.by import By\n",
    "\n",
    "from integ_auto import *\n",
    "\n",
    "# def _create_driver(headless=False):\n",
    "#     options = webdriver.EdgeOptions()\n",
    "#     options.add_argument('log-level=3')\n",
    "#     if headless:\n",
    "#         options.add_argument('headless')\n",
    "#         options.add_argument('disable-gpu')\n",
    "\n",
    "#     service = Service(EdgeChromiumDriverManager().install())\n",
    "#     return webdriver.Edge(options=options, service=service)\n",
    "\n",
    "# driver = _create_driver()\n",
    "\n",
    "driver = Automatic.create_edge_driver()\n",
    "auto = Automatic(driver)"
   ]
  },
  {
   "cell_type": "code",
   "execution_count": 2,
   "metadata": {},
   "outputs": [
    {
     "data": {
      "text/plain": [
       "True"
      ]
     },
     "execution_count": 2,
     "metadata": {},
     "output_type": "execute_result"
    }
   ],
   "source": [
    "\n",
    "\n",
    "def _pre_login(auto:Automatic):\n",
    "    # 1. 홈페이지로 이동\n",
    "    auto.go(\"https://bid.kogas.or.kr:9443/supplier/index.jsp\") \n",
    "\n",
    "    # 2. 공인인증서 로그인 버튼 \n",
    "    login_btn = auto.get_element(By.XPATH, '//img[@alt=\"공동인증서로그인\"]')\n",
    "    if not login_btn:\n",
    "        print(\"Error: Failed to find 로그인 button\")\n",
    "        return False\n",
    "    auto.click(login_btn)\n",
    "\n",
    "    # 3. 인증서 선택창\n",
    "    # 3.1 지문보안토큰 클릭\n",
    "    bio_token = auto.get_element(By.ID, \"NX_MEDIA_BIOHSM\")\n",
    "    if not bio_token:\n",
    "        print(\"Error: Failed to find 지문보안토큰\")\n",
    "        return False\n",
    "    auto.click(bio_token)\n",
    "\n",
    "\n",
    "    bio_seal = auto.get_element(By.XPATH, '//*[@id=\"(주)유니온커뮤니티 BIO-SEAL|FP_HSM.dll|1.0.2.1|설치\"]')\n",
    "    if not bio_seal:\n",
    "        print(\"Error: Failed to find BIO-SEAL 보안 토큰\")\n",
    "        return False\n",
    "    auto.click(bio_seal)\n",
    "\n",
    "    return True\n",
    "\n",
    "\n",
    "    \n",
    "_pre_login(auto)\n",
    "    "
   ]
  },
  {
   "cell_type": "code",
   "execution_count": 3,
   "metadata": {},
   "outputs": [
    {
     "data": {
      "text/plain": [
       "True"
      ]
     },
     "execution_count": 3,
     "metadata": {},
     "output_type": "execute_result"
    }
   ],
   "source": [
    "\n",
    "def _login(auto:Automatic):\n",
    "\n",
    "    # 토큰 선택 확인\n",
    "    token_sel_confirm_btn = auto.get_element(By.XPATH, '//*[@id=\"pki-extra-media-box-contents3\"]/div[3]/button[1]')\n",
    "    if not token_sel_confirm_btn:\n",
    "        print(\"Error: Failed to find 토큰 선택 확인\")\n",
    "        return False\n",
    "    auto.click(token_sel_confirm_btn)\n",
    "\n",
    "    # User Interaction needed\n",
    "\n",
    "    # 4. pin 번호 입력\n",
    "    # pin번호 입력\n",
    "    input = auto.get_clickable(By.ID, \"nx_cert_pin\", timeout=120)\n",
    "    if not input:\n",
    "        print(\"Failed to find input field for the pin\")\n",
    "        return False\n",
    "    auto.type(input, \"00000000\")\n",
    "\n",
    "    # pin 번호 입력 확인 버튼 \n",
    "    pin_confirm_btn = auto.get_element(By.XPATH, '//*[@id=\"pki-extra-media-box-contents3\"]/div[2]/button[1]')\n",
    "    if not pin_confirm_btn:\n",
    "        return False\n",
    "    auto.click(pin_confirm_btn)\n",
    "\n",
    "    # 인증서 선택 확인 버튼 \n",
    "    cert_confirm_btn = auto.get_element(By.XPATH, '//*[@id=\"nx-cert-select\"]/div[4]/button[1]')\n",
    "    if not cert_confirm_btn:\n",
    "        return False\n",
    "    auto.click(cert_confirm_btn)\n",
    "\n",
    "    return True\n",
    "\n",
    "\n",
    "_login(auto)\n",
    "    "
   ]
  },
  {
   "cell_type": "code",
   "execution_count": 4,
   "metadata": {},
   "outputs": [
    {
     "name": "stdout",
     "output_type": "stream",
     "text": [
      "Error element not found\n",
      "Failed to go to the detail page. number=2022072512001\n"
     ]
    },
    {
     "data": {
      "text/plain": [
       "False"
      ]
     },
     "execution_count": 4,
     "metadata": {},
     "output_type": "execute_result"
    }
   ],
   "source": [
    "\n",
    "# register\n",
    "\n",
    "def _go_detail_page(auto:Automatic, number):\n",
    "    top_frame = auto.get_element(By.XPATH, \"//frame[@src='/supplier/top.jsp']\")\n",
    "    if not top_frame:\n",
    "        print(\"Failed to find top frame\")\n",
    "        return False\n",
    "    with auto.get_frame(top_frame):\n",
    "        # 1. 전자 입찰 버튼 클릭\n",
    "        if not auto.click(By.ID, 'tm_01'):\n",
    "            print(\"Failed to find 전자 입찰 버튼 클릭\")\n",
    "            return False\n",
    "\n",
    "    body_frame = auto.get_element(By.XPATH, \"//frame[@src='/supplier/bodyframe.jsp']\")\n",
    "    if not body_frame:\n",
    "        print(\"Failed to find bodyframe frame\")\n",
    "        return False\n",
    "    with auto.get_frame(body_frame):\n",
    "        body = auto.get_element(By.XPATH, \"//frame[@src='/supplier/body.jsp']\")\n",
    "        if not body:\n",
    "            print(\"Failed to find body frame\")\n",
    "            return False\n",
    "        with auto.get_frame(body):\n",
    "            # 입찰번호 입력\n",
    "            if not auto.type(By.XPATH, '//input[@title=\"입찰번호\"]', number):\n",
    "                return False\n",
    "            \n",
    "            # 검색 버튼 클릭\n",
    "            if not auto.click(By.XPATH, '//img[@alt=\"검색\"]'):\n",
    "                return False\n",
    "\n",
    "            # 검색 결과 확인\n",
    "            num = auto.get_element(By.XPATH, '//tbody/tr[2]/td[1]/a')\n",
    "            if not num:\n",
    "                print(f\"Failed to find the item. number={number}\")\n",
    "                return False\n",
    "\n",
    "            if num.text != number:\n",
    "                print(f\"Faile to validate number. expected={number}, real={num}\")\n",
    "                return False\n",
    "\n",
    "            # 첫번째 item 선택\n",
    "            if not auto.click(By.XPATH, '//tbody/tr[2]/td[2]/a/span'):\n",
    "                return False\n",
    "\n",
    "            # 입찰참가신청\n",
    "            if not auto.click(By.XPATH, '//*[@id=\"tab_name_2\"]/a'):\n",
    "                return False\n",
    "\n",
    "            # 입찰참가신청 동의 버튼\n",
    "            if not auto.click(By.XPATH, '//*[@id=\"registpanel\"]/table[17]/tbody/tr/td/a[1]/img'):\n",
    "                return False\n",
    "\n",
    "    return True\n",
    "\n",
    "\n",
    "# # Precondition:\n",
    "# #  - detail page\n",
    "# def _is_registered():\n",
    "\n",
    "\n",
    "\n",
    "def register(driver:WebDriver, number):\n",
    "\n",
    "    # number requirement: 뒤에 번호는 제거\n",
    "    # 2022062215001-00 -> 2022062215001\n",
    "    number = number.split('-')[0]\n",
    "\n",
    "    if not _go_detail_page(driver, number):\n",
    "        print(f\"Failed to go to the detail page. number={number}\")\n",
    "        return False\n",
    "  \n",
    "    # # 입찰 참가신청\n",
    "    # if not auto_click(driver, By.XPATH, '//a[text()=\"입찰참가신청\"]'):\n",
    "\n",
    "    return True\n",
    "    \n",
    "\n",
    "register(auto, \"2022072512001-00\")\n",
    "\n",
    "\n",
    "\n",
    "\n",
    "\n",
    "\n",
    "\n"
   ]
  },
  {
   "cell_type": "code",
   "execution_count": 26,
   "metadata": {},
   "outputs": [
    {
     "data": {
      "text/plain": [
       "'2022062215001'"
      ]
     },
     "execution_count": 26,
     "metadata": {},
     "output_type": "execute_result"
    }
   ],
   "source": [
    "\n",
    "# number requirement: 뒤에 번호는 제거\n",
    "# 2022062215001-00 -> 2022062215001\n",
    "\n",
    "\"2022062215001-00\".split('-')[0]"
   ]
  },
  {
   "cell_type": "code",
   "execution_count": 27,
   "metadata": {},
   "outputs": [],
   "source": [
    "\n",
    "\n",
    "def register(driver:WebDriver, number, price):\n",
    "    \n",
    "    _search_item(driver, number)\n",
    "\n",
    "    status = wait_element(driver, By.XPATH, '//table[3]/tbody/tr[2]/td[8]')\n",
    "    if not status:\n",
    "        print(\"Failed to find item status\")\n",
    "        return False\n",
    "\n",
    "    if status.text != \"완료\":\n",
    "        print(f\"Failed to validate item status. expected=완료, real={status.text}\")\n",
    "        return False\n",
    "\n",
    "    # 아이템 디테일 페이지로 이동\n",
    "    \n",
    "    # 입찰서 제출 페이지로 이동\n",
    "    auto_click(driver, By.ID, '//a[text()=\"입찰서제출\"]')\n",
    "\n",
    "    \n",
    "\n",
    "    return False\n"
   ]
  }
 ],
 "metadata": {
  "kernelspec": {
   "display_name": "Python 3.10.5 64-bit (windows store)",
   "language": "python",
   "name": "python3"
  },
  "language_info": {
   "codemirror_mode": {
    "name": "ipython",
    "version": 3
   },
   "file_extension": ".py",
   "mimetype": "text/x-python",
   "name": "python",
   "nbconvert_exporter": "python",
   "pygments_lexer": "ipython3",
   "version": "3.10.5"
  },
  "orig_nbformat": 4,
  "vscode": {
   "interpreter": {
    "hash": "e398664b889d95939af182e1236644ec2c12756fbfd397b4d6d4279343aa268c"
   }
  }
 },
 "nbformat": 4,
 "nbformat_minor": 2
}
