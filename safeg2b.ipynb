{
 "cells": [
  {
   "cell_type": "markdown",
   "metadata": {},
   "source": [
    "# safeg2b - login(FP)"
   ]
  },
  {
   "cell_type": "code",
   "execution_count": 1,
   "metadata": {},
   "outputs": [],
   "source": [
    "%load_ext autoreload"
   ]
  },
  {
   "cell_type": "code",
   "execution_count": 2,
   "metadata": {},
   "outputs": [],
   "source": [
    "\n",
    "import logger\n",
    "import logging\n",
    "\n",
    "\n",
    "def log():\n",
    "    return logging.getLogger(__name__)\n",
    "\n",
    "logger.logger_init()\n",
    "\n"
   ]
  },
  {
   "cell_type": "code",
   "execution_count": 17,
   "metadata": {},
   "outputs": [
    {
     "name": "stdout",
     "output_type": "stream",
     "text": [
      "2022-06-27 23:36:35,626 [I] auto: login) 2. 로그인 버튼 \n",
      "2022-06-27 23:36:43,612 [E] auto: Timeout! wait_until takes 3.1717450618743896. timeout=3, interval=0.5, retry=5\n",
      "2022-06-27 23:36:43,613 [E] auto: Failed to find an image on the screen. img=c:\\Users\\Jaeyoung\\dev\\incon_project\\incon_automatic_agent\\org\\g2b\\res\\certificate\\certificate_login_bio_token_bio_seal.png\n"
     ]
    },
    {
     "ename": "NameError",
     "evalue": "name 'wait_no_image' is not defined",
     "output_type": "error",
     "traceback": [
      "\u001b[1;31m---------------------------------------------------------------------------\u001b[0m",
      "\u001b[1;31mNameError\u001b[0m                                 Traceback (most recent call last)",
      "\u001b[1;32mc:\\Users\\Jaeyoung\\dev\\incon_project\\incon_automatic_agent\\safeg2b.ipynb Cell 4'\u001b[0m in \u001b[0;36m<cell line: 139>\u001b[1;34m()\u001b[0m\n\u001b[0;32m     <a href='vscode-notebook-cell:/c%3A/Users/Jaeyoung/dev/incon_project/incon_automatic_agent/safeg2b.ipynb#ch0000000?line=95'>96</a>\u001b[0m     \u001b[39mreturn\u001b[39;00m \u001b[39mTrue\u001b[39;00m\n\u001b[0;32m     <a href='vscode-notebook-cell:/c%3A/Users/Jaeyoung/dev/incon_project/incon_automatic_agent/safeg2b.ipynb#ch0000000?line=97'>98</a>\u001b[0m     \u001b[39m# 인증서 선택\u001b[39;00m\n\u001b[0;32m     <a href='vscode-notebook-cell:/c%3A/Users/Jaeyoung/dev/incon_project/incon_automatic_agent/safeg2b.ipynb#ch0000000?line=98'>99</a>\u001b[0m \n\u001b[0;32m    <a href='vscode-notebook-cell:/c%3A/Users/Jaeyoung/dev/incon_project/incon_automatic_agent/safeg2b.ipynb#ch0000000?line=99'>100</a>\u001b[0m     \u001b[39m# 3. waiting for the page movement and then click\u001b[39;00m\n\u001b[1;32m   (...)\u001b[0m\n\u001b[0;32m    <a href='vscode-notebook-cell:/c%3A/Users/Jaeyoung/dev/incon_project/incon_automatic_agent/safeg2b.ipynb#ch0000000?line=135'>136</a>\u001b[0m     \u001b[39m#     _logger().error(\"Failed to login safeg2b\")\u001b[39;00m\n\u001b[0;32m    <a href='vscode-notebook-cell:/c%3A/Users/Jaeyoung/dev/incon_project/incon_automatic_agent/safeg2b.ipynb#ch0000000?line=136'>137</a>\u001b[0m     \u001b[39m# return success\u001b[39;00m\n\u001b[1;32m--> <a href='vscode-notebook-cell:/c%3A/Users/Jaeyoung/dev/incon_project/incon_automatic_agent/safeg2b.ipynb#ch0000000?line=138'>139</a>\u001b[0m safeg2b_fp_login(\u001b[39m\"\u001b[39;49m\u001b[39m00000000\u001b[39;49m\u001b[39m\"\u001b[39;49m)\n",
      "\u001b[1;32mc:\\Users\\Jaeyoung\\dev\\incon_project\\incon_automatic_agent\\safeg2b.ipynb Cell 4'\u001b[0m in \u001b[0;36msafeg2b_fp_login\u001b[1;34m(pw)\u001b[0m\n\u001b[0;32m     <a href='vscode-notebook-cell:/c%3A/Users/Jaeyoung/dev/incon_project/incon_automatic_agent/safeg2b.ipynb#ch0000000?line=82'>83</a>\u001b[0m     \u001b[39mreturn\u001b[39;00m \u001b[39mFalse\u001b[39;00m\n\u001b[0;32m     <a href='vscode-notebook-cell:/c%3A/Users/Jaeyoung/dev/incon_project/incon_automatic_agent/safeg2b.ipynb#ch0000000?line=85'>86</a>\u001b[0m \u001b[39m# 3. Certifiate Login\u001b[39;00m\n\u001b[1;32m---> <a href='vscode-notebook-cell:/c%3A/Users/Jaeyoung/dev/incon_project/incon_automatic_agent/safeg2b.ipynb#ch0000000?line=86'>87</a>\u001b[0m \u001b[39mif\u001b[39;00m \u001b[39mnot\u001b[39;00m _certificate_login(pw):\n\u001b[0;32m     <a href='vscode-notebook-cell:/c%3A/Users/Jaeyoung/dev/incon_project/incon_automatic_agent/safeg2b.ipynb#ch0000000?line=87'>88</a>\u001b[0m     log()\u001b[39m.\u001b[39merror(\u001b[39m\"\u001b[39m\u001b[39mFailed to log in with a bio token.\u001b[39m\u001b[39m\"\u001b[39m)\n\u001b[0;32m     <a href='vscode-notebook-cell:/c%3A/Users/Jaeyoung/dev/incon_project/incon_automatic_agent/safeg2b.ipynb#ch0000000?line=88'>89</a>\u001b[0m     \u001b[39mreturn\u001b[39;00m \u001b[39mFalse\u001b[39;00m\n",
      "\u001b[1;32mc:\\Users\\Jaeyoung\\dev\\incon_project\\incon_automatic_agent\\safeg2b.ipynb Cell 4'\u001b[0m in \u001b[0;36m_certificate_login\u001b[1;34m(pw)\u001b[0m\n\u001b[0;32m     <a href='vscode-notebook-cell:/c%3A/Users/Jaeyoung/dev/incon_project/incon_automatic_agent/safeg2b.ipynb#ch0000000?line=39'>40</a>\u001b[0m     \u001b[39mreturn\u001b[39;00m \u001b[39mFalse\u001b[39;00m\n\u001b[0;32m     <a href='vscode-notebook-cell:/c%3A/Users/Jaeyoung/dev/incon_project/incon_automatic_agent/safeg2b.ipynb#ch0000000?line=41'>42</a>\u001b[0m \u001b[39m# # 지문입력 확인 을 유저로 부터 입력 받는다. \u001b[39;00m\n\u001b[0;32m     <a href='vscode-notebook-cell:/c%3A/Users/Jaeyoung/dev/incon_project/incon_automatic_agent/safeg2b.ipynb#ch0000000?line=42'>43</a>\u001b[0m \u001b[39m# res = win32api.MessageBox(None, \"SafeG2B의 지문 입력이 정상적으로 끝났나요? 제조사/모델명 선택창이 사라져야 합니다.\", \"Icon Automatic Agent\",\u001b[39;00m\n\u001b[0;32m     <a href='vscode-notebook-cell:/c%3A/Users/Jaeyoung/dev/incon_project/incon_automatic_agent/safeg2b.ipynb#ch0000000?line=43'>44</a>\u001b[0m \u001b[39m#                           MB_YESNO | MB_SYSTEMMODAL)\u001b[39;00m\n\u001b[1;32m   (...)\u001b[0m\n\u001b[0;32m     <a href='vscode-notebook-cell:/c%3A/Users/Jaeyoung/dev/incon_project/incon_automatic_agent/safeg2b.ipynb#ch0000000?line=47'>48</a>\u001b[0m \n\u001b[0;32m     <a href='vscode-notebook-cell:/c%3A/Users/Jaeyoung/dev/incon_project/incon_automatic_agent/safeg2b.ipynb#ch0000000?line=48'>49</a>\u001b[0m  \u001b[39m# \"제조사/모델명 선택\" 윈도우가 종료될때 까지 기다린다. \u001b[39;00m\n\u001b[1;32m---> <a href='vscode-notebook-cell:/c%3A/Users/Jaeyoung/dev/incon_project/incon_automatic_agent/safeg2b.ipynb#ch0000000?line=49'>50</a>\u001b[0m \u001b[39mif\u001b[39;00m \u001b[39mnot\u001b[39;00m wait_no_image(resmgr\u001b[39m.\u001b[39mget(\u001b[39m\"\u001b[39m\u001b[39mcertificate_bio_token_device_selection_program_installation_button.png\u001b[39m\u001b[39m\"\u001b[39m), timeout\u001b[39m=\u001b[39m\u001b[39m30\u001b[39m):\n\u001b[0;32m     <a href='vscode-notebook-cell:/c%3A/Users/Jaeyoung/dev/incon_project/incon_automatic_agent/safeg2b.ipynb#ch0000000?line=50'>51</a>\u001b[0m     log()\u001b[39m.\u001b[39merror(\u001b[39m\"\u001b[39m\u001b[39mFailed to wait 제조사/모델명 선택 closed.\u001b[39m\u001b[39m\"\u001b[39m)\n\u001b[0;32m     <a href='vscode-notebook-cell:/c%3A/Users/Jaeyoung/dev/incon_project/incon_automatic_agent/safeg2b.ipynb#ch0000000?line=51'>52</a>\u001b[0m     \u001b[39mreturn\u001b[39;00m \u001b[39mFalse\u001b[39;00m\n",
      "\u001b[1;31mNameError\u001b[0m: name 'wait_no_image' is not defined"
     ]
    }
   ],
   "source": [
    "\n",
    "%autoreload 2\n",
    "\n",
    "from org.g2b.safeg2b import *\n",
    "from auto import *\n",
    "\n",
    "# MessageBox\n",
    "import win32api\n",
    "from win32con import MB_SYSTEMMODAL, MB_YESNO\n",
    "\n",
    "__default_timeout = 60\n",
    "\n",
    "def _certificate_login(pw):\n",
    "\n",
    "    # 1. 바이오토큰 click\n",
    "    if not auto_click(resmgr.get('certificate_login_bio_token.png')):\n",
    "        log().error(\"Failed to find 바이오토큰 image\")        \n",
    "        return False\n",
    "\n",
    "    # 2. 제조사/모델명 선택\n",
    "    success = auto_click(resmgr.get('certificate_login_bio_token_bio_seal.png'), timeout=3) \\\n",
    "        or auto_click(resmgr.get('certificate_login_bio_token_bio_seal(selected).png'), timeout=3)\n",
    "    if not success:\n",
    "        log().error(\"Failed to find BIO-SEAL 바이오 보안토큰\")\n",
    "        return False\n",
    "\n",
    "    # 3. 확인버튼\n",
    "    if not auto_click(resmgr.get('certificate_login_bio_token_device_name_selection_confirm_button.png')):\n",
    "        log().error(\"Failed to find 확인버튼\")\n",
    "        return False\n",
    "    \n",
    "    # BIO보안토큰 Window\n",
    "    # 4. password 입력\n",
    "    if not auto_type(resmgr.get('certificate_login_bio_token_password_input.png'), pw):\n",
    "        log().error(\"Failed to find password input box\")\n",
    "        return False\n",
    "\n",
    "    # 5. 확인버튼\n",
    "    if not auto_click(resmgr.get('certificate_login_bio_token_password_confirm_button.png')):\n",
    "        log().error(\"Failed to find 바이오토큰 확인 버튼\")\n",
    "        return False\n",
    "\n",
    "     # \"제조사/모델명 선택\" 윈도우가 종료될때 까지 기다린다. \n",
    "    if not wait_no_image(resmgr.get(\"certificate_bio_token_device_selection_program_installation_button.png\"), timeout=30):\n",
    "        log().error(\"Failed to wait 제조사/모델명 선택 closed.\")\n",
    "        return False\n",
    "\n",
    "    # 인증서 확인 버튼\n",
    "    if not auto_click(resmgr.get('certificate_password_confirm_button.png')):\n",
    "        log().error(\"Failed to find confirm_button.\")\n",
    "        return False\n",
    "\n",
    "    # \"인증서 선택\" 윈도우가 종료될때 까지 기다린다. \n",
    "    if not wait_no_window(\"인증서 선택\"):\n",
    "        log().error(\"Failed to wait 인증서 선택.\")\n",
    "        return False\n",
    "\n",
    "    return True\n",
    "\n",
    "\n",
    "\n",
    "def safeg2b_fp_login(pw: str):\n",
    "    \n",
    "\n",
    "    if not auto_activate(safeg2b_get_window_title()):\n",
    "        log().error(\"SAFEG2B Window is not Activated\")\n",
    "        return False\n",
    "\n",
    "    if safeg2b_is_login():\n",
    "        log().info(\"Already logged in.\")\n",
    "        return True\n",
    "            \n",
    "    # 2. login button\n",
    "    log().info(\"login) 2. 로그인 버튼 \")\n",
    "    if not auto_click(resmgr.get('safeg2b_login_btn.png')):\n",
    "        log().error(\"Failed to find 로그인 버튼\")\n",
    "        return False\n",
    "\n",
    "\n",
    "    # 3. Certifiate Login\n",
    "    if not _certificate_login(pw):\n",
    "        log().error(\"Failed to log in with a bio token.\")\n",
    "        return False\n",
    "\n",
    "    # 7. Validate Login \n",
    "    if not wait_image(resmgr.get('safeg2b_my_menu.png'), timeout=20):\n",
    "        log().error(\"Failed to verify login result.\")\n",
    "        return False\n",
    "\n",
    "    return True\n",
    "\n",
    "    # 인증서 선택\n",
    "\n",
    "    # 3. waiting for the page movement and then click\n",
    "    # _logger().info(\"login) 3. 지문 예외 확인 \")\n",
    "    # auto.windows.img_click(resmgr.get(\n",
    "    #     'safeg2b_finger_print_exception_confirm_button.png'), timeout=__default_timeout)\n",
    "\n",
    "    # # 4. 인증서 로그인\n",
    "    # _logger().info(\"login) 4. 인증서 로그인\")\n",
    "    # safeg2b_certificate_login(pw)\n",
    "\n",
    "    # _logger().info(\"login) 5. 주민번호 입력\")\n",
    "\n",
    "    # # 6. Waiting for the id page\n",
    "    # # auto.windows.bring_window_to_top(handle)\n",
    "    # if not auto_activate(safeg2b_get_window_title()):\n",
    "    #     raise Exception(\"SAFEG2B Window is not Activated\")\n",
    "\n",
    "    # # 7. Focus input for id and type\n",
    "    # auto.windows.img_type(resmgr.get('safeg2b_id_front_number_input.png'),\n",
    "    #                       f\"{id.split('-')[0]}{id.split('-')[1]}\", timeout=__default_timeout)\n",
    "    # # when second part got focused automatically, the image going to be changed so that it is hightlighted.\n",
    "    # # auto.windows.img_type(resmgr.get('safeg2b_id_back_number_input.png'), id.split('-')[1])\n",
    "    # auto.windows.img_click(resmgr.get(\n",
    "    #     'safeg2b_id_confirm_button.png'), timeout=__default_timeout)\n",
    "\n",
    "    # # 9. 인증서 로그인(개인)\n",
    "    # # market.certificate.cert_personal_user_login(pw)\n",
    "    # _logger().info(\"login) 6. 인증서 로그인\")\n",
    "    # safeg2b_certificate_login(pw)\n",
    "\n",
    "    # # 10. 메세지 확인 - 예외 적용자 로그인\n",
    "    # _logger().info(\"login) 7. 메세지 확인 - 예외 적용자 로그인\")\n",
    "    # safeg2b_window_message_confirm()\n",
    "\n",
    "    # _logger().info(\"login) 8. 로그인 확인 - MY BID CENTER\")\n",
    "    # success = safeg2b_login_validate()\n",
    "    # if not success:\n",
    "    #     _logger().error(\"Failed to login safeg2b\")\n",
    "    # return success\n",
    "\n",
    "safeg2b_fp_login(\"00000000\")\n"
   ]
  },
  {
   "cell_type": "code",
   "execution_count": 14,
   "metadata": {},
   "outputs": [
    {
     "data": {
      "text/plain": [
       "True"
      ]
     },
     "execution_count": 14,
     "metadata": {},
     "output_type": "execute_result"
    }
   ],
   "source": [
    "%autoreload 2\n",
    "\n",
    "import auto\n",
    "\n",
    "\n"
   ]
  },
  {
   "cell_type": "code",
   "execution_count": null,
   "metadata": {},
   "outputs": [],
   "source": []
  }
 ],
 "metadata": {
  "kernelspec": {
   "display_name": "Python 3.10.5 64-bit (windows store)",
   "language": "python",
   "name": "python3"
  },
  "language_info": {
   "codemirror_mode": {
    "name": "ipython",
    "version": 3
   },
   "file_extension": ".py",
   "mimetype": "text/x-python",
   "name": "python",
   "nbconvert_exporter": "python",
   "pygments_lexer": "ipython3",
   "version": "3.10.5"
  },
  "orig_nbformat": 4,
  "vscode": {
   "interpreter": {
    "hash": "e398664b889d95939af182e1236644ec2c12756fbfd397b4d6d4279343aa268c"
   }
  }
 },
 "nbformat": 4,
 "nbformat_minor": 2
}
