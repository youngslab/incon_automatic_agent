{
 "cells": [
  {
   "cell_type": "markdown",
   "metadata": {},
   "source": [
    "# safeg2b - login(FP)"
   ]
  },
  {
   "cell_type": "code",
   "execution_count": 1,
   "metadata": {},
   "outputs": [],
   "source": [
    "%load_ext autoreload\n",
    "%autoreload 2"
   ]
  },
  {
   "cell_type": "code",
   "execution_count": 2,
   "metadata": {},
   "outputs": [
    {
     "name": "stderr",
     "output_type": "stream",
     "text": [
      "Timeout! wait_until takes 10.329892873764038. timeout=10, interval=0.5, retry=13\n",
      "Failed to find an image on the screen. img=c:\\Users\\integ\\incon\\org\\g2b\\res\\safeg2b\\safeg2b_0_etc_homepage.png\n"
     ]
    }
   ],
   "source": [
    "from org.g2b.safeg2b import SafeG2B \n",
    "\n",
    "safeg2b = SafeG2B()"
   ]
  },
  {
   "cell_type": "markdown",
   "metadata": {},
   "source": [
    "# Login"
   ]
  },
  {
   "cell_type": "code",
   "execution_count": 3,
   "metadata": {},
   "outputs": [
    {
     "name": "stderr",
     "output_type": "stream",
     "text": [
      "Timeout! wait_until takes 15.556522130966187. timeout=15, interval=0.5, retry=15\n"
     ]
    },
    {
     "data": {
      "text/plain": [
       "True"
      ]
     },
     "execution_count": 3,
     "metadata": {},
     "output_type": "execute_result"
    }
   ],
   "source": [
    "\n",
    "safeg2b.login()\n"
   ]
  },
  {
   "cell_type": "markdown",
   "metadata": {},
   "source": [
    "# Participate"
   ]
  },
  {
   "cell_type": "code",
   "execution_count": 6,
   "metadata": {},
   "outputs": [
    {
     "name": "stderr",
     "output_type": "stream",
     "text": [
      "Failed to find a window. title=Message: 나라장터 - SafeG2B, e=timeout on wait for window exists\n"
     ]
    },
    {
     "data": {
      "text/plain": [
       "True"
      ]
     },
     "execution_count": 6,
     "metadata": {},
     "output_type": "execute_result"
    }
   ],
   "source": [
    "from org.g2b.safeg2b import SafeG2B\n",
    "\n",
    "code = \t\"20221109277-01\"\n",
    "price = \"24721342\"\n",
    "safeg2b.participate(code, price)"
   ]
  },
  {
   "cell_type": "markdown",
   "metadata": {},
   "source": []
  },
  {
   "cell_type": "code",
   "execution_count": 8,
   "metadata": {},
   "outputs": [
    {
     "name": "stdout",
     "output_type": "stream",
     "text": [
      "Point(x=1510, y=521)\n"
     ]
    }
   ],
   "source": [
    "import pyautogui\n",
    "img = \"C:\\\\Users\\\\integ\\\\incon\\\\org\\\\g2b\\\\res\\\\safeg2b\\\\safeg2b_2_8_lottery_number_certi_confrim_button.png\"\n",
    "x = pyautogui.locateCenterOnScreen(img, grayscale=True, confidence=0.9)\n",
    "print(x)\n",
    "\n",
    "pyautogui.moveTo(x)\n"
   ]
  },
  {
   "cell_type": "code",
   "execution_count": 19,
   "metadata": {},
   "outputs": [
    {
     "name": "stdout",
     "output_type": "stream",
     "text": [
      "인증서 선택\n",
      "제조사/모델명 선택\n",
      "BIO보안토큰\n"
     ]
    },
    {
     "data": {
      "text/plain": [
       "1"
      ]
     },
     "execution_count": 19,
     "metadata": {},
     "output_type": "execute_result"
    }
   ],
   "source": [
    "import autoit\n",
    "import time\n",
    "\n",
    "# title = \"BIO보안토큰\"\n",
    "# # title = \"제조사/모델명 선택\"\n",
    "# # title = \"인증서 선택\"\n",
    "\n",
    "autoit.win_wait(\"인증서 선택\")\n",
    "print(\"인증서 선택\")\n",
    "autoit.win_wait(\"제조사/모델명 선택\")\n",
    "print(\"제조사/모델명 선택\")\n",
    "autoit.win_wait(\"BIO보안토큰\")\n",
    "print(\"BIO보안토큰\")\n",
    "autoit.win_wait_active(\"인증서 선택\")\n",
    "\n",
    "# window = f\"[TITLE:{title}]\"\n",
    "\n",
    "# print(f\"exists={autoit.win_exists(window)}\")\n",
    "\n",
    "# autoit.win_activate(title)\n",
    "\n",
    "# print(\"exist. wait until closed\")\n",
    "# try:\n",
    "#     autoit.win_wait_not_active(title, timeout=10)\n",
    "# except:\n",
    "#     print(\"timeout\")\n",
    "\n",
    "# print(f\"exists={autoit.win_exists(window)}\")\n",
    "\n"
   ]
  }
 ],
 "metadata": {
  "kernelspec": {
   "display_name": "Python 3.10.8 64-bit (microsoft store)",
   "language": "python",
   "name": "python3"
  },
  "language_info": {
   "codemirror_mode": {
    "name": "ipython",
    "version": 3
   },
   "file_extension": ".py",
   "mimetype": "text/x-python",
   "name": "python",
   "nbconvert_exporter": "python",
   "pygments_lexer": "ipython3",
   "version": "3.10.8"
  },
  "orig_nbformat": 4,
  "vscode": {
   "interpreter": {
    "hash": "140d6880638af8c011551f0c48a660151749c27ccfb9a61f6d950e57001cc277"
   }
  }
 },
 "nbformat": 4,
 "nbformat_minor": 2
}
