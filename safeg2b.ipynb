{
 "cells": [
  {
   "cell_type": "markdown",
   "metadata": {},
   "source": [
    "# safeg2b - login(FP)"
   ]
  },
  {
   "cell_type": "code",
   "execution_count": 2,
   "metadata": {},
   "outputs": [],
   "source": [
    "%load_ext autoreload"
   ]
  },
  {
   "cell_type": "code",
   "execution_count": 3,
   "metadata": {},
   "outputs": [],
   "source": [
    "\n",
    "import logger\n",
    "import logging\n",
    "\n",
    "\n",
    "def log():\n",
    "    return logging.getLogger(__name__)\n",
    "\n",
    "logger.logger_init()\n",
    "\n"
   ]
  },
  {
   "cell_type": "code",
   "execution_count": 4,
   "metadata": {},
   "outputs": [
    {
     "name": "stdout",
     "output_type": "stream",
     "text": [
      "2022-06-27 23:38:09,484 [I] auto: login) 2. 로그인 버튼 \n",
      "2022-06-27 23:38:17,243 [E] auto: Timeout! wait_until takes 3.057379722595215. timeout=3, interval=0.5, retry=5\n",
      "2022-06-27 23:38:17,245 [E] auto: Failed to find an image on the screen. img=c:\\Users\\Jaeyoung\\dev\\incon_project\\incon_automatic_agent\\org\\g2b\\res\\certificate\\certificate_login_bio_token_bio_seal.png\n"
     ]
    },
    {
     "data": {
      "text/plain": [
       "True"
      ]
     },
     "execution_count": 4,
     "metadata": {},
     "output_type": "execute_result"
    }
   ],
   "source": [
    "\n",
    "%autoreload 2\n",
    "\n",
    "from org.g2b.safeg2b import *\n",
    "from auto import *\n",
    "\n",
    "# MessageBox\n",
    "import win32api\n",
    "from win32con import MB_SYSTEMMODAL, MB_YESNO\n",
    "\n",
    "__default_timeout = 60\n",
    "\n",
    "def _certificate_login(pw):\n",
    "\n",
    "    # 1. 바이오토큰 click\n",
    "    if not auto_click(resmgr.get('certificate_login_bio_token.png')):\n",
    "        log().error(\"Failed to find 바이오토큰 image\")        \n",
    "        return False\n",
    "\n",
    "    # 2. 제조사/모델명 선택\n",
    "    success = auto_click(resmgr.get('certificate_login_bio_token_bio_seal.png'), timeout=3) \\\n",
    "        or auto_click(resmgr.get('certificate_login_bio_token_bio_seal(selected).png'), timeout=3)\n",
    "    if not success:\n",
    "        log().error(\"Failed to find BIO-SEAL 바이오 보안토큰\")\n",
    "        return False\n",
    "\n",
    "    # 3. 확인버튼\n",
    "    if not auto_click(resmgr.get('certificate_login_bio_token_device_name_selection_confirm_button.png')):\n",
    "        log().error(\"Failed to find 확인버튼\")\n",
    "        return False\n",
    "    \n",
    "    # BIO보안토큰 Window\n",
    "    # 4. password 입력\n",
    "    if not auto_type(resmgr.get('certificate_login_bio_token_password_input.png'), pw):\n",
    "        log().error(\"Failed to find password input box\")\n",
    "        return False\n",
    "\n",
    "    # 5. 확인버튼\n",
    "    if not auto_click(resmgr.get('certificate_login_bio_token_password_confirm_button.png')):\n",
    "        log().error(\"Failed to find 바이오토큰 확인 버튼\")\n",
    "        return False\n",
    "\n",
    "     # \"제조사/모델명 선택\" 윈도우가 종료될때 까지 기다린다. \n",
    "    if not wait_no_image(resmgr.get(\"certificate_bio_token_device_selection_program_installation_button.png\"), timeout=30):\n",
    "        log().error(\"Failed to wait 제조사/모델명 선택 closed.\")\n",
    "        return False\n",
    "\n",
    "    # 인증서 확인 버튼\n",
    "    if not auto_click(resmgr.get('certificate_password_confirm_button.png')):\n",
    "        log().error(\"Failed to find confirm_button.\")\n",
    "        return False\n",
    "\n",
    "    # \"인증서 선택\" 윈도우가 종료될때 까지 기다린다. \n",
    "    if not wait_no_window(\"인증서 선택\"):\n",
    "        log().error(\"Failed to wait 인증서 선택.\")\n",
    "        return False\n",
    "\n",
    "    return True\n",
    "\n",
    "\n",
    "\n",
    "def safeg2b_fp_login(pw: str):\n",
    "\n",
    "    if not auto_activate(safeg2b_get_window_title()):\n",
    "        log().error(\"SAFEG2B Window is not Activated\")\n",
    "        return False\n",
    "\n",
    "    if safeg2b_is_login():\n",
    "        log().info(\"Already logged in.\")\n",
    "        return True\n",
    "            \n",
    "    # 2. login button\n",
    "    log().info(\"login) 2. 로그인 버튼 \")\n",
    "    if not auto_click(resmgr.get('safeg2b_login_btn.png')):\n",
    "        log().error(\"Failed to find 로그인 버튼\")\n",
    "        return False\n",
    "\n",
    "\n",
    "    # 3. Certifiate Login\n",
    "    if not _certificate_login(pw):\n",
    "        log().error(\"Failed to log in with a bio token.\")\n",
    "        return False\n",
    "\n",
    "    # 7. Validate Login \n",
    "    if not wait_image(resmgr.get('safeg2b_my_menu.png'), timeout=20):\n",
    "        log().error(\"Failed to verify login result.\")\n",
    "        return False\n",
    "\n",
    "    return True\n",
    "\n",
    "safeg2b_fp_login(\"00000000\")\n"
   ]
  },
  {
   "cell_type": "markdown",
   "metadata": {},
   "source": [
    "# Participate"
   ]
  },
  {
   "cell_type": "code",
   "execution_count": 7,
   "metadata": {},
   "outputs": [
    {
     "name": "stdout",
     "output_type": "stream",
     "text": [
      "2022-06-27 23:49:25,481 [I] org.g2b.safeg2b: 2.1 bid_info (New Page)\n",
      "2022-06-27 23:49:25,485 [D] auto.windows: Click safeg2b_bid_bid_info_button.png\n",
      "2022-06-27 23:49:25,889 [I] org.g2b.safeg2b: 2.2 search \n",
      "2022-06-27 23:49:25,892 [D] auto.windows: Click safeg2b_bid_search_input.png\n",
      "2022-06-27 23:49:31,487 [D] auto.windows: Click safeg2b_bid_search_button.png\n",
      "2022-06-27 23:49:31,907 [I] org.g2b.safeg2b: 2.3 bid participate\n",
      "2022-06-27 23:49:32,694 [D] auto.windows: Click safeg2b_2_3_bid_finger_print_button.png\n",
      "2022-06-27 23:49:33,074 [I] org.g2b.safeg2b: 2.4 bid participate(2)\n",
      "2022-06-27 23:49:33,076 [D] auto.windows: Find a window. title=물품공고분류조회 - SafeG2B\n",
      "2022-06-27 23:49:35,650 [D] auto.windows: Click safeg2b_2_4_bid_button.png\n",
      "2022-06-27 23:49:36,769 [I] org.g2b.safeg2b: 2.5 투찰 공지사항\n",
      "2022-06-27 23:49:41,671 [D] auto.windows: c:\\Users\\Jaeyoung\\dev\\incon_project\\incon_automatic_agent\\org\\g2b\\res\\safeg2b\\safeg2b_2_5_bid_notice_title_image.png found. Time left:60 , position: Point(x=150, y=108)\n",
      "2022-06-27 23:49:42,932 [D] auto.windows: c:\\Users\\Jaeyoung\\dev\\incon_project\\incon_automatic_agent\\org\\g2b\\res\\safeg2b\\safeg2b_2_5_bid_notice_yes_checkbox.png found. Time left:60 , position: Point(x=538, y=554)\n",
      "2022-06-27 23:49:43,923 [D] auto.windows: Click safeg2b_2_5_bid_notice_confirm_button.png\n",
      "2022-06-27 23:49:44,272 [I] org.g2b.safeg2b: 2.6 물품구매입찰서\n",
      "2022-06-27 23:49:45,858 [D] auto.windows: Click safeg2b_2_6_bid_doc_checkbox.png\n",
      "2022-06-27 23:49:47,021 [D] auto.windows: Click safeg2b_2_6_bid_doc_cost_input.png\n",
      "2022-06-27 23:49:50,359 [D] auto.windows: Click safeg2b_2_6_bid_doc_checkbox.png\n",
      "2022-06-27 23:49:51,525 [D] auto.windows: Click safeg2b_2_6_bid_doc_send_button.png\n",
      "2022-06-27 23:49:51,901 [I] org.g2b.safeg2b: 2.7 투찰금액확인\n",
      "2022-06-27 23:49:55,083 [D] auto.windows: Click safeg2b_2_7_cost_confirm_checkbox.png\n",
      "2022-06-27 23:49:55,432 [D] auto.windows: Click safeg2b_2_7_cost_confirm_button.png\n",
      "2022-06-27 23:49:55,779 [I] org.g2b.safeg2b: 2.8 추첨번호 선택\n",
      "2022-06-27 23:49:58,021 [D] org.g2b.safeg2b: click a check button. box id=(937.5, 494.0)\n",
      "2022-06-27 23:49:58,145 [D] org.g2b.safeg2b: click a check button. box id=(845.5, 494.0)\n",
      "2022-06-27 23:49:58,264 [D] auto.windows: Click safeg2b_2_8_lottery_number_send_button.png\n",
      "2022-06-27 23:49:58,612 [D] auto.windows: Click safeg2b_2_8_lottery_number_confirm_button.png\n",
      "2022-06-27 23:50:02,245 [D] auto.windows: Click safeg2b_2_8_lottery_number_certi_confrim_button.png\n",
      "2022-06-27 23:50:02,609 [I] org.g2b.safeg2b: 2.10 알림 확인\n",
      "2022-06-27 23:50:02,610 [D] auto.windows: Find a window. title=나라장터\n",
      "2022-06-27 23:50:22,059 [D] auto.windows: Click safeg2b_2_9_confirm_button.png\n",
      "2022-06-27 23:50:23,130 [I] org.g2b.safeg2b: 2.11 전자입찰 송수신상세이력조회 - SafeG2B\n",
      "2022-06-27 23:50:24,702 [D] auto.windows: Click safeg2b_2_10_close_button.png\n"
     ]
    }
   ],
   "source": [
    "\n",
    "notice_no = \"20220634151\"\n",
    "cost =\"94285165\"\n",
    "safeg2b_participate(notice_no, cost)\n"
   ]
  },
  {
   "cell_type": "code",
   "execution_count": 4,
   "metadata": {},
   "outputs": [
    {
     "data": {
      "text/plain": [
       "1"
      ]
     },
     "execution_count": 4,
     "metadata": {},
     "output_type": "execute_result"
    }
   ],
   "source": [
    "import autoit\n",
    "import time\n",
    "\n",
    "\n",
    "\n",
    "title = \"나라장터: 국가종합전자조달 - SafeG2B\"\n",
    "window = f\"[TITLE:{title}]\"\n",
    "autoit.win_activate(window, timeout=10)\n",
    "\n",
    "time.sleep(3)\n",
    "autoit.win_activate(window, timeout=10)"
   ]
  }
 ],
 "metadata": {
  "kernelspec": {
   "display_name": "Python 3.10.5 64-bit (windows store)",
   "language": "python",
   "name": "python3"
  },
  "language_info": {
   "codemirror_mode": {
    "name": "ipython",
    "version": 3
   },
   "file_extension": ".py",
   "mimetype": "text/x-python",
   "name": "python",
   "nbconvert_exporter": "python",
   "pygments_lexer": "ipython3",
   "version": "3.10.5"
  },
  "orig_nbformat": 4,
  "vscode": {
   "interpreter": {
    "hash": "e398664b889d95939af182e1236644ec2c12756fbfd397b4d6d4279343aa268c"
   }
  }
 },
 "nbformat": 4,
 "nbformat_minor": 2
}
