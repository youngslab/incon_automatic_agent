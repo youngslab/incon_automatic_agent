{
 "cells": [
  {
   "cell_type": "markdown",
   "source": [
    "# Login\r\n",
    "\r\n",
    "- https://www.d2b.go.kr/index.do\r\n",
    "\r\n"
   ],
   "metadata": {}
  },
  {
   "cell_type": "code",
   "execution_count": 94,
   "source": [
    "# don't need to load extension everytime. \r\n",
    "%load_ext autoreload \r\n",
    "\r\n",
    "# This needs to be executed everytime.  \r\n",
    "%autoreload 2\r\n",
    "\r\n",
    "from org.d2b import *\r\n",
    "from auto.auto import *\r\n",
    "import account\r\n",
    "\r\n",
    "\r\n",
    "# alert = auto_find_alert(None)\r\n",
    "\r\n",
    "driver = d2b_create_driver()\r\n",
    "driver.get(\"https://www.d2b.go.kr/index.do\")\r\n",
    "\r\n",
    "\r\n",
    "\r\n",
    "user = \"에이알(AR)\"\r\n",
    "cert = account.account_get(\"d2b\", \"cert\")\r\n",
    "pw = account.account_get(\"d2b\", \"pw\")\r\n",
    "id = account.account_get(\"d2b\", \"id\")\r\n",
    "\r\n",
    "\r\n",
    "d2b_login(driver, user, id, pw, cert)\r\n",
    "\r\n",
    "number=\"2022SCF025417670-01\"\r\n",
    "d2b_register(driver, number, user, cert)\r\n"
   ],
   "outputs": [
    {
     "output_type": "stream",
     "name": "stderr",
     "text": [
      "[WDM] - ====== WebDriver manager ======\n"
     ]
    },
    {
     "output_type": "stream",
     "name": "stdout",
     "text": [
      "The autoreload extension is already loaded. To reload it, use:\n",
      "  %reload_ext autoreload\n"
     ]
    },
    {
     "output_type": "stream",
     "name": "stderr",
     "text": [
      "[WDM] - Current edge version is 101.0.1210\n",
      "[WDM] - Get LATEST edgedriver version for 101.0.1210 Edge\n",
      "[WDM] - Trying to download new driver from https://msedgedriver.azureedge.net/101.0.1210.53/edgedriver_win64.zip\n",
      "[WDM] - Driver has been saved in cache [C:\\Users\\Jaeyoung\\.wdm\\drivers\\edgedriver\\win64\\101.0.1210.53]\n"
     ]
    },
    {
     "output_type": "error",
     "ename": "NameError",
     "evalue": "name 'auto_find_alert' is not defined",
     "traceback": [
      "\u001b[1;31m---------------------------------------------------------------------------\u001b[0m",
      "\u001b[1;31mNameError\u001b[0m                                 Traceback (most recent call last)",
      "Input \u001b[1;32mIn [94]\u001b[0m, in \u001b[0;36m<cell line: 28>\u001b[1;34m()\u001b[0m\n\u001b[0;32m     25\u001b[0m d2b_login(driver, user, \u001b[38;5;28mid\u001b[39m, pw, cert)\n\u001b[0;32m     27\u001b[0m number\u001b[38;5;241m=\u001b[39m\u001b[38;5;124m\"\u001b[39m\u001b[38;5;124m2022SCF025417670-01\u001b[39m\u001b[38;5;124m\"\u001b[39m\n\u001b[1;32m---> 28\u001b[0m \u001b[43md2b_register\u001b[49m\u001b[43m(\u001b[49m\u001b[43mdriver\u001b[49m\u001b[43m,\u001b[49m\u001b[43m \u001b[49m\u001b[43mnumber\u001b[49m\u001b[43m,\u001b[49m\u001b[43m \u001b[49m\u001b[43muser\u001b[49m\u001b[43m,\u001b[49m\u001b[43m \u001b[49m\u001b[43mcert\u001b[49m\u001b[43m)\u001b[49m\n",
      "File \u001b[1;32mc:\\Users\\Jaeyoung\\dev\\incon_project\\incon_automatic_agent\\org\\d2b\\d2b.py:94\u001b[0m, in \u001b[0;36md2b_register\u001b[1;34m(driver, number, user, cert_pw)\u001b[0m\n\u001b[0;32m     91\u001b[0m \u001b[38;5;66;03m# 입찰참가신청서 작성\u001b[39;00m\n\u001b[0;32m     92\u001b[0m auto_click(driver, By\u001b[38;5;241m.\u001b[39mID, \u001b[38;5;124m'\u001b[39m\u001b[38;5;124mbtn_join\u001b[39m\u001b[38;5;124m'\u001b[39m)\n\u001b[1;32m---> 94\u001b[0m alert \u001b[38;5;241m=\u001b[39m \u001b[43mauto_find_alert\u001b[49m(driver, timeout\u001b[38;5;241m=\u001b[39m\u001b[38;5;241m3\u001b[39m)\n\u001b[0;32m     95\u001b[0m \u001b[38;5;28;01mif\u001b[39;00m alert:\n\u001b[0;32m     96\u001b[0m     log()\u001b[38;5;241m.\u001b[39minfo(\u001b[38;5;124mf\u001b[39m\u001b[38;5;124m\"\u001b[39m\u001b[38;5;124mAlready registered. text=\u001b[39m\u001b[38;5;132;01m{\u001b[39;00malert\u001b[38;5;241m.\u001b[39mtext\u001b[38;5;132;01m}\u001b[39;00m\u001b[38;5;124m\"\u001b[39m)\n",
      "\u001b[1;31mNameError\u001b[0m: name 'auto_find_alert' is not defined"
     ]
    }
   ],
   "metadata": {}
  },
  {
   "cell_type": "markdown",
   "source": [
    "# 공고참여\r\n",
    "\r\n"
   ],
   "metadata": {}
  },
  {
   "cell_type": "code",
   "execution_count": 85,
   "source": [
    "\r\n",
    "# don't need to load extension everytime. \r\n",
    "%load_ext autoreload \r\n",
    "\r\n",
    "# This needs to be executed everytime.  \r\n",
    "%autoreload 2\r\n",
    "\r\n",
    "from org.d2b.d2b import *\r\n",
    "from auto.auto import *\r\n",
    "\r\n",
    "d2b_register(driver, number, user, cert)\r\n",
    "\r\n",
    " # move to the page to register\r\n",
    "# driver.get('https://www.d2b.go.kr/index.do')\r\n",
    "# # type number and click search button\r\n",
    "# auto_type(driver, By.ID, \"numb_divs\", number)\r\n",
    "# auto_click(driver, By.ID, 'btn_search')\r\n",
    "\r\n",
    "# # 검색된 결과 중 첫번째 element를 선택한다.\r\n",
    "# notice = auto_find_element(\r\n",
    "#     driver, By.XPATH, '//*[@id=\"SBHE_DATAGRID_WHOLE_TBODY_datagrid1\"]/tr[2]/td[8]/div/span/a')\r\n",
    "# log().info(\r\n",
    "#     f\"Found notice from number. notice={notice.text}, number={number}\")\r\n",
    "# # auto_click(driver, notice) -> 안됨...\r\n",
    "# notice.click()\r\n",
    "\r\n",
    "# # 입찰참가신청서 작성\r\n",
    "# auto_click(driver, By.ID, 'btn_join')\r\n",
    "\r\n",
    "# # 서약서 작성\r\n",
    "# auto_click(driver, By.ID, 'c_box1')\r\n",
    "# auto_click(driver, By.ID, 'c_box2')\r\n",
    "# auto_click(driver, By.ID, 'subcont_dir_pay_yn1')\r\n",
    "# # XXX: Need to wait the above result?\r\n",
    "# # time.sleep(3)\r\n",
    "# auto_click(driver, By.ID, 'btn_confirm')\r\n",
    "\r\n",
    "# # 보증금납부 방법\r\n",
    "# sel = Select(auto_find_element(driver, By.ID, 'grnt_mthd'))\r\n",
    "# sel.select_by_visible_text('보증금면제')\r\n",
    "\r\n",
    "# # 보증금납부에 대한 서약서 확인\r\n",
    "# auto_click(driver, By.ID, 'c_box2')\r\n",
    "# auto_click(driver, By.ID, 'c_box3')\r\n",
    "# auto_click(driver, By.XPATH,\r\n",
    "#             '//*[@id=\"layer\"]/div[2]/div/div/div[3]/button[1]')\r\n",
    "\r\n",
    "# # 약관 동의 체크\r\n",
    "# auto_click(driver, By.ID, 'bidAttention_check')\r\n",
    "\r\n",
    "# # 신청 버튼\r\n",
    "# auto_click(driver, By.ID, 'btn_wrt')\r\n",
    "# log().info(f\"Accept alert! text={driver.switch_to.alert.text}\")\r\n",
    "# driver.switch_to.alert.accept()\r\n",
    "\r\n",
    "# # 인증서 로그인\r\n",
    "# d2b_cert_login(driver, user, cert)\r\n",
    "\r\n",
    "# # 팝업 확인\r\n",
    "# log().info(f\"Accept alert! text={driver.switch_to.alert.text}\")\r\n",
    "# driver.switch_to.alert.accept()\r\n",
    "\r\n",
    "# auto_click(driver, )"
   ],
   "outputs": [
    {
     "output_type": "stream",
     "name": "stdout",
     "text": [
      "The autoreload extension is already loaded. To reload it, use:\n",
      "  %reload_ext autoreload\n"
     ]
    },
    {
     "output_type": "error",
     "ename": "NameError",
     "evalue": "name 'auto_find_alert' is not defined",
     "traceback": [
      "\u001b[1;31m---------------------------------------------------------------------------\u001b[0m",
      "\u001b[1;31mNameError\u001b[0m                                 Traceback (most recent call last)",
      "Input \u001b[1;32mIn [85]\u001b[0m, in \u001b[0;36m<cell line: 10>\u001b[1;34m()\u001b[0m\n\u001b[0;32m      7\u001b[0m \u001b[38;5;28;01mfrom\u001b[39;00m \u001b[38;5;21;01morg\u001b[39;00m\u001b[38;5;21;01m.\u001b[39;00m\u001b[38;5;21;01md2b\u001b[39;00m\u001b[38;5;21;01m.\u001b[39;00m\u001b[38;5;21;01md2b\u001b[39;00m \u001b[38;5;28;01mimport\u001b[39;00m \u001b[38;5;241m*\u001b[39m\n\u001b[0;32m      8\u001b[0m \u001b[38;5;28;01mfrom\u001b[39;00m \u001b[38;5;21;01mauto\u001b[39;00m\u001b[38;5;21;01m.\u001b[39;00m\u001b[38;5;21;01mauto\u001b[39;00m \u001b[38;5;28;01mimport\u001b[39;00m \u001b[38;5;241m*\u001b[39m\n\u001b[1;32m---> 10\u001b[0m \u001b[43md2b_register\u001b[49m\u001b[43m(\u001b[49m\u001b[43mdriver\u001b[49m\u001b[43m,\u001b[49m\u001b[43m \u001b[49m\u001b[43mnumber\u001b[49m\u001b[43m,\u001b[49m\u001b[43m \u001b[49m\u001b[43muser\u001b[49m\u001b[43m,\u001b[49m\u001b[43m \u001b[49m\u001b[43mcert\u001b[49m\u001b[43m)\u001b[49m\n",
      "File \u001b[1;32mc:\\Users\\Jaeyoung\\dev\\incon_project\\incon_automatic_agent\\org\\d2b\\d2b.py:104\u001b[0m, in \u001b[0;36md2b_register\u001b[1;34m(driver, number, user, cert_pw)\u001b[0m\n\u001b[0;32m    101\u001b[0m \u001b[38;5;66;03m# 입찰참가신청서 작성\u001b[39;00m\n\u001b[0;32m    102\u001b[0m auto_click(driver, By\u001b[38;5;241m.\u001b[39mID, \u001b[38;5;124m'\u001b[39m\u001b[38;5;124mbtn_join\u001b[39m\u001b[38;5;124m'\u001b[39m)\n\u001b[1;32m--> 104\u001b[0m alert \u001b[38;5;241m=\u001b[39m \u001b[43mauto_find_alert\u001b[49m(driver, timeout\u001b[38;5;241m=\u001b[39m\u001b[38;5;241m3\u001b[39m)\n\u001b[0;32m    105\u001b[0m \u001b[38;5;28;01mif\u001b[39;00m alert:\n\u001b[0;32m    106\u001b[0m     log()\u001b[38;5;241m.\u001b[39minfo(\u001b[38;5;124mf\u001b[39m\u001b[38;5;124m\"\u001b[39m\u001b[38;5;124mAlready registered. text=\u001b[39m\u001b[38;5;132;01m{\u001b[39;00malert\u001b[38;5;241m.\u001b[39mtext\u001b[38;5;132;01m}\u001b[39;00m\u001b[38;5;124m\"\u001b[39m)\n",
      "\u001b[1;31mNameError\u001b[0m: name 'auto_find_alert' is not defined"
     ]
    }
   ],
   "metadata": {}
  },
  {
   "cell_type": "code",
   "execution_count": 80,
   "source": [
    "\r\n",
    "\r\n",
    "\r\n",
    "\r\n"
   ],
   "outputs": [
    {
     "output_type": "error",
     "ename": "NameError",
     "evalue": "name 'auto_find_alert' is not defined",
     "traceback": [
      "\u001b[1;31m---------------------------------------------------------------------------\u001b[0m",
      "\u001b[1;31mNameError\u001b[0m                                 Traceback (most recent call last)",
      "Input \u001b[1;32mIn [80]\u001b[0m, in \u001b[0;36m<cell line: 1>\u001b[1;34m()\u001b[0m\n\u001b[1;32m----> 1\u001b[0m alert \u001b[38;5;241m=\u001b[39m \u001b[43mauto_find_alert\u001b[49m(driver)\n",
      "\u001b[1;31mNameError\u001b[0m: name 'auto_find_alert' is not defined"
     ]
    }
   ],
   "metadata": {}
  },
  {
   "cell_type": "code",
   "execution_count": 59,
   "source": [
    "\r\n"
   ],
   "outputs": [
    {
     "output_type": "execute_result",
     "data": {
      "text/plain": [
       "True"
      ]
     },
     "metadata": {},
     "execution_count": 59
    }
   ],
   "metadata": {}
  },
  {
   "cell_type": "markdown",
   "source": [
    "# 서약서"
   ],
   "metadata": {}
  },
  {
   "cell_type": "code",
   "execution_count": 60,
   "source": [],
   "outputs": [
    {
     "output_type": "execute_result",
     "data": {
      "text/plain": [
       "True"
      ]
     },
     "metadata": {},
     "execution_count": 60
    }
   ],
   "metadata": {}
  },
  {
   "cell_type": "markdown",
   "source": [
    "# application form"
   ],
   "metadata": {}
  },
  {
   "cell_type": "code",
   "execution_count": 61,
   "source": [
    "\r\n"
   ],
   "outputs": [
    {
     "output_type": "execute_result",
     "data": {
      "text/plain": [
       "True"
      ]
     },
     "metadata": {},
     "execution_count": 61
    }
   ],
   "metadata": {}
  },
  {
   "cell_type": "code",
   "execution_count": 62,
   "source": [
    "# This needs to be executed everytime.  \r\n",
    "%autoreload 2\r\n",
    "\r\n",
    "import auto\r\n",
    "\r\n"
   ],
   "outputs": [
    {
     "output_type": "execute_result",
     "data": {
      "text/plain": [
       "True"
      ]
     },
     "metadata": {},
     "execution_count": 62
    }
   ],
   "metadata": {}
  },
  {
   "cell_type": "code",
   "execution_count": 72,
   "source": [
    "\r\n"
   ],
   "outputs": [
    {
     "output_type": "stream",
     "name": "stdout",
     "text": [
      "The autoreload extension is already loaded. To reload it, use:\n",
      "  %reload_ext autoreload\n"
     ]
    }
   ],
   "metadata": {}
  },
  {
   "cell_type": "code",
   "execution_count": 73,
   "source": [],
   "outputs": [
    {
     "output_type": "stream",
     "name": "stdout",
     "text": [
      "입찰참가신청서를 성공적으로 제출하였습니다.\n",
      "입찰참가신청 마감시간까지는 수정가능합니다.\n"
     ]
    }
   ],
   "metadata": {}
  }
 ],
 "metadata": {
  "orig_nbformat": 4,
  "language_info": {
   "name": "python",
   "version": "3.10.4",
   "mimetype": "text/x-python",
   "codemirror_mode": {
    "name": "ipython",
    "version": 3
   },
   "pygments_lexer": "ipython3",
   "nbconvert_exporter": "python",
   "file_extension": ".py"
  },
  "kernelspec": {
   "name": "python3",
   "display_name": "Python 3.10.4 64-bit"
  },
  "interpreter": {
   "hash": "d9a4ba7a39ad5692da286452aea182a2f639774b342ad6371c4f013f8b98072d"
  }
 },
 "nbformat": 4,
 "nbformat_minor": 2
}